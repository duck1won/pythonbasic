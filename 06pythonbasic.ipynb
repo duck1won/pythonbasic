{
 "cells": [
  {
   "cell_type": "code",
   "execution_count": 6,
   "id": "195b901c-43c9-4d1d-911f-e74174c189af",
   "metadata": {},
   "outputs": [
    {
     "name": "stdout",
     "output_type": "stream",
     "text": [
      "1 2 3 4 5 6 7 8 9 10 \n",
      "1 2 3 4 5 6 7 8 9 10 "
     ]
    }
   ],
   "source": [
    "i=1\n",
    "while i<11:\n",
    "    print(i,end= ' ')\n",
    "    i +=1\n",
    "print()\n",
    "for i in range(1,11):\n",
    "    print(i,end = ' ')"
   ]
  },
  {
   "cell_type": "code",
   "execution_count": 9,
   "id": "7c72e993-faaa-463d-85ff-4fa4390373ae",
   "metadata": {},
   "outputs": [
    {
     "name": "stdout",
     "output_type": "stream",
     "text": [
      "79.0\n"
     ]
    }
   ],
   "source": [
    "class_a = (70,60,55,75,95,90,80,80,85,100)\n",
    "sum = 0\n",
    "avg = 0\n",
    "i = 0\n",
    "while i<len(class_a):\n",
    "    sum += class_a[i]\n",
    "    avg = sum/len(class_a)\n",
    "    i += 1\n",
    "print(avg)"
   ]
  },
  {
   "cell_type": "code",
   "execution_count": 11,
   "id": "eb5861fe-032e-4bf4-80c1-69cb0ceaf374",
   "metadata": {},
   "outputs": [
    {
     "name": "stdout",
     "output_type": "stream",
     "text": [
      "5050\n"
     ]
    }
   ],
   "source": [
    "i = 0 \n",
    "total = 0\n",
    "while True:\n",
    "    total += i\n",
    "    if i == 100:\n",
    "        break\n",
    "    i+=1\n",
    "print(total)"
   ]
  },
  {
   "cell_type": "code",
   "execution_count": 22,
   "id": "37479f56-dcb6-44ef-be3a-ff81e2d4f946",
   "metadata": {},
   "outputs": [
    {
     "name": "stdin",
     "output_type": "stream",
     "text": [
      "시작하는 정수입력 : 2\n",
      "끝나는 정수 입력 : 10\n"
     ]
    },
    {
     "name": "stdout",
     "output_type": "stream",
     "text": [
      "2부터 10까지의 합은 54입니다.\n",
      "\n",
      "11부터 10까지의 합은 54입니다.\n"
     ]
    }
   ],
   "source": [
    "total = 0\n",
    "n = int(input(\"시작하는 정수입력 :\"))\n",
    "m = int(input(\"끝나는 정수 입력 :\"))\n",
    "for i in range(n,m+1):\n",
    "    total += i\n",
    "print(f\"{n}부터 {m}까지의 합은 {total}입니다.\")\n",
    "\n",
    "print()\n",
    "\n",
    "total = 0\n",
    "while n<=m:\n",
    "    n+=1\n",
    "    total += n-1\n",
    "print(f\"{n}부터 {m}까지의 합은 {total}입니다.\")"
   ]
  },
  {
   "cell_type": "code",
   "execution_count": 27,
   "id": "784899dd-b905-4509-9008-8dc12e78879f",
   "metadata": {},
   "outputs": [
    {
     "name": "stdout",
     "output_type": "stream",
     "text": [
      "{'key': 'value2'}\n"
     ]
    }
   ],
   "source": [
    "dic_ver = {\"key\":\"value\",\"key\":\"value2\"}\n",
    "print(dic_ver)"
   ]
  },
  {
   "cell_type": "code",
   "execution_count": 44,
   "id": "e745569a-2e60-4d64-b90f-3fba23b8c8a0",
   "metadata": {},
   "outputs": [
    {
     "name": "stdout",
     "output_type": "stream",
     "text": [
      "[<class 'str'>, <class 'int'>, <class 'float'>, <class 'tuple'>]\n"
     ]
    }
   ],
   "source": [
    "dic_var = {\"key\": \"value\",\n",
    "           1: \"value2\",\n",
    "           1.1: \"value3\",\n",
    "           True: \"value4\",\n",
    "           (\"key\",1,1.1,True): \"value5\"}\n",
    "print(list(map(type, dic_var.keys())))"
   ]
  },
  {
   "cell_type": "code",
   "execution_count": 49,
   "id": "95e3e54c-0050-4de6-9951-e04aedbd6be9",
   "metadata": {},
   "outputs": [
    {
     "name": "stdout",
     "output_type": "stream",
     "text": [
      "[<class 'str'>, <class 'int'>, <class 'float'>, <class 'tuple'>, <class 'str'>, <class 'str'>, <class 'str'>]\n",
      "[<class 'str'>, <class 'bool'>, <class 'float'>, <class 'tuple'>, <class 'list'>, <class 'dict'>, <class 'set'>]\n"
     ]
    }
   ],
   "source": [
    "dic_var ={\"key\":\"value\",\n",
    "          1:1,\n",
    "          1.1:1.1,\n",
    "          True:False,\n",
    "          (\"key\",1,1.1,True):(\"key\",1,1.1,False),\n",
    "          \"list\":[1,'가',1.1,True,(1,'나')],\n",
    "          \"dict\":{\"key\":\"value\",\"key2\":\"value2\"},\n",
    "          \"set\":{\"key\",\"value\"},\n",
    "}\n",
    "print(list(map(type,dic_var.keys())))\n",
    "\n",
    "print(list(map(type,dic_var.values())))"
   ]
  },
  {
   "cell_type": "code",
   "execution_count": 52,
   "id": "0544f91f-f11e-4394-a0e3-f5ff935fefe6",
   "metadata": {},
   "outputs": [
    {
     "name": "stdout",
     "output_type": "stream",
     "text": [
      "{}\n",
      "{}\n",
      "<class 'dict'>\n"
     ]
    }
   ],
   "source": [
    "empty_dict={}\n",
    "empty_dict2=dict()\n",
    "print(empty_dict)\n",
    "print(empty_dict2)\n",
    "print(type(empty_dict))"
   ]
  },
  {
   "cell_type": "code",
   "execution_count": 11,
   "id": "07bab573-6b4f-4b82-ad84-8e01135a79e8",
   "metadata": {},
   "outputs": [
    {
     "name": "stdout",
     "output_type": "stream",
     "text": [
      "dict_keys(['key', 'key2', 'key3'])\n",
      "dict_values(['value', 'value2', 'value3'])\n"
     ]
    }
   ],
   "source": [
    "dict_a = dict(key = \"value\",key2=\"value2\",key3=\"value3\")\n",
    "print(dict_a.keys())\n",
    "print(dict_a.values())"
   ]
  },
  {
   "cell_type": "code",
   "execution_count": 17,
   "id": "c4e5a101-f50d-45c8-be43-3b6370eaba9d",
   "metadata": {},
   "outputs": [
    {
     "name": "stdout",
     "output_type": "stream",
     "text": [
      "{('key2', 'value2'), ('key', 'value')}\n",
      "<class 'set'>\n",
      "[('key', 'value'), ('key2', 'value2')]\n",
      "<class 'tuple'>\n",
      "(('key', 'value'), ('key2', 'value2'))\n",
      "<class 'tuple'>\n"
     ]
    }
   ],
   "source": [
    "dict_a = {(\"key\",\"value\"),(\"key2\",\"value2\")}\n",
    "print(dict_a)\n",
    "print(type(dict_a))\n",
    "dict_b=[(\"key\",\"value\"),(\"key2\",\"value2\")]\n",
    "print(dict_b)\n",
    "print(type(dict_b))\n",
    "dict_c=((\"key\",\"value\"),(\"key2\",\"value2\"))\n",
    "print(dict_c)\n",
    "print(type(dict_c))"
   ]
  },
  {
   "cell_type": "code",
   "execution_count": 32,
   "id": "d34215e3-bc8b-4502-b86e-b568b0a94d78",
   "metadata": {},
   "outputs": [
    {
     "name": "stdout",
     "output_type": "stream",
     "text": [
      "{'key': 'value', 'key2': 'value2'}\n",
      "<class 'dict'>\n"
     ]
    }
   ],
   "source": [
    "dict_d=dict(zip([\"key\",\"key2\"],[\"value\",\"value2\"]))\n",
    "print(dict_d)\n",
    "print(type(dict_d))"
   ]
  },
  {
   "cell_type": "code",
   "execution_count": 33,
   "id": "89714931-1b96-4b09-b044-4a9504c38bb0",
   "metadata": {},
   "outputs": [
    {
     "name": "stdout",
     "output_type": "stream",
     "text": [
      "{'key': 'value', 'key2': 'value2'}\n"
     ]
    }
   ],
   "source": [
    "print(dict_d)"
   ]
  },
  {
   "cell_type": "code",
   "execution_count": 40,
   "id": "5e88901c-58fd-4704-b8c6-31ce38273280",
   "metadata": {},
   "outputs": [
    {
     "name": "stdout",
     "output_type": "stream",
     "text": [
      "True\n"
     ]
    }
   ],
   "source": [
    "dict_d['key'] = \"abc\"\n",
    "dict_d['aa'] = \"good\"\n",
    "print('aa' in dict_d)"
   ]
  },
  {
   "cell_type": "code",
   "execution_count": 45,
   "id": "09f73285-657e-4dd1-af7a-bb3f715e2eb5",
   "metadata": {},
   "outputs": [
    {
     "name": "stdout",
     "output_type": "stream",
     "text": [
      "False\n"
     ]
    }
   ],
   "source": [
    "print('a' in dict_d)"
   ]
  },
  {
   "cell_type": "code",
   "execution_count": 64,
   "id": "712505df-d60c-4713-bafb-085525e28396",
   "metadata": {},
   "outputs": [],
   "source": [
    "del dict_d['key']"
   ]
  },
  {
   "cell_type": "code",
   "execution_count": 78,
   "id": "7c8b2166-4b0c-4d3b-b61d-fecc5a6ab42c",
   "metadata": {},
   "outputs": [
    {
     "name": "stdin",
     "output_type": "stream",
     "text": [
      "과일이름을 입력하세요. 사과\n"
     ]
    },
    {
     "name": "stdout",
     "output_type": "stream",
     "text": [
      "사과의 가격은 1000원 입니다.\n"
     ]
    }
   ],
   "source": [
    "str = input(\"과일이름을 입력하세요.\")\n",
    "dict_a={\"사과\":1000,\n",
    "        \"바나나\":700,\n",
    "        \"오렌지\":1500,\n",
    "        \"파인애플\":2000\n",
    "       }\n",
    "print(f\"{str}의 가격은 {dict_a[str]}원 입니다.\")"
   ]
  },
  {
   "cell_type": "code",
   "execution_count": 81,
   "id": "56a37e74-c446-4d16-9240-f0392e44e925",
   "metadata": {},
   "outputs": [
    {
     "name": "stdin",
     "output_type": "stream",
     "text": [
      "과일이름을 입력하세요. 사과\n"
     ]
    },
    {
     "name": "stdout",
     "output_type": "stream",
     "text": [
      "사과의 가격은 1000원 입니다.\n"
     ]
    }
   ],
   "source": [
    "str = input(\"과일이름을 입력하세요.\")\n",
    "dict_b=dict(zip([\"사과\",\"바나나\",\"오렌지\",\"파인애플\"],[1000,700,1500,2000]))\n",
    "print(f\"{str}의 가격은 {dict_b[str]}원 입니다.\")"
   ]
  },
  {
   "cell_type": "code",
   "execution_count": 98,
   "id": "75636177-56c0-4cc3-8ea3-d8cf37c9fdcf",
   "metadata": {},
   "outputs": [
    {
     "name": "stdin",
     "output_type": "stream",
     "text": [
      "이름을 기입해주세요. a b c d\n",
      "몸무게를 입력해주세요. 1 2 3 4\n"
     ]
    },
    {
     "name": "stdout",
     "output_type": "stream",
     "text": [
      "dict_values([1.0, 2.0, 3.0, 4.0])\n",
      "dict_keys(['a', 'b', 'c', 'd'])\n"
     ]
    }
   ],
   "source": [
    "a = input(\"이름을 기입해주세요.\").split(\" \")\n",
    "b = map(float,input(\"몸무게를 입력해주세요.\").split(\" \"))\n",
    "c = dict(zip(a,b))\n",
    "print(c.values())\n",
    "print(c.keys())"
   ]
  },
  {
   "cell_type": "code",
   "execution_count": 122,
   "id": "8f2dcfbc-6f26-4635-83af-d2f3d831a66d",
   "metadata": {},
   "outputs": [
    {
     "name": "stdout",
     "output_type": "stream",
     "text": [
      "[1, 2, 3, 4, 5, 6, 7, 8, 9]\n"
     ]
    }
   ],
   "source": [
    "list1 = [i for i in range(1, 10)]\n",
    "print(list1)"
   ]
  },
  {
   "cell_type": "code",
   "execution_count": 123,
   "id": "c5624677-baaa-4590-85f1-1568369e8bb7",
   "metadata": {},
   "outputs": [
    {
     "name": "stdout",
     "output_type": "stream",
     "text": [
      "<class 'list'>\n",
      "[1, 4, 9, 16, 25, 36, 49, 64, 81]\n"
     ]
    }
   ],
   "source": [
    "prac_result = [i**2 for i in range(1,10)]\n",
    "print(type(prac_result))\n",
    "print(prac_result)"
   ]
  },
  {
   "cell_type": "code",
   "execution_count": 124,
   "id": "4e600185-c541-46fa-9e30-54e12cbc9143",
   "metadata": {},
   "outputs": [
    {
     "name": "stdout",
     "output_type": "stream",
     "text": [
      "[1, 3, 5, 7, 9]\n"
     ]
    }
   ],
   "source": [
    "prac_result2 = [i for i in range(1,10,2)]\n",
    "print(prac_result2)"
   ]
  },
  {
   "cell_type": "code",
   "execution_count": 125,
   "id": "93be0963-cbf2-43f9-b185-54bd353cacdf",
   "metadata": {},
   "outputs": [
    {
     "name": "stdout",
     "output_type": "stream",
     "text": [
      "['a', 'b', 'c', 'd', 'e', 'f']\n"
     ]
    }
   ],
   "source": [
    "str = \"abcdef\"\n",
    "prac_result3 = [i for i in str]\n",
    "print(prac_result3)"
   ]
  },
  {
   "cell_type": "code",
   "execution_count": 4,
   "id": "2e8344e6-14c3-4edd-800e-2096bb89f21e",
   "metadata": {},
   "outputs": [
    {
     "name": "stdout",
     "output_type": "stream",
     "text": [
      "['2', '3', '4', '5', '6', '7', '8', '9', '10', 'J', 'Q', 'K', 'A']\n"
     ]
    }
   ],
   "source": [
    "prac_result4 = [str(i) for i in range(2,11)] + list('JQKA')\n",
    "print(prac_result4)"
   ]
  },
  {
   "cell_type": "code",
   "execution_count": 6,
   "id": "6f22c5db-b3ca-414e-99ce-1aa7e61109d2",
   "metadata": {},
   "outputs": [
    {
     "name": "stdout",
     "output_type": "stream",
     "text": [
      "[['2', '3', '4', '5', '6', '7', '8', '9', '10', 'J', 'Q', 'K', 'A'], ['2', '3', '4', '5', '6', '7', '8', '9', '10', 'J', 'Q', 'K', 'A'], ['2', '3', '4', '5', '6', '7', '8', '9', '10', 'J', 'Q', 'K', 'A'], ['2', '3', '4', '5', '6', '7', '8', '9', '10', 'J', 'Q', 'K', 'A']]\n"
     ]
    }
   ],
   "source": [
    "prac_result5 = [prac_result4 for i in range(4)]\n",
    "print(prac_result5)"
   ]
  },
  {
   "cell_type": "code",
   "execution_count": 8,
   "id": "929d2996-df0e-4309-9f59-8a97318c06e6",
   "metadata": {},
   "outputs": [
    {
     "name": "stdout",
     "output_type": "stream",
     "text": [
      "['two', '3', '4', '5', '6', '7', '8', '9', '10', 'J', 'Q', 'K', 'A']\n"
     ]
    }
   ],
   "source": [
    "prac_result4[0] = 'two'\n",
    "print(prac_result4)"
   ]
  },
  {
   "cell_type": "code",
   "execution_count": 9,
   "id": "b154ac2f-1c7d-4754-b865-f6e95ab8cbef",
   "metadata": {},
   "outputs": [
    {
     "name": "stdout",
     "output_type": "stream",
     "text": [
      "[['two', '3', '4', '5', '6', '7', '8', '9', '10', 'J', 'Q', 'K', 'A'], ['two', '3', '4', '5', '6', '7', '8', '9', '10', 'J', 'Q', 'K', 'A'], ['two', '3', '4', '5', '6', '7', '8', '9', '10', 'J', 'Q', 'K', 'A'], ['two', '3', '4', '5', '6', '7', '8', '9', '10', 'J', 'Q', 'K', 'A']]\n"
     ]
    }
   ],
   "source": [
    "print(prac_result5)"
   ]
  },
  {
   "cell_type": "code",
   "execution_count": 16,
   "id": "25472b9d-f2ad-413f-874c-a74db943d6a1",
   "metadata": {},
   "outputs": [
    {
     "name": "stdout",
     "output_type": "stream",
     "text": [
      "2635837004416\n",
      "2635838469184\n",
      "False\n",
      "True\n",
      "2635836860784\n",
      "2635836860784\n"
     ]
    }
   ],
   "source": [
    "old_list= list(range(10))\n",
    "new_list = old_list[:]\n",
    "\n",
    "print(id(old_list))\n",
    "print(id(new_list))\n",
    "print(old_list is new_list)\n",
    "print(old_list == new_list)\n",
    "\n",
    "a = \"1234567\"\n",
    "b = a[:]\n",
    "print(id(a))\n",
    "print(id(b))"
   ]
  },
  {
   "cell_type": "code",
   "execution_count": 26,
   "id": "8bc4b098-8e7f-4297-8478-8229010f8a08",
   "metadata": {},
   "outputs": [
    {
     "name": "stdout",
     "output_type": "stream",
     "text": [
      "[0, 1, 2, 3, 4, 5, 6, 7, 8, 9]\n",
      "['10', 1, 2, 3, 4, 5, 6, 7, 8, 9]\n",
      "[0, 1, 2, 3, 4, 5, 6, 7, 8, 9]\n"
     ]
    }
   ],
   "source": [
    "list_a = list(i for i in range(10))\n",
    "print(list_a)\n",
    "list_b = list_a.copy()\n",
    "list_b[0] = '10'\n",
    "print(list_b)\n",
    "print(list_a)"
   ]
  },
  {
   "cell_type": "code",
   "execution_count": 27,
   "id": "5627900c-1434-4219-953f-bd88faf0582f",
   "metadata": {},
   "outputs": [
    {
     "name": "stdout",
     "output_type": "stream",
     "text": [
      "[[0], [0], [0]]\n"
     ]
    }
   ],
   "source": [
    "list_a = [[0]]*3\n",
    "print(list_a)"
   ]
  },
  {
   "cell_type": "code",
   "execution_count": 35,
   "id": "9b57b42a-2dba-40aa-9fa7-4d395778989c",
   "metadata": {},
   "outputs": [
    {
     "name": "stdout",
     "output_type": "stream",
     "text": [
      "<class 'str'>\n",
      "999\n",
      "<class 'str'>\n",
      "[['999'], ['999'], ['999']]\n"
     ]
    }
   ],
   "source": [
    "print(type(list_a[0][0]))\n",
    "list_a[0][0] ='999'\n",
    "print(list_a[0][0])\n",
    "print(type(list_a[0][0]))\n",
    "print(list_a)"
   ]
  },
  {
   "cell_type": "code",
   "execution_count": null,
   "id": "e2c17e5e-4491-49fe-bc50-3afc0fbcddec",
   "metadata": {},
   "outputs": [],
   "source": []
  },
  {
   "cell_type": "code",
   "execution_count": null,
   "id": "c5978b92-f742-4275-905f-c516fca2bd96",
   "metadata": {},
   "outputs": [],
   "source": []
  },
  {
   "cell_type": "code",
   "execution_count": null,
   "id": "19de0889-fd5e-40a5-a0e5-6245cf1f9782",
   "metadata": {},
   "outputs": [],
   "source": []
  },
  {
   "cell_type": "code",
   "execution_count": null,
   "id": "717aa5c2-28b7-4506-99ec-ddc0a2593b1f",
   "metadata": {},
   "outputs": [],
   "source": []
  },
  {
   "cell_type": "code",
   "execution_count": null,
   "id": "da44e2ba-dd04-4319-8357-5351ce804bea",
   "metadata": {},
   "outputs": [],
   "source": []
  },
  {
   "cell_type": "code",
   "execution_count": null,
   "id": "f2fbb320-4236-48cf-9be8-0619884b2be0",
   "metadata": {},
   "outputs": [],
   "source": []
  },
  {
   "cell_type": "code",
   "execution_count": null,
   "id": "9f2e5c07-5ed0-4d7f-8371-4be0a30bc150",
   "metadata": {},
   "outputs": [],
   "source": []
  },
  {
   "cell_type": "code",
   "execution_count": null,
   "id": "03cfc57e-0372-4b54-8999-798341bfc50c",
   "metadata": {},
   "outputs": [],
   "source": []
  },
  {
   "cell_type": "code",
   "execution_count": null,
   "id": "7781e965-a62f-4861-8f4e-6c286b182ae8",
   "metadata": {},
   "outputs": [],
   "source": []
  },
  {
   "cell_type": "code",
   "execution_count": null,
   "id": "1961313b-c1eb-4f1d-83de-0c64e4423c0b",
   "metadata": {},
   "outputs": [],
   "source": []
  },
  {
   "cell_type": "code",
   "execution_count": null,
   "id": "2e42d679-9859-4b59-a0c9-06d2be733597",
   "metadata": {},
   "outputs": [],
   "source": []
  },
  {
   "cell_type": "code",
   "execution_count": null,
   "id": "83a37e21-d18f-4879-9499-b2035510524e",
   "metadata": {},
   "outputs": [],
   "source": []
  },
  {
   "cell_type": "code",
   "execution_count": null,
   "id": "97c0dbc7-b3b2-4f23-a115-b33bf1073b5b",
   "metadata": {},
   "outputs": [],
   "source": []
  },
  {
   "cell_type": "code",
   "execution_count": null,
   "id": "24775a2e-4c7f-4d8c-b3a0-212e2dce7424",
   "metadata": {},
   "outputs": [],
   "source": []
  },
  {
   "cell_type": "code",
   "execution_count": null,
   "id": "92c4e874-9878-441c-be81-4d8509b9487b",
   "metadata": {},
   "outputs": [],
   "source": []
  },
  {
   "cell_type": "code",
   "execution_count": null,
   "id": "a9989ba3-300c-41c4-bb29-8ea02aa528be",
   "metadata": {},
   "outputs": [],
   "source": []
  },
  {
   "cell_type": "code",
   "execution_count": null,
   "id": "ce53be93-29cc-4ea5-93c0-8511e1d20cf6",
   "metadata": {},
   "outputs": [],
   "source": []
  },
  {
   "cell_type": "code",
   "execution_count": null,
   "id": "b5b01df5-4d5b-4822-9ac0-eca297124214",
   "metadata": {},
   "outputs": [],
   "source": []
  },
  {
   "cell_type": "code",
   "execution_count": null,
   "id": "d104edbc-abe1-4aec-ae0d-1cbca3c21bc2",
   "metadata": {},
   "outputs": [],
   "source": []
  },
  {
   "cell_type": "code",
   "execution_count": null,
   "id": "167943da-c0f3-4fea-8ceb-1c9a44b88d34",
   "metadata": {},
   "outputs": [],
   "source": []
  },
  {
   "cell_type": "code",
   "execution_count": null,
   "id": "dc9d968f-f4ba-41f4-b185-badc5e7f889f",
   "metadata": {},
   "outputs": [],
   "source": []
  },
  {
   "cell_type": "code",
   "execution_count": null,
   "id": "b678287f-aed8-4702-b86d-3a9beca3f16c",
   "metadata": {},
   "outputs": [],
   "source": []
  },
  {
   "cell_type": "code",
   "execution_count": null,
   "id": "c1b543b3-66ec-4066-ab77-0b3b7b2b2933",
   "metadata": {},
   "outputs": [],
   "source": []
  },
  {
   "cell_type": "code",
   "execution_count": null,
   "id": "4e99c9f0-ce5f-4e3b-8661-d5e53edf4599",
   "metadata": {},
   "outputs": [],
   "source": []
  },
  {
   "cell_type": "code",
   "execution_count": null,
   "id": "552b4a37-0ee9-4e95-bebd-c6f0e71fc09f",
   "metadata": {},
   "outputs": [],
   "source": []
  },
  {
   "cell_type": "code",
   "execution_count": null,
   "id": "8e73b87a-85f3-4667-ab7c-9dfc90bab1ac",
   "metadata": {},
   "outputs": [],
   "source": []
  },
  {
   "cell_type": "code",
   "execution_count": null,
   "id": "85147209-eee8-4d21-94cd-255c8d3f7b76",
   "metadata": {},
   "outputs": [],
   "source": []
  },
  {
   "cell_type": "code",
   "execution_count": null,
   "id": "831f50a6-d94d-4809-8533-08a0a6a42b3b",
   "metadata": {},
   "outputs": [],
   "source": []
  },
  {
   "cell_type": "code",
   "execution_count": null,
   "id": "2e658f4f-8deb-4203-b431-f3cd88984b9e",
   "metadata": {},
   "outputs": [],
   "source": []
  },
  {
   "cell_type": "code",
   "execution_count": null,
   "id": "87ccbe67-845b-4b8f-b1cf-93d86cf0433a",
   "metadata": {},
   "outputs": [],
   "source": []
  },
  {
   "cell_type": "code",
   "execution_count": null,
   "id": "1945ac07-b466-4489-b1de-0f318936c3bb",
   "metadata": {},
   "outputs": [],
   "source": []
  },
  {
   "cell_type": "code",
   "execution_count": null,
   "id": "610abb0a-1d07-4a19-82fa-8dcd418d8e9f",
   "metadata": {},
   "outputs": [],
   "source": []
  },
  {
   "cell_type": "code",
   "execution_count": null,
   "id": "71723ba6-76ee-47a2-a6c0-c700ae58fc43",
   "metadata": {},
   "outputs": [],
   "source": []
  }
 ],
 "metadata": {
  "kernelspec": {
   "display_name": "Python 3 (ipykernel)",
   "language": "python",
   "name": "python3"
  },
  "language_info": {
   "codemirror_mode": {
    "name": "ipython",
    "version": 3
   },
   "file_extension": ".py",
   "mimetype": "text/x-python",
   "name": "python",
   "nbconvert_exporter": "python",
   "pygments_lexer": "ipython3",
   "version": "3.9.13"
  }
 },
 "nbformat": 4,
 "nbformat_minor": 5
}
