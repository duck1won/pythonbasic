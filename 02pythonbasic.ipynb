{
 "cells": [
  {
   "cell_type": "code",
   "execution_count": 2,
   "id": "13a2d69f-e8d2-488c-87f6-60f321006761",
   "metadata": {},
   "outputs": [
    {
     "name": "stdout",
     "output_type": "stream",
     "text": [
      "# 이것은 주석이 아닙니다. 따옴표 안은 문자열 리터럴입니다.\n"
     ]
    }
   ],
   "source": [
    "#주석 사용하기\n",
    "x=1 #여기서 =(등호) 기호는 수학의 같다는 의미와는 다르다.\n",
    "    #... 우측 변의 리터럴을 좌측 변의 변수에 대입한다는 의미다.\n",
    "\n",
    "text =\"# 이것은 주석이 아닙니다. 따옴표 안은 문자열 리터럴입니다.\"\n",
    "print(text)"
   ]
  },
  {
   "cell_type": "code",
   "execution_count": 3,
   "id": "45e9be55-0f18-4001-a2d9-e2903155f4f7",
   "metadata": {},
   "outputs": [
    {
     "name": "stdout",
     "output_type": "stream",
     "text": [
      "1\n"
     ]
    }
   ],
   "source": [
    "print(x);"
   ]
  },
  {
   "cell_type": "code",
   "execution_count": 4,
   "id": "34efa644-8e8f-4a4a-ab2e-74feaa69ed69",
   "metadata": {},
   "outputs": [
    {
     "name": "stdout",
     "output_type": "stream",
     "text": [
      "# 이것은 주석이 아닙니다. 따옴표 안은 문자열 리터럴입니다.\n"
     ]
    }
   ],
   "source": [
    "print(text)"
   ]
  },
  {
   "cell_type": "code",
   "execution_count": 26,
   "id": "f51a7cd8-1555-48de-a4c7-7ce10e4be4b8",
   "metadata": {},
   "outputs": [
    {
     "name": "stdout",
     "output_type": "stream",
     "text": [
      "Hello word!\n",
      "Hello word!\n",
      "Python Programming\n"
     ]
    }
   ],
   "source": [
    "text = '''Hello word!\n",
    "Hello word!\n",
    "Python Programming'''\n",
    "print(text)"
   ]
  },
  {
   "cell_type": "code",
   "execution_count": 29,
   "id": "f1795099-82e9-4e53-9b1b-eec2d0ac6a14",
   "metadata": {},
   "outputs": [
    {
     "name": "stdout",
     "output_type": "stream",
     "text": [
      "89\n",
      "28.2\n"
     ]
    }
   ],
   "source": [
    "a = 13+(22-3)*4\n",
    "b = 13+((22-3)*4)/5\n",
    "print(a)\n",
    "print(b)"
   ]
  },
  {
   "cell_type": "code",
   "execution_count": 30,
   "id": "81ad2def-b1eb-4d94-a864-664e435678e1",
   "metadata": {},
   "outputs": [
    {
     "data": {
      "text/plain": [
       "9"
      ]
     },
     "execution_count": 30,
     "metadata": {},
     "output_type": "execute_result"
    }
   ],
   "source": [
    "3**2"
   ]
  },
  {
   "cell_type": "code",
   "execution_count": 31,
   "id": "98c04301-b045-4679-8ba1-ac66aae28ebb",
   "metadata": {},
   "outputs": [
    {
     "data": {
      "text/plain": [
       "3"
      ]
     },
     "execution_count": 31,
     "metadata": {},
     "output_type": "execute_result"
    }
   ],
   "source": [
    "int(3.3)"
   ]
  },
  {
   "cell_type": "code",
   "execution_count": 32,
   "id": "23f2d848-7600-422e-addf-c991d0bb4655",
   "metadata": {},
   "outputs": [],
   "source": [
    "a = 2+3j"
   ]
  },
  {
   "cell_type": "code",
   "execution_count": 33,
   "id": "3769d290-83f3-4ec0-a08d-56259a18b2c4",
   "metadata": {},
   "outputs": [
    {
     "data": {
      "text/plain": [
       "2.0"
      ]
     },
     "execution_count": 33,
     "metadata": {},
     "output_type": "execute_result"
    }
   ],
   "source": [
    "a.real"
   ]
  },
  {
   "cell_type": "code",
   "execution_count": 34,
   "id": "d25d3350-44e5-4970-9244-81fe3b32cdda",
   "metadata": {},
   "outputs": [
    {
     "data": {
      "text/plain": [
       "3.0"
      ]
     },
     "execution_count": 34,
     "metadata": {},
     "output_type": "execute_result"
    }
   ],
   "source": [
    "a.imag"
   ]
  },
  {
   "cell_type": "code",
   "execution_count": 35,
   "id": "394d441b-4a93-4b8f-bcaa-ec30dd918664",
   "metadata": {},
   "outputs": [
    {
     "data": {
      "text/plain": [
       "16.0"
      ]
     },
     "execution_count": 35,
     "metadata": {},
     "output_type": "execute_result"
    }
   ],
   "source": [
    "float(4*4)"
   ]
  },
  {
   "cell_type": "code",
   "execution_count": 36,
   "id": "cd578ef7-f931-468c-b07e-a6954921262a",
   "metadata": {},
   "outputs": [
    {
     "data": {
      "text/plain": [
       "3.0"
      ]
     },
     "execution_count": 36,
     "metadata": {},
     "output_type": "execute_result"
    }
   ],
   "source": [
    "float(3)"
   ]
  },
  {
   "cell_type": "code",
   "execution_count": 37,
   "id": "4cbfbec3-415b-48fd-8e03-3baa5c4d6200",
   "metadata": {},
   "outputs": [],
   "source": [
    "a = (0.2467*12)+4.159"
   ]
  },
  {
   "cell_type": "code",
   "execution_count": 38,
   "id": "193ae05b-6d2a-4945-9c8d-49011538ca78",
   "metadata": {},
   "outputs": [
    {
     "name": "stdout",
     "output_type": "stream",
     "text": [
      "7\n"
     ]
    }
   ],
   "source": [
    "print(int(a))"
   ]
  },
  {
   "cell_type": "code",
   "execution_count": 45,
   "id": "8394eb26-890c-4b53-af0d-4d73ea2b6571",
   "metadata": {},
   "outputs": [
    {
     "name": "stdout",
     "output_type": "stream",
     "text": [
      "가장 시끄러운 층은 = 7 층\n"
     ]
    }
   ],
   "source": [
    "print(\"가장 시끄러운 층은 =\",int(a),\"층\")"
   ]
  },
  {
   "cell_type": "code",
   "execution_count": 56,
   "id": "1243f26e-0f1c-4e11-b55d-8ad878295ac3",
   "metadata": {},
   "outputs": [
    {
     "name": "stdout",
     "output_type": "stream",
     "text": [
      "냉장고 가격은 1272000 원 입니다.\n",
      "냉장고 가격은 1272000 원 입니다.\n"
     ]
    }
   ],
   "source": [
    "b = 53000*24\n",
    "print(\"냉장고 가격은 {0} 원 입니다.\".format(b))\n",
    "print(\"냉장고 가격은\",b,\"원 입니다.\")"
   ]
  },
  {
   "cell_type": "code",
   "execution_count": 66,
   "id": "2fcf45cf-987e-4960-ac89-3549849f06fa",
   "metadata": {},
   "outputs": [
    {
     "name": "stdout",
     "output_type": "stream",
     "text": [
      "총 지불 해야할 금액은 16500000 원 입니다.\n"
     ]
    }
   ],
   "source": [
    "people =250\n",
    "tax = 10\n",
    "a = 20000*3\n",
    "total = (a * people)\n",
    "result = int(total + (total/tax))\n",
    "print(\"총 지불 해야할 금액은\",result,\"원 입니다.\")"
   ]
  },
  {
   "cell_type": "code",
   "execution_count": 67,
   "id": "5b6563e3-89f1-4ec9-990c-4f397b139d14",
   "metadata": {},
   "outputs": [
    {
     "data": {
      "text/plain": [
       "'0b10001'"
      ]
     },
     "execution_count": 67,
     "metadata": {},
     "output_type": "execute_result"
    }
   ],
   "source": [
    "bin(17)"
   ]
  },
  {
   "cell_type": "code",
   "execution_count": 68,
   "id": "59f86d26-cefc-4cdf-81e8-c331c9473102",
   "metadata": {},
   "outputs": [
    {
     "data": {
      "text/plain": [
       "17"
      ]
     },
     "execution_count": 68,
     "metadata": {},
     "output_type": "execute_result"
    }
   ],
   "source": [
    "0b10001"
   ]
  },
  {
   "cell_type": "code",
   "execution_count": 69,
   "id": "78cc8d46-00c7-4fbd-8547-3b11540d6de0",
   "metadata": {},
   "outputs": [
    {
     "name": "stdout",
     "output_type": "stream",
     "text": [
      "['0', 'b', '1', '0', '0', '0', '1']\n"
     ]
    }
   ],
   "source": [
    "print(list(bin(17)))"
   ]
  },
  {
   "cell_type": "code",
   "execution_count": 90,
   "id": "44d1560a-c0f6-449e-aa91-b52c417245de",
   "metadata": {},
   "outputs": [
    {
     "name": "stdout",
     "output_type": "stream",
     "text": [
      "10001\n",
      " <class 'list'>\n"
     ]
    }
   ],
   "source": [
    "c = list(bin(17))\n",
    "for d in range(2,len(c)):\n",
    "    print(c[d], end=\"\")\n",
    "print(\"\\n\",type(c))"
   ]
  },
  {
   "cell_type": "code",
   "execution_count": 81,
   "id": "ee1b9a62-513e-4221-9044-fa3ec7c62f25",
   "metadata": {},
   "outputs": [
    {
     "data": {
      "text/plain": [
       "'0o21'"
      ]
     },
     "execution_count": 81,
     "metadata": {},
     "output_type": "execute_result"
    }
   ],
   "source": [
    "oct(17)"
   ]
  },
  {
   "cell_type": "code",
   "execution_count": 82,
   "id": "d7287798-0c4b-4f76-afe6-68614bbad9c7",
   "metadata": {},
   "outputs": [
    {
     "data": {
      "text/plain": [
       "'0x1f'"
      ]
     },
     "execution_count": 82,
     "metadata": {},
     "output_type": "execute_result"
    }
   ],
   "source": [
    "hex(31)"
   ]
  },
  {
   "cell_type": "code",
   "execution_count": 84,
   "id": "6758f266-ca4f-4950-a152-0564b10df6bf",
   "metadata": {},
   "outputs": [
    {
     "data": {
      "text/plain": [
       "17"
      ]
     },
     "execution_count": 84,
     "metadata": {},
     "output_type": "execute_result"
    }
   ],
   "source": [
    "0o21"
   ]
  },
  {
   "cell_type": "code",
   "execution_count": 87,
   "id": "fbcddd33-6630-48fd-89ae-490609227594",
   "metadata": {},
   "outputs": [
    {
     "data": {
      "text/plain": [
       "31"
      ]
     },
     "execution_count": 87,
     "metadata": {},
     "output_type": "execute_result"
    }
   ],
   "source": [
    "0x1f"
   ]
  },
  {
   "cell_type": "code",
   "execution_count": 89,
   "id": "e5815e9e-3098-4120-b634-78500e17c73f",
   "metadata": {},
   "outputs": [
    {
     "name": "stdout",
     "output_type": "stream",
     "text": [
      "453.0\n"
     ]
    }
   ],
   "source": [
    "AP = 380\n",
    "print((AP*0.6)+225)"
   ]
  },
  {
   "cell_type": "code",
   "execution_count": 97,
   "id": "2efbeb0d-5374-41ce-9f2c-6fa0b2a6577b",
   "metadata": {},
   "outputs": [
    {
     "name": "stdout",
     "output_type": "stream",
     "text": [
      "30\n"
     ]
    },
    {
     "ename": "NameError",
     "evalue": "name 'a' is not defined",
     "output_type": "error",
     "traceback": [
      "\u001b[1;31m---------------------------------------------------------------------------\u001b[0m",
      "\u001b[1;31mNameError\u001b[0m                                 Traceback (most recent call last)",
      "\u001b[1;32m~\\AppData\\Local\\Temp\\ipykernel_17680\\4176240219.py\u001b[0m in \u001b[0;36m<module>\u001b[1;34m\u001b[0m\n\u001b[0;32m      3\u001b[0m \u001b[0mprint\u001b[0m\u001b[1;33m(\u001b[0m\u001b[0ma\u001b[0m\u001b[1;33m)\u001b[0m\u001b[1;33m\u001b[0m\u001b[1;33m\u001b[0m\u001b[0m\n\u001b[0;32m      4\u001b[0m \u001b[1;32mdel\u001b[0m \u001b[0ma\u001b[0m\u001b[1;33m\u001b[0m\u001b[1;33m\u001b[0m\u001b[0m\n\u001b[1;32m----> 5\u001b[1;33m \u001b[0mprint\u001b[0m\u001b[1;33m(\u001b[0m\u001b[0ma\u001b[0m\u001b[1;33m)\u001b[0m\u001b[1;33m\u001b[0m\u001b[1;33m\u001b[0m\u001b[0m\n\u001b[0m",
      "\u001b[1;31mNameError\u001b[0m: name 'a' is not defined"
     ]
    }
   ],
   "source": [
    "a = 10\n",
    "a = a+20\n",
    "print(a)\n",
    "del a\n",
    "print(a)"
   ]
  },
  {
   "cell_type": "code",
   "execution_count": 102,
   "id": "339532dd-a377-496b-ba8e-55c6591b9583",
   "metadata": {},
   "outputs": [
    {
     "name": "stdout",
     "output_type": "stream",
     "text": [
      "20\n"
     ]
    }
   ],
   "source": [
    "a=10\n",
    "a+=10\n",
    "print(a)"
   ]
  },
  {
   "cell_type": "code",
   "execution_count": 106,
   "id": "507d9824-22bd-49ef-a0fb-45558a29c889",
   "metadata": {},
   "outputs": [
    {
     "name": "stdout",
     "output_type": "stream",
     "text": [
      "None\n"
     ]
    }
   ],
   "source": [
    "a=None\n",
    "print(a)"
   ]
  },
  {
   "cell_type": "code",
   "execution_count": 108,
   "id": "dc8124da-1af3-4978-9af5-76e103b9db19",
   "metadata": {},
   "outputs": [
    {
     "name": "stdout",
     "output_type": "stream",
     "text": [
      "\"안녕?\"이라는 그 인사를 듣고 나는 '누구지?'라고 생각했다.\n",
      "\"안녕?\"이라는 그 인사를 듣고 나는 '누구지?'라고 생각했다.\n",
      "\"안녕?\"이라는 그 인사를 듣고 나는 '누구지?'라고 생각했다.\n"
     ]
    }
   ],
   "source": [
    "print('''\"안녕?\"이라는 그 인사를 듣고 나는 '누구지?'라고 생각했다.''')\n",
    "print(\"\\\"안녕?\\\"이라는 그 인사를 듣고 나는 '누구지?'라고 생각했다.\")\n",
    "print('\"안녕?\"이라는 그 인사를 듣고 나는 \\'누구지?\\'라고 생각했다.')"
   ]
  },
  {
   "cell_type": "code",
   "execution_count": null,
   "id": "0194ee4d-ae3c-4da2-a7af-9ac726818fe7",
   "metadata": {},
   "outputs": [],
   "source": []
  },
  {
   "cell_type": "code",
   "execution_count": null,
   "id": "3eb39a64-f83a-43f8-b5d4-b540cd9bc508",
   "metadata": {},
   "outputs": [],
   "source": []
  },
  {
   "cell_type": "code",
   "execution_count": null,
   "id": "111b17db-4e9b-44cd-be40-c72d327f50e7",
   "metadata": {},
   "outputs": [],
   "source": []
  },
  {
   "cell_type": "code",
   "execution_count": null,
   "id": "86e57c08-9f65-4bcc-b487-8d3112144cf5",
   "metadata": {},
   "outputs": [],
   "source": []
  },
  {
   "cell_type": "code",
   "execution_count": null,
   "id": "c13ba00b-1f61-40d4-ad71-cda8673f6546",
   "metadata": {},
   "outputs": [],
   "source": []
  }
 ],
 "metadata": {
  "kernelspec": {
   "display_name": "Python 3 (ipykernel)",
   "language": "python",
   "name": "python3"
  },
  "language_info": {
   "codemirror_mode": {
    "name": "ipython",
    "version": 3
   },
   "file_extension": ".py",
   "mimetype": "text/x-python",
   "name": "python",
   "nbconvert_exporter": "python",
   "pygments_lexer": "ipython3",
   "version": "3.9.13"
  }
 },
 "nbformat": 4,
 "nbformat_minor": 5
}
