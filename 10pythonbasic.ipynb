{
 "cells": [
  {
   "cell_type": "markdown",
   "id": "3e92d003-17a3-471e-a2cf-3d23499bca0b",
   "metadata": {},
   "source": [
    "# 예외(Exception)"
   ]
  },
  {
   "cell_type": "markdown",
   "id": "ee466118-be45-4b29-bae4-43cbc30d15b3",
   "metadata": {},
   "source": [
    "### -예외란 코드를 실행하다가 에러가 발생되는것"
   ]
  },
  {
   "cell_type": "markdown",
   "id": "a87a1b7e-3923-404d-bdbc-5d35a7d86a0e",
   "metadata": {},
   "source": [
    "# 예외 처리, try, except\n"
   ]
  },
  {
   "cell_type": "markdown",
   "id": "ed598bc8-9260-4863-942f-81a56f19882a",
   "metadata": {},
   "source": [
    "### -에러가 발생되는 예외가 발생했을때도 프로그램의 중단 없이 계속 실행되도록 처리하는 것\n",
    "### try:\n",
    "###  실행할코드부분 적어라\n",
    "### except:\n",
    "###  예외 처리부분 적어라"
   ]
  },
  {
   "cell_type": "code",
   "execution_count": 33,
   "id": "6ccee1f0-aee4-496d-87b7-16041e85d718",
   "metadata": {},
   "outputs": [
    {
     "name": "stdout",
     "output_type": "stream",
     "text": [
      "0으로 나눌 수 없습니다.\n"
     ]
    }
   ],
   "source": [
    "try:\n",
    "    result = 128/0 #raise ZeroDivision\n",
    "    print(f\"연산의 결과는 {result}입니다.\")\n",
    "except:\n",
    "    print(\"0으로 나눌 수 없습니다.\")"
   ]
  },
  {
   "cell_type": "markdown",
   "id": "b5ffcc70-fbaf-419a-9065-bb2ffb4c1f78",
   "metadata": {},
   "source": [
    "### (연습문제) 사용자로부터 숫자 2개를 입력받고 그값을 split() 메서드를 활용하여 x와 y변수로 unpacking해라\n",
    "### -만약 사용자가 잘못된 값을 입력하더라도 프로그램이 중단되지않고 '값을 잘못 입력하셨습니다' 라는 메시지를 출력할 수 있게 예외처리 부분을 추가해서 완성해라"
   ]
  },
  {
   "cell_type": "code",
   "execution_count": 46,
   "id": "c2472918-ff5e-443d-b890-0945b428c795",
   "metadata": {},
   "outputs": [
    {
     "name": "stdin",
     "output_type": "stream",
     "text": [
      "숫자 두개를 입력하세요. 1 2\n"
     ]
    },
    {
     "name": "stdout",
     "output_type": "stream",
     "text": [
      "입력한 값은 1,2입니다\n",
      "Wall time: 1.14 s\n"
     ]
    }
   ],
   "source": [
    "%%time  \n",
    "try:\n",
    "    x ,y = map(int,input('숫자 두개를 입력하세요.').split())\n",
    "    print(f\"입력한 값은 {x},{y}입니다\")\n",
    "except:\n",
    "    print('잘못된 값을 입력하셨습니다.')"
   ]
  },
  {
   "cell_type": "markdown",
   "id": "3cd18043-b0e8-49e9-8864-2a04bea50ece",
   "metadata": {},
   "source": [
    "### -예외처리, except 에러마다 분기하기\n",
    "### -except바로 옆에 에러의 종류를 사용하면 각 에러마다 분기하여 처리 할 수 있음."
   ]
  },
  {
   "cell_type": "code",
   "execution_count": 49,
   "id": "6223eef7-e9e1-48c7-b1ec-0c75cf2ce7a1",
   "metadata": {},
   "outputs": [
    {
     "name": "stdout",
     "output_type": "stream",
     "text": [
      "0으로 나눌 수 없습니다.\n",
      "division by zero\n",
      "Wall time: 0 ns\n"
     ]
    }
   ],
   "source": [
    "%%time\n",
    "x= range(4)\n",
    "try:\n",
    "    for i in range(4):\n",
    "        y = 10/x[i]\n",
    "except ZeroDivisionError as e:\n",
    "    print('0으로 나눌 수 없습니다.')\n",
    "    print(e)\n",
    "except IndexError as e:\n",
    "    print('이넥스 에러 발생')\n",
    "    print(e)"
   ]
  },
  {
   "cell_type": "code",
   "execution_count": 50,
   "id": "6c57ba1a-1e5f-4af8-9bfe-c2d0485f7456",
   "metadata": {},
   "outputs": [
    {
     "name": "stdout",
     "output_type": "stream",
     "text": [
      "이넥스 에러 발생\n",
      "range object index out of range\n",
      "Wall time: 0 ns\n"
     ]
    }
   ],
   "source": [
    "%%time\n",
    "x= range(1,4)\n",
    "try:\n",
    "    for i in range(4):\n",
    "        y = 10/x[i]\n",
    "except ZeroDivisionError as e:\n",
    "    print('0으로 나눌 수 없습니다.')\n",
    "    print(e)\n",
    "except IndexError as e:\n",
    "    print('이넥스 에러 발생')\n",
    "    print(e)"
   ]
  },
  {
   "cell_type": "code",
   "execution_count": 51,
   "id": "98220808-cac8-4005-8957-12a4bd64fe7a",
   "metadata": {},
   "outputs": [
    {
     "name": "stdout",
     "output_type": "stream",
     "text": [
      "에러 없이 실행되었습니다.\n",
      "Wall time: 0 ns\n"
     ]
    }
   ],
   "source": [
    "%%time\n",
    "x= range(1,5)\n",
    "try:\n",
    "    for i in range(4):\n",
    "        y = 10/x[i]\n",
    "except ZeroDivisionError as e:\n",
    "    print('0으로 나눌 수 없습니다.')\n",
    "    print(e)\n",
    "except IndexError as e:\n",
    "    print('이넥스 에러 발생')\n",
    "    print(e)\n",
    "else:\n",
    "    print('에러 없이 실행되었습니다.')"
   ]
  },
  {
   "cell_type": "code",
   "execution_count": 54,
   "id": "41cf808d-f117-4843-b75d-e72e41ce1cf2",
   "metadata": {},
   "outputs": [
    {
     "name": "stdin",
     "output_type": "stream",
     "text": [
      " 1 0\n"
     ]
    },
    {
     "name": "stdout",
     "output_type": "stream",
     "text": [
      "0으로 나눌 수 없습니다.\n"
     ]
    }
   ],
   "source": [
    "try:\n",
    "    x,y = map(int,input().split(\" \"))\n",
    "    result = x/y\n",
    "except ValueError:\n",
    "    print(\"값을 잘못 입력하셨습니다.\")\n",
    "except ZeroDivisionError:\n",
    "    print(\"0으로 나눌 수 없습니다.\")\n",
    "else:\n",
    "    print(result)"
   ]
  },
  {
   "cell_type": "markdown",
   "id": "554702d1-353b-4622-be38-572af92f2b01",
   "metadata": {},
   "source": [
    "### 예외처리, finally\n",
    "### -try와 finally를 사용하면 프로그램에서 무조건 실행되는 부분.\n",
    "### -데이터베이스에 connection을 얻고 사용 뒤 반환해야하는것 처럼 finally부분에 connection.close() 하는 코드를 작성하면 중간에 어떤 네트워크 에러 및 로직상의 에러가 발생되더라도 커넥션을 반납하도록 코드를 작성할수 있는 것."
   ]
  },
  {
   "cell_type": "code",
   "execution_count": 56,
   "id": "dbc99ef8-359b-4ece-9fe8-a896702fd436",
   "metadata": {},
   "outputs": [
    {
     "name": "stdout",
     "output_type": "stream",
     "text": [
      "무조껀 실행됩니다.\n"
     ]
    },
    {
     "ename": "KeyError",
     "evalue": "",
     "output_type": "error",
     "traceback": [
      "\u001b[1;31m---------------------------------------------------------------------------\u001b[0m",
      "\u001b[1;31mKeyError\u001b[0m                                  Traceback (most recent call last)",
      "\u001b[1;32m<timed exec>\u001b[0m in \u001b[0;36m<module>\u001b[1;34m\u001b[0m\n",
      "\u001b[1;31mKeyError\u001b[0m: "
     ]
    }
   ],
   "source": [
    "try:\n",
    "    raise KeyError\n",
    "finally:\n",
    "    print('무조껀 실행됩니다.')"
   ]
  },
  {
   "cell_type": "code",
   "execution_count": 59,
   "id": "9d6da38a-840b-4685-b4a8-eebb02b21805",
   "metadata": {},
   "outputs": [
    {
     "name": "stdin",
     "output_type": "stream",
     "text": [
      " 3 ㅇ\n"
     ]
    },
    {
     "name": "stdout",
     "output_type": "stream",
     "text": [
      "값을 잘못 입력하셨습니다.\n",
      "프로그램을 종료합니다.\n"
     ]
    }
   ],
   "source": [
    "try:\n",
    "    x,y = map(int,input().split(\" \"))\n",
    "    result = x/y\n",
    "except ValueError:\n",
    "    print(\"값을 잘못 입력하셨습니다.\")\n",
    "except ZeroDivisionError:\n",
    "    print(\"0으로 나눌 수 없습니다.\")\n",
    "else:\n",
    "    print(result)\n",
    "finally:\n",
    "    print(\"프로그램을 종료합니다.\")"
   ]
  },
  {
   "cell_type": "code",
   "execution_count": null,
   "id": "39ac9533-a39f-4973-b836-d7759e9d419b",
   "metadata": {},
   "outputs": [],
   "source": []
  },
  {
   "cell_type": "code",
   "execution_count": null,
   "id": "a25f2708-c523-4268-af42-b06064a6a494",
   "metadata": {},
   "outputs": [],
   "source": []
  },
  {
   "cell_type": "code",
   "execution_count": null,
   "id": "86525f06-7954-4797-83a7-cfba9fab9787",
   "metadata": {},
   "outputs": [],
   "source": []
  },
  {
   "cell_type": "code",
   "execution_count": null,
   "id": "96402f9d-c13d-4af4-96f0-4fb41bc4d0dd",
   "metadata": {},
   "outputs": [],
   "source": []
  },
  {
   "cell_type": "code",
   "execution_count": null,
   "id": "b7ade0ef-578c-49f2-84ce-131fd02dbf29",
   "metadata": {},
   "outputs": [],
   "source": []
  }
 ],
 "metadata": {
  "kernelspec": {
   "display_name": "Python 3 (ipykernel)",
   "language": "python",
   "name": "python3"
  },
  "language_info": {
   "codemirror_mode": {
    "name": "ipython",
    "version": 3
   },
   "file_extension": ".py",
   "mimetype": "text/x-python",
   "name": "python",
   "nbconvert_exporter": "python",
   "pygments_lexer": "ipython3",
   "version": "3.9.13"
  }
 },
 "nbformat": 4,
 "nbformat_minor": 5
}
