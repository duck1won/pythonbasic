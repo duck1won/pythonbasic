{
 "cells": [
  {
   "cell_type": "markdown",
   "id": "d7e5b0cc-8b13-47cc-a36b-9a96dda3d152",
   "metadata": {},
   "source": [
    "# 1~100사이의 3의 공배수와 5의 공배수의 교집합 구하기"
   ]
  },
  {
   "cell_type": "code",
   "execution_count": 2,
   "id": "8e236fb8-85e5-4507-acb5-73df7102404b",
   "metadata": {},
   "outputs": [
    {
     "name": "stdout",
     "output_type": "stream",
     "text": [
      "{75, 45, 15, 90, 60, 30}\n"
     ]
    }
   ],
   "source": [
    "set_3 = {i for i in range(1,101) if i%3==0}\n",
    "set_5 = {i for i in range(1,101) if i%5==0}\n",
    "\n",
    "result = set_3 & set_5\n",
    "print(result)"
   ]
  },
  {
   "cell_type": "markdown",
   "id": "79a20892-2ccd-4cdc-9e58-28409b05a301",
   "metadata": {},
   "source": [
    "# 세개 권한으로 부터 가질수 있는 메뉴들을 중복 없이 오름차순으로 출력"
   ]
  },
  {
   "cell_type": "code",
   "execution_count": 14,
   "id": "fe5ac86e-fec4-4e1b-98fc-9a417c3ea014",
   "metadata": {},
   "outputs": [
    {
     "name": "stdout",
     "output_type": "stream",
     "text": [
      "개인정보 조회,구매 관리,근태 관리,시스템 관리,인사 관리,회계 관리\n"
     ]
    }
   ],
   "source": [
    "role_admin = (\"회계 관리\", \"인사 관리\", \"구매 관리\", \"시스템 관리\")\n",
    "role_hr = (\"인사 관리\", \"개인정보 조회\", \"회계 관리\", \"근태 관리\")\n",
    "role_user = (\"개인정보 조회\", \"근태 관리\")\n",
    "result = role_admin+role_hr+role_user\n",
    "result = set(result)\n",
    "result = list(sorted(result))\n",
    "print(','.join(result))"
   ]
  },
  {
   "cell_type": "markdown",
   "id": "7aa9c9f2-fe2d-478d-91f4-16ece28b6003",
   "metadata": {},
   "source": [
    "# -----함수(function)-----"
   ]
  },
  {
   "cell_type": "code",
   "execution_count": 51,
   "id": "472c4bd2-8ea7-4a39-bf44-e5f7e1eb5cf7",
   "metadata": {},
   "outputs": [],
   "source": [
    "def print_ten():\n",
    "    \"\"\"print(\"hello\")를 열번출력합니다.\"\"\"\n",
    "    for i in range(10):\n",
    "        print(\"hello\")"
   ]
  },
  {
   "cell_type": "code",
   "execution_count": 47,
   "id": "e9ed3859-47b8-4fc4-97e0-f87d5134e957",
   "metadata": {},
   "outputs": [
    {
     "name": "stdout",
     "output_type": "stream",
     "text": [
      "hello\n",
      "hello\n",
      "hello\n",
      "hello\n",
      "hello\n",
      "hello\n",
      "hello\n",
      "hello\n",
      "hello\n",
      "hello\n"
     ]
    }
   ],
   "source": [
    "print_ten()"
   ]
  },
  {
   "cell_type": "code",
   "execution_count": 88,
   "id": "3e95c187-d08f-4ba6-b59d-e4a6145d363f",
   "metadata": {},
   "outputs": [
    {
     "name": "stdout",
     "output_type": "stream",
     "text": [
      "print(\"hello\")를 열번출력합니다.\n"
     ]
    }
   ],
   "source": [
    "print(print_ten.__doc__)"
   ]
  },
  {
   "cell_type": "markdown",
   "id": "46ac075d-7afa-4852-9cf0-a4d1ff244fbe",
   "metadata": {},
   "source": [
    "### -함수의 기본 값 키워드인수만으로 호출"
   ]
  },
  {
   "cell_type": "code",
   "execution_count": 83,
   "id": "26f3555b-f927-4b34-8c50-510dbf517909",
   "metadata": {},
   "outputs": [],
   "source": [
    "def geeting(name,age):\n",
    "    print(f\"{name}씨 안녕하세요. 약{age*365.35}일 되었습니다.\")"
   ]
  },
  {
   "cell_type": "code",
   "execution_count": 84,
   "id": "738df6fe-fa6b-4ac2-bd1c-c2c4bfbfa8cd",
   "metadata": {},
   "outputs": [
    {
     "name": "stdout",
     "output_type": "stream",
     "text": [
      "seo씨 안녕하세요. 약10229.800000000001일 되었습니다.\n"
     ]
    }
   ],
   "source": [
    "geeting(\"파이썬\",32)"
   ]
  },
  {
   "cell_type": "markdown",
   "id": "47d9d871-4496-4bc3-9c89-7bf42492e9a8",
   "metadata": {},
   "source": [
    "### -위치인수와 키워드 인수로 호출하면, 위치인수가 키워드 인수보다먼저 위치해야함"
   ]
  },
  {
   "cell_type": "code",
   "execution_count": 95,
   "id": "b162699e-2554-479a-ace1-a79a5ef4573d",
   "metadata": {},
   "outputs": [],
   "source": [
    "def geeting(name,age):\n",
    "    print(f\"{name}씨 안녕하세요. 약{age*365.35}일 되었습니다.\")"
   ]
  },
  {
   "cell_type": "code",
   "execution_count": 96,
   "id": "6c103e2c-d97d-43d2-9ece-bc8f4a7345b1",
   "metadata": {},
   "outputs": [
    {
     "name": "stdout",
     "output_type": "stream",
     "text": [
      "파이썬씨 안녕하세요. 약11691.2일 되었습니다.\n"
     ]
    }
   ],
   "source": [
    "#geeting(age=32,\"파이썬\") 이렇게 쓰면 틀림\n",
    "geeting(\"파이썬\",age=32)"
   ]
  },
  {
   "cell_type": "markdown",
   "id": "77efef26-40ea-49a0-9cb0-275b15fa498b",
   "metadata": {},
   "source": [
    "### -키워드 인수만으로 호출할땐 키워드 인수간에 순서는 산관없음."
   ]
  },
  {
   "cell_type": "code",
   "execution_count": null,
   "id": "0e37d8cd-f572-4cf5-965c-8ecc3d6189b2",
   "metadata": {},
   "outputs": [],
   "source": [
    "def geeting(name,age):\n",
    "    print(f\"{name}씨 안녕하세요. 약{age*365.35}일 되었습니다.\")"
   ]
  },
  {
   "cell_type": "code",
   "execution_count": null,
   "id": "a092fa28-3f10-4db2-91bd-4db67a57eb09",
   "metadata": {},
   "outputs": [],
   "source": [
    "print(age=32, name = \"파이썬\")"
   ]
  },
  {
   "cell_type": "markdown",
   "id": "7817578e-e7bf-4ae5-bca5-731a78617c91",
   "metadata": {},
   "source": [
    "### -기본값을 갖는 default parameter는 기본값을 갖지않는 non-default parameter보다 뒤에 작성해야함"
   ]
  },
  {
   "cell_type": "code",
   "execution_count": null,
   "id": "caf143c6-5b6c-4b30-b902-8fdcdc944861",
   "metadata": {},
   "outputs": [],
   "source": [
    "def geeting(name=\"default\",age):\n",
    "    print(f\"{name}씨 안녕하세요. 약{age*365.35}일 되었습니다.\")"
   ]
  },
  {
   "cell_type": "markdown",
   "id": "c773f37a-4b40-48f6-9adf-b9a6ca650e2b",
   "metadata": {},
   "source": [
    "### -위치전용인자 선언하는방법은 슬래시를 인자 값으로 넣고 좌측 부분에 위치 전용 인자를 선언하면 됨."
   ]
  },
  {
   "cell_type": "code",
   "execution_count": 90,
   "id": "d23ca776-c80f-491c-986a-747edc75554d",
   "metadata": {},
   "outputs": [],
   "source": [
    "def posonly(posonly,/):\n",
    "    print(posonly)"
   ]
  },
  {
   "cell_type": "code",
   "execution_count": null,
   "id": "d20e5b86-bab3-46fe-9a19-25ba4d729fd1",
   "metadata": {},
   "outputs": [
    {
     "name": "stdout",
     "output_type": "stream",
     "text": [
      "값만 입력해야 합니다.\n"
     ]
    }
   ],
   "source": [
    "print(\"값만 입력해야 함.\")"
   ]
  },
  {
   "cell_type": "markdown",
   "id": "6f5cb84c-5159-44e9-b98d-a0651b807e93",
   "metadata": {},
   "source": [
    "## -키워드 전용인자\n",
    "### -기본값을 갖는 인자에 상응하는 인수는 생략할 수 있음."
   ]
  },
  {
   "cell_type": "code",
   "execution_count": 99,
   "id": "fc36645f-2d5d-4af4-b5c4-914a83e4d5dd",
   "metadata": {},
   "outputs": [],
   "source": [
    "def keyonly(*,keyonly=\"default\"):\n",
    "    print(keyonly)"
   ]
  },
  {
   "cell_type": "code",
   "execution_count": 100,
   "id": "55e2fb09-bc4f-47ab-b369-3a0b0272091a",
   "metadata": {},
   "outputs": [
    {
     "name": "stdout",
     "output_type": "stream",
     "text": [
      "default\n"
     ]
    }
   ],
   "source": [
    "keyonly()"
   ]
  },
  {
   "cell_type": "markdown",
   "id": "86598b81-0596-4c93-9820-010a5199943c",
   "metadata": {},
   "source": [
    "### -키워드 전용인자는 오직 위치인수만 값의 전달이가능.\n",
    "### -키워드 전용 인자를 선언하는 방법은 애스터리스크(*)를 인자 값으로 넣고 우측 부분에 키워드 전용인자를 선언하면됨\n",
    "### -키워드 전용 인자에 위치 인수를 전달하면 TypeError오류가 발생"
   ]
  },
  {
   "cell_type": "code",
   "execution_count": 108,
   "id": "17aada99-a093-4263-8351-e1fe930a418a",
   "metadata": {},
   "outputs": [],
   "source": [
    "def keyonly(*,keyonly):\n",
    "    print(keyonly)"
   ]
  },
  {
   "cell_type": "code",
   "execution_count": 109,
   "id": "7ee5724c-2917-4124-bd77-7192e509de43",
   "metadata": {},
   "outputs": [
    {
     "name": "stdout",
     "output_type": "stream",
     "text": [
      "키워드만 입력해야 함\n"
     ]
    }
   ],
   "source": [
    "keyonly(keyonly=\"키워드만 입력해야 함\")\n",
    "#keyonly(\"키워드만 입력해야 함\") TypeError발생"
   ]
  },
  {
   "cell_type": "markdown",
   "id": "9cc72156-4853-4dab-8402-23c908bd868e",
   "metadata": {},
   "source": [
    "## -가변-위치인자\n",
    "### -명시된인자 외에 추가적으로 위치 인수를 개수에 상관없이 유연하게 전달받을 수 있음.\n",
    "### -가변 변수로 사용할 변수명 앞에 *를 하나 붙여 표기함"
   ]
  },
  {
   "cell_type": "code",
   "execution_count": 104,
   "id": "102e2440-346f-4de7-9587-125f25b01b8c",
   "metadata": {},
   "outputs": [],
   "source": [
    "def var_positional(*args):\n",
    "    print(type(args))\n",
    "    return sum([_ for _ in args])"
   ]
  },
  {
   "cell_type": "code",
   "execution_count": 106,
   "id": "40469be6-e296-4d1f-8c1c-a0b23bb2c20d",
   "metadata": {},
   "outputs": [
    {
     "name": "stdout",
     "output_type": "stream",
     "text": [
      "<class 'tuple'>\n",
      "15\n",
      "<class 'tuple'>\n",
      "0\n"
     ]
    }
   ],
   "source": [
    "print(var_positional(1,2,3,4,5))\n",
    "\n",
    "print(var_positional()) #가변-위치인자에 전달할 인수 없이 호출 가능"
   ]
  },
  {
   "cell_type": "markdown",
   "id": "5d97c613-011e-4c90-bffc-9e128f04fe47",
   "metadata": {},
   "source": [
    "## -가변-키워드 인자\n",
    "### 명시된 인자 외에 추가적으로 키워드인수를 개수에 상관없이 유연하게 전달받을 수 있음\n",
    "### 가변 변수로 사용할 변수명 앞에 *를 두개 붙혀 표기함"
   ]
  },
  {
   "cell_type": "code",
   "execution_count": 110,
   "id": "e0bcee20-8c0d-43cb-9cc5-cc9c6ec42a08",
   "metadata": {},
   "outputs": [],
   "source": [
    "def var_keyword(**kargs):\n",
    "    print(type(kargs))\n",
    "    return kargs"
   ]
  },
  {
   "cell_type": "code",
   "execution_count": 116,
   "id": "09ecd119-5ef1-455b-b93e-a79a69b2feaa",
   "metadata": {},
   "outputs": [
    {
     "name": "stdout",
     "output_type": "stream",
     "text": [
      "<class 'dict'>\n",
      "{'key': 'value', 'key2': 'value2'}\n",
      "<class 'dict'>\n",
      "{}\n"
     ]
    }
   ],
   "source": [
    "print(var_keyword(key=\"value\",key2=\"value2\"))\n",
    "print(var_keyword()) #가변-키워드 인자에 전달할 인수 없이 호출 가능"
   ]
  },
  {
   "cell_type": "markdown",
   "id": "fe81b3cc-6035-482c-9e57-59b750e1b376",
   "metadata": {},
   "source": [
    "### (연습문제) 각 입력 받은 정수를 10씩 더해서 반환하는 함수"
   ]
  },
  {
   "cell_type": "code",
   "execution_count": 122,
   "id": "4aa68c8b-fe53-4d24-aa19-718f23cdf652",
   "metadata": {
    "tags": []
   },
   "outputs": [
    {
     "name": "stdout",
     "output_type": "stream",
     "text": [
      "80\n"
     ]
    }
   ],
   "source": [
    "def plus_ten(num):\n",
    "    return num+10\n",
    "\n",
    "print(plus_ten(70))"
   ]
  },
  {
   "cell_type": "markdown",
   "id": "680d5dc4-c609-4d30-b9bf-94c22e8265c6",
   "metadata": {},
   "source": [
    "### (연습문제) 화씨 온도를 섭씨 온도로 변경하는 함수 만들기"
   ]
  },
  {
   "cell_type": "code",
   "execution_count": 130,
   "id": "c60fadcd-c3d1-488c-b047-aabaadbded8c",
   "metadata": {
    "tags": []
   },
   "outputs": [
    {
     "name": "stdout",
     "output_type": "stream",
     "text": [
      "화씨 온도를 섭씨 온도로 변경하여 출력합니다.\n"
     ]
    }
   ],
   "source": [
    "def to_celsius(fahrenheit):\n",
    "    \"\"\"화씨 온도를 섭씨 온도로 변경하여 출력합니다.\"\"\"\n",
    "    return ((fahrenheit-32)*5)/9\n",
    "\n",
    "to_celsius(70)\n",
    "print(to_celsius.__doc__)\n",
    "    "
   ]
  },
  {
   "cell_type": "markdown",
   "id": "bc39f7e7-093d-4aeb-b533-7236a4687c64",
   "metadata": {},
   "source": [
    "### (연습문제) 자연수를 인수로 전달하면 짝수일때 \"짝수\"라는 문자열을, 홀수일때 \"홀수\"라는 문자열을 반환하는 함수 "
   ]
  },
  {
   "cell_type": "code",
   "execution_count": 144,
   "id": "3a23e9b2-7eb8-4c59-b919-ce6ed2a9c7a6",
   "metadata": {},
   "outputs": [
    {
     "name": "stdout",
     "output_type": "stream",
     "text": [
      "number가 짝수면 \"짝수\", 홀수면 \"홀수\" 반환\n",
      "짝수\n",
      "홀수\n",
      "None\n"
     ]
    }
   ],
   "source": [
    "def odd_even(number):\n",
    "    \"\"\"number가 짝수면 \"짝수\", 홀수면 \"홀수\" 반환\"\"\"\n",
    "    if type(number) != int:\n",
    "        return\n",
    "    elif number%2 == 0:\n",
    "        return \"짝수\"\n",
    "    else:\n",
    "        return \"홀수\"\n",
    "print(odd_even.__doc__)\n",
    "print(odd_even(10))\n",
    "print(odd_even(9))\n",
    "print(odd_even(\"가\"))\n"
   ]
  },
  {
   "cell_type": "code",
   "execution_count": 157,
   "id": "49f3e641-a3a8-40ad-baa7-e7a31d4c8668",
   "metadata": {},
   "outputs": [
    {
     "name": "stdin",
     "output_type": "stream",
     "text": [
      "숫자를 입력하세요 10\n"
     ]
    }
   ],
   "source": [
    "number = input(\"숫자를 입력하세요\")"
   ]
  },
  {
   "cell_type": "code",
   "execution_count": 158,
   "id": "b53e5192-4215-46bf-be7f-f900c3098464",
   "metadata": {},
   "outputs": [
    {
     "data": {
      "text/plain": [
       "str"
      ]
     },
     "execution_count": 158,
     "metadata": {},
     "output_type": "execute_result"
    }
   ],
   "source": [
    "type(number)"
   ]
  },
  {
   "cell_type": "code",
   "execution_count": 159,
   "id": "14748c51-a77e-4f85-a450-2a20b8306c95",
   "metadata": {},
   "outputs": [],
   "source": [
    "def to_int(number):\n",
    "    if number.isdecimal():\n",
    "        return int(number)\n",
    "    return"
   ]
  },
  {
   "cell_type": "code",
   "execution_count": 160,
   "id": "152c1dd9-7725-4e0e-a098-a87717e633c0",
   "metadata": {},
   "outputs": [
    {
     "name": "stdout",
     "output_type": "stream",
     "text": [
      "10\n"
     ]
    }
   ],
   "source": [
    "print(to_int(number))"
   ]
  },
  {
   "cell_type": "markdown",
   "id": "ce45f185-f029-4f3c-9164-136a0814bae6",
   "metadata": {},
   "source": [
    "### (연습문제) 4로나누어지면 평년 100으로나누어지고 400으로는 안나누어지면 윤년을 구하는 함수 "
   ]
  },
  {
   "cell_type": "code",
   "execution_count": 180,
   "id": "69de39d8-645c-4169-bbe1-5377b20425d7",
   "metadata": {},
   "outputs": [
    {
     "name": "stdout",
     "output_type": "stream",
     "text": [
      "윤년\n",
      "윤년\n",
      "평년\n"
     ]
    }
   ],
   "source": [
    "def check_leap_year(year):\n",
    "    if year%100==0 and year%400!=0:\n",
    "        return \"평년\"\n",
    "    elif year%4==0:\n",
    "        return \"윤년\"\n",
    "        \n",
    "print(check_leap_year(2004))\n",
    "\n",
    "print(check_leap_year(2000))\n",
    "\n",
    "print(check_leap_year(1900))"
   ]
  },
  {
   "cell_type": "markdown",
   "id": "91d20ee8-3a8c-4203-8557-ce2de2b6c150",
   "metadata": {},
   "source": [
    "### (연습문제) 달 마다의 마지막 일수 구하기"
   ]
  },
  {
   "cell_type": "code",
   "execution_count": 179,
   "id": "1db3dbcf-bd25-4039-8403-8f23b6ed1f31",
   "metadata": {},
   "outputs": [
    {
     "name": "stdout",
     "output_type": "stream",
     "text": [
      "30\n",
      "28\n",
      "31\n"
     ]
    }
   ],
   "source": [
    "def days(date):\n",
    "    if date in (4,6,9,11):\n",
    "        return 30\n",
    "    elif date in (1,3,5,7,8,10,12):\n",
    "        return 31\n",
    "    else :\n",
    "        return 28\n",
    "\n",
    "print(days(11))\n",
    "print(days(2))\n",
    "print(days(1))"
   ]
  },
  {
   "cell_type": "markdown",
   "id": "ad6316cf-731b-4e7a-ab09-2c2dd206464a",
   "metadata": {},
   "source": [
    "### (연습문제) 평년 윤년에 따라 달 마다의 마지막 일수 구하기"
   ]
  },
  {
   "cell_type": "code",
   "execution_count": 178,
   "id": "7b059fbf-dbb7-4ccb-ac4d-a645e57d70b5",
   "metadata": {},
   "outputs": [
    {
     "name": "stdout",
     "output_type": "stream",
     "text": [
      "30\n",
      "31\n",
      "28\n",
      "29\n"
     ]
    }
   ],
   "source": [
    "def check_leap_year(year,date):\n",
    "      \n",
    "        if date in (4,6,9,11):\n",
    "            return 30\n",
    "        elif date in (1,3,5,7,8,10,12):\n",
    "            return 31\n",
    "        else :\n",
    "            if year%100==0 and year%400!=0:\n",
    "                return 28\n",
    "            elif year%4==0:\n",
    "                return 29\n",
    "\n",
    "print(check_leap_year(1900,11))\n",
    "print(check_leap_year(2004,10))\n",
    "print(check_leap_year(1900,2))\n",
    "print(check_leap_year(2000,2))"
   ]
  },
  {
   "cell_type": "markdown",
   "id": "0cf58880-302d-48b7-a08b-da194758aebe",
   "metadata": {},
   "source": [
    "# -----지역변수 전역변수-----\n",
    "### -지역변수로 선언된 변수는 지역범위 밖의 변수와 이름이 같아도 생성될순있다. 하지만 변경은 할 수 없다"
   ]
  },
  {
   "cell_type": "code",
   "execution_count": 192,
   "id": "bf7c508d-d4ce-475b-9073-939a12d193bb",
   "metadata": {},
   "outputs": [
    {
     "ename": "UnboundLocalError",
     "evalue": "local variable 'mylittle' referenced before assignment",
     "output_type": "error",
     "traceback": [
      "\u001b[1;31m---------------------------------------------------------------------------\u001b[0m",
      "\u001b[1;31mUnboundLocalError\u001b[0m                         Traceback (most recent call last)",
      "\u001b[1;32m~\\AppData\\Local\\Temp\\ipykernel_15820\\2963559718.py\u001b[0m in \u001b[0;36m<module>\u001b[1;34m\u001b[0m\n\u001b[0;32m      4\u001b[0m     \u001b[0mmylittle\u001b[0m \u001b[1;33m=\u001b[0m \u001b[1;34m\"This is\"\u001b[0m\u001b[1;33m\u001b[0m\u001b[1;33m\u001b[0m\u001b[0m\n\u001b[0;32m      5\u001b[0m     \u001b[0mmy_variable\u001b[0m \u001b[1;33m=\u001b[0m \u001b[1;34m\"This is my little world.\"\u001b[0m\u001b[1;33m\u001b[0m\u001b[1;33m\u001b[0m\u001b[0m\n\u001b[1;32m----> 6\u001b[1;33m \u001b[0mmy_little_world\u001b[0m\u001b[1;33m(\u001b[0m\u001b[1;33m)\u001b[0m\u001b[1;33m\u001b[0m\u001b[1;33m\u001b[0m\u001b[0m\n\u001b[0m\u001b[0;32m      7\u001b[0m \u001b[0mprint\u001b[0m\u001b[1;33m(\u001b[0m\u001b[0mmylittle\u001b[0m\u001b[1;33m)\u001b[0m\u001b[1;33m\u001b[0m\u001b[1;33m\u001b[0m\u001b[0m\n",
      "\u001b[1;32m~\\AppData\\Local\\Temp\\ipykernel_15820\\2963559718.py\u001b[0m in \u001b[0;36mmy_little_world\u001b[1;34m()\u001b[0m\n\u001b[0;32m      1\u001b[0m \u001b[0mmylittle\u001b[0m \u001b[1;33m=\u001b[0m \u001b[1;34m\"This is my little world\"\u001b[0m\u001b[1;33m\u001b[0m\u001b[1;33m\u001b[0m\u001b[0m\n\u001b[0;32m      2\u001b[0m \u001b[1;32mdef\u001b[0m \u001b[0mmy_little_world\u001b[0m\u001b[1;33m(\u001b[0m\u001b[1;33m)\u001b[0m\u001b[1;33m:\u001b[0m\u001b[1;33m\u001b[0m\u001b[1;33m\u001b[0m\u001b[0m\n\u001b[1;32m----> 3\u001b[1;33m     \u001b[0mmylittle\u001b[0m\u001b[1;33m\u001b[0m\u001b[1;33m\u001b[0m\u001b[0m\n\u001b[0m\u001b[0;32m      4\u001b[0m     \u001b[0mmylittle\u001b[0m \u001b[1;33m=\u001b[0m \u001b[1;34m\"This is\"\u001b[0m\u001b[1;33m\u001b[0m\u001b[1;33m\u001b[0m\u001b[0m\n\u001b[0;32m      5\u001b[0m     \u001b[0mmy_variable\u001b[0m \u001b[1;33m=\u001b[0m \u001b[1;34m\"This is my little world.\"\u001b[0m\u001b[1;33m\u001b[0m\u001b[1;33m\u001b[0m\u001b[0m\n",
      "\u001b[1;31mUnboundLocalError\u001b[0m: local variable 'mylittle' referenced before assignment"
     ]
    }
   ],
   "source": [
    "mylittle = \"This is my little world\"\n",
    "def my_little_world():\n",
    "    mylittle\n",
    "    mylittle = \"This is\"\n",
    "    my_variable = \"This is my little world.\"\n",
    "my_little_world()\n",
    "print(mylittle)"
   ]
  },
  {
   "cell_type": "markdown",
   "id": "d9f50c80-2fca-4465-80a4-25bf2c4480e8",
   "metadata": {},
   "source": [
    "### -global키워드를 써서 변경한다면 변경됨\n",
    "### -global키워드는 함수의 중첩된 정도와 상관없이 전역 범위의 변수를 매칭함.\n"
   ]
  },
  {
   "cell_type": "code",
   "execution_count": 194,
   "id": "623cee3b-9a7c-4ea5-bceb-c623ff6059cd",
   "metadata": {},
   "outputs": [
    {
     "name": "stdout",
     "output_type": "stream",
     "text": [
      "This is\n"
     ]
    }
   ],
   "source": [
    "mylittle = \"This is my little world\"\n",
    "def my_little_world():\n",
    "    global mylittle\n",
    "    mylittle = \"This is\"\n",
    "    my_variable = \"This is my little world.\"\n",
    "my_little_world()\n",
    "print(mylittle)"
   ]
  },
  {
   "cell_type": "markdown",
   "id": "d716d5bf-5711-4545-8ae0-88e72434d9e5",
   "metadata": {},
   "source": [
    "### -안쪽 함수에서 바깥쪽 함수의 변수 변경은 되지않는다."
   ]
  },
  {
   "cell_type": "code",
   "execution_count": 195,
   "id": "e60a678c-5378-427c-b5bc-28c10d6894a7",
   "metadata": {},
   "outputs": [],
   "source": [
    "def level1():\n",
    "    message = \"This is level 1.\"\n",
    "    def level2():\n",
    "        message = \"Level2 is better than level1.\"\n",
    "    level2()\n",
    "    print(message)"
   ]
  },
  {
   "cell_type": "code",
   "execution_count": 199,
   "id": "a57d21e7-aafa-49c4-a17f-907f54c9470f",
   "metadata": {},
   "outputs": [
    {
     "name": "stdout",
     "output_type": "stream",
     "text": [
      "Level2 is better than level1.\n"
     ]
    }
   ],
   "source": [
    "level1()"
   ]
  },
  {
   "cell_type": "markdown",
   "id": "58a26da2-934e-4e61-9e7e-9de7f187f2bc",
   "metadata": {},
   "source": [
    "### -nonlocal 키워드를 통해 바깥 영역의 변수를 변경할 수 있음.\n",
    "### -중첩된 함수마다 같은 이름의 변수가 있다면 nonlocal키워드는제일 가까운 바깥 변수를 매칭함"
   ]
  },
  {
   "cell_type": "code",
   "execution_count": 197,
   "id": "133f0095-b8c8-43bd-b4c8-451275843b50",
   "metadata": {},
   "outputs": [],
   "source": [
    "def level1():\n",
    "    message = \"This is level 1.\"\n",
    "    def level2():\n",
    "        nonlocal message\n",
    "        message = \"Level2 is better than level1.\"\n",
    "    level2()\n",
    "    print(message)"
   ]
  },
  {
   "cell_type": "code",
   "execution_count": 198,
   "id": "105bc9ec-8b6d-45d6-a0f9-a49c344712aa",
   "metadata": {},
   "outputs": [
    {
     "name": "stdout",
     "output_type": "stream",
     "text": [
      "Level2 is better than level1.\n"
     ]
    }
   ],
   "source": [
    "level1()"
   ]
  },
  {
   "cell_type": "markdown",
   "id": "3c6199e0-a97c-4cf3-a6af-2bfac2345ba5",
   "metadata": {},
   "source": [
    "# -----람다(lambda)-----\n",
    "### lambda [parameters]: expression(arguments)\n",
    "### -호출될 때 값이 구해지는 하나의 표현식, 이름이 없는 인라인 함수\n",
    "### -표현식 전체를 소괄호(())로 감싸고 뒤에 함수 호출하듯이 소괄호를 붙힘, 그리고 뒷쪽에 작성한 소괄호()안에 인수를 넣으면 됨.\n",
    "### -expression부분은 변수없이 식 한줄로 표현가능(인라인) 해야함. 람다표현식안에 새변수는 만들 수 없음. 필요한경우 def를 써서 함수를 정의해서 사용하는것이 좋음"
   ]
  },
  {
   "cell_type": "code",
   "execution_count": 201,
   "id": "f52aafbe-7994-4e17-9e8d-d2d2828b4ab3",
   "metadata": {},
   "outputs": [
    {
     "data": {
      "text/plain": [
       "20"
      ]
     },
     "execution_count": 201,
     "metadata": {},
     "output_type": "execute_result"
    }
   ],
   "source": [
    "(lambda x:x+10)(10)"
   ]
  },
  {
   "cell_type": "code",
   "execution_count": 202,
   "id": "8da56bf1-53b3-42f8-a9d8-79800b330f49",
   "metadata": {},
   "outputs": [
    {
     "name": "stdout",
     "output_type": "stream",
     "text": [
      "20\n"
     ]
    }
   ],
   "source": [
    "twice = lambda x:x*2\n",
    "print(twice(10))"
   ]
  },
  {
   "cell_type": "code",
   "execution_count": 204,
   "id": "cca7e466-c186-45e0-ad19-bc638e56c293",
   "metadata": {},
   "outputs": [
    {
     "ename": "SyntaxError",
     "evalue": "invalid syntax (3294282091.py, line 1)",
     "output_type": "error",
     "traceback": [
      "\u001b[1;36m  File \u001b[1;32m\"C:\\Users\\user\\AppData\\Local\\Temp\\ipykernel_15820\\3294282091.py\"\u001b[1;36m, line \u001b[1;32m1\u001b[0m\n\u001b[1;33m    (lambda x:y=10;x+y)(1)\u001b[0m\n\u001b[1;37m               ^\u001b[0m\n\u001b[1;31mSyntaxError\u001b[0m\u001b[1;31m:\u001b[0m invalid syntax\n"
     ]
    }
   ],
   "source": [
    "(lambda x:y=10;x+y)(1)"
   ]
  },
  {
   "cell_type": "markdown",
   "id": "37a88e94-fa69-440d-9e32-44ab57dc5df8",
   "metadata": {},
   "source": [
    "### -조건 표현식, inline if else\n",
    "### -if else 한줄로 작성할 수 있는 방법\n",
    "### -if만 사용할수없음. 반드시 else랑 같이 써야함\n",
    "### True일때 값 if 조건식 else False일때 값\n",
    "### ex)'A' if 90<score<=100 else 'B' if 80<score else 'c'"
   ]
  },
  {
   "cell_type": "markdown",
   "id": "d66bf0b5-6510-40ea-b4ad-37a93f52fa0a",
   "metadata": {},
   "source": [
    "# -----람다와 map()함수-----\n",
    "### map(lambda parameter1, parameter2, ...:expression,iterable1,iterable2,...)"
   ]
  },
  {
   "cell_type": "code",
   "execution_count": 210,
   "id": "557ea877-ad70-403d-9a42-8d8fd8894e05",
   "metadata": {},
   "outputs": [
    {
     "name": "stdout",
     "output_type": "stream",
     "text": [
      "[2, 8, 18, 32, 50]\n"
     ]
    }
   ],
   "source": [
    "a = [_ for _ in range(1,6)]\n",
    "b = [_ for _ in range(2,11,2)]\n",
    "print(list(map(lambda x,y:x*y,a,b)))"
   ]
  },
  {
   "cell_type": "markdown",
   "id": "512f6543-fd40-44f4-b1e2-cef5f74f4f25",
   "metadata": {},
   "source": [
    "# -----람다와 filter()함수-----\n",
    "### -filter의 첫인수로 들어가는 함수의 반환값이 True일 때만 해당 요소를 가져옴\n",
    "### -리스트컴프리헨션이 속도와 가독성 모두 더나음\n",
    "### filter(lambda parameter:expression, iterable)\n",
    "### -expression이 True일때만 해당 요소를 가져옴"
   ]
  },
  {
   "cell_type": "code",
   "execution_count": 214,
   "id": "5c1c7922-941d-4a6e-be5c-8464dffd912a",
   "metadata": {},
   "outputs": [
    {
     "data": {
      "text/plain": [
       "[3, 6, 9]"
      ]
     },
     "execution_count": 214,
     "metadata": {},
     "output_type": "execute_result"
    }
   ],
   "source": [
    "a=[3,4,5,6,7,8,9]\n",
    "list(filter(lambda x : x%3 ==0 and 0<x<10,a))"
   ]
  },
  {
   "cell_type": "markdown",
   "id": "99a795a9-9f39-4fdf-a6cf-c2641e729062",
   "metadata": {},
   "source": [
    "# -----클래스(class)-----"
   ]
  },
  {
   "cell_type": "code",
   "execution_count": 219,
   "id": "793b95b7-7512-47ae-840b-941a68f774e8",
   "metadata": {},
   "outputs": [
    {
     "name": "stdout",
     "output_type": "stream",
     "text": [
      "안녕하세요\n"
     ]
    }
   ],
   "source": [
    "class Person:\n",
    "    def __init__(self):\n",
    "        self.hello = \"안녕하세요\"\n",
    "    def greeting(self):\n",
    "        print(self.hello)\n",
    "        \n",
    "james = Person()\n",
    "james.greeting()"
   ]
  },
  {
   "cell_type": "code",
   "execution_count": null,
   "id": "f16f5129-e9a4-4fac-86e8-11107a26d2f9",
   "metadata": {},
   "outputs": [],
   "source": []
  },
  {
   "cell_type": "code",
   "execution_count": null,
   "id": "cc167923-f09a-404c-ba7c-b2e4f50409ee",
   "metadata": {},
   "outputs": [],
   "source": []
  },
  {
   "cell_type": "code",
   "execution_count": null,
   "id": "4f4684b4-ed00-4928-91e8-ca93e0c5d276",
   "metadata": {},
   "outputs": [],
   "source": []
  },
  {
   "cell_type": "code",
   "execution_count": null,
   "id": "f9ef6962-4e6f-4c34-9910-21db8b8fa8f0",
   "metadata": {},
   "outputs": [],
   "source": []
  },
  {
   "cell_type": "code",
   "execution_count": null,
   "id": "86730a0a-06fc-4e06-b58f-7dc6045ee135",
   "metadata": {},
   "outputs": [],
   "source": []
  },
  {
   "cell_type": "code",
   "execution_count": null,
   "id": "ca588379-72b0-44a1-ae31-a94bf1d7a4e3",
   "metadata": {},
   "outputs": [],
   "source": []
  },
  {
   "cell_type": "code",
   "execution_count": null,
   "id": "37ef575e-a3ec-4a7b-812e-aac0305bb47b",
   "metadata": {},
   "outputs": [],
   "source": []
  },
  {
   "cell_type": "code",
   "execution_count": null,
   "id": "db0e6287-b4d1-4ac2-af1e-3977db95a226",
   "metadata": {},
   "outputs": [],
   "source": []
  },
  {
   "cell_type": "code",
   "execution_count": null,
   "id": "f3948a81-4ce6-467c-b3e9-37d7312c907c",
   "metadata": {},
   "outputs": [],
   "source": []
  },
  {
   "cell_type": "code",
   "execution_count": null,
   "id": "e930bd5d-ae68-4103-ad49-ab8180c55c55",
   "metadata": {},
   "outputs": [],
   "source": []
  },
  {
   "cell_type": "code",
   "execution_count": null,
   "id": "e1ce4086-8ec4-4e02-b3bd-7be1f830b1be",
   "metadata": {},
   "outputs": [],
   "source": []
  },
  {
   "cell_type": "code",
   "execution_count": null,
   "id": "f0de0f73-2993-4997-9adc-95b80756d2f6",
   "metadata": {},
   "outputs": [],
   "source": []
  },
  {
   "cell_type": "code",
   "execution_count": null,
   "id": "299ae46f-bdb6-49ae-bc0c-7dc3984a147e",
   "metadata": {},
   "outputs": [],
   "source": []
  },
  {
   "cell_type": "code",
   "execution_count": null,
   "id": "78e641eb-8316-4bc7-bd1f-4d552019eb8e",
   "metadata": {},
   "outputs": [],
   "source": []
  },
  {
   "cell_type": "code",
   "execution_count": null,
   "id": "e6c495b8-f7f8-42f4-b908-11aa85df2d49",
   "metadata": {},
   "outputs": [],
   "source": []
  }
 ],
 "metadata": {
  "kernelspec": {
   "display_name": "Python 3 (ipykernel)",
   "language": "python",
   "name": "python3"
  },
  "language_info": {
   "codemirror_mode": {
    "name": "ipython",
    "version": 3
   },
   "file_extension": ".py",
   "mimetype": "text/x-python",
   "name": "python",
   "nbconvert_exporter": "python",
   "pygments_lexer": "ipython3",
   "version": "3.9.13"
  }
 },
 "nbformat": 4,
 "nbformat_minor": 5
}
