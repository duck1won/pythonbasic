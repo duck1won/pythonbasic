{
 "cells": [
  {
   "cell_type": "code",
   "execution_count": 183,
   "id": "b8cfe26e-7993-443a-8a76-b204dccf7e33",
   "metadata": {},
   "outputs": [
    {
     "data": {
      "text/html": [
       "<div>\n",
       "<style scoped>\n",
       "    .dataframe tbody tr th:only-of-type {\n",
       "        vertical-align: middle;\n",
       "    }\n",
       "\n",
       "    .dataframe tbody tr th {\n",
       "        vertical-align: top;\n",
       "    }\n",
       "\n",
       "    .dataframe thead th {\n",
       "        text-align: right;\n",
       "    }\n",
       "</style>\n",
       "<table border=\"1\" class=\"dataframe\">\n",
       "  <thead>\n",
       "    <tr style=\"text-align: right;\">\n",
       "      <th></th>\n",
       "      <th>0</th>\n",
       "    </tr>\n",
       "  </thead>\n",
       "  <tbody>\n",
       "    <tr>\n",
       "      <th>0</th>\n",
       "      <td>http://www.kma.go.kr/repositary/image/cht/img/...</td>\n",
       "    </tr>\n",
       "    <tr>\n",
       "      <th>1</th>\n",
       "      <td>http://www.kma.go.kr/repositary/image/cht/img/...</td>\n",
       "    </tr>\n",
       "    <tr>\n",
       "      <th>2</th>\n",
       "      <td>http://www.kma.go.kr/repositary/image/cht/img/...</td>\n",
       "    </tr>\n",
       "    <tr>\n",
       "      <th>3</th>\n",
       "      <td>http://www.kma.go.kr/repositary/image/cht/img/...</td>\n",
       "    </tr>\n",
       "    <tr>\n",
       "      <th>4</th>\n",
       "      <td>http://www.kma.go.kr/repositary/image/cht/img/...</td>\n",
       "    </tr>\n",
       "    <tr>\n",
       "      <th>5</th>\n",
       "      <td>http://www.kma.go.kr/repositary/image/cht/img/...</td>\n",
       "    </tr>\n",
       "    <tr>\n",
       "      <th>6</th>\n",
       "      <td>http://www.kma.go.kr/repositary/image/cht/img/...</td>\n",
       "    </tr>\n",
       "    <tr>\n",
       "      <th>7</th>\n",
       "      <td>http://www.kma.go.kr/repositary/image/cht/img/...</td>\n",
       "    </tr>\n",
       "  </tbody>\n",
       "</table>\n",
       "</div>"
      ],
      "text/plain": [
       "                                                   0\n",
       "0  http://www.kma.go.kr/repositary/image/cht/img/...\n",
       "1  http://www.kma.go.kr/repositary/image/cht/img/...\n",
       "2  http://www.kma.go.kr/repositary/image/cht/img/...\n",
       "3  http://www.kma.go.kr/repositary/image/cht/img/...\n",
       "4  http://www.kma.go.kr/repositary/image/cht/img/...\n",
       "5  http://www.kma.go.kr/repositary/image/cht/img/...\n",
       "6  http://www.kma.go.kr/repositary/image/cht/img/...\n",
       "7  http://www.kma.go.kr/repositary/image/cht/img/..."
      ]
     },
     "execution_count": 183,
     "metadata": {},
     "output_type": "execute_result"
    }
   ],
   "source": [
    "import requests\n",
    "import json\n",
    "import pandas as pd\n",
    "\n",
    "#재귀함수\n",
    "def get_all_pages(url,params=None):\n",
    "    output_json=[]\n",
    "    response = requests.get(url, params=params)\n",
    "    if response.status_code == 200:\n",
    "        output_json = response.json()\n",
    "        if 'next' in response.links:\n",
    "            next_url = response.links['next']['url']\n",
    "            if next_url is not None:\n",
    "                output_json += get_all_pages(next_url,params)\n",
    "    return output_json\n",
    "\n",
    "#url = 'http://apis.data.go.kr/1360000/WthrChartInfoService/getSurfaceChart'\n",
    "#params ={'serviceKey' : 'H55ytCNTC99pCeHIKNmCD7DRnTOTGlYMpRithtSSMo+gUWCPFgT1s35IiZ0FAXnEFkakqocycpLNloJOtKddyA==', 'pageNo' : '1', 'numOfRows' : '10', 'dataType' : 'JSON', 'code' : '24', 'time' : '20230227' }\n",
    "\n",
    "#response = requests.get(url, params=params)\n",
    "#print(response.content)\n",
    "out = get_all_pages(url = 'http://apis.data.go.kr/1360000/WthrChartInfoService/getSurfaceChart',\n",
    "                    params ={'serviceKey' : 'H55ytCNTC99pCeHIKNmCD7DRnTOTGlYMpRithtSSMo+gUWCPFgT1s35IiZ0FAXnEFkakqocycpLNloJOtKddyA==',\n",
    "                             'pageNo' : '1',\n",
    "                             'numOfRows' : '10',\n",
    "                             'dataType' : 'JSON',\n",
    "                             'code' : i,\n",
    "                             'time' : '20230227' }\n",
    "                   )\n",
    "a = [i['man-file'] for i in out['response']['body']['items']['item']]\n",
    "b = list(map(str,a[0].split(\",\")))    \n",
    "for i in range(len(b)):\n",
    "    b[i] = b[i].strip(\" \"\"[\"\"]\")\n",
    "df = pd.DataFrame(b)\n",
    "df"
   ]
  },
  {
   "cell_type": "markdown",
   "id": "9b3a2f8a-9d6d-4ae8-b54a-8994f78f4891",
   "metadata": {},
   "source": [
    "# web crawling"
   ]
  },
  {
   "cell_type": "code",
   "execution_count": 60,
   "id": "fb26b383-97f8-41bd-80fd-2dc4cb376224",
   "metadata": {},
   "outputs": [],
   "source": [
    "import urllib.robotparser\n",
    "rp = urllib.robotparser.RobotFileParser()\n",
    "rp.set_url('https://www.reuters.com/robots.txt')\n",
    "rp.read()"
   ]
  },
  {
   "cell_type": "code",
   "execution_count": 14,
   "id": "e229e2a9-e8ae-4d19-8a10-d2b83301ffbc",
   "metadata": {},
   "outputs": [
    {
     "data": {
      "text/plain": [
       "True"
      ]
     },
     "execution_count": 14,
     "metadata": {},
     "output_type": "execute_result"
    }
   ],
   "source": [
    "rp.can_fetch(useragent=\"*\",url = \"https://www.reuters.com/sitemap.xml\")"
   ]
  },
  {
   "cell_type": "code",
   "execution_count": 93,
   "id": "c9ee783e-2a38-4e68-82f0-d03fa6286989",
   "metadata": {},
   "outputs": [
    {
     "data": {
      "text/plain": [
       "['https://www.reuters.com/arc/outboundfeeds/sitemap-index/?outputType=xml',\n",
       " 'https://www.reuters.com/arc/outboundfeeds/news-sitemap-index/?outputType=xml',\n",
       " 'https://www.reuters.com/sitemap_video_index.xml',\n",
       " 'https://www.reuters.com/brandfeature/sitemap']"
      ]
     },
     "execution_count": 93,
     "metadata": {},
     "output_type": "execute_result"
    }
   ],
   "source": [
    "sitemaps = rp.site_maps()\n",
    "sitemaps"
   ]
  },
  {
   "cell_type": "code",
   "execution_count": 16,
   "id": "9e48eb03-44a3-4422-bd88-5ed96c92b2d4",
   "metadata": {},
   "outputs": [
    {
     "name": "stdout",
     "output_type": "stream",
     "text": [
      "<class 'list'>\n"
     ]
    }
   ],
   "source": [
    "print(type(sitemaps))"
   ]
  },
  {
   "cell_type": "markdown",
   "id": "41c003a3-598f-433c-a4e7-38c5d062612d",
   "metadata": {},
   "source": [
    "### -사이트맵 활용한 웹 크롤러 작성\n",
    "### -xmltodict가 xml파서를 위한 모듈. xmltodict의 parse() 메서드를 통해서 받아온 xml값(request.get(url).text)을 argument로 전달함."
   ]
  },
  {
   "cell_type": "code",
   "execution_count": 94,
   "id": "8d329aa6-04ba-46d2-a4c0-bc6a3fe88379",
   "metadata": {},
   "outputs": [],
   "source": [
    "import xmltodict\n",
    "import requests\n",
    "\n",
    "url = sitemaps[0]\n",
    "sitemaps = xmltodict.parse(requests.get(url).text)\n",
    "#for i in range(len(sitemaps['sitemapindex']['sitemap'])):\n",
    "#    print(sitemaps['sitemapindex']['sitemap'][i].get(\"loc\"))\n",
    "    \n",
    "sub_sitemaps_urls = [sitemap['loc'] for sitemap in sitemaps['sitemapindex']['sitemap']]"
   ]
  },
  {
   "cell_type": "code",
   "execution_count": 95,
   "id": "781ad518-771e-4bb7-85de-bcd96c486280",
   "metadata": {},
   "outputs": [],
   "source": [
    "response = requests.get(sub_sitemaps_urls[0])"
   ]
  },
  {
   "cell_type": "code",
   "execution_count": 96,
   "id": "0e816910-eed3-4e57-8234-4983020e4770",
   "metadata": {},
   "outputs": [],
   "source": [
    "urls = xmltodict.parse(response.text)"
   ]
  },
  {
   "cell_type": "code",
   "execution_count": 97,
   "id": "5f0e0858-f5c3-412f-85f2-d07b28f9cd51",
   "metadata": {},
   "outputs": [
    {
     "data": {
      "text/plain": [
       "{'urlset': {'@xmlns': 'http://www.sitemaps.org/schemas/sitemap/0.9',\n",
       "  '@xmlns:image': 'http://www.google.com/schemas/sitemap-image/1.1',\n",
       "  'url': [{'loc': 'https://www.reuters.com/markets/europe/global-markets-view-europe-2023-02-28/',\n",
       "    'lastmod': '2023-02-28T06:30:51.395Z',\n",
       "    'image:image': {'image:loc': 'https://www.reuters.com/resizer/VAhiE2wIqGF42htLlOrAm5QKpbA=/cloudfront-us-east-2.images.arcpublishing.com/reuters/HJX63HRYZNJLJGAQPOSEHQV45M.jpg',\n",
       "     'image:caption': 'The German share price index DAX graph is pictured at the stock exchange in Frankfurt, Germany, February 27, 2023.    REUTERS/Staff'}},\n",
       "   {'loc': 'https://www.reuters.com/business/retail-consumer/home-zara-fast-slow-fashion-collide-2023-02-28/',\n",
       "    'lastmod': '2023-02-28T06:29:10.080Z',\n",
       "    'image:image': {'image:loc': 'https://www.reuters.com/resizer/bJSj22xxE8PlHfv9BLCLGhzVVyw=/cloudfront-us-east-2.images.arcpublishing.com/reuters/E4WVOANN2FJD3GHH354WDLWAJY.jpg',\n",
       "     'image:caption': 'Marian Fernandez, 56, a former employee of Inditex, rearranges clothes at her fashion store Maazi from where she also posts weekly videos on social media on how to build a \"responsible\" wardrobe, in downtown A Coruna, in northern Spain, November 18, 2022. REUTERS/Miguel Vidal'}},\n",
       "   {'loc': 'https://www.reuters.com/lifestyle/sports/england-captain-stokes-has-no-regrets-over-follow-on-2023-02-28/',\n",
       "    'lastmod': '2023-02-28T06:26:54.194Z',\n",
       "    'image:image': {'image:loc': 'https://www.reuters.com/resizer/m7GctcOQu6P4s9HnNdxIuFeioa0=/cloudfront-us-east-2.images.arcpublishing.com/reuters/G6JUG4WIQZLDBNDIT22G33N3X4.jpg',\n",
       "     'image:caption': \"Cricket - Third Test - Pakistan v England - National Stadium Karachi, Pakistan - December 18, 2022. England's captain Ben Stokes plays a shot. REUTERS/Akhtar Soomro\"}},\n",
       "   {'loc': 'https://www.reuters.com/markets/asia/indias-adani-plans-repay-up-790-mln-share-backed-loans-by-march-sources-2023-02-28/',\n",
       "    'lastmod': '2023-02-28T06:21:06.075Z',\n",
       "    'image:image': {'image:loc': 'https://www.reuters.com/resizer/a2doJR0omcTx6uwq9C_jTtZmVJ8=/cloudfront-us-east-2.images.arcpublishing.com/reuters/JH4MQEC6AFO6ZJLJGIKSPW5BVE.jpg',\n",
       "     'image:caption': 'The logo of the Adani Group is seen on one of its buildings in Ahmedabad, India, January  27, 2023. REUTERS/Amit Dave/File Photo'}},\n",
       "   {'loc': 'https://www.reuters.com/lifestyle/sports/smith-says-australia-batsmen-will-ditch-risky-tempo-third-test-2023-02-28/',\n",
       "    'lastmod': '2023-02-28T06:20:34.667Z',\n",
       "    'image:image': {'image:loc': 'https://www.reuters.com/resizer/2cWcgEBQk76fY6y7ykj-u_u8zjk=/cloudfront-us-east-2.images.arcpublishing.com/reuters/OFBMDNLZAVN3DJZMY4NS5SU7OI.jpg',\n",
       "     'image:caption': \"Cricket - Second Test - India v Australia - Arun Jaitley Stadium, New Delhi, India - February 19, 2023 India's Ravichandran Ashwin celebrates with teammates after taking the wicket of Australia's Steve Smith REUTERS/Anushree Fadnavis\"}},\n",
       "   {'loc': 'https://www.reuters.com/technology/cryptoverse-bitcoin-moves-towards-satoshis-payment-dream-2023-02-28/',\n",
       "    'lastmod': '2023-02-28T06:18:49.097Z',\n",
       "    'image:image': {'image:loc': 'https://www.reuters.com/resizer/tCz1y725PqDry9P0Mz8CqLGCD04=/cloudfront-us-east-2.images.arcpublishing.com/reuters/ITNSLRU3KFLP7ABJFCV4MG6BBY.jpg',\n",
       "     'image:caption': 'A representation of the virtual cryptocurrency Bitcoin is seen in this picture illustration taken October 19, 2021. REUTERS/Edgar Su'}},\n",
       "   {'loc': 'https://www.reuters.com/markets/europe/ecb-has-started-win-inflation-fight-lane-says-2023-02-28/',\n",
       "    'lastmod': '2023-02-28T06:14:49.005Z',\n",
       "    'image:image': {'image:loc': 'https://www.reuters.com/resizer/fLeOxFQBPtitJj6Cz5Tr1rM068M=/cloudfront-us-east-2.images.arcpublishing.com/reuters/JP4IDHJM2VIUJM3PEYDOWATVO4.jpg',\n",
       "     'image:caption': 'European Central Bank Chief Economist Philip Lane speaks during a Reuters Newsmaker event in New York, U.S., September 27, 2019. REUTERS/Gary He'}},\n",
       "   {'loc': 'https://www.reuters.com/markets/rates-bonds/banks-pile-into-euro-zone-bond-sales-rates-shoot-up-2023-02-28/',\n",
       "    'lastmod': '2023-02-28T06:11:11.460Z',\n",
       "    'image:image': {'image:loc': 'https://www.reuters.com/resizer/yNnxDeA1oGB9EJ-3P80ArE19kI4=/cloudfront-us-east-2.images.arcpublishing.com/reuters/F2WJJGVKQFNFLCDHTPW3RDC76A.jpg',\n",
       "     'image:caption': 'One Euro coins are seen in this illustration taken November 9, 2021. REUTERS/Dado Ruvic/Illustration'}},\n",
       "   {'loc': 'https://www.reuters.com/business/adecco-sees-signs-hiring-slowdown-start-2023-2023-02-28/',\n",
       "    'lastmod': '2023-02-28T06:11:01.202Z',\n",
       "    'image:image': {'image:loc': 'https://www.reuters.com/resizer/-zq6VgCGaz5afNgMnGDv4zjN7mY=/cloudfront-us-east-2.images.arcpublishing.com/reuters/57UJRAN7QJJTDFWRWN4EWVBYVY.jpg',\n",
       "     'image:caption': 'Adecco logo is seen displayed in this illustration taken, May 3, 2022. REUTERS/Dado Ruvic/Illustration'}},\n",
       "   {'loc': 'https://www.reuters.com/world/us/tennessee-meat-plant-workers-reach-12-mln-settlement-over-2018-raid-2023-02-28/',\n",
       "    'lastmod': '2023-02-28T06:09:05.129Z'},\n",
       "   {'loc': 'https://www.reuters.com/markets/asia/china-income-spending-per-capita-grow-over-2022-national-bureau-statistics-2023-02-28/',\n",
       "    'lastmod': '2023-02-28T06:01:30.654Z',\n",
       "    'image:image': {'image:loc': 'https://www.reuters.com/resizer/HLOGxQP0TP3j-vzL5mHzXqcDqr0=/cloudfront-us-east-2.images.arcpublishing.com/reuters/JIGF575IKZNENL5HADWUWHFGGA.jpg',\n",
       "     'image:caption': \"A view of the city skyline, ahead of the annual National People's Congress (NPC), in Shanghai, China February 24, 2022. REUTERS/Aly Song\"}},\n",
       "   {'loc': 'https://www.reuters.com/world/asia-pacific/la-nina-wet-weather-system-near-its-end-australian-weather-bureau-2023-02-28/',\n",
       "    'lastmod': '2023-02-28T05:59:14.307Z'},\n",
       "   {'loc': 'https://www.reuters.com/lifestyle/sports/nhl-roundup-connor-mcdavids-49th-50th-goals-cant-stop-bruins-2023-02-28/',\n",
       "    'lastmod': '2023-02-28T06:11:33.361Z',\n",
       "    'image:image': {'image:loc': 'https://www.reuters.com/resizer/fHCPK0_ajqynlni45yWtIjhcwmw=/cloudfront-us-east-2.images.arcpublishing.com/reuters/SMNSY7TZPVOO3HLUA6H7AE6XV4.jpg',\n",
       "     'image:caption': 'Feb 27, 2023; Edmonton, Alberta, CAN; Edmonton Oilers forward Connor McDavid (97) carries the puck around Boston Bruins forward Patrice Bergeron (37) during the third period at Rogers Place. Mandatory Credit: Perry Nelson-USA TODAY Sports'}},\n",
       "   {'loc': 'https://www.reuters.com/lifestyle/sports/new-zealand-skipper-southee-hails-test-win-ages-2023-02-28/',\n",
       "    'lastmod': '2023-02-28T05:45:29.634Z',\n",
       "    'image:image': {'image:loc': 'https://www.reuters.com/resizer/1Xu-k6r9JOoIcaqq8VqVz2C79xw=/cloudfront-us-east-2.images.arcpublishing.com/reuters/DRETUTZGUZN5DE5GYJEOH24YG4.jpg',\n",
       "     'image:caption': \"Cricket - Third Test - England v New Zealand - Yorkshire Cricket Ground, Leeds, Britain - June 24, 2022 New Zealand's Tim Southee celebrates after taking the wicket of England's Joe Root Action Images via Reuters/Lee Smith\"}},\n",
       "   {'loc': 'https://www.reuters.com/world/china/chinas-birth-rate-slumps-political-advisor-urges-egg-freezing-single-women-2023-02-28/',\n",
       "    'lastmod': '2023-02-28T05:51:22.421Z',\n",
       "    'image:image': {'image:loc': 'https://www.reuters.com/resizer/FqT5sRSAXwnb2fo-yUxBqSMyTKU=/cloudfront-us-east-2.images.arcpublishing.com/reuters/ML4HRCXNGZOG5OEHTI5M7XHTE4.jpg',\n",
       "     'image:caption': \"Newborn babies sleep in a ward at a hospital in Hefei, in China's Anhui province. Picture taken April 21, 2011. REUTERS/Stringer/File Photo\"}},\n",
       "   {'loc': 'https://www.reuters.com/lifestyle/sports/tough-see-alcaraz-playing-acapulco-says-coach-2023-02-28/',\n",
       "    'lastmod': '2023-02-28T05:41:09.028Z',\n",
       "    'image:image': {'image:loc': 'https://www.reuters.com/resizer/_G622_nj8nt6znlr4kpB6-egRVM=/cloudfront-us-east-2.images.arcpublishing.com/reuters/QW4XTRBCNBNIRLRUKWGOGE4ELQ.jpg',\n",
       "     'image:caption': \"Tennis - ATP 500 - Rio Open - Jockey Club Brasileiro, Rio De Janeiro, Brazil - February 26, 2023 Spain's Carlos Alcaraz in action during his final match against Britain's Cameron Norrie REUTERS/Sergio Moraes\"}},\n",
       "   {'loc': 'https://www.reuters.com/world/moscow-accuses-us-preparing-toxic-chemicals-provocation-ukraine-2023-02-28/',\n",
       "    'lastmod': '2023-02-28T05:38:59.538Z',\n",
       "    'image:image': {'image:loc': 'https://www.reuters.com/resizer/xeihuhRR_PJZT3Xb64ot2VCHQEc=/cloudfront-us-east-2.images.arcpublishing.com/reuters/5QGRD754TFJOBIB34PHANRPZGI.jpg',\n",
       "     'image:caption': \"Ukrainian servicemen use a searchlight as they search for drones in the sky over the city during a Russian drone strike, amid Russia's attack on Ukraine, in Kyiv, Ukraine February 27, 2023. REUTERS/Gleb Garanich\"}},\n",
       "   {'loc': 'https://www.reuters.com/business/finance/goldman-sachs-seen-unveiling-medium-term-goals-investor-day-2023-02-28/',\n",
       "    'lastmod': '2023-02-28T06:09:25.067Z',\n",
       "    'image:image': {'image:loc': 'https://www.reuters.com/resizer/bylApbDAKzJXU7QIHl1e_Q_6pmU=/cloudfront-us-east-2.images.arcpublishing.com/reuters/SFSAO55F3BNIJFBGBQX2QB34CI.jpg',\n",
       "     'image:caption': 'The logo for Goldman Sachs is seen on the trading floor at the New York Stock Exchange (NYSE) in New York City, New York, U.S., November 17, 2021. REUTERS/Andrew Kelly/File Photo'}},\n",
       "   {'loc': 'https://www.reuters.com/breakingviews/chinas-li-auto-drives-fine-profit-line-2023-02-28/',\n",
       "    'lastmod': '2023-02-28T05:17:36.004Z',\n",
       "    'image:image': {'image:loc': 'https://www.reuters.com/resizer/Giz5TDkgjo476rw1wHyCEYF1lmA=/cloudfront-us-east-2.images.arcpublishing.com/reuters/ASBVTHVFBRCTFI27II32E2JRFI.jpg',\n",
       "     'image:caption': 'Li Xiang, founder and chief executive officer of Chinese electric vehicle (EV) maker Li Auto, speaks at a product launch event in Beijing, China May 25, 2021. Picture taken May 25, 2021. REUTERS/Yilei Sun'}},\n",
       "   {'loc': 'https://www.reuters.com/breakingviews/japan-posts-deal-will-test-interest-rate-optimism-2023-02-28/',\n",
       "    'lastmod': '2023-02-28T05:17:13.462Z',\n",
       "    'image:image': {'image:loc': 'https://www.reuters.com/resizer/JYecAIlXzFaquBiOnvAtx4KC_2w=/cloudfront-us-east-2.images.arcpublishing.com/reuters/7BUCXTMRK5FYHKWCYTA6SAYJQY.jpg',\n",
       "     'image:caption': 'A man walks past a logo of Japan Post Group at its headquarters in Tokyo, Japan, November 2, 2015.   REUTERS/Toru Hanai'}},\n",
       "   {'loc': 'https://www.reuters.com/markets/europe/germany-home-prices-sink-nearly-6-this-year-2023-02-28/',\n",
       "    'lastmod': '2023-02-28T05:16:37.913Z',\n",
       "    'image:image': {'image:loc': 'https://www.reuters.com/resizer/e1LVpNYv4ZPc58T0x23-hDjuLwE=/cloudfront-us-east-2.images.arcpublishing.com/reuters/UAZNEJUCI5J3HBFN44MVXAPXPM.jpg',\n",
       "     'image:caption': 'Facades of apartment buildings are pictured at Mitte district in Berlin, Germany, August 29, 2019.   REUTERS/Axel Schmidt'}},\n",
       "   {'loc': 'https://www.reuters.com/breakingviews/airtel-would-be-complex-saviour-paytm-2023-02-28/',\n",
       "    'lastmod': '2023-02-28T05:08:17.373Z',\n",
       "    'image:image': {'image:loc': 'https://www.reuters.com/resizer/vn4cdh1Q2Km-1GurcGzOTC-E-8M=/cloudfront-us-east-2.images.arcpublishing.com/reuters/ZQ6A6IVBDJI2JBNAVFM3ZZQN3U.jpg',\n",
       "     'image:caption': \"Gopal Vittal, Bharti Airtel's chief executive for India and South Asia listens to a question during a news conference in New Delhi, India July 10, 2017. REUTERS/Adnan Abidi\"}},\n",
       "   {'loc': 'https://www.reuters.com/business/autos-transportation/volkswagen-china-chief-visits-xinjiang-plant-sees-no-sign-forced-labour-2023-02-28/',\n",
       "    'lastmod': '2023-02-28T05:04:04.355Z',\n",
       "    'image:image': {'image:loc': 'https://www.reuters.com/resizer/VfFT5lIG7WPYwm5SE7-pttPYGGo=/cloudfront-us-east-2.images.arcpublishing.com/reuters/YMJPFT5G2NJP5IXLEZYGQN72Y4.jpg',\n",
       "     'image:caption': \"Ralf Brandstaetter, CEO of the Volkswagen Passenger Cars brand gestures in front of the revised logo of German carmaker Volkswagen AG during a preview of the world's biggest automaker at the international Frankfurt Motor Show IAA in Frankfurt, Germany September 9, 2019. REUTERS/Wolfgang Rattay\"}},\n",
       "   {'loc': 'https://www.reuters.com/world/europe/ex-kremlins-adviser-soviet-era-dissident-pavlovsky-dies-2023-02-28/',\n",
       "    'lastmod': '2023-02-28T04:54:45.973Z'},\n",
       "   {'loc': 'https://www.reuters.com/lifestyle/sports/brentfords-frank-says-abuse-directed-managers-is-disgrace-2023-02-28/',\n",
       "    'lastmod': '2023-02-28T04:53:20.987Z',\n",
       "    'image:image': {'image:loc': 'https://www.reuters.com/resizer/3wYxJsVzW7h_tQ7TjWybG0PIGR4=/cloudfront-us-east-2.images.arcpublishing.com/reuters/7POZ5JUOX5LFXJZSAFHKCKO7AQ.jpg',\n",
       "     'image:caption': 'Soccer Football - Premier League - Arsenal v Brentford - Emirates Stadium, London, Britain - February 11, 2023 Brentford manager Thomas Frank applauds fans after the match REUTERS/David Klein'}},\n",
       "   {'loc': 'https://www.reuters.com/lifestyle/sports/nba-roundup-hornets-win-again-lose-lamelo-ball-2023-02-28/',\n",
       "    'lastmod': '2023-02-28T04:43:20.848Z',\n",
       "    'image:image': {'image:loc': 'https://www.reuters.com/resizer/1gmKtZ6MJRH5Sii7duaboNQ-qpE=/cloudfront-us-east-2.images.arcpublishing.com/reuters/MYVSQ5IVMJNQJEA4TU4AQKP5TI.jpg',\n",
       "     'image:caption': 'Feb 27, 2023; Charlotte, North Carolina, USA; Detroit Pistons guard Killian Hayes (7) drives in past Charlotte Hornets forward JT Thor (21) during the second half at the Spectrum Center. Mandatory Credit: Sam Sharpe-USA TODAY Sports'}},\n",
       "   {'loc': 'https://www.reuters.com/lifestyle/giorgio-armani-offers-soft-fluid-winter-designs-milan-fashion-week-2023-02-26/',\n",
       "    'lastmod': '2023-02-28T06:24:56.364Z',\n",
       "    'image:image': {'image:loc': 'https://www.reuters.com/resizer/-GguIHUt4VgCNH5QwulsOcMDPFw=/cloudfront-us-east-2.images.arcpublishing.com/reuters/RVRC5XCOOFPRVMQV2RMDTVTSVI.jpg',\n",
       "     'image:caption': 'A model presents a creation from the Giorgio Armani Fall/Winter 2023/2024 collection during Fashion Week in Milan, Italy, February 26, 2023. Giorgio Armani/Handout via REUTERS'}},\n",
       "   {'loc': 'https://www.reuters.com/business/energy/thailands-indorama-ventures-scouts-acquisitions-europe-africa-ceo-2023-02-28/',\n",
       "    'lastmod': '2023-02-28T04:28:48.601Z',\n",
       "    'image:image': {'image:loc': 'https://www.reuters.com/resizer/tgD4XCoMvEFCFaDm8f2dovDc58A=/cloudfront-us-east-2.images.arcpublishing.com/reuters/RSD5KX72ZJPNBF5MPC6F6MAD64.jpg',\n",
       "     'image:caption': \"Thai chemicals company Indorama Ventures logo is seen at the company's headquarters in Bangkok, Thailand August 21, 2019. REUTERS/Chayut Setboonsarng\"}},\n",
       "   {'loc': 'https://www.reuters.com/lifestyle/sports/list-narrowest-victories-by-runs-tests-2023-02-28/',\n",
       "    'lastmod': '2023-02-28T04:18:30.993Z'},\n",
       "   {'loc': 'https://www.reuters.com/business/media-telecom/reuters-reporters-online-accounts-faked-approach-china-activists-2023-02-28/',\n",
       "    'lastmod': '2023-02-28T04:18:48.700Z',\n",
       "    'image:image': {'image:loc': 'https://www.reuters.com/resizer/rQ_SNNkHcThg-rihikiWxO_sepM=/cloudfront-us-east-2.images.arcpublishing.com/reuters/ESNE3UWDZJORJFH4ICHSXPY5PI.jpg',\n",
       "     'image:caption': 'The Chinese flag is seen across the Victoria Harbour during sunset, in Hong Kong, China October 12, 2022. REUTERS/Tyrone Siu/File Photo'}},\n",
       "   {'loc': 'https://www.reuters.com/world/us/us-needs-learn-all-black-history-biden-says-some-republicans-push-curbs-2023-02-27/',\n",
       "    'lastmod': '2023-02-28T04:10:43.881Z',\n",
       "    'image:image': {'image:loc': 'https://www.reuters.com/resizer/8w97fKeAhgDpawWl4Vs6t_0KhCA=/cloudfront-us-east-2.images.arcpublishing.com/reuters/6I4EBHWVSBJKLFQC7XHCFGUOYI.jpg',\n",
       "     'image:caption': 'FILE PHOTO:U.S. President Joe Biden speaks to the media before departing the White House in Washington, U.S., February 24, 2023. REUTERS/Evelyn Hockstein'}},\n",
       "   {'loc': 'https://www.reuters.com/lifestyle/sports/list-teams-that-won-test-after-follow-on-2023-02-28/',\n",
       "    'lastmod': '2023-02-28T04:04:50.289Z'},\n",
       "   {'loc': 'https://www.reuters.com/world/blinken-hold-talks-with-central-asian-nations-wake-ukraine-anniversary-2023-02-28/',\n",
       "    'lastmod': '2023-02-28T05:59:32.049Z',\n",
       "    'image:image': {'image:loc': 'https://www.reuters.com/resizer/ceo9DzDh2P46Pkh0OZkurMlePkY=/cloudfront-us-east-2.images.arcpublishing.com/reuters/PWTSHRS77ZNKFG67TOPI6QYQLM.jpg',\n",
       "     'image:caption': 'U.S Secretary of State Antony Blinken boards his airplane at Joint Base Andrews in Maryland on February 26, 2023, as he departs for travel to Astana, Kazakhstan, Tashkent, Uzbekistan and New Delhi, India. Olivier Douliery/Pool via REUTERS'}},\n",
       "   {'loc': 'https://www.reuters.com/lifestyle/sports/wimbledon-offers-best-chance-deep-run-grand-slam-murray-2023-02-28/',\n",
       "    'lastmod': '2023-02-28T03:32:05.429Z',\n",
       "    'image:image': {'image:loc': 'https://www.reuters.com/resizer/Mxpe79Tu42rVuVpNyHuTuoSeOcA=/cloudfront-us-east-2.images.arcpublishing.com/reuters/EM53YI4UFBP6FPCP4KG2SK4XNU.jpg',\n",
       "     'image:caption': \"Tennis - Australian Open - Melbourne Park, Melbourne, Australia - January 20, 2023 Britain's Andy Murray reacts during his second round match against Australia's Thanasi Kokkinakis REUTERS/Hannah Mckay\"}},\n",
       "   {'loc': 'https://www.reuters.com/lifestyle/sports/new-zealand-beat-england-by-one-run-second-test-level-series-1-1-2023-02-28/',\n",
       "    'lastmod': '2023-02-28T05:19:55.036Z',\n",
       "    'image:image': {'image:loc': 'https://www.reuters.com/resizer/otM2grxDkTIAA-Uy6weEWT7etkQ=/cloudfront-us-east-2.images.arcpublishing.com/reuters/5FAW4GGXYJL6RFQLAA3EMXT5NM.jpg',\n",
       "     'image:caption': \"Cricket - ICC World Test Championship Final - India v New Zealand - Rose Bowl, Southampton, Britain - June 23, 2021 New Zealand's Neil Wagner Action Images via Reuters/John Sibley\"}},\n",
       "   {'loc': 'https://www.reuters.com/business/finance/australias-regulator-sues-mercer-pension-fund-first-greenwashing-case-2023-02-28/',\n",
       "    'lastmod': '2023-02-28T03:23:11.990Z'},\n",
       "   {'loc': 'https://www.reuters.com/technology/rapidus-picks-northern-japans-chitose-semiconductor-plant-location-2023-02-28/',\n",
       "    'lastmod': '2023-02-28T03:14:02.203Z',\n",
       "    'image:image': {'image:loc': 'https://www.reuters.com/resizer/euHkWKJYja1E7iTj1beX9q3Y5RQ=/cloudfront-us-east-2.images.arcpublishing.com/reuters/3772FTGBHVNKDEK3WPTMF6CIRI.jpg',\n",
       "     'image:caption': 'The logo of Rapidus Corp. is displayed at the company headquarters in Tokyo, Japan February 2, 2023.  REUTERS/Issei Kato'}},\n",
       "   {'loc': 'https://www.reuters.com/lifestyle/sports/spring-training-roundup-emmanuel-rivera-d-backs-walk-off-cubs-2023-02-28/',\n",
       "    'lastmod': '2023-02-28T02:56:17.558Z',\n",
       "    'image:image': {'image:loc': 'https://www.reuters.com/resizer/LdRDnxn7I06I9J3buHlikDIgTJk=/cloudfront-us-east-2.images.arcpublishing.com/reuters/6LXPZ2QGOBJOBN4GBSII6H6GH4.jpg',\n",
       "     'image:caption': 'Feb 27, 2023; Salt River Pima-Maricopa, Arizona, USA;   Arizona Diamondbacks right fielder Dominic Canzone (80) makes a play off a ball hit by Arizona Diamondbacks second baseman Ketel Marte (4) in the fifth inning of a spring training game at Salt River Fields at Talking Stick. Mandatory Credit: Jayne Kamin-Oncea-USA TODAY Sports'}},\n",
       "   {'loc': 'https://www.reuters.com/world/europe/russian-offensive-eastern-ukraine-focused-bakhmut-2023-02-28/',\n",
       "    'lastmod': '2023-02-28T05:52:59.093Z',\n",
       "    'image:image': {'image:loc': 'https://www.reuters.com/resizer/-L3cAJe3_vEgHdcIkEODMwJdj2c=/cloudfront-us-east-2.images.arcpublishing.com/reuters/O4KWAXBWUJJRDPRIUTCX7VAU3Q.jpg',\n",
       "     'image:caption': \"Ukrainian service members are seen next an infantry fighting vehicle near the frontline town of Bakhmut, amid Russia's attack on Ukraine, in Donetsk region, Ukraine February 25, 2023. REUTERS/Yan Dobronosov\"}},\n",
       "   {'loc': 'https://www.reuters.com/markets/australia-limit-tax-breaks-multi-million-dollar-retirement-savings-2023-02-28/',\n",
       "    'lastmod': '2023-02-28T02:46:38.412Z',\n",
       "    'image:image': {'image:loc': 'https://www.reuters.com/resizer/AdBKaqluM2GTfcisxfJYOqRVVuI=/cloudfront-us-east-2.images.arcpublishing.com/reuters/EWBP6T5FERM4PIFVMMC465J6RE.jpg',\n",
       "     'image:caption': 'A view of the city skyline of Brisbane, the city expected to be announced as host for the 2032 Olympic Games, in Brisbane, Australia, July 4, 2021.   REUTERS/Jaimi Joy'}},\n",
       "   {'loc': 'https://www.reuters.com/world/us/us-marshals-service-suffers-major-security-breach-nbc-news-2023-02-28/',\n",
       "    'lastmod': '2023-02-28T03:14:37.593Z',\n",
       "    'image:image': {'image:loc': 'https://www.reuters.com/resizer/7aTwIeD6PHvlzjcoXts6fpP5Hi4=/cloudfront-us-east-2.images.arcpublishing.com/reuters/ZEYY7T3MDJM2DAVSKDORGP4ZFQ.jpg',\n",
       "     'image:caption': '3D printed models of people working on computers and padlock are seen in front of a displayed CYBER SECURITY words and binary code in this picture illustration taken, February 1, 2022. REUTERS/Dado Ruvic/Illustration'}},\n",
       "   {'loc': 'https://www.reuters.com/world/india/indian-shares-set-muted-start-us-rate-fears-ahead-domestic-gdp-data-2023-02-28/',\n",
       "    'lastmod': '2023-02-28T05:39:37.404Z',\n",
       "    'image:image': {'image:loc': 'https://www.reuters.com/resizer/bq3alU57K0DoBd4kxpvlXgnFdA4=/cloudfront-us-east-2.images.arcpublishing.com/reuters/YJCTHIAP5FJLTNY7AMAT4YWIX4.jpg',\n",
       "     'image:caption': 'A bird flies past the Bombay Stock Exchange (BSE) building in Mumbai, India, January 31, 2020. REUTERS/Francis Mascarenhas/File Photo'}},\n",
       "   {'loc': 'https://www.reuters.com/markets/global-markets-wrapup-1-2023-02-28/',\n",
       "    'lastmod': '2023-02-28T06:34:10.685Z',\n",
       "    'image:image': {'image:loc': 'https://www.reuters.com/resizer/OJa4mLXO3shQkPtfQehgD0pFHt4=/cloudfront-us-east-2.images.arcpublishing.com/reuters/2264NPC2YRKKVDQI4NXRZLUJPE.jpg',\n",
       "     'image:caption': \"Silhouettes of passerby are seen as they stand in front of an electric monitor displaying Japan's Nikkei share average and world stock indexes outside a brokerage in Tokyo, Japan, October 21, 2022  REUTERS/Issei Kato/File Photo\"}},\n",
       "   {'loc': 'https://www.reuters.com/world/us/florida-gov-desantis-signs-bill-asserting-state-oversight-land-around-walt-2023-02-27/',\n",
       "    'lastmod': '2023-02-28T02:19:33.529Z',\n",
       "    'image:image': {'image:loc': 'https://www.reuters.com/resizer/2ujET3AvPawfpC7uR0-sOjykt6Y=/cloudfront-us-east-2.images.arcpublishing.com/reuters/SWNTVMYIWVLADOEOOPXI5VPF7A.jpg',\n",
       "     'image:caption': 'A Walt Disney World photographer holds a Pride rainbow-coloured Mickey Mouse cutout before the \"Festival of Fantasy\" parade at the Walt Disney World Magic Kingdom theme park in Orlando, Florida, U.S. July 30, 2022.  REUTERS/Octavio Jones'}},\n",
       "   {'loc': 'https://www.reuters.com/business/sustainable-business/women-make-up-40-boards-top-uk-companies-first-time-2023-02-28/',\n",
       "    'lastmod': '2023-02-28T02:16:50.503Z',\n",
       "    'image:image': {'image:loc': 'https://www.reuters.com/resizer/y7vXQJWaQnOSoY4RkYof8khxog8=/cloudfront-us-east-2.images.arcpublishing.com/reuters/AERFVQZFCVKNTFUX73UNXFH4NE.jpg',\n",
       "     'image:caption': 'British Secretary of State for Trade and Industry Kemi Badenoch, walks outside Number 10 Downing Street, in London, Britain February 7, 2023. REUTERS/Toby Melville/File Photo'}},\n",
       "   {'loc': 'https://www.reuters.com/markets/asia/vietnams-factory-output-rises-february-exports-up-11-2023-02-28/',\n",
       "    'lastmod': '2023-02-28T03:47:16.816Z',\n",
       "    'image:image': {'image:loc': 'https://www.reuters.com/resizer/h1I3ZzDAFhYnyvB35HHY1-5BfjI=/cloudfront-us-east-2.images.arcpublishing.com/reuters/3GLJ26OXXFIILA66Z5Z7DACBRE.jpg',\n",
       "     'image:caption': 'Shipping containers are seen at a port in Hai Phong city, Vietnam July 12, 2018. REUTERS/Kham/File Photo'}},\n",
       "   {'loc': 'https://www.reuters.com/legal/litigation/ny-lawyer-sued-quiet-quitting-strikes-back-with-race-bias-lawsuit-2023-02-27/',\n",
       "    'lastmod': '2023-02-28T02:09:16.105Z',\n",
       "    'image:image': {'image:loc': 'https://www.reuters.com/resizer/-_hLDMg5GQ-fKOg7S4DyEzNktms=/cloudfront-us-east-2.images.arcpublishing.com/reuters/XKYBJDQ2YFLYZMFZYWBLG3NV5Q.jpg',\n",
       "     'image:caption': 'A woman is seen in silhouette as she walks at Fiumicino Airport, as Italy eases movement between regions, while the country unwinds its rigid lockdown due to the coronavirus disease (COVID-19) outbreak, in Rome, Italy June 3, 2020. REUTERS/Yara Nardi'}},\n",
       "   {'loc': 'https://www.reuters.com/business/energy/oil-steadies-after-fall-fear-rate-hikes-rising-inventories-2023-02-28/',\n",
       "    'lastmod': '2023-02-28T04:45:51.839Z',\n",
       "    'image:image': {'image:loc': 'https://www.reuters.com/resizer/Q6Cs4Hv6DaBWnWS6NBUcDga6xds=/cloudfront-us-east-2.images.arcpublishing.com/reuters/MYDUMURCC5IS7ETURJCXYNEG2A.jpg',\n",
       "     'image:caption': 'A view shows tankers in Nakhodka Bay near the crude oil terminal Kozmino outside the port city of Nakhodka, Russia June 13, 2022. REUTERS/Tatiana Meel'}},\n",
       "   {'loc': 'https://www.reuters.com/business/aerospace-defense/bae-systems-australia-unveils-first-homegrown-military-drone-2023-02-28/',\n",
       "    'lastmod': '2023-02-28T02:46:17.944Z',\n",
       "    'image:image': {'image:loc': 'https://www.reuters.com/resizer/W1kKc75poYB531eV0K65g78uNkA=/cloudfront-us-east-2.images.arcpublishing.com/reuters/ACCL5GPQFRMWXMOI47VUAG4JTU.jpg',\n",
       "     'image:caption': 'People take a look at a model of STRIX drone by BAE Systems Australia, at the Australian International Airshow, in Avalon, Australia February 28, 2023. REUTERS/Jamie Freed'}},\n",
       "   {'loc': 'https://www.reuters.com/world/us/us-awards-nearly-1-billion-airports-infrastructure-grants-2023-02-27/',\n",
       "    'lastmod': '2023-02-28T02:03:02.064Z',\n",
       "    'image:image': {'image:loc': 'https://www.reuters.com/resizer/4eVyx8zfntN-91rIQLObhKk5Azw=/cloudfront-us-east-2.images.arcpublishing.com/reuters/ZJ4OQHCDVFLLVL3R2GD4QVSXKI.jpg',\n",
       "     'image:caption': 'A woman walks on a travelator as travel has cutback amid concerns of the coronavirus disease (COVID-19), at Salt Lake City International Airport in Salt Lake City, Utah, U.S. April 14, 2020. REUTERS/Jim Urquhart'}},\n",
       "   {'loc': 'https://www.reuters.com/world/china/hong-kong-scrap-covid-mask-mandate-march-1-2023-02-28/',\n",
       "    'lastmod': '2023-02-28T03:23:59.879Z',\n",
       "    'image:image': {'image:loc': 'https://www.reuters.com/resizer/S-qRoSmzWEYcZf3fCFfCbuSbusA=/cloudfront-us-east-2.images.arcpublishing.com/reuters/HEVBTCV7AFKTLAZUJBGGK54BA4.jpg',\n",
       "     'image:caption': 'People wearing face masks walk through Wan Chai during the coronavirus disease (COVID-19) pandemic in Hong Kong, China, April 14, 2022. REUTERS/Tyrone Siu'}},\n",
       "   {'loc': 'https://www.reuters.com/markets/currencies/sterling-holds-gains-after-rising-uk-trade-deal-with-eu-2023-02-28/',\n",
       "    'lastmod': '2023-02-28T06:29:18.866Z',\n",
       "    'image:image': {'image:loc': 'https://www.reuters.com/resizer/RrK7yjSZPc5l_H6GYTySW02KFeI=/cloudfront-us-east-2.images.arcpublishing.com/reuters/2QLCF325EJIHTEFYZGAPU3LGJY.jpg',\n",
       "     'image:caption': 'Woman holds U.S. dollar banknotes in this illustration taken May 30, 2022. REUTERS/Dado Ruvic/Illustration/File Photo'}},\n",
       "   {'loc': 'https://www.reuters.com/business/us-crack-down-child-labor-amid-massive-uptick-2023-02-27/',\n",
       "    'lastmod': '2023-02-28T01:31:57.844Z',\n",
       "    'image:image': {'image:loc': 'https://www.reuters.com/resizer/9iry-aJuc6R9GHdkrXKMuoPCKMQ=/cloudfront-us-east-2.images.arcpublishing.com/reuters/BLI4XGAC5BPLDIGXLDWKRCJWSU.jpg',\n",
       "     'image:caption': 'The United States Department of Labor is seen in Washington, D.C., U.S., August 30, 2020. REUTERS/Andrew Kelly'}},\n",
       "   {'loc': 'https://www.reuters.com/lifestyle/orchestra-turns-trash-music-environmental-activism-bolivia-2023-02-28/',\n",
       "    'lastmod': '2023-02-28T01:25:30.098Z',\n",
       "    'image:image': {'image:loc': 'https://www.reuters.com/resizer/50dgfkOERD6c0-Aey5Fw3La2iXc=/cloudfront-us-east-2.images.arcpublishing.com/reuters/ZXURJCZGGVPX5GUIQAOY6XBSHY.jpg',\n",
       "     'image:caption': \"Women waste pickers from the city of La Paz pose near the musicians of the Paraguayan Cateura Recycled Instruments Orchestra, at the Sak'a Churu landfill in Alpacoma, in La Paz, Bolivia February 27, 2023. REUTERS/Claudia Morales\"}},\n",
       "   {'loc': 'https://www.reuters.com/markets/asia/boj-shouldnt-modify-easy-policy-address-costs-incoming-deputy-governor-uchida-2023-02-28/',\n",
       "    'lastmod': '2023-02-28T05:07:27.701Z',\n",
       "    'image:image': {'image:loc': 'https://www.reuters.com/resizer/zdUiC9fNbVXaWtpp-CxeflCJ0YA=/cloudfront-us-east-2.images.arcpublishing.com/reuters/YUNBVI3S6ZL3HIKUNIUOGUSAWE.jpg',\n",
       "     'image:caption': \"The Japanese government's nominee for the Bank of Japan (BOJ) Deputy Governor Shinichi Uchida speaks during a hearing session at the lower house of the parliament in Tokyo, Japan, February 24, 2023.  REUTERS/Issei Kato\"}},\n",
       "   {'loc': 'https://www.reuters.com/breakingviews/warren-buffetts-greatest-hits-lose-their-verve-2023-02-27/',\n",
       "    'lastmod': '2023-02-28T01:20:41.743Z',\n",
       "    'image:image': {'image:loc': 'https://www.reuters.com/resizer/RVxdrLUugOZ9g0DEDZZaTZ6KYS8=/cloudfront-us-east-2.images.arcpublishing.com/reuters/GNLBJR2KCNJUDOYJ6HNU5LXD7A.jpg',\n",
       "     'image:caption': \"Berkshire Hathaway Chairman Warren Buffett walks through the exhibit hall as shareholders gather to hear from the billionaire investor at Berkshire Hathaway Inc's annual shareholder meeting in Omaha, Nebraska, U.S., May 4, 2019. REUTERS/Scott Morgan/File Photo\"}},\n",
       "   {'loc': 'https://www.reuters.com/business/aerospace-defense/lockheed-martin-hopes-deliver-more-f-35s-australia-2023-02-28/',\n",
       "    'lastmod': '2023-02-28T05:11:02.741Z',\n",
       "    'image:image': {'image:loc': 'https://www.reuters.com/resizer/Ku9FWE8T4s1iMiG7syIHy6he0ag=/cloudfront-us-east-2.images.arcpublishing.com/reuters/O73CZ5HW6BPWBB5DU644RQ6EIM.jpg',\n",
       "     'image:caption': 'The logo of Lockheed Martin is seen at Euronaval, the world naval defence exhibition in Le Bourget near Paris, France, October 23, 2018. REUTERS/Benoit Tessier'}},\n",
       "   {'loc': 'https://www.reuters.com/lifestyle/sports/japan-anti-trust-authorities-seek-criminal-charges-against-dentsu-others-over-2023-02-28/',\n",
       "    'lastmod': '2023-02-28T03:45:23.360Z',\n",
       "    'image:image': {'image:loc': 'https://www.reuters.com/resizer/z37LhCQe5IlpgFCDnYxCcatqp9U=/cloudfront-us-east-2.images.arcpublishing.com/reuters/NSFIXAZR5BLMPIIKVTTAYQTCKM.jpg',\n",
       "     'image:caption': 'A woman, wearing a protective mask against COVID-19, walks past a wall bearing logo of Tokyo 2020 Olympic Games in Tokyo, Japan, July 29, 2021.   REUTERS/Kim Kyung-Hoon'}},\n",
       "   {'loc': 'https://www.reuters.com/world/asia-pacific/rust-belt-province-got-old-before-it-got-rich-much-china-will-2023-02-28/',\n",
       "    'lastmod': '2023-02-28T01:33:48.939Z',\n",
       "    'image:image': {'image:loc': 'https://www.reuters.com/resizer/bplR8ZWjXO2exglqUUz4pExzJZk=/cloudfront-us-east-2.images.arcpublishing.com/reuters/5J6WQOW4YVP47LTIKYAYUH4UAQ.jpg',\n",
       "     'image:caption': 'Farmer Wang Zhanling sits next to his wife in their house in Quansheng village, Heilongjiang Province, China, February 8, 2023. REUTERS/Thomas Peter'}},\n",
       "   {'loc': 'https://www.reuters.com/business/energy/japan-promote-gas-lng-hydrogen-investments-during-g7-presidency-meti-2023-02-28/',\n",
       "    'lastmod': '2023-02-28T01:11:59.362Z',\n",
       "    'image:image': {'image:loc': 'https://www.reuters.com/resizer/oLLK722u-k7rNkmfECprRLWcHNc=/cloudfront-us-east-2.images.arcpublishing.com/reuters/U3TCOHLZBVKH7CBD3THI3KKHYY.jpg',\n",
       "     'image:caption': 'A liquefied natural gas (LNG) tanker is tugged towards a thermal power station in Futtsu, east of Tokyo, Japan November 13, 2017. REUTERS/Issei Kato//File Photo'}},\n",
       "   {'loc': 'https://www.reuters.com/world/india/weak-global-demand-rate-hikes-may-curtail-india-growth-economists-2023-02-28/',\n",
       "    'lastmod': '2023-02-28T01:22:47.779Z',\n",
       "    'image:image': {'image:loc': 'https://www.reuters.com/resizer/afwmkMhskfHTYCYef7nhhVMDTaI=/cloudfront-us-east-2.images.arcpublishing.com/reuters/P3QMDN7YNFMHLPDA4MZW3VM6CM.jpg',\n",
       "     'image:caption': 'Labourers work at the construction site of a commercial building in New Delhi, India, December 13, 2022. REUTERS/Anushree Fadnavis'}},\n",
       "   {'loc': 'https://www.reuters.com/technology/elon-musk-recruits-team-develop-openai-rival-information-2023-02-28/',\n",
       "    'lastmod': '2023-02-28T01:41:22.618Z',\n",
       "    'image:image': {'image:loc': 'https://www.reuters.com/resizer/I4HvZm9f_dRl7gUuQ2S5scOBJ_8=/cloudfront-us-east-2.images.arcpublishing.com/reuters/DYHAI4MBSFLHVCZ27CLLBRCKVQ.jpg',\n",
       "     'image:caption': 'Tesla CEO Elon Musk arrives on the red carpet for the automobile awards \"Das Goldene Lenkrad\" (The golden steering wheel) given by a German newspaper in Berlin, Germany, November 12, 2019. REUTERS/Hannibal Hanschke/File Photo'}},\n",
       "   {'loc': 'https://www.reuters.com/world/new-zealand-businesses-less-pessimistic-february-anz-survey-2023-02-28/',\n",
       "    'lastmod': '2023-02-28T00:47:09.154Z'},\n",
       "   {'loc': 'https://www.reuters.com/markets/australias-current-account-surplus-widens-sharply-q4-2023-02-28/',\n",
       "    'lastmod': '2023-02-28T00:45:13.076Z'},\n",
       "   {'loc': 'https://www.reuters.com/world/us/house-committee-probe-epa-response-ohio-derailment-2023-02-28/',\n",
       "    'lastmod': '2023-02-28T00:41:52.293Z',\n",
       "    'image:image': {'image:loc': 'https://www.reuters.com/resizer/luFhjogHqIHiRd2c0hCbL0qIE24=/cloudfront-us-east-2.images.arcpublishing.com/reuters/WQ4LMYZ2IZOITJC72I35DEOH3I.jpg',\n",
       "     'image:caption': 'A general view as members of the U.S. Environmental Protection Agency (EPA) (not pictured) inspect the site of a train derailment of hazardous material in East Palestine, Ohio, U.S., February 16, 2023. REUTERS/Alan Freed'}},\n",
       "   {'loc': 'https://www.reuters.com/business/retail-consumer/australia-retail-sales-rebound-by-19-january-2023-02-28/',\n",
       "    'lastmod': '2023-02-28T01:28:26.099Z',\n",
       "    'image:image': {'image:loc': 'https://www.reuters.com/resizer/Hmol14STn_oDZxX0cJQND9FsZpI=/cloudfront-us-east-2.images.arcpublishing.com/reuters/VTUKXV2SGFOTBFWZB2E3PAPMBU.jpg',\n",
       "     'image:caption': 'FILE PHOTO - A shopper holds items and looks at others on sale at a clothing retail store in central Sydney, Australia, March 19, 2017. REUTERS/Steven Saphore/File Photo'}},\n",
       "   {'loc': 'https://www.reuters.com/business/aerospace-defense/boeing-says-great-news-if-mq-28-drone-can-partner-with-f-35-2023-02-28/',\n",
       "    'lastmod': '2023-02-28T04:09:35.642Z',\n",
       "    'image:image': {'image:loc': 'https://www.reuters.com/resizer/SnSR_8RTasEyrjF2TwmuCNy8nzY=/cloudfront-us-east-2.images.arcpublishing.com/reuters/5UWRBSCDRVIQHD6YSLPNCI3E7U.jpg',\n",
       "     'image:caption': 'A Boeing MQ-28 Ghost Bat fighter-like drone is kept on display at the Australian International Airshow, in Avalon, Australia February 28, 2023. REUTERS/Jamie Freed'}},\n",
       "   {'loc': 'https://www.reuters.com/technology/aclu-urges-us-lawmakers-not-ban-tiktok-2023-02-28/',\n",
       "    'lastmod': '2023-02-28T02:11:47.858Z',\n",
       "    'image:image': {'image:loc': 'https://www.reuters.com/resizer/BdbV_EcGROtWu7X4JftSavCq_8o=/cloudfront-us-east-2.images.arcpublishing.com/reuters/QTG5P3HXRZOWVO6LPYLY2JXKD4.jpg',\n",
       "     'image:caption': \"The TikTok logo is pictured outside the company's U.S. head office in Culver City, California, U.S.,  September 15, 2020.   REUTERS/Mike Blake/File Photo\"}},\n",
       "   {'loc': 'https://www.reuters.com/world/us/us-commerce-ask-companies-seeking-chips-funding-provide-childcare-employees-2023-02-28/',\n",
       "    'lastmod': '2023-02-28T03:52:39.781Z',\n",
       "    'image:image': {'image:loc': 'https://www.reuters.com/resizer/-1spoXcvU13-fQ1CxQwN3D7m9v4=/cloudfront-us-east-2.images.arcpublishing.com/reuters/DVZTRJ3DYJPCTEX6EFT3WHKYMM.jpg',\n",
       "     'image:caption': 'The Department of Commerce building is seen before an expected report of new home sales numbers in Washington, U.S., January 26, 2022.      REUTERS/Joshua Roberts'}},\n",
       "   {'loc': 'https://www.reuters.com/lifestyle/sports/cactus-league-roundup-emmanuel-rivera-d-backs-walk-off-cubs-2023-02-28/',\n",
       "    'lastmod': '2023-02-28T00:31:37.450Z',\n",
       "    'image:image': {'image:loc': 'https://www.reuters.com/resizer/s0Izqbu4UV_fb8rsi8jscjTwNLM=/cloudfront-us-east-2.images.arcpublishing.com/reuters/PTZ4BTVXHRO6PKZ6ZNLWKWGQ2U.jpg',\n",
       "     'image:caption': 'Feb 27, 2023; Mesa, Arizona, USA;  Cleveland Guardians center fielder Roman Quinn (4) celebrates after hitting a two-run home run in the second inning against the Chicago Cubs during a spring training game at Sloan Park. Mandatory Credit: Matt Kartozian-USA TODAY Sports'}},\n",
       "   {'loc': 'https://www.reuters.com/markets/deals/canadas-baytex-energy-nears-25-bln-deal-us-peer-ranger-oil-sources-2023-02-28/',\n",
       "    'lastmod': '2023-02-28T00:26:53.173Z'},\n",
       "   {'loc': 'https://www.reuters.com/markets/global-markets-view-asia-graphic-pix-2023-02-27/',\n",
       "    'lastmod': '2023-02-28T00:21:12.653Z',\n",
       "    'image:image': {'image:loc': 'https://www.reuters.com/resizer/tYm_EdKlZS8EmjXbwnoJNN5M8dg=/cloudfront-us-east-2.images.arcpublishing.com/reuters/OO5LT6YCHRKQHKS5JJIBQQV3FU.jpg',\n",
       "     'image:caption': 'A man on a bicycle stands in front of an electronic board showing Shanghai stock index, Nikkei share price index and  Dow Jones Industrial Average outside a brokerage in Tokyo, Japan September 22, 2022. REUTERS/Kim Kyung-Hoon'}},\n",
       "   {'loc': 'https://www.reuters.com/markets/asia/japans-factory-output-suffer-biggest-fall-8-months-2023-02-28/',\n",
       "    'lastmod': '2023-02-28T02:15:43.273Z',\n",
       "    'image:image': {'image:loc': 'https://www.reuters.com/resizer/NT4istljvyK9i_UCOA9LJvlJIz0=/cloudfront-us-east-2.images.arcpublishing.com/reuters/HYIY6HRDWRO4BBK6XZU6VGLF2Y.jpg',\n",
       "     'image:caption': 'A worker checks machinery at a factory in Higashiosaka, Japan June 23, 2022.  REUTERS/Sakura Murakami'}},\n",
       "   {'loc': 'https://www.reuters.com/lifestyle/sports/england-90-runs-victory-after-roots-steadying-half-century-2023-02-28/',\n",
       "    'lastmod': '2023-02-28T00:17:48.627Z',\n",
       "    'image:image': {'image:loc': 'https://www.reuters.com/resizer/k61VGYL77NPc6XXSwjOR4WEG3K4=/cloudfront-us-east-2.images.arcpublishing.com/reuters/PQGLUQQ6TBNSPPPYPBBIJTFQXY.jpg',\n",
       "     'image:caption': \"Cricket - Third Test - England v South Africa - The Oval, London, Britain - September 11, 2022 England's Joe Root Action Images via Reuters/Andrew Boyers\"}},\n",
       "   {'loc': 'https://www.reuters.com/business/healthcare-pharmaceuticals/eisai-biogen-say-alzheimers-drug-lecanemab-getting-priority-review-china-2023-02-28/',\n",
       "    'lastmod': '2023-02-28T00:17:03.831Z',\n",
       "    'image:image': {'image:loc': 'https://www.reuters.com/resizer/ssgib9MMRguFTlTYNGnOUsZQyvY=/cloudfront-us-east-2.images.arcpublishing.com/reuters/YE3A3VZH7NJOJNACU5TR4EMS2I.jpg',\n",
       "     'image:caption': 'The logo of Eisai Co Ltd is displayed at the company headquarters in Tokyo, Japan, March 8, 2018. REUTERS/Issei Kato'}},\n",
       "   {'loc': 'https://www.reuters.com/world/uk/uks-hunt-has-extra-30-bln-pounds-play-with-march-budget-ifs-2023-02-28/',\n",
       "    'lastmod': '2023-02-28T00:16:14.819Z',\n",
       "    'image:image': {'image:loc': 'https://www.reuters.com/resizer/3lg_22eYmsQ8FAimsD3O-HUCrnw=/cloudfront-us-east-2.images.arcpublishing.com/reuters/AULJRV26VJLFRLL6PBUBHH76EU.jpg',\n",
       "     'image:caption': 'British Chancellor of the Exchequer Jeremy Hunt talks to a television crew outside the BBC headquarters in London, Britain November 18, 2022. REUTERS/Henry Nicholls'}},\n",
       "   {'loc': 'https://www.reuters.com/business/energy/petroecuador-finish-contingency-work-sote-pipeline-tuesday-2023-02-28/',\n",
       "    'lastmod': '2023-02-28T00:08:12.093Z',\n",
       "    'image:image': {'image:loc': 'https://www.reuters.com/resizer/Oknx2xr63Q8xHi8umZlOIBBhdSs=/cloudfront-us-east-2.images.arcpublishing.com/reuters/B52FQQHNOVL7DBJHGS63Z3IWYY.jpg',\n",
       "     'image:caption': \"A view shows the Ecuador's state-run Esmeraldas refinery complex in Esmeraldas, Ecuador, August 15, 2017, REUTERS/Daniel Tapia/File Photo\"}},\n",
       "   {'loc': 'https://www.reuters.com/business/mental-health-startup-cerebral-lay-off-about-15-workforce-2023-02-28/',\n",
       "    'lastmod': '2023-02-28T00:05:22.704Z'},\n",
       "   {'loc': 'https://www.reuters.com/business/aerospace-defense/lockheeds-himars-plant-gearing-up-meet-demand-after-ukraine-success-2023-02-28/',\n",
       "    'lastmod': '2023-02-28T00:01:39.676Z',\n",
       "    'image:image': {'image:loc': 'https://www.reuters.com/resizer/cABbNCkbZxHkYorkws9Dadd-R5w=/cloudfront-us-east-2.images.arcpublishing.com/reuters/DHZLKNL55JLTHFOQQWNU52UL34.jpg',\n",
       "     'image:caption': 'A HIMARS (High Mobility Artillery Rocket System) missile launcher climbs a 60-degree ramp on a test track at Lockheed Martin Camden Operations in Camden, Arkansas, U.S., February 27, 2023. REUTERS/Kevin Lamarque'}},\n",
       "   {'loc': 'https://www.reuters.com/world/americas/massive-forest-fires-rage-eastern-cuba-2023-02-27/',\n",
       "    'lastmod': '2023-02-27T23:44:19.279Z',\n",
       "    'image:image': {'image:loc': 'https://www.reuters.com/resizer/VMOfCnNKwQG1Ffp2U2V8TOiD3NI=/cloudfront-us-east-2.images.arcpublishing.com/reuters/OPR3X6JRANKO5ETC557KZCZHQE.jpg',\n",
       "     'image:caption': 'Smoke from burning vegetation rises in Pinares de Mayari, Cuba, February 23, 2023. REUTERS/Juan Pablo Carreras'}},\n",
       "   {'loc': 'https://www.reuters.com/business/retail-consumer/australias-harvey-norman-slumps-lower-half-year-profit-2023-02-27/',\n",
       "    'lastmod': '2023-02-28T00:38:19.612Z',\n",
       "    'image:image': {'image:loc': 'https://www.reuters.com/resizer/V7KiDHJMuaPVEGvk0z3DIJ-uCGY=/cloudfront-us-east-2.images.arcpublishing.com/reuters/K7IXI5PT55IWVMTVIJLJRFQAPE.jpg',\n",
       "     'image:caption': 'Shoppers walk the furniture showroom at a Harvey Norman outlet in Sydney, Australia, February 27, 2017.  REUTERS/Jason Reed'}},\n",
       "   {'loc': 'https://www.reuters.com/legal/robinhood-says-sec-issued-subpoena-related-crypto-operations-2023-02-27/',\n",
       "    'lastmod': '2023-02-27T23:46:07.165Z',\n",
       "    'image:image': {'image:loc': 'https://www.reuters.com/resizer/H9gUcSX07Gsqe234tEmSXW7T5kY=/cloudfront-us-east-2.images.arcpublishing.com/reuters/W5SIPG3235MPVK6YVEJ6QE63TE.jpg',\n",
       "     'image:caption': 'A representation of virtual currency Bitcoin is seen in front of a stock graph in this illustration taken January 8, 2021. REUTERS/Dado Ruvic//File Photo'}},\n",
       "   {'loc': 'https://www.reuters.com/world/americas/mexico-receives-us-request-extradite-son-druglord-chapo-guzman-sources-2023-02-27/',\n",
       "    'lastmod': '2023-02-28T00:17:44.764Z',\n",
       "    'image:image': {'image:loc': 'https://www.reuters.com/resizer/QN0m5ns5EzfsnZcTiXCW5yFt5WU=/cloudfront-us-east-2.images.arcpublishing.com/reuters/CNRBNPB2CNOGDD4BTY7D76IZYM.jpg',\n",
       "     'image:caption': 'Members of the National Guard stand outside the Altiplano high security prison where Mexican drug gang leader Ovidio Guzman, the 32-year-old son of jailed kingpin Joaquin \"El Chapo\" Guzman, is imprisoned in Almoloya de Juarez, State of Mexico, Mexico January 7, 2023. REUTERS/Luis Cortes'}},\n",
       "   {'loc': 'https://www.reuters.com/world/europe/russia-will-not-resume-start-nuclear-talks-until-washington-listens-moscow-2023-02-27/',\n",
       "    'lastmod': '2023-02-27T23:28:05.112Z',\n",
       "    'image:image': {'image:loc': 'https://www.reuters.com/resizer/R-FqdgMlybCktOAETC-3CaEE9jo=/cloudfront-us-east-2.images.arcpublishing.com/reuters/WEDNY75PUNI4DE4VYNOKM6OOIA.jpg',\n",
       "     'image:caption': 'Kremlin spokesman Dmitry Peskov attends a news conference of Russian President Vladimir Putin following the Shanghai Cooperation Organization (SCO) summit in Samarkand, Uzbekistan September 16, 2022. Sputnik/Sergey Bobylev/Pool via REUTERS'}},\n",
       "   {'loc': 'https://www.reuters.com/legal/legalindustry/california-panel-wants-state-keep-bar-exam-design-its-own-test-2023-02-27/',\n",
       "    'lastmod': '2023-02-27T23:25:55.449Z',\n",
       "    'image:image': {'image:loc': 'https://www.reuters.com/resizer/N-FvnHS-mX7R0hKI5YIamRgTFuo=/cloudfront-us-east-2.images.arcpublishing.com/reuters/ECOQH2EXEBMFNODZFG3T3KVY6A.jpg',\n",
       "     'image:caption': 'REUTERS/Brian Snyder'}},\n",
       "   {'loc': 'https://www.reuters.com/world/us/yes-joe-biden-plans-run-president-again-wife-jill-says-2023-02-27/',\n",
       "    'lastmod': '2023-02-27T23:25:02.413Z',\n",
       "    'image:image': {'image:loc': 'https://www.reuters.com/resizer/idDLwvKA5pVmEJ6D_8ZT3GqRJ0w=/cloudfront-us-east-2.images.arcpublishing.com/reuters/OT3KYOGEAZO55INXR62FA4XADQ.jpg',\n",
       "     'image:caption': 'Former U.S. Vice President Joe Biden addresses the International Association of Fire Fighters in Washington, U.S., March 12, 2019. REUTERS/Kevin Lamarque'}},\n",
       "   {'loc': 'https://www.reuters.com/world/americas/mexican-restaurant-operator-alsea-sees-profit-dip-due-higher-taxes-2023-02-27/',\n",
       "    'lastmod': '2023-02-28T02:44:35.930Z'},\n",
       "   {'loc': 'https://www.reuters.com/world/europe/tiktok-suffers-another-blow-with-european-commissions-ban-2023-02-24/',\n",
       "    'lastmod': '2023-02-27T23:11:24.167Z',\n",
       "    'image:image': {'image:loc': 'https://www.reuters.com/resizer/N1_uyddvNrsGQ1Ml0oJHr8mXmdI=/cloudfront-us-east-2.images.arcpublishing.com/reuters/U57A3PS4PFLUTGWDKU6QAQ3YX4.jpg',\n",
       "     'image:caption': 'A 3-D printed figures are seen in front of displayed Tik Tok logo in this picture illustration taken November 7, 2019. Picture taken November 7, 2019. REUTERS/Dado Ruvic/Illustration'}},\n",
       "   {'loc': 'https://www.reuters.com/world/ecuador-belgium-sign-deal-fight-crime-after-mega-cocaine-bust-2023-02-27/',\n",
       "    'lastmod': '2023-02-27T23:01:33.914Z',\n",
       "    'image:image': {'image:loc': 'https://www.reuters.com/resizer/Qkj7DpBH2L7Vw-zmoJ3And-Fqdg=/cloudfront-us-east-2.images.arcpublishing.com/reuters/HSA7ZVSCO5PXHBG4K7M6SKVFJU.jpg',\n",
       "     'image:caption': \"Workers unload sacks containing cocaine packages from a truck before the incineration of more than nine tons of cocaine which were seized during different operations, according to the Ecuador's Interior Ministry, in a warehouse at an undisclosed location, in Ecuador April 21, 2022. REUTERS/Karen Toro\"}},\n",
       "   {'loc': 'https://www.reuters.com/legal/tesla-musk-sued-by-shareholders-over-self-driving-safety-claims-2023-02-27/',\n",
       "    'lastmod': '2023-02-27T22:55:42.889Z',\n",
       "    'image:image': {'image:loc': 'https://www.reuters.com/resizer/wuR8SSOfpa6gsMer3RD6EniIxA4=/cloudfront-us-east-2.images.arcpublishing.com/reuters/VIMYPRBVVJK5PCENV2NMTTCI2M.jpg',\n",
       "     'image:caption': 'The interior of a Tesla Model S is shown in autopilot mode in San Francisco, California, U.S., April 7, 2016.   REUTERS/Alexandria Sage/File Photo'}},\n",
       "   {'loc': 'https://www.reuters.com/markets/asia/bojs-wakatabe-warns-secular-stagnation-risk-has-yet-pass-2023-02-27/',\n",
       "    'lastmod': '2023-02-27T22:54:04.635Z',\n",
       "    'image:image': {'image:loc': 'https://www.reuters.com/resizer/mo9ZISsiQvQ7BRLrlF3-ozxO6xM=/cloudfront-us-east-2.images.arcpublishing.com/reuters/RIQ2AS4BEBKXLGYSKN4QHBDR5E.jpg',\n",
       "     'image:caption': 'Deputy Governor at the Bank of Japan, Masazumi Wakatabe speaks at a European Financial Forum event in Dublin, Ireland February 13, 2019. REUTERS/Clodagh Kilcoyne/File Photo'}},\n",
       "   {'loc': 'https://www.reuters.com/world/europe/us-treasurys-yellen-makes-surprise-visit-ukraine-push-economic-aid-2023-02-27/',\n",
       "    'lastmod': '2023-02-27T22:47:27.067Z',\n",
       "    'image:image': {'image:loc': 'https://www.reuters.com/resizer/tFgXXwyK1qNZ4J0OdpmTZVdYWv4=/cloudfront-us-east-2.images.arcpublishing.com/reuters/JIZLQRSM4ZPPJDHDRTNHZEVTCM.jpg',\n",
       "     'image:caption': \"Ukraine's President Volodymyr Zelenskiy welcomes U.S. Treasury Secretary Janet Yellen, amid Russia's attack on Ukraine, in Kyiv, Ukraine February 27, 2023. Ukrainian Presidential Press Service/Handout via REUTERS\"}},\n",
       "   {'loc': 'https://www.reuters.com/legal/legalindustry/law-firms-dial-back-summer-associate-hiring-amid-legal-market-slowdown-2023-02-27/',\n",
       "    'lastmod': '2023-02-27T22:38:43.149Z',\n",
       "    'image:image': {'image:loc': 'https://www.reuters.com/resizer/KrvsYFWXzMGewIvx1rr_kesypbw=/cloudfront-us-east-2.images.arcpublishing.com/reuters/C2FXSYMMZZOSPLPB5DWONHKLG4.jpg',\n",
       "     'image:caption': 'REUTERS/Axel Schmidt'}},\n",
       "   {'loc': 'https://www.reuters.com/business/aerospace-defense/japans-ispace-track-late-april-touchdown-attempt-private-moon-lander-2023-02-27/',\n",
       "    'lastmod': '2023-02-27T23:52:37.524Z'},\n",
       "   {'loc': 'https://www.reuters.com/world/asia-pacific/north-koreas-kim-calls-agriculture-reform-amid-food-shortage-woes-2023-02-27/',\n",
       "    'lastmod': '2023-02-28T02:46:41.377Z',\n",
       "    'image:image': {'image:loc': 'https://www.reuters.com/resizer/glCNulGD3AsDQEx0DbK1f-lS5rg=/cloudfront-us-east-2.images.arcpublishing.com/reuters/J4QV2GEAM5LCXBHVCEKNFAMQ4M.jpg',\n",
       "     'image:caption': \"North?Korean leader Kim Jong Un attends the 7th enlarged plenary meeting of the 8th Central Committee of the Workers' Party of Korea (WPK) in Pyongyang, North Korea, February 27, 2023 in this  photo released by North Korea's Korean Central News Agency (KCNA). KCNA via REUTERS\"}},\n",
       "   {'loc': 'https://www.reuters.com/lifestyle/sports/late-luis-alberto-goal-lifts-lazio-into-top-four-after-sampdoria-win-2023-02-27/',\n",
       "    'lastmod': '2023-02-27T22:27:17.125Z',\n",
       "    'image:image': {'image:loc': 'https://www.reuters.com/resizer/ZpD5dsAlrxlYN88WPeU1n52KDp8=/cloudfront-us-east-2.images.arcpublishing.com/reuters/ZH2Q2NHC3JPVHHN3NFULYFO36Q.jpg',\n",
       "     'image:caption': \"Soccer Football - Serie A - Lazio v Atalanta - Stadio Olimpico, Rome, Italy - February 11, 2023 Lazio's Luis Alberto takes a corner kick REUTERS/Alberto Lingria\"}},\n",
       "   {'loc': 'https://www.reuters.com/lifestyle/sports/messi-named-fifa-player-2022-england-women-rewarded-euro-campaign-2023-02-27/',\n",
       "    'lastmod': '2023-02-28T00:10:49.823Z',\n",
       "    'image:image': {'image:loc': 'https://www.reuters.com/resizer/KErzt3gkArXv5pLBoBZ8ZE-nHLQ=/cloudfront-us-east-2.images.arcpublishing.com/reuters/243FYGK73FIVFDXE2YMT2VJ3KA.jpg',\n",
       "     'image:caption': \"Soccer Football - The Best FIFA Football Awards - Salle Pleyel, Paris, France - February 27, 2023 Paris St Germain's Lionel Messi winner of The Best FIFA Player award 2022 REUTERS/Sarah Meyssonnier\"}},\n",
       "   {'loc': 'https://www.reuters.com/world/us/us-senate-leader-schumer-norfolk-southern-chief-should-testify-ohio-train-wreck-2023-02-27/',\n",
       "    'lastmod': '2023-02-27T22:22:18.262Z',\n",
       "    'image:image': {'image:loc': 'https://www.reuters.com/resizer/8jhSx26JYeVjm8Viu7G5tKqMVvU=/cloudfront-us-east-2.images.arcpublishing.com/reuters/3VGOD637OVNDPOCOP3EB7XER2U.jpg',\n",
       "     'image:caption': 'U.S. Senate Majority Leader Chuck Schumer (D-NY) speaks during a news conference ahead of U.S. President Joe Biden’s State of the Union Address in Washington, U.S., February 7, 2023. REUTERS/Elizabeth Frantz'}},\n",
       "   {'loc': 'https://www.reuters.com/world/americas/colombias-health-bill-cost-up-264-bln-annually-next-decade-2023-02-27/',\n",
       "    'lastmod': '2023-02-27T22:36:53.368Z',\n",
       "    'image:image': {'image:loc': 'https://www.reuters.com/resizer/tmOmvx9QXwL1cWXv__ScLTDre5A=/cloudfront-us-east-2.images.arcpublishing.com/reuters/2ARNTRL7PJNX3MTO5FD7QU3WK4.jpg',\n",
       "     'image:caption': \"Presidential Candidate Gustavo Petro for the political alliance 'Pacto Historico' speaks during an interview with Reuters in Bogota, Colombia June 10, 2022. REUTERS/Luisa Gonzalez\"}},\n",
       "   {'loc': 'https://www.reuters.com/world/americas/mexican-soldiers-kill-five-young-men-border-city-rights-group-alleges-2023-02-27/',\n",
       "    'lastmod': '2023-02-28T04:58:48.497Z',\n",
       "    'image:image': {'image:loc': 'https://www.reuters.com/resizer/-uQXK58J15gi1NT254DF6CSkVb8=/cloudfront-us-east-2.images.arcpublishing.com/reuters/KQAAXRQQ3RM3JGLP7NY45Z7QMU.jpg',\n",
       "     'image:caption': 'A Mexican soldier points his rifle at a man, who had accused the soldier of having participated with other military members in the shooting deaths of five people, in Nuevo Laredo, Mexico February 26, 2023. REUTERS/Jasiel Rubio'}}]}}"
      ]
     },
     "execution_count": 97,
     "metadata": {},
     "output_type": "execute_result"
    }
   ],
   "source": [
    "urls"
   ]
  },
  {
   "cell_type": "code",
   "execution_count": 99,
   "id": "7b591ce5-aa82-472a-9934-fe7b379520c7",
   "metadata": {},
   "outputs": [
    {
     "name": "stdout",
     "output_type": "stream",
     "text": [
      "dict_keys(['urlset'])\n"
     ]
    }
   ],
   "source": [
    "print(urls.keys())"
   ]
  },
  {
   "cell_type": "code",
   "execution_count": 184,
   "id": "60264f24-07b5-4fc7-a5e5-6e0a4febdfe4",
   "metadata": {},
   "outputs": [
    {
     "data": {
      "text/plain": [
       "['https://www.reuters.com/markets/europe/global-markets-view-europe-2023-02-28/',\n",
       " 'https://www.reuters.com/business/retail-consumer/home-zara-fast-slow-fashion-collide-2023-02-28/',\n",
       " 'https://www.reuters.com/lifestyle/sports/england-captain-stokes-has-no-regrets-over-follow-on-2023-02-28/',\n",
       " 'https://www.reuters.com/markets/asia/indias-adani-plans-repay-up-790-mln-share-backed-loans-by-march-sources-2023-02-28/',\n",
       " 'https://www.reuters.com/lifestyle/sports/smith-says-australia-batsmen-will-ditch-risky-tempo-third-test-2023-02-28/',\n",
       " 'https://www.reuters.com/technology/cryptoverse-bitcoin-moves-towards-satoshis-payment-dream-2023-02-28/',\n",
       " 'https://www.reuters.com/markets/europe/ecb-has-started-win-inflation-fight-lane-says-2023-02-28/',\n",
       " 'https://www.reuters.com/markets/rates-bonds/banks-pile-into-euro-zone-bond-sales-rates-shoot-up-2023-02-28/',\n",
       " 'https://www.reuters.com/business/adecco-sees-signs-hiring-slowdown-start-2023-2023-02-28/',\n",
       " 'https://www.reuters.com/world/us/tennessee-meat-plant-workers-reach-12-mln-settlement-over-2018-raid-2023-02-28/',\n",
       " 'https://www.reuters.com/markets/asia/china-income-spending-per-capita-grow-over-2022-national-bureau-statistics-2023-02-28/',\n",
       " 'https://www.reuters.com/world/asia-pacific/la-nina-wet-weather-system-near-its-end-australian-weather-bureau-2023-02-28/',\n",
       " 'https://www.reuters.com/lifestyle/sports/nhl-roundup-connor-mcdavids-49th-50th-goals-cant-stop-bruins-2023-02-28/',\n",
       " 'https://www.reuters.com/lifestyle/sports/new-zealand-skipper-southee-hails-test-win-ages-2023-02-28/',\n",
       " 'https://www.reuters.com/world/china/chinas-birth-rate-slumps-political-advisor-urges-egg-freezing-single-women-2023-02-28/',\n",
       " 'https://www.reuters.com/lifestyle/sports/tough-see-alcaraz-playing-acapulco-says-coach-2023-02-28/',\n",
       " 'https://www.reuters.com/world/moscow-accuses-us-preparing-toxic-chemicals-provocation-ukraine-2023-02-28/',\n",
       " 'https://www.reuters.com/business/finance/goldman-sachs-seen-unveiling-medium-term-goals-investor-day-2023-02-28/',\n",
       " 'https://www.reuters.com/breakingviews/chinas-li-auto-drives-fine-profit-line-2023-02-28/',\n",
       " 'https://www.reuters.com/breakingviews/japan-posts-deal-will-test-interest-rate-optimism-2023-02-28/',\n",
       " 'https://www.reuters.com/markets/europe/germany-home-prices-sink-nearly-6-this-year-2023-02-28/',\n",
       " 'https://www.reuters.com/breakingviews/airtel-would-be-complex-saviour-paytm-2023-02-28/',\n",
       " 'https://www.reuters.com/business/autos-transportation/volkswagen-china-chief-visits-xinjiang-plant-sees-no-sign-forced-labour-2023-02-28/',\n",
       " 'https://www.reuters.com/world/europe/ex-kremlins-adviser-soviet-era-dissident-pavlovsky-dies-2023-02-28/',\n",
       " 'https://www.reuters.com/lifestyle/sports/brentfords-frank-says-abuse-directed-managers-is-disgrace-2023-02-28/',\n",
       " 'https://www.reuters.com/lifestyle/sports/nba-roundup-hornets-win-again-lose-lamelo-ball-2023-02-28/',\n",
       " 'https://www.reuters.com/lifestyle/giorgio-armani-offers-soft-fluid-winter-designs-milan-fashion-week-2023-02-26/',\n",
       " 'https://www.reuters.com/business/energy/thailands-indorama-ventures-scouts-acquisitions-europe-africa-ceo-2023-02-28/',\n",
       " 'https://www.reuters.com/lifestyle/sports/list-narrowest-victories-by-runs-tests-2023-02-28/',\n",
       " 'https://www.reuters.com/business/media-telecom/reuters-reporters-online-accounts-faked-approach-china-activists-2023-02-28/',\n",
       " 'https://www.reuters.com/world/us/us-needs-learn-all-black-history-biden-says-some-republicans-push-curbs-2023-02-27/',\n",
       " 'https://www.reuters.com/lifestyle/sports/list-teams-that-won-test-after-follow-on-2023-02-28/',\n",
       " 'https://www.reuters.com/world/blinken-hold-talks-with-central-asian-nations-wake-ukraine-anniversary-2023-02-28/',\n",
       " 'https://www.reuters.com/lifestyle/sports/wimbledon-offers-best-chance-deep-run-grand-slam-murray-2023-02-28/',\n",
       " 'https://www.reuters.com/lifestyle/sports/new-zealand-beat-england-by-one-run-second-test-level-series-1-1-2023-02-28/',\n",
       " 'https://www.reuters.com/business/finance/australias-regulator-sues-mercer-pension-fund-first-greenwashing-case-2023-02-28/',\n",
       " 'https://www.reuters.com/technology/rapidus-picks-northern-japans-chitose-semiconductor-plant-location-2023-02-28/',\n",
       " 'https://www.reuters.com/lifestyle/sports/spring-training-roundup-emmanuel-rivera-d-backs-walk-off-cubs-2023-02-28/',\n",
       " 'https://www.reuters.com/world/europe/russian-offensive-eastern-ukraine-focused-bakhmut-2023-02-28/',\n",
       " 'https://www.reuters.com/markets/australia-limit-tax-breaks-multi-million-dollar-retirement-savings-2023-02-28/',\n",
       " 'https://www.reuters.com/world/us/us-marshals-service-suffers-major-security-breach-nbc-news-2023-02-28/',\n",
       " 'https://www.reuters.com/world/india/indian-shares-set-muted-start-us-rate-fears-ahead-domestic-gdp-data-2023-02-28/',\n",
       " 'https://www.reuters.com/markets/global-markets-wrapup-1-2023-02-28/',\n",
       " 'https://www.reuters.com/world/us/florida-gov-desantis-signs-bill-asserting-state-oversight-land-around-walt-2023-02-27/',\n",
       " 'https://www.reuters.com/business/sustainable-business/women-make-up-40-boards-top-uk-companies-first-time-2023-02-28/',\n",
       " 'https://www.reuters.com/markets/asia/vietnams-factory-output-rises-february-exports-up-11-2023-02-28/',\n",
       " 'https://www.reuters.com/legal/litigation/ny-lawyer-sued-quiet-quitting-strikes-back-with-race-bias-lawsuit-2023-02-27/',\n",
       " 'https://www.reuters.com/business/energy/oil-steadies-after-fall-fear-rate-hikes-rising-inventories-2023-02-28/',\n",
       " 'https://www.reuters.com/business/aerospace-defense/bae-systems-australia-unveils-first-homegrown-military-drone-2023-02-28/',\n",
       " 'https://www.reuters.com/world/us/us-awards-nearly-1-billion-airports-infrastructure-grants-2023-02-27/',\n",
       " 'https://www.reuters.com/world/china/hong-kong-scrap-covid-mask-mandate-march-1-2023-02-28/',\n",
       " 'https://www.reuters.com/markets/currencies/sterling-holds-gains-after-rising-uk-trade-deal-with-eu-2023-02-28/',\n",
       " 'https://www.reuters.com/business/us-crack-down-child-labor-amid-massive-uptick-2023-02-27/',\n",
       " 'https://www.reuters.com/lifestyle/orchestra-turns-trash-music-environmental-activism-bolivia-2023-02-28/',\n",
       " 'https://www.reuters.com/markets/asia/boj-shouldnt-modify-easy-policy-address-costs-incoming-deputy-governor-uchida-2023-02-28/',\n",
       " 'https://www.reuters.com/breakingviews/warren-buffetts-greatest-hits-lose-their-verve-2023-02-27/',\n",
       " 'https://www.reuters.com/business/aerospace-defense/lockheed-martin-hopes-deliver-more-f-35s-australia-2023-02-28/',\n",
       " 'https://www.reuters.com/lifestyle/sports/japan-anti-trust-authorities-seek-criminal-charges-against-dentsu-others-over-2023-02-28/',\n",
       " 'https://www.reuters.com/world/asia-pacific/rust-belt-province-got-old-before-it-got-rich-much-china-will-2023-02-28/',\n",
       " 'https://www.reuters.com/business/energy/japan-promote-gas-lng-hydrogen-investments-during-g7-presidency-meti-2023-02-28/',\n",
       " 'https://www.reuters.com/world/india/weak-global-demand-rate-hikes-may-curtail-india-growth-economists-2023-02-28/',\n",
       " 'https://www.reuters.com/technology/elon-musk-recruits-team-develop-openai-rival-information-2023-02-28/',\n",
       " 'https://www.reuters.com/world/new-zealand-businesses-less-pessimistic-february-anz-survey-2023-02-28/',\n",
       " 'https://www.reuters.com/markets/australias-current-account-surplus-widens-sharply-q4-2023-02-28/',\n",
       " 'https://www.reuters.com/world/us/house-committee-probe-epa-response-ohio-derailment-2023-02-28/',\n",
       " 'https://www.reuters.com/business/retail-consumer/australia-retail-sales-rebound-by-19-january-2023-02-28/',\n",
       " 'https://www.reuters.com/business/aerospace-defense/boeing-says-great-news-if-mq-28-drone-can-partner-with-f-35-2023-02-28/',\n",
       " 'https://www.reuters.com/technology/aclu-urges-us-lawmakers-not-ban-tiktok-2023-02-28/',\n",
       " 'https://www.reuters.com/world/us/us-commerce-ask-companies-seeking-chips-funding-provide-childcare-employees-2023-02-28/',\n",
       " 'https://www.reuters.com/lifestyle/sports/cactus-league-roundup-emmanuel-rivera-d-backs-walk-off-cubs-2023-02-28/',\n",
       " 'https://www.reuters.com/markets/deals/canadas-baytex-energy-nears-25-bln-deal-us-peer-ranger-oil-sources-2023-02-28/',\n",
       " 'https://www.reuters.com/markets/global-markets-view-asia-graphic-pix-2023-02-27/',\n",
       " 'https://www.reuters.com/markets/asia/japans-factory-output-suffer-biggest-fall-8-months-2023-02-28/',\n",
       " 'https://www.reuters.com/lifestyle/sports/england-90-runs-victory-after-roots-steadying-half-century-2023-02-28/',\n",
       " 'https://www.reuters.com/business/healthcare-pharmaceuticals/eisai-biogen-say-alzheimers-drug-lecanemab-getting-priority-review-china-2023-02-28/',\n",
       " 'https://www.reuters.com/world/uk/uks-hunt-has-extra-30-bln-pounds-play-with-march-budget-ifs-2023-02-28/',\n",
       " 'https://www.reuters.com/business/energy/petroecuador-finish-contingency-work-sote-pipeline-tuesday-2023-02-28/',\n",
       " 'https://www.reuters.com/business/mental-health-startup-cerebral-lay-off-about-15-workforce-2023-02-28/',\n",
       " 'https://www.reuters.com/business/aerospace-defense/lockheeds-himars-plant-gearing-up-meet-demand-after-ukraine-success-2023-02-28/',\n",
       " 'https://www.reuters.com/world/americas/massive-forest-fires-rage-eastern-cuba-2023-02-27/',\n",
       " 'https://www.reuters.com/business/retail-consumer/australias-harvey-norman-slumps-lower-half-year-profit-2023-02-27/',\n",
       " 'https://www.reuters.com/legal/robinhood-says-sec-issued-subpoena-related-crypto-operations-2023-02-27/',\n",
       " 'https://www.reuters.com/world/americas/mexico-receives-us-request-extradite-son-druglord-chapo-guzman-sources-2023-02-27/',\n",
       " 'https://www.reuters.com/world/europe/russia-will-not-resume-start-nuclear-talks-until-washington-listens-moscow-2023-02-27/',\n",
       " 'https://www.reuters.com/legal/legalindustry/california-panel-wants-state-keep-bar-exam-design-its-own-test-2023-02-27/',\n",
       " 'https://www.reuters.com/world/us/yes-joe-biden-plans-run-president-again-wife-jill-says-2023-02-27/',\n",
       " 'https://www.reuters.com/world/americas/mexican-restaurant-operator-alsea-sees-profit-dip-due-higher-taxes-2023-02-27/',\n",
       " 'https://www.reuters.com/world/europe/tiktok-suffers-another-blow-with-european-commissions-ban-2023-02-24/',\n",
       " 'https://www.reuters.com/world/ecuador-belgium-sign-deal-fight-crime-after-mega-cocaine-bust-2023-02-27/',\n",
       " 'https://www.reuters.com/legal/tesla-musk-sued-by-shareholders-over-self-driving-safety-claims-2023-02-27/',\n",
       " 'https://www.reuters.com/markets/asia/bojs-wakatabe-warns-secular-stagnation-risk-has-yet-pass-2023-02-27/',\n",
       " 'https://www.reuters.com/world/europe/us-treasurys-yellen-makes-surprise-visit-ukraine-push-economic-aid-2023-02-27/',\n",
       " 'https://www.reuters.com/legal/legalindustry/law-firms-dial-back-summer-associate-hiring-amid-legal-market-slowdown-2023-02-27/',\n",
       " 'https://www.reuters.com/business/aerospace-defense/japans-ispace-track-late-april-touchdown-attempt-private-moon-lander-2023-02-27/',\n",
       " 'https://www.reuters.com/world/asia-pacific/north-koreas-kim-calls-agriculture-reform-amid-food-shortage-woes-2023-02-27/',\n",
       " 'https://www.reuters.com/lifestyle/sports/late-luis-alberto-goal-lifts-lazio-into-top-four-after-sampdoria-win-2023-02-27/',\n",
       " 'https://www.reuters.com/lifestyle/sports/messi-named-fifa-player-2022-england-women-rewarded-euro-campaign-2023-02-27/',\n",
       " 'https://www.reuters.com/world/us/us-senate-leader-schumer-norfolk-southern-chief-should-testify-ohio-train-wreck-2023-02-27/',\n",
       " 'https://www.reuters.com/world/americas/colombias-health-bill-cost-up-264-bln-annually-next-decade-2023-02-27/',\n",
       " 'https://www.reuters.com/world/americas/mexican-soldiers-kill-five-young-men-border-city-rights-group-alleges-2023-02-27/']"
      ]
     },
     "execution_count": 184,
     "metadata": {},
     "output_type": "execute_result"
    }
   ],
   "source": [
    "news_urls =[url_loc['loc'] for url_loc in urls['urlset']['url']]\n",
    "news_urls"
   ]
  },
  {
   "cell_type": "code",
   "execution_count": 186,
   "id": "5d5a3327-7698-4ae8-9587-0ce61c92598c",
   "metadata": {},
   "outputs": [
    {
     "name": "stdout",
     "output_type": "stream",
     "text": [
      "Wall time: 1.76 s\n"
     ]
    }
   ],
   "source": [
    "%%time\n",
    "#session추상화\n",
    "session = requests.Session()\n",
    "#앞의 5개의 링크만 가져옴.\n",
    "for url in news_urls[:5]:\n",
    "    file = url.split(\"/\")[-2] + '.html'\n",
    "    \n",
    "    response = session.get(url)\n",
    "    if response.ok:\n",
    "        with open(\"datas/\"+file,\"w+b\") as f:\n",
    "            f.write(response.text.encode('utf-8'))\n",
    "    else:\n",
    "        print(f\"error width URL : {url}\")\n"
   ]
  },
  {
   "cell_type": "code",
   "execution_count": 198,
   "id": "fa362856-e818-4b8d-aeeb-810fdce97461",
   "metadata": {},
   "outputs": [],
   "source": [
    "# filename.txt 파일을 쓰기 모드(w)로 열기\n",
    "# open() 함수는 파일 객체 반환\n",
    "file = open('filename.txt', 'w')\n",
    "# 파일 객체의 write() 메서드를 통해 문자열을 파일에 작성 가능\n",
    "file.write('파일에 작성할 문자열')\n",
    "# 파일에 대한 처리가 끝났다면 반드시 파일 객체를 닫아줘야 합니다.\n",
    "file.close()"
   ]
  },
  {
   "cell_type": "code",
   "execution_count": 199,
   "id": "699574f5-d856-4809-9dac-342079d5ca8e",
   "metadata": {},
   "outputs": [
    {
     "name": "stdout",
     "output_type": "stream",
     "text": [
      "파일에 작성할 문자열\n"
     ]
    }
   ],
   "source": [
    "#파일 사용하기\n",
    "with open('filename.txt','r') as file:\n",
    "    print(file.read())"
   ]
  },
  {
   "cell_type": "code",
   "execution_count": 200,
   "id": "aa04d932-0d4b-4fc0-bdc2-76691ea1db7e",
   "metadata": {},
   "outputs": [
    {
     "data": {
      "text/plain": [
       "['./datas/england-captain-stokes-has-no-regrets-over-follow-on-2023-02-28.html',\n",
       " './datas/global-markets-view-europe-2023-02-28.html',\n",
       " './datas/home-zara-fast-slow-fashion-collide-2023-02-28.html',\n",
       " './datas/indias-adani-plans-repay-up-790-mln-share-backed-loans-by-march-sources-2023-02-28.html',\n",
       " './datas/smith-says-australia-batsmen-will-ditch-risky-tempo-third-test-2023-02-28.html']"
      ]
     },
     "execution_count": 200,
     "metadata": {},
     "output_type": "execute_result"
    }
   ],
   "source": [
    "import os\n",
    "path = './datas/'\n",
    "files = [path + file for file in os.listdir(path)]\n",
    "files"
   ]
  },
  {
   "cell_type": "code",
   "execution_count": 202,
   "id": "86bbcf64-bdad-4173-8198-f2d4c3636196",
   "metadata": {},
   "outputs": [],
   "source": [
    "with open(files[2], \"r\",encoding = \"utf-8\") as f:\n",
    "    html = f.read()"
   ]
  },
  {
   "cell_type": "code",
   "execution_count": 207,
   "id": "cc4aa93e-34ef-4c72-8698-f488c532acac",
   "metadata": {},
   "outputs": [
    {
     "name": "stdout",
     "output_type": "stream",
     "text": [
      "At the home of Zara, fast and slow fashion collide\n"
     ]
    }
   ],
   "source": [
    "# BeautifulSoup를 은 html 파싱을 하는데 도움을 주는 모듈\n",
    "# from bs4 import BeautifulSoup를 통해 해당 패키지를 포함시키고 첫번째 인수로 파싱할 대상인 markup을 두번째 인수로 무엇을 기준으로 파싱할지 파서의 종류를 적음..\n",
    "# 종류로는 html.parsr, lxml, lxml-xml, xml, html5lib 가 있음.\n",
    "from bs4 import BeautifulSoup\n",
    "soup = BeautifulSoup(html, 'html.parser')\n",
    "title = soup.select_one(\"h1\")\n",
    "print(title.text)"
   ]
  },
  {
   "cell_type": "code",
   "execution_count": 211,
   "id": "685abf5c-9c7a-4157-90fc-58e432632bbb",
   "metadata": {},
   "outputs": [
    {
     "name": "stdout",
     "output_type": "stream",
     "text": [
      "At the home of Zara, fast and slow fashion collide\n"
     ]
    }
   ],
   "source": [
    "from bs4 import BeautifulSoup\n",
    "soup = BeautifulSoup(html, 'html.parser')\n",
    "title = soup.select_one(\"#main-content > article > div.article__main__33WV2 > div.article__content__6hMn9 > header > div > div > h1\")\n",
    "print(title.text)"
   ]
  },
  {
   "cell_type": "code",
   "execution_count": 215,
   "id": "811c819b-ad01-4b1b-a265-6d88dbb18ef7",
   "metadata": {},
   "outputs": [
    {
     "name": "stdout",
     "output_type": "stream",
     "text": [
      "A CORUNA, Spain/LONDON, Feb 28 (Reuters) - In Spain's A Coruna, two contrasting fashion business models collide - pitching the growing demands for the clothing industry to become more sustainable against the constant need to drive sales.\n"
     ]
    }
   ],
   "source": [
    "from bs4 import BeautifulSoup\n",
    "soup = BeautifulSoup(html, 'html.parser')\n",
    "bonmon = soup.select_one(\"#main-content > article > div.article__main__33WV2 > div.article__content__6hMn9 > div > div > div.article-body__content__17Yit.paywall-article > p\")\n",
    "print(bonmon.text)"
   ]
  },
  {
   "cell_type": "code",
   "execution_count": 216,
   "id": "0434c7b3-0507-4108-bb02-fb5d99bee498",
   "metadata": {},
   "outputs": [
    {
     "data": {
      "text/plain": [
       "\"A CORUNA, Spain/LONDON, Feb 28 (Reuters) - In Spain's A Coruna, two contrasting fashion business models collide - pitching the growing demands for the clothing industry to become more sustainable against the constant need to drive sales.\""
      ]
     },
     "execution_count": 216,
     "metadata": {},
     "output_type": "execute_result"
    }
   ],
   "source": [
    "soup.select_one(\"#main-content > article > div.article__main__33WV2 > div.article__content__6hMn9 > div > div > div.article-body__content__17Yit.paywall-article > p\").text"
   ]
  },
  {
   "cell_type": "code",
   "execution_count": null,
   "id": "80056e89-667f-4582-b9a3-1a45de571d8c",
   "metadata": {},
   "outputs": [],
   "source": []
  },
  {
   "cell_type": "code",
   "execution_count": null,
   "id": "7d02798a-1ca4-4d22-a743-a7f2818a1a0c",
   "metadata": {},
   "outputs": [],
   "source": []
  },
  {
   "cell_type": "code",
   "execution_count": null,
   "id": "d96ef45f-5809-4e19-bc66-be92dbfd70da",
   "metadata": {},
   "outputs": [],
   "source": []
  },
  {
   "cell_type": "code",
   "execution_count": null,
   "id": "4360c564-5f97-44df-960a-f411eaaac4a8",
   "metadata": {},
   "outputs": [],
   "source": []
  },
  {
   "cell_type": "code",
   "execution_count": null,
   "id": "1006c75f-fdc6-497e-9b24-e362436f41a2",
   "metadata": {},
   "outputs": [],
   "source": []
  },
  {
   "cell_type": "code",
   "execution_count": null,
   "id": "ad793b9d-8642-4528-9c8b-66031094eac5",
   "metadata": {},
   "outputs": [],
   "source": []
  },
  {
   "cell_type": "code",
   "execution_count": null,
   "id": "e6b8f055-6fd3-4f2d-acd3-9a8d10cbc764",
   "metadata": {},
   "outputs": [],
   "source": []
  },
  {
   "cell_type": "code",
   "execution_count": null,
   "id": "c1c6a5c3-ce9c-4454-a351-5661b7ef22ee",
   "metadata": {},
   "outputs": [],
   "source": []
  },
  {
   "cell_type": "code",
   "execution_count": null,
   "id": "14bc354a-ddce-4409-9610-601fb79a5641",
   "metadata": {},
   "outputs": [],
   "source": []
  }
 ],
 "metadata": {
  "kernelspec": {
   "display_name": "Python 3 (ipykernel)",
   "language": "python",
   "name": "python3"
  },
  "language_info": {
   "codemirror_mode": {
    "name": "ipython",
    "version": 3
   },
   "file_extension": ".py",
   "mimetype": "text/x-python",
   "name": "python",
   "nbconvert_exporter": "python",
   "pygments_lexer": "ipython3",
   "version": "3.9.13"
  }
 },
 "nbformat": 4,
 "nbformat_minor": 5
}
