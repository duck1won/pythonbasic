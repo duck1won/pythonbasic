{
 "cells": [
  {
   "cell_type": "code",
   "execution_count": 17,
   "id": "4c198472-fd3b-4f23-a479-f75420a9b740",
   "metadata": {},
   "outputs": [
    {
     "data": {
      "text/plain": [
       "array([0, 1, 2, 3, 4, 5, 6, 7, 8, 9])"
      ]
     },
     "execution_count": 17,
     "metadata": {},
     "output_type": "execute_result"
    }
   ],
   "source": [
    "import numpy as np\n",
    "\n",
    "ar = np.array([_ for _ in range(10)])\n",
    "ar"
   ]
  },
  {
   "cell_type": "code",
   "execution_count": null,
   "id": "5508713e-9f67-4a2b-a7c6-af120d4b4c5e",
   "metadata": {},
   "outputs": [
    {
     "data": {
      "text/plain": [
       "(10,)"
      ]
     },
     "execution_count": 18,
     "metadata": {},
     "output_type": "execute_result"
    }
   ],
   "source": [
    "#(10,) -> 1차원의 10칸 갖는 array\n",
    "ar.shape"
   ]
  },
  {
   "cell_type": "code",
   "execution_count": 26,
   "id": "4e3495b5-53f1-4221-bf84-bcae4601b488",
   "metadata": {},
   "outputs": [
    {
     "data": {
      "text/plain": [
       "dtype('int32')"
      ]
     },
     "execution_count": 26,
     "metadata": {},
     "output_type": "execute_result"
    }
   ],
   "source": [
    "x = np.array([1,2,3])\n",
    "x.dtype"
   ]
  },
  {
   "cell_type": "code",
   "execution_count": 27,
   "id": "c03c2447-079e-450f-a719-0ce121de5fba",
   "metadata": {},
   "outputs": [
    {
     "data": {
      "text/plain": [
       "dtype('float64')"
      ]
     },
     "execution_count": 27,
     "metadata": {},
     "output_type": "execute_result"
    }
   ],
   "source": [
    "x = np.array([1.0,2.0,3.0])\n",
    "x.dtype"
   ]
  },
  {
   "cell_type": "code",
   "execution_count": 28,
   "id": "6b5254aa-2e0a-4110-9b4b-cce17593675d",
   "metadata": {},
   "outputs": [
    {
     "data": {
      "text/plain": [
       "dtype('float64')"
      ]
     },
     "execution_count": 28,
     "metadata": {},
     "output_type": "execute_result"
    }
   ],
   "source": [
    "x = np.array([1,2,3.0])\n",
    "x.dtype"
   ]
  },
  {
   "cell_type": "code",
   "execution_count": 32,
   "id": "cf07c40a-27f3-4ce7-b50e-ee800fcbbfd3",
   "metadata": {},
   "outputs": [
    {
     "data": {
      "text/plain": [
       "dtype('float32')"
      ]
     },
     "execution_count": 32,
     "metadata": {},
     "output_type": "execute_result"
    }
   ],
   "source": [
    "x = np.array([1,2,3], dtype = 'f')\n",
    "x.dtype"
   ]
  },
  {
   "cell_type": "code",
   "execution_count": 36,
   "id": "1633ad30-e485-4ee5-b318-11802be3646c",
   "metadata": {},
   "outputs": [
    {
     "data": {
      "text/plain": [
       "array(['1', '2', '3'], dtype='<U1')"
      ]
     },
     "execution_count": 36,
     "metadata": {},
     "output_type": "execute_result"
    }
   ],
   "source": [
    "x = np.array([1,2,3], dtype = 'U')\n",
    "x.dtype\n",
    "x"
   ]
  },
  {
   "cell_type": "code",
   "execution_count": 35,
   "id": "5ad78718-49b9-44e2-8a27-578cbfd1f0fe",
   "metadata": {},
   "outputs": [
    {
     "data": {
      "text/plain": [
       "'12'"
      ]
     },
     "execution_count": 35,
     "metadata": {},
     "output_type": "execute_result"
    }
   ],
   "source": [
    "x[0]+x[1]"
   ]
  },
  {
   "cell_type": "code",
   "execution_count": 37,
   "id": "f0873c85-e9b8-4226-87b8-e1accaa13bfd",
   "metadata": {},
   "outputs": [
    {
     "name": "stderr",
     "output_type": "stream",
     "text": [
      "C:\\Users\\user\\AppData\\Local\\Temp\\ipykernel_20076\\1727448928.py:1: RuntimeWarning: divide by zero encountered in true_divide\n",
      "  np.array([0,1,-1,0])/np.array([1,0,0,0])\n",
      "C:\\Users\\user\\AppData\\Local\\Temp\\ipykernel_20076\\1727448928.py:1: RuntimeWarning: invalid value encountered in true_divide\n",
      "  np.array([0,1,-1,0])/np.array([1,0,0,0])\n"
     ]
    },
    {
     "data": {
      "text/plain": [
       "array([  0.,  inf, -inf,  nan])"
      ]
     },
     "execution_count": 37,
     "metadata": {},
     "output_type": "execute_result"
    }
   ],
   "source": [
    "np.array([0,1,-1,0])/np.array([1,0,0,0])"
   ]
  },
  {
   "cell_type": "code",
   "execution_count": 38,
   "id": "12e28844-bfed-4cfa-baca-84e94b99ec7b",
   "metadata": {},
   "outputs": [
    {
     "data": {
      "text/plain": [
       "[0, 2, 4, 6, 8, 10, 12, 14, 16, 18]"
      ]
     },
     "execution_count": 38,
     "metadata": {},
     "output_type": "execute_result"
    }
   ],
   "source": [
    "data = [0,1,2,3,4,5,6,7,8,9]\n",
    "answer = [2 * d for d in data]\n",
    "answer"
   ]
  },
  {
   "cell_type": "code",
   "execution_count": 40,
   "id": "4e7af15b-df34-40b0-8c73-f23b6fc17be7",
   "metadata": {},
   "outputs": [
    {
     "data": {
      "text/plain": [
       "array([0, 1, 2, 3, 4, 5, 6, 7, 8, 9])"
      ]
     },
     "execution_count": 40,
     "metadata": {},
     "output_type": "execute_result"
    }
   ],
   "source": [
    "x = np.array(data)\n",
    "x"
   ]
  },
  {
   "cell_type": "code",
   "execution_count": 41,
   "id": "3e87236d-2842-4c12-a88b-a56b722cde39",
   "metadata": {},
   "outputs": [
    {
     "data": {
      "text/plain": [
       "array([ 0,  2,  4,  6,  8, 10, 12, 14, 16, 18])"
      ]
     },
     "execution_count": 41,
     "metadata": {},
     "output_type": "execute_result"
    }
   ],
   "source": [
    "2*x"
   ]
  },
  {
   "cell_type": "code",
   "execution_count": 43,
   "id": "6cdb000e-9498-4694-9e88-3256cea971b8",
   "metadata": {},
   "outputs": [
    {
     "name": "stdout",
     "output_type": "stream",
     "text": [
      "[0, 1, 2, 0, 1, 2, 0, 1, 2, 0, 1, 2, 0, 1, 2]\n"
     ]
    }
   ],
   "source": [
    "list_samp = [_ for _ in range(3)]\n",
    "print(list_samp * 5)"
   ]
  },
  {
   "cell_type": "code",
   "execution_count": 44,
   "id": "d1dd1bc2-5937-40e1-ac65-0e589c1efe9a",
   "metadata": {},
   "outputs": [
    {
     "data": {
      "text/plain": [
       "array([12, 24, 36])"
      ]
     },
     "execution_count": 44,
     "metadata": {},
     "output_type": "execute_result"
    }
   ],
   "source": [
    "a = np.array([1,2,3])\n",
    "b = np.array([10,20,30])\n",
    "\n",
    "2 * a + b"
   ]
  },
  {
   "cell_type": "code",
   "execution_count": 45,
   "id": "e5ac56e4-9da1-47d0-a153-aec44a174bed",
   "metadata": {},
   "outputs": [
    {
     "data": {
      "text/plain": [
       "array([False,  True, False])"
      ]
     },
     "execution_count": 45,
     "metadata": {},
     "output_type": "execute_result"
    }
   ],
   "source": [
    "a == 2"
   ]
  },
  {
   "cell_type": "code",
   "execution_count": 46,
   "id": "cb330401-acc4-4a4a-9ea1-492406a754b0",
   "metadata": {},
   "outputs": [
    {
     "data": {
      "text/plain": [
       "array([False,  True,  True])"
      ]
     },
     "execution_count": 46,
     "metadata": {},
     "output_type": "execute_result"
    }
   ],
   "source": [
    "b > 10 "
   ]
  },
  {
   "cell_type": "code",
   "execution_count": 48,
   "id": "adc6214f-8617-4f47-8034-53d5c424c537",
   "metadata": {},
   "outputs": [
    {
     "data": {
      "text/plain": [
       "array([False,  True, False])"
      ]
     },
     "execution_count": 48,
     "metadata": {},
     "output_type": "execute_result"
    }
   ],
   "source": [
    "(a==2) & (b>10)"
   ]
  },
  {
   "cell_type": "code",
   "execution_count": 50,
   "id": "b1f3e873-7f7a-4350-8fc0-4cc994349ca7",
   "metadata": {},
   "outputs": [
    {
     "data": {
      "text/plain": [
       "array([[0, 1, 2],\n",
       "       [3, 4, 5]])"
      ]
     },
     "execution_count": 50,
     "metadata": {},
     "output_type": "execute_result"
    }
   ],
   "source": [
    "c = np.array([[0,1,2],[3,4,5]])\n",
    "c"
   ]
  },
  {
   "cell_type": "code",
   "execution_count": 51,
   "id": "d4a5260b-6843-4220-b528-db24992a7586",
   "metadata": {},
   "outputs": [
    {
     "data": {
      "text/plain": [
       "2"
      ]
     },
     "execution_count": 51,
     "metadata": {},
     "output_type": "execute_result"
    }
   ],
   "source": [
    "len(c)"
   ]
  },
  {
   "cell_type": "code",
   "execution_count": 52,
   "id": "6a4414ea-9934-4a06-9494-134132e09d6f",
   "metadata": {},
   "outputs": [
    {
     "data": {
      "text/plain": [
       "3"
      ]
     },
     "execution_count": 52,
     "metadata": {},
     "output_type": "execute_result"
    }
   ],
   "source": [
    "len(c[0])"
   ]
  },
  {
   "cell_type": "code",
   "execution_count": 54,
   "id": "15a4e8a8-546f-4e64-b179-06312143be7e",
   "metadata": {},
   "outputs": [
    {
     "data": {
      "text/plain": [
       "(2, 3)"
      ]
     },
     "execution_count": 54,
     "metadata": {},
     "output_type": "execute_result"
    }
   ],
   "source": [
    "c.shape"
   ]
  },
  {
   "cell_type": "code",
   "execution_count": 59,
   "id": "f4c4aa90-a338-49c2-acfe-4e4e24bc6c75",
   "metadata": {},
   "outputs": [
    {
     "data": {
      "text/plain": [
       "array([[10, 20, 30, 40],\n",
       "       [50, 60, 70, 80]])"
      ]
     },
     "execution_count": 59,
     "metadata": {},
     "output_type": "execute_result"
    }
   ],
   "source": [
    "a = np.array([[10,20,30,40],[50,60,70,80]])\n",
    "a"
   ]
  },
  {
   "cell_type": "code",
   "execution_count": 60,
   "id": "2ddffac3-4ba5-4cf2-9316-c78b85d791ff",
   "metadata": {},
   "outputs": [
    {
     "data": {
      "text/plain": [
       "array([[ 1,  2,  3,  4],\n",
       "       [ 5,  6,  7,  8],\n",
       "       [ 9, 10, 11, 12],\n",
       "       [13, 14, 15, 16],\n",
       "       [17, 18, 19, 20]])"
      ]
     },
     "execution_count": 60,
     "metadata": {},
     "output_type": "execute_result"
    }
   ],
   "source": [
    "ab = np.array([[1,2,3,4],\n",
    "              [5,6,7,8],\n",
    "              [9,10,11,12],\n",
    "              [13,14,15,16],\n",
    "              [17,18,19,20]])\n",
    "ab"
   ]
  },
  {
   "cell_type": "code",
   "execution_count": 61,
   "id": "4ae14027-2e0a-4f95-908b-e19123ae9895",
   "metadata": {},
   "outputs": [
    {
     "name": "stdout",
     "output_type": "stream",
     "text": [
      "2\n",
      "(2, 4)\n"
     ]
    }
   ],
   "source": [
    "print(a.ndim) #차원이 몇 차원인지 알 수 있게해주는 함수\n",
    "print(a.shape)"
   ]
  },
  {
   "cell_type": "code",
   "execution_count": 69,
   "id": "f901b914-a34a-43c3-aa12-556dce38a62f",
   "metadata": {},
   "outputs": [
    {
     "data": {
      "text/plain": [
       "10"
      ]
     },
     "execution_count": 69,
     "metadata": {},
     "output_type": "execute_result"
    }
   ],
   "source": [
    "a[0,0]"
   ]
  },
  {
   "cell_type": "code",
   "execution_count": 70,
   "id": "36d6e3d1-540d-4765-9841-e5ec66a885b3",
   "metadata": {},
   "outputs": [
    {
     "data": {
      "text/plain": [
       "20"
      ]
     },
     "execution_count": 70,
     "metadata": {},
     "output_type": "execute_result"
    }
   ],
   "source": [
    "a[0,1]"
   ]
  },
  {
   "cell_type": "code",
   "execution_count": 71,
   "id": "1b0c7a62-a4ed-401f-ab55-2035929037c4",
   "metadata": {},
   "outputs": [
    {
     "data": {
      "text/plain": [
       "80"
      ]
     },
     "execution_count": 71,
     "metadata": {},
     "output_type": "execute_result"
    }
   ],
   "source": [
    "a[-1,-1]"
   ]
  },
  {
   "cell_type": "code",
   "execution_count": 72,
   "id": "fa603354-7810-4a1b-a06b-0e766089db7a",
   "metadata": {},
   "outputs": [
    {
     "data": {
      "text/plain": [
       "array([10, 20, 30, 40])"
      ]
     },
     "execution_count": 72,
     "metadata": {},
     "output_type": "execute_result"
    }
   ],
   "source": [
    "a[0,:]"
   ]
  },
  {
   "cell_type": "code",
   "execution_count": 73,
   "id": "1bc0240e-385f-49d6-93d8-2e94a557a762",
   "metadata": {},
   "outputs": [
    {
     "data": {
      "text/plain": [
       "array([20, 60])"
      ]
     },
     "execution_count": 73,
     "metadata": {},
     "output_type": "execute_result"
    }
   ],
   "source": [
    "a[:,1]"
   ]
  },
  {
   "cell_type": "code",
   "execution_count": 79,
   "id": "6d56740d-7595-40af-a706-2605f82e63ca",
   "metadata": {},
   "outputs": [
    {
     "name": "stdout",
     "output_type": "stream",
     "text": [
      "6\n"
     ]
    }
   ],
   "source": [
    "test = [[1,2,3,4],[5,6,7,8]]\n",
    "print(test[1][1])"
   ]
  },
  {
   "cell_type": "code",
   "execution_count": 80,
   "id": "2af37155-be7e-46c6-960f-897ab83723e9",
   "metadata": {},
   "outputs": [
    {
     "data": {
      "text/plain": [
       "10"
      ]
     },
     "execution_count": 80,
     "metadata": {},
     "output_type": "execute_result"
    }
   ],
   "source": [
    "a[0][0]"
   ]
  },
  {
   "cell_type": "code",
   "execution_count": 81,
   "id": "c8f9cfb9-4e5a-41d1-8d68-c3d55be87556",
   "metadata": {},
   "outputs": [
    {
     "data": {
      "text/plain": [
       "60"
      ]
     },
     "execution_count": 81,
     "metadata": {},
     "output_type": "execute_result"
    }
   ],
   "source": [
    "a[1,1]"
   ]
  },
  {
   "cell_type": "code",
   "execution_count": 88,
   "id": "bbace091-651b-45c4-bb77-eebbf2c00cec",
   "metadata": {},
   "outputs": [
    {
     "name": "stdout",
     "output_type": "stream",
     "text": [
      "[1, 2, 3]\n"
     ]
    }
   ],
   "source": [
    "a=[[1,2,3,4],[5,6,7,8]]\n",
    "print(a[0][:3])"
   ]
  },
  {
   "cell_type": "code",
   "execution_count": 92,
   "id": "f9bba6e5-0fc0-42be-b2de-a7e34287534c",
   "metadata": {},
   "outputs": [
    {
     "name": "stdout",
     "output_type": "stream",
     "text": [
      "6\n",
      "14\n",
      "[6 7]\n",
      "[ 7 12]\n",
      "[[3 4]\n",
      " [8 9]]\n"
     ]
    }
   ],
   "source": [
    "m = np.array([[0,1,2,3,4],\n",
    "              [5,6,7,8,9],\n",
    "              [10,11,12,13,14]])\n",
    "#1\n",
    "print(m[1][1])\n",
    "#2\n",
    "print(m[2][4])\n",
    "#3\n",
    "print(m[1,1:3])\n",
    "#4\n",
    "print(m[1:,2])\n",
    "#5\n",
    "print(m[:2,3:])"
   ]
  },
  {
   "cell_type": "code",
   "execution_count": 102,
   "id": "dbc8285c-075f-4aea-b5e6-1cd89145ef74",
   "metadata": {},
   "outputs": [
    {
     "data": {
      "text/plain": [
       "array([[0, 0],\n",
       "       [0, 0],\n",
       "       [0, 0],\n",
       "       [0, 0],\n",
       "       [0, 0]], dtype=int32)"
      ]
     },
     "execution_count": 102,
     "metadata": {},
     "output_type": "execute_result"
    }
   ],
   "source": [
    "a = np.zeros(5) #타입을 정해주지않으면 기본으로 float형으로 생성됨.\n",
    "a\n",
    "c = np.zeros((5,2), dtype = 'i')\n",
    "c"
   ]
  },
  {
   "cell_type": "code",
   "execution_count": 100,
   "id": "ffcc0ad1-ca6d-480e-8e0d-ec3d76be3866",
   "metadata": {},
   "outputs": [
    {
     "data": {
      "text/plain": [
       "array(['', '', '', '', ''], dtype='<U4')"
      ]
     },
     "execution_count": 100,
     "metadata": {},
     "output_type": "execute_result"
    }
   ],
   "source": [
    "d = np.zeros(5,dtype=\"U4\")\n",
    "d"
   ]
  },
  {
   "cell_type": "code",
   "execution_count": 101,
   "id": "e09884be-8216-42da-8a42-028bbcd27e69",
   "metadata": {},
   "outputs": [
    {
     "data": {
      "text/plain": [
       "array(['abc', 'abcd', 'ABCD', '', ''], dtype='<U4')"
      ]
     },
     "execution_count": 101,
     "metadata": {},
     "output_type": "execute_result"
    }
   ],
   "source": [
    "d[0] = \"abc\"\n",
    "d[1] = \"abcd\"\n",
    "d[2] = \"ABCDE\" #u4로 잡아줬기때문에 4글자 이상이면 잘려서 입력됨.\n",
    "d"
   ]
  },
  {
   "cell_type": "code",
   "execution_count": 98,
   "id": "40994ebe-7263-4679-af7b-8b7adbaa2177",
   "metadata": {},
   "outputs": [
    {
     "data": {
      "text/plain": [
       "array([[[1, 1, 1, 1],\n",
       "        [1, 1, 1, 1],\n",
       "        [1, 1, 1, 1]],\n",
       "\n",
       "       [[1, 1, 1, 1],\n",
       "        [1, 1, 1, 1],\n",
       "        [1, 1, 1, 1]]], dtype=int64)"
      ]
     },
     "execution_count": 98,
     "metadata": {},
     "output_type": "execute_result"
    }
   ],
   "source": [
    "e = np.ones((2,3,4),dtype=\"i8\")\n",
    "e"
   ]
  },
  {
   "cell_type": "code",
   "execution_count": 107,
   "id": "1c8d6bcb-1361-4689-ade8-9431f2dcdeef",
   "metadata": {},
   "outputs": [
    {
     "data": {
      "text/plain": [
       "array([[1., 1., 1.],\n",
       "       [1., 1., 1.]], dtype=float32)"
      ]
     },
     "execution_count": 107,
     "metadata": {},
     "output_type": "execute_result"
    }
   ],
   "source": [
    "b = np.zeros((2,3))\n",
    "b\n",
    "f = np.ones_like(b,dtype=\"f\")\n",
    "f"
   ]
  },
  {
   "cell_type": "code",
   "execution_count": 108,
   "id": "2658b47a-9dfc-44c6-b704-47654e0c666a",
   "metadata": {},
   "outputs": [
    {
     "data": {
      "text/plain": [
       "array([[1.00973333e-311, 2.42092166e-322, 0.00000000e+000],\n",
       "       [0.00000000e+000, 1.78020168e-306, 5.64233733e-067],\n",
       "       [4.71752445e-090, 1.33621728e+165, 6.58993924e-043],\n",
       "       [1.46415462e-075, 6.99196247e+228, 2.22522596e-306]])"
      ]
     },
     "execution_count": 108,
     "metadata": {},
     "output_type": "execute_result"
    }
   ],
   "source": [
    "g = np.empty((4,3))\n",
    "g"
   ]
  },
  {
   "cell_type": "code",
   "execution_count": 109,
   "id": "606be9fe-41c5-4f50-848a-a48e77a48d37",
   "metadata": {},
   "outputs": [
    {
     "data": {
      "text/plain": [
       "array([0, 1, 2, 3, 4, 5, 6, 7, 8, 9])"
      ]
     },
     "execution_count": 109,
     "metadata": {},
     "output_type": "execute_result"
    }
   ],
   "source": [
    "np.arange(10)"
   ]
  },
  {
   "cell_type": "code",
   "execution_count": 110,
   "id": "37e35323-d9e3-45ac-bb7e-bf41f10ed6a7",
   "metadata": {},
   "outputs": [
    {
     "data": {
      "text/plain": [
       "array([ 3,  5,  7,  9, 11, 13, 15, 17, 19])"
      ]
     },
     "execution_count": 110,
     "metadata": {},
     "output_type": "execute_result"
    }
   ],
   "source": [
    "np.arange(3,21,2)"
   ]
  },
  {
   "cell_type": "code",
   "execution_count": 111,
   "id": "dfebf067-3fe8-4fbd-b94a-e06b1a39b37f",
   "metadata": {},
   "outputs": [
    {
     "data": {
      "text/plain": [
       "array([  0.,  25.,  50.,  75., 100.])"
      ]
     },
     "execution_count": 111,
     "metadata": {},
     "output_type": "execute_result"
    }
   ],
   "source": [
    "ex = np.linspace(0,100,5)\n",
    "ex"
   ]
  },
  {
   "cell_type": "code",
   "execution_count": 112,
   "id": "047e996e-e0ed-4361-9514-9b719ef13478",
   "metadata": {},
   "outputs": [
    {
     "data": {
      "text/plain": [
       "array([1.e+000, 1.e+025, 1.e+050, 1.e+075, 1.e+100])"
      ]
     },
     "execution_count": 112,
     "metadata": {},
     "output_type": "execute_result"
    }
   ],
   "source": [
    "ex2 = np.logspace(0,100,5)\n",
    "ex2"
   ]
  },
  {
   "cell_type": "code",
   "execution_count": 113,
   "id": "b94f179c-f107-4582-94ff-047711597cde",
   "metadata": {},
   "outputs": [
    {
     "data": {
      "text/plain": [
       "array([[1, 2, 3],\n",
       "       [4, 5, 6]])"
      ]
     },
     "execution_count": 113,
     "metadata": {},
     "output_type": "execute_result"
    }
   ],
   "source": [
    "A = np.array([[1,2,3],[4,5,6]])\n",
    "A"
   ]
  },
  {
   "cell_type": "code",
   "execution_count": 114,
   "id": "e607eb1d-b288-49cf-8cfe-64960383a706",
   "metadata": {},
   "outputs": [
    {
     "data": {
      "text/plain": [
       "array([[1, 4],\n",
       "       [2, 5],\n",
       "       [3, 6]])"
      ]
     },
     "execution_count": 114,
     "metadata": {},
     "output_type": "execute_result"
    }
   ],
   "source": [
    "A.T"
   ]
  },
  {
   "cell_type": "code",
   "execution_count": 115,
   "id": "4fa902ff-bb07-4b57-af95-3b4859d8076b",
   "metadata": {},
   "outputs": [
    {
     "data": {
      "text/plain": [
       "array([ 0,  1,  2,  3,  4,  5,  6,  7,  8,  9, 10, 11])"
      ]
     },
     "execution_count": 115,
     "metadata": {},
     "output_type": "execute_result"
    }
   ],
   "source": [
    "a = np.arange(12)\n",
    "a"
   ]
  },
  {
   "cell_type": "code",
   "execution_count": 117,
   "id": "163d1b0c-f4c5-4ba7-97cc-eba3dd7856ba",
   "metadata": {},
   "outputs": [
    {
     "data": {
      "text/plain": [
       "array([[ 0,  1,  2,  3],\n",
       "       [ 4,  5,  6,  7],\n",
       "       [ 8,  9, 10, 11]])"
      ]
     },
     "execution_count": 117,
     "metadata": {},
     "output_type": "execute_result"
    }
   ],
   "source": [
    "b = a.reshape(3,4)\n",
    "b "
   ]
  },
  {
   "cell_type": "code",
   "execution_count": 124,
   "id": "65dda378-bb2b-4a0d-943f-43e95c0a02e6",
   "metadata": {},
   "outputs": [
    {
     "data": {
      "text/plain": [
       "array([[ 0,  1,  2,  3],\n",
       "       [ 4,  5,  6,  7],\n",
       "       [ 8,  9, 10, 11]])"
      ]
     },
     "execution_count": 124,
     "metadata": {},
     "output_type": "execute_result"
    }
   ],
   "source": [
    "a.reshape(3,-1)"
   ]
  },
  {
   "cell_type": "code",
   "execution_count": 119,
   "id": "d5530470-aa9d-4f65-aa53-8d396be30451",
   "metadata": {},
   "outputs": [
    {
     "data": {
      "text/plain": [
       "array([[[ 0,  1,  2],\n",
       "        [ 3,  4,  5]],\n",
       "\n",
       "       [[ 6,  7,  8],\n",
       "        [ 9, 10, 11]]])"
      ]
     },
     "execution_count": 119,
     "metadata": {},
     "output_type": "execute_result"
    }
   ],
   "source": [
    "a.reshape(2,2,-1)"
   ]
  },
  {
   "cell_type": "code",
   "execution_count": 120,
   "id": "56ddefa8-90a9-403f-8b30-bec0c4a22a58",
   "metadata": {},
   "outputs": [
    {
     "data": {
      "text/plain": [
       "array([[[ 0,  1],\n",
       "        [ 2,  3],\n",
       "        [ 4,  5]],\n",
       "\n",
       "       [[ 6,  7],\n",
       "        [ 8,  9],\n",
       "        [10, 11]]])"
      ]
     },
     "execution_count": 120,
     "metadata": {},
     "output_type": "execute_result"
    }
   ],
   "source": [
    "a.reshape(2,-1,2)"
   ]
  },
  {
   "cell_type": "code",
   "execution_count": 121,
   "id": "f122dc73-d1aa-414b-8b01-24b369fcc6a9",
   "metadata": {},
   "outputs": [
    {
     "data": {
      "text/plain": [
       "array([ 0,  1,  2,  3,  4,  5,  6,  7,  8,  9, 10, 11])"
      ]
     },
     "execution_count": 121,
     "metadata": {},
     "output_type": "execute_result"
    }
   ],
   "source": [
    "a.reshape(2,-1,2).flatten()"
   ]
  },
  {
   "cell_type": "code",
   "execution_count": 122,
   "id": "9be7677e-2e3d-4609-83eb-72a74a6196e8",
   "metadata": {},
   "outputs": [
    {
     "data": {
      "text/plain": [
       "array([ 0,  1,  2,  3,  4,  5,  6,  7,  8,  9, 10, 11])"
      ]
     },
     "execution_count": 122,
     "metadata": {},
     "output_type": "execute_result"
    }
   ],
   "source": [
    "a.reshape(2,-1,2).ravel()"
   ]
  },
  {
   "cell_type": "code",
   "execution_count": 125,
   "id": "9bcbd538-60af-49cd-84ef-62421e83e505",
   "metadata": {},
   "outputs": [
    {
     "data": {
      "text/plain": [
       "array([0, 1, 2, 3, 4])"
      ]
     },
     "execution_count": 125,
     "metadata": {},
     "output_type": "execute_result"
    }
   ],
   "source": [
    "x = np.arange(5)\n",
    "x"
   ]
  },
  {
   "cell_type": "code",
   "execution_count": 126,
   "id": "6c76af20-a1de-406c-a191-63fad4cf3d81",
   "metadata": {},
   "outputs": [
    {
     "data": {
      "text/plain": [
       "array([[0, 1, 2, 3, 4]])"
      ]
     },
     "execution_count": 126,
     "metadata": {},
     "output_type": "execute_result"
    }
   ],
   "source": [
    "x.reshape(1,5)"
   ]
  },
  {
   "cell_type": "code",
   "execution_count": 127,
   "id": "8ae33dc7-8003-49bb-9f58-c07fe9a76065",
   "metadata": {},
   "outputs": [
    {
     "data": {
      "text/plain": [
       "array([[0],\n",
       "       [1],\n",
       "       [2],\n",
       "       [3],\n",
       "       [4]])"
      ]
     },
     "execution_count": 127,
     "metadata": {},
     "output_type": "execute_result"
    }
   ],
   "source": [
    "x.reshape(5,1)"
   ]
  },
  {
   "cell_type": "code",
   "execution_count": 128,
   "id": "ee0c2715-b491-425c-95cd-9c46efc013ba",
   "metadata": {},
   "outputs": [
    {
     "data": {
      "text/plain": [
       "array([[0],\n",
       "       [1],\n",
       "       [2],\n",
       "       [3],\n",
       "       [4]])"
      ]
     },
     "execution_count": 128,
     "metadata": {},
     "output_type": "execute_result"
    }
   ],
   "source": [
    "x[:,np.newaxis]"
   ]
  },
  {
   "cell_type": "code",
   "execution_count": 131,
   "id": "ebd2d3d4-b1d8-4b80-a0c1-d2fdd826550a",
   "metadata": {},
   "outputs": [
    {
     "data": {
      "text/plain": [
       "array([[1., 1., 1., 0., 0.],\n",
       "       [1., 1., 1., 0., 0.]])"
      ]
     },
     "execution_count": 131,
     "metadata": {},
     "output_type": "execute_result"
    }
   ],
   "source": [
    "a1 = np.ones((2,3))\n",
    "a2 = np.zeros((2,2))\n",
    "np.hstack([a1,a2])"
   ]
  },
  {
   "cell_type": "code",
   "execution_count": 133,
   "id": "cfdaaed2-dbfa-4f8d-bac8-f9fee7668815",
   "metadata": {},
   "outputs": [
    {
     "data": {
      "text/plain": [
       "array([[1., 1., 1.],\n",
       "       [1., 1., 1.],\n",
       "       [0., 0., 0.],\n",
       "       [0., 0., 0.],\n",
       "       [0., 0., 0.]])"
      ]
     },
     "execution_count": 133,
     "metadata": {},
     "output_type": "execute_result"
    }
   ],
   "source": [
    "b1 = np.ones((2,3))\n",
    "b2 = np.zeros((3,3))\n",
    "np.vstack([b1,b2])"
   ]
  },
  {
   "cell_type": "code",
   "execution_count": 134,
   "id": "df58621b-aa14-4230-8b2c-dd486470d8ad",
   "metadata": {},
   "outputs": [
    {
     "data": {
      "text/plain": [
       "array([[[1., 0.],\n",
       "        [1., 0.],\n",
       "        [1., 0.],\n",
       "        [1., 0.]],\n",
       "\n",
       "       [[1., 0.],\n",
       "        [1., 0.],\n",
       "        [1., 0.],\n",
       "        [1., 0.]],\n",
       "\n",
       "       [[1., 0.],\n",
       "        [1., 0.],\n",
       "        [1., 0.],\n",
       "        [1., 0.]]])"
      ]
     },
     "execution_count": 134,
     "metadata": {},
     "output_type": "execute_result"
    }
   ],
   "source": [
    "c1 = np.ones((3,4))\n",
    "c2 = np.zeros((3,4))\n",
    "np.dstack([c1,c2])"
   ]
  },
  {
   "cell_type": "code",
   "execution_count": 135,
   "id": "35d2c669-f872-4c24-9cda-a54419a32117",
   "metadata": {},
   "outputs": [
    {
     "data": {
      "text/plain": [
       "array([[[1., 1., 1., 1.],\n",
       "        [1., 1., 1., 1.],\n",
       "        [1., 1., 1., 1.]],\n",
       "\n",
       "       [[0., 0., 0., 0.],\n",
       "        [0., 0., 0., 0.],\n",
       "        [0., 0., 0., 0.]]])"
      ]
     },
     "execution_count": 135,
     "metadata": {},
     "output_type": "execute_result"
    }
   ],
   "source": [
    "c = np.stack([c1,c2])\n",
    "c"
   ]
  },
  {
   "cell_type": "code",
   "execution_count": 136,
   "id": "5d5fcbd1-628d-431f-827c-e47ce076b4ce",
   "metadata": {},
   "outputs": [
    {
     "data": {
      "text/plain": [
       "(2, 3, 4)"
      ]
     },
     "execution_count": 136,
     "metadata": {},
     "output_type": "execute_result"
    }
   ],
   "source": [
    "c.shape"
   ]
  },
  {
   "cell_type": "code",
   "execution_count": 137,
   "id": "1aa7df13-abbe-4652-9d02-d9acfb2cf2c0",
   "metadata": {},
   "outputs": [
    {
     "data": {
      "text/plain": [
       "array([[[1., 1., 1., 1.],\n",
       "        [0., 0., 0., 0.]],\n",
       "\n",
       "       [[1., 1., 1., 1.],\n",
       "        [0., 0., 0., 0.]],\n",
       "\n",
       "       [[1., 1., 1., 1.],\n",
       "        [0., 0., 0., 0.]]])"
      ]
     },
     "execution_count": 137,
     "metadata": {},
     "output_type": "execute_result"
    }
   ],
   "source": [
    "c = np.stack([c1,c2],axis = 1)\n",
    "c"
   ]
  },
  {
   "cell_type": "code",
   "execution_count": 138,
   "id": "e9e4d5b9-78e6-442c-a531-a18576a2bec7",
   "metadata": {},
   "outputs": [
    {
     "data": {
      "text/plain": [
       "array([[[1., 0.],\n",
       "        [1., 0.],\n",
       "        [1., 0.],\n",
       "        [1., 0.]],\n",
       "\n",
       "       [[1., 0.],\n",
       "        [1., 0.],\n",
       "        [1., 0.],\n",
       "        [1., 0.]],\n",
       "\n",
       "       [[1., 0.],\n",
       "        [1., 0.],\n",
       "        [1., 0.],\n",
       "        [1., 0.]]])"
      ]
     },
     "execution_count": 138,
     "metadata": {},
     "output_type": "execute_result"
    }
   ],
   "source": [
    "c = np.stack([c1,c2],axis = 2)\n",
    "c"
   ]
  },
  {
   "cell_type": "code",
   "execution_count": 140,
   "id": "65271e2c-9de3-4ef8-b796-c48e2fd009c0",
   "metadata": {},
   "outputs": [
    {
     "data": {
      "text/plain": [
       "array([1, 2, 3, 4, 5, 6])"
      ]
     },
     "execution_count": 140,
     "metadata": {},
     "output_type": "execute_result"
    }
   ],
   "source": [
    "np.r_[np.array([1,2,3]),np.array([4,5,6])]"
   ]
  },
  {
   "cell_type": "code",
   "execution_count": 143,
   "id": "cd68c5d9-1937-4cf4-aaa5-065a3ce96dad",
   "metadata": {},
   "outputs": [
    {
     "data": {
      "text/plain": [
       "array([[1, 4],\n",
       "       [2, 5],\n",
       "       [3, 6]])"
      ]
     },
     "execution_count": 143,
     "metadata": {},
     "output_type": "execute_result"
    }
   ],
   "source": [
    "np.c_[np.array([1,2,3]),np.array([4,5,6])]"
   ]
  },
  {
   "cell_type": "code",
   "execution_count": 145,
   "id": "ca6acc8b-c7a4-4e47-82c4-b48ac687c83e",
   "metadata": {},
   "outputs": [
    {
     "data": {
      "text/plain": [
       "array([[0, 1, 2, 0, 1, 2],\n",
       "       [3, 4, 5, 3, 4, 5]])"
      ]
     },
     "execution_count": 145,
     "metadata": {},
     "output_type": "execute_result"
    }
   ],
   "source": [
    "a = np.array([[0,1,2],[3,4,5]])\n",
    "np.tile(a,2)"
   ]
  },
  {
   "cell_type": "code",
   "execution_count": 146,
   "id": "53fae3da-d8eb-49b3-aa3e-34a0f6155cb0",
   "metadata": {},
   "outputs": [
    {
     "data": {
      "text/plain": [
       "array([[0, 1, 2, 0, 1, 2],\n",
       "       [3, 4, 5, 3, 4, 5],\n",
       "       [0, 1, 2, 0, 1, 2],\n",
       "       [3, 4, 5, 3, 4, 5],\n",
       "       [0, 1, 2, 0, 1, 2],\n",
       "       [3, 4, 5, 3, 4, 5]])"
      ]
     },
     "execution_count": 146,
     "metadata": {},
     "output_type": "execute_result"
    }
   ],
   "source": [
    "np.tile(a,(3,2))"
   ]
  },
  {
   "cell_type": "code",
   "execution_count": 175,
   "id": "936e0c58-23bc-4108-abe9-6cfccad8f01f",
   "metadata": {},
   "outputs": [
    {
     "data": {
      "text/plain": [
       "array([[  0.,   0.,   0.,   1.,   1.],\n",
       "       [  0.,   0.,   0.,   1.,   1.],\n",
       "       [  0.,   0.,   0.,   1.,   1.],\n",
       "       [ 10.,  20.,  30.,  40.,  50.],\n",
       "       [ 60.,  70.,  80.,  90., 100.],\n",
       "       [110., 120., 130., 140., 150.],\n",
       "       [  0.,   0.,   0.,   1.,   1.],\n",
       "       [  0.,   0.,   0.,   1.,   1.],\n",
       "       [  0.,   0.,   0.,   1.,   1.],\n",
       "       [ 10.,  20.,  30.,  40.,  50.],\n",
       "       [ 60.,  70.,  80.,  90., 100.],\n",
       "       [110., 120., 130., 140., 150.]])"
      ]
     },
     "execution_count": 175,
     "metadata": {},
     "output_type": "execute_result"
    }
   ],
   "source": [
    "q = np.zeros([3,3])\n",
    "w = np.ones([3,2])\n",
    "qw= np.hstack([q,w])\n",
    "e = np.arange(10,151,10).reshape(3,5)\n",
    "qwe = np.vstack([qw,e])\n",
    "np.tile(qwe,(2,1))"
   ]
  },
  {
   "cell_type": "code",
   "execution_count": 176,
   "id": "4e4cc3a9-9b61-4624-9d46-b59dafc71b0a",
   "metadata": {},
   "outputs": [],
   "source": [
    "x = np.arange(1,10001)\n",
    "y = np.arange(10001,20001)"
   ]
  },
  {
   "cell_type": "code",
   "execution_count": 177,
   "id": "67c4a650-9ccf-42d8-a182-1d5fd0557086",
   "metadata": {},
   "outputs": [
    {
     "name": "stdout",
     "output_type": "stream",
     "text": [
      "Wall time: 2.99 ms\n"
     ]
    }
   ],
   "source": [
    "%%time\n",
    "z = np.zeros_like(x)\n",
    "for i in range(10000):\n",
    "    z[i] = x[i] + y[i]"
   ]
  },
  {
   "cell_type": "code",
   "execution_count": 178,
   "id": "29c3edd8-0ce5-4e87-9e66-4c4e287b5e5e",
   "metadata": {},
   "outputs": [
    {
     "data": {
      "text/plain": [
       "array([10002, 10004, 10006, 10008, 10010, 10012, 10014, 10016, 10018,\n",
       "       10020])"
      ]
     },
     "execution_count": 178,
     "metadata": {},
     "output_type": "execute_result"
    }
   ],
   "source": [
    "z[:10]"
   ]
  },
  {
   "cell_type": "code",
   "execution_count": 182,
   "id": "a8d07ffe-ed00-48b3-a14a-de8ac5a236bb",
   "metadata": {},
   "outputs": [
    {
     "data": {
      "text/plain": [
       "array([False,  True,  True,  True])"
      ]
     },
     "execution_count": 182,
     "metadata": {},
     "output_type": "execute_result"
    }
   ],
   "source": [
    "a = np.array([1,2,3,4])\n",
    "b = np.array([4,2,2,4])\n",
    "c = np.array([1,2,3,4])\n",
    "#a==b\n",
    "\n",
    "a>=b"
   ]
  },
  {
   "cell_type": "code",
   "execution_count": 183,
   "id": "5a42ebbb-d62b-41da-8db0-9bc3bf7f3ecd",
   "metadata": {},
   "outputs": [
    {
     "data": {
      "text/plain": [
       "False"
      ]
     },
     "execution_count": 183,
     "metadata": {},
     "output_type": "execute_result"
    }
   ],
   "source": [
    "np.all(a==b)"
   ]
  },
  {
   "cell_type": "code",
   "execution_count": 184,
   "id": "a0bdf81a-2d4e-4b0e-9e39-89fc93d12f9e",
   "metadata": {},
   "outputs": [
    {
     "data": {
      "text/plain": [
       "True"
      ]
     },
     "execution_count": 184,
     "metadata": {},
     "output_type": "execute_result"
    }
   ],
   "source": [
    "np.all(a==c)"
   ]
  },
  {
   "cell_type": "code",
   "execution_count": 185,
   "id": "be894046-545a-454e-9f07-d91f62eb92cc",
   "metadata": {},
   "outputs": [
    {
     "data": {
      "text/plain": [
       "array([0, 1, 2, 3, 4, 5, 6, 7, 8, 9])"
      ]
     },
     "execution_count": 185,
     "metadata": {},
     "output_type": "execute_result"
    }
   ],
   "source": [
    "x = np.arange(10)\n",
    "x"
   ]
  },
  {
   "cell_type": "code",
   "execution_count": 186,
   "id": "db854467-7ff9-43fb-bcb7-63d3f06ec262",
   "metadata": {},
   "outputs": [
    {
     "data": {
      "text/plain": [
       "array([  0, 100, 200, 300, 400, 500, 600, 700, 800, 900])"
      ]
     },
     "execution_count": 186,
     "metadata": {},
     "output_type": "execute_result"
    }
   ],
   "source": [
    "100 * x"
   ]
  },
  {
   "cell_type": "code",
   "execution_count": 187,
   "id": "2e0f7abf-83a5-4e47-b1ff-6aa017b07e56",
   "metadata": {},
   "outputs": [
    {
     "data": {
      "text/plain": [
       "array([[ 0,  1,  2,  3],\n",
       "       [ 4,  5,  6,  7],\n",
       "       [ 8,  9, 10, 11]])"
      ]
     },
     "execution_count": 187,
     "metadata": {},
     "output_type": "execute_result"
    }
   ],
   "source": [
    "x = np.arange(12).reshape(3,4)\n",
    "x"
   ]
  },
  {
   "cell_type": "code",
   "execution_count": 188,
   "id": "70b481e0-7fe0-4090-bd5f-d94c838f8793",
   "metadata": {},
   "outputs": [
    {
     "data": {
      "text/plain": [
       "array([[   0,  100,  200,  300],\n",
       "       [ 400,  500,  600,  700],\n",
       "       [ 800,  900, 1000, 1100]])"
      ]
     },
     "execution_count": 188,
     "metadata": {},
     "output_type": "execute_result"
    }
   ],
   "source": [
    "100*x"
   ]
  },
  {
   "cell_type": "code",
   "execution_count": 190,
   "id": "bc930e8f-c365-4993-a535-b097fa12e1fc",
   "metadata": {},
   "outputs": [
    {
     "data": {
      "text/plain": [
       "array([2., 4., 6.])"
      ]
     },
     "execution_count": 190,
     "metadata": {},
     "output_type": "execute_result"
    }
   ],
   "source": [
    "a = np.array([1.0,2.0,3.0])\n",
    "b = np.array([2.0,2.0,2.0])\n",
    "a*b"
   ]
  },
  {
   "cell_type": "code",
   "execution_count": 191,
   "id": "35233fdd-2e26-4c93-8255-5fc81e958efd",
   "metadata": {},
   "outputs": [
    {
     "data": {
      "text/plain": [
       "10"
      ]
     },
     "execution_count": 191,
     "metadata": {},
     "output_type": "execute_result"
    }
   ],
   "source": [
    "x = np.array([1,2,3,4])\n",
    "np.sum(x)"
   ]
  },
  {
   "cell_type": "code",
   "execution_count": 192,
   "id": "e82b3321-ff49-439d-b2f6-75c4d1f456c9",
   "metadata": {},
   "outputs": [
    {
     "data": {
      "text/plain": [
       "10"
      ]
     },
     "execution_count": 192,
     "metadata": {},
     "output_type": "execute_result"
    }
   ],
   "source": [
    "x.sum()"
   ]
  },
  {
   "cell_type": "code",
   "execution_count": 196,
   "id": "acd999e5-066b-4818-b42c-bc8e55a6bd38",
   "metadata": {},
   "outputs": [],
   "source": [
    "x = np.arange(12).reshape(3,-1)"
   ]
  },
  {
   "cell_type": "code",
   "execution_count": 198,
   "id": "f80dba72-4d97-41fd-843e-2cee7f78ac4e",
   "metadata": {},
   "outputs": [
    {
     "data": {
      "text/plain": [
       "array([12, 15, 18, 21])"
      ]
     },
     "execution_count": 198,
     "metadata": {},
     "output_type": "execute_result"
    }
   ],
   "source": [
    "x.sum(axis=0)"
   ]
  },
  {
   "cell_type": "code",
   "execution_count": 199,
   "id": "f6e3cf31-5174-4581-a4fc-4193fd01f9f1",
   "metadata": {},
   "outputs": [
    {
     "data": {
      "text/plain": [
       "array([ 6, 22, 38])"
      ]
     },
     "execution_count": 199,
     "metadata": {},
     "output_type": "execute_result"
    }
   ],
   "source": [
    "x.sum(axis=1)"
   ]
  },
  {
   "cell_type": "code",
   "execution_count": 201,
   "id": "fab51d6a-6241-4e92-a78b-c36b0361b5cf",
   "metadata": {},
   "outputs": [
    {
     "data": {
      "text/plain": [
       "array([[[ 0,  1],\n",
       "        [ 2,  3],\n",
       "        [ 4,  5],\n",
       "        [ 6,  7],\n",
       "        [ 8,  9]],\n",
       "\n",
       "       [[10, 11],\n",
       "        [12, 13],\n",
       "        [14, 15],\n",
       "        [16, 17],\n",
       "        [18, 19]]])"
      ]
     },
     "execution_count": 201,
     "metadata": {},
     "output_type": "execute_result"
    }
   ],
   "source": [
    "x = np.arange(20).reshape(2,5,-1)\n",
    "x"
   ]
  },
  {
   "cell_type": "code",
   "execution_count": 202,
   "id": "ef44d3e3-a0b7-49c2-a16e-1cbd003853fa",
   "metadata": {},
   "outputs": [
    {
     "data": {
      "text/plain": [
       "0"
      ]
     },
     "execution_count": 202,
     "metadata": {},
     "output_type": "execute_result"
    }
   ],
   "source": [
    "x.min()"
   ]
  },
  {
   "cell_type": "markdown",
   "id": "9924cf91-0486-4d88-9b7f-0833a867ab2f",
   "metadata": {},
   "source": [
    "np.min(4)"
   ]
  },
  {
   "cell_type": "code",
   "execution_count": 203,
   "id": "5eade48f-a7d1-48bd-b683-caf55f8b8ced",
   "metadata": {},
   "outputs": [
    {
     "data": {
      "text/plain": [
       "0"
      ]
     },
     "execution_count": 203,
     "metadata": {},
     "output_type": "execute_result"
    }
   ],
   "source": [
    "np.min(x)"
   ]
  },
  {
   "cell_type": "code",
   "execution_count": null,
   "id": "8b43ae4e-14fc-4e78-9dec-d467c2d352d1",
   "metadata": {},
   "outputs": [],
   "source": [
    "x.min(axis=0)"
   ]
  },
  {
   "cell_type": "code",
   "execution_count": 204,
   "id": "3d544aa8-c0bb-4f01-a982-d9149a2196c0",
   "metadata": {},
   "outputs": [
    {
     "data": {
      "text/plain": [
       "array([[ 0,  1],\n",
       "       [10, 11]])"
      ]
     },
     "execution_count": 204,
     "metadata": {},
     "output_type": "execute_result"
    }
   ],
   "source": [
    "np.min(x,axis=1)"
   ]
  },
  {
   "cell_type": "code",
   "execution_count": 205,
   "id": "63789512-19df-494f-abf7-b93bece195c4",
   "metadata": {},
   "outputs": [
    {
     "data": {
      "text/plain": [
       "array([[ 0,  2,  4,  6,  8],\n",
       "       [10, 12, 14, 16, 18]])"
      ]
     },
     "execution_count": 205,
     "metadata": {},
     "output_type": "execute_result"
    }
   ],
   "source": [
    "x.min(axis=2)"
   ]
  },
  {
   "cell_type": "code",
   "execution_count": 210,
   "id": "85bf8d97-9a98-4cab-93e0-4a3bc68a48a6",
   "metadata": {},
   "outputs": [
    {
     "data": {
      "text/plain": [
       "array([[[ 0,  1],\n",
       "        [ 2,  3],\n",
       "        [ 4,  5],\n",
       "        [ 6,  7],\n",
       "        [ 8,  9]],\n",
       "\n",
       "       [[10, 11],\n",
       "        [12, 13],\n",
       "        [14, 15],\n",
       "        [16, 17],\n",
       "        [18, 19]]])"
      ]
     },
     "execution_count": 210,
     "metadata": {},
     "output_type": "execute_result"
    }
   ],
   "source": [
    "x = np.arange(20).reshape(2,5,-1)\n",
    "x"
   ]
  },
  {
   "cell_type": "code",
   "execution_count": 211,
   "id": "db4366ce-c16c-4db5-a209-6374a8342041",
   "metadata": {},
   "outputs": [
    {
     "data": {
      "text/plain": [
       "0"
      ]
     },
     "execution_count": 211,
     "metadata": {},
     "output_type": "execute_result"
    }
   ],
   "source": [
    "x.argmin()"
   ]
  },
  {
   "cell_type": "code",
   "execution_count": 212,
   "id": "eadd6c8b-a927-472c-808b-f39e455ace59",
   "metadata": {},
   "outputs": [
    {
     "data": {
      "text/plain": [
       "0"
      ]
     },
     "execution_count": 212,
     "metadata": {},
     "output_type": "execute_result"
    }
   ],
   "source": [
    "np.argmin(x)"
   ]
  },
  {
   "cell_type": "code",
   "execution_count": 213,
   "id": "3cd20b32-a264-4cb4-b724-ddaee97172eb",
   "metadata": {},
   "outputs": [
    {
     "data": {
      "text/plain": [
       "array([[0, 0],\n",
       "       [0, 0],\n",
       "       [0, 0],\n",
       "       [0, 0],\n",
       "       [0, 0]], dtype=int64)"
      ]
     },
     "execution_count": 213,
     "metadata": {},
     "output_type": "execute_result"
    }
   ],
   "source": [
    "x.argmin(axis=0)"
   ]
  },
  {
   "cell_type": "code",
   "execution_count": 214,
   "id": "6c1620b1-5651-4156-8f07-3b62d09af247",
   "metadata": {},
   "outputs": [
    {
     "data": {
      "text/plain": [
       "array([[0, 0],\n",
       "       [0, 0]], dtype=int64)"
      ]
     },
     "execution_count": 214,
     "metadata": {},
     "output_type": "execute_result"
    }
   ],
   "source": [
    "np.argmin(x,axis=1)"
   ]
  },
  {
   "cell_type": "code",
   "execution_count": 215,
   "id": "08982164-450b-40f7-ba65-d7c7ac784e10",
   "metadata": {},
   "outputs": [
    {
     "data": {
      "text/plain": [
       "array([[0, 0, 0, 0, 0],\n",
       "       [0, 0, 0, 0, 0]], dtype=int64)"
      ]
     },
     "execution_count": 215,
     "metadata": {},
     "output_type": "execute_result"
    }
   ],
   "source": [
    "x.argmin(axis=2)"
   ]
  },
  {
   "cell_type": "code",
   "execution_count": 217,
   "id": "136755ac-94ae-4044-a2fc-ffb1f3bf0a8a",
   "metadata": {},
   "outputs": [],
   "source": [
    "x = np.arange(20).reshape(2,5,-1)"
   ]
  },
  {
   "cell_type": "code",
   "execution_count": 218,
   "id": "64bd2f19-961c-4d87-836f-7023b1ffeb66",
   "metadata": {},
   "outputs": [
    {
     "data": {
      "text/plain": [
       "array([[[ 0,  1],\n",
       "        [ 2,  3],\n",
       "        [ 4,  5],\n",
       "        [ 6,  7],\n",
       "        [ 8,  9]],\n",
       "\n",
       "       [[10, 11],\n",
       "        [12, 13],\n",
       "        [14, 15],\n",
       "        [16, 17],\n",
       "        [18, 19]]])"
      ]
     },
     "execution_count": 218,
     "metadata": {},
     "output_type": "execute_result"
    }
   ],
   "source": [
    "x"
   ]
  },
  {
   "cell_type": "code",
   "execution_count": 219,
   "id": "6c738173-02dd-40ea-9049-0bcff10d7bb0",
   "metadata": {},
   "outputs": [
    {
     "data": {
      "text/plain": [
       "19"
      ]
     },
     "execution_count": 219,
     "metadata": {},
     "output_type": "execute_result"
    }
   ],
   "source": [
    "x.max()"
   ]
  },
  {
   "cell_type": "code",
   "execution_count": 220,
   "id": "e5a19cb3-a69a-4b24-a35e-a3c0f69c4eaf",
   "metadata": {},
   "outputs": [
    {
     "data": {
      "text/plain": [
       "array([[10, 11],\n",
       "       [12, 13],\n",
       "       [14, 15],\n",
       "       [16, 17],\n",
       "       [18, 19]])"
      ]
     },
     "execution_count": 220,
     "metadata": {},
     "output_type": "execute_result"
    }
   ],
   "source": [
    "x.max(axis=0)"
   ]
  },
  {
   "cell_type": "code",
   "execution_count": 221,
   "id": "d85c1c41-da7f-458f-af0e-975c769a86e4",
   "metadata": {},
   "outputs": [
    {
     "data": {
      "text/plain": [
       "array([[ 8,  9],\n",
       "       [18, 19]])"
      ]
     },
     "execution_count": 221,
     "metadata": {},
     "output_type": "execute_result"
    }
   ],
   "source": [
    "np.max(x,axis=1)"
   ]
  },
  {
   "cell_type": "code",
   "execution_count": 222,
   "id": "5d789bde-a41b-4d53-8e6a-a5d8965350dd",
   "metadata": {},
   "outputs": [
    {
     "data": {
      "text/plain": [
       "array([[ 1,  3,  5,  7,  9],\n",
       "       [11, 13, 15, 17, 19]])"
      ]
     },
     "execution_count": 222,
     "metadata": {},
     "output_type": "execute_result"
    }
   ],
   "source": [
    "x.max(axis=2)"
   ]
  },
  {
   "cell_type": "code",
   "execution_count": 223,
   "id": "0a532150-2245-4181-ad05-fd57a83983eb",
   "metadata": {},
   "outputs": [],
   "source": [
    "x = np.arange(20).reshape(2,5,-1)"
   ]
  },
  {
   "cell_type": "code",
   "execution_count": 224,
   "id": "2b0e233f-1925-4f1a-8efe-3e3530f3e128",
   "metadata": {},
   "outputs": [
    {
     "data": {
      "text/plain": [
       "array([[[ 0,  1],\n",
       "        [ 2,  3],\n",
       "        [ 4,  5],\n",
       "        [ 6,  7],\n",
       "        [ 8,  9]],\n",
       "\n",
       "       [[10, 11],\n",
       "        [12, 13],\n",
       "        [14, 15],\n",
       "        [16, 17],\n",
       "        [18, 19]]])"
      ]
     },
     "execution_count": 224,
     "metadata": {},
     "output_type": "execute_result"
    }
   ],
   "source": [
    "x"
   ]
  },
  {
   "cell_type": "code",
   "execution_count": 225,
   "id": "17cc8e64-0890-4b82-80be-3624b90bbaf1",
   "metadata": {},
   "outputs": [
    {
     "data": {
      "text/plain": [
       "19"
      ]
     },
     "execution_count": 225,
     "metadata": {},
     "output_type": "execute_result"
    }
   ],
   "source": [
    "x.argmax()"
   ]
  },
  {
   "cell_type": "code",
   "execution_count": 227,
   "id": "d0b427aa-1fc1-4ddc-a8d3-36cc30e6251c",
   "metadata": {},
   "outputs": [
    {
     "data": {
      "text/plain": [
       "19"
      ]
     },
     "execution_count": 227,
     "metadata": {},
     "output_type": "execute_result"
    }
   ],
   "source": [
    "np.argmax(x)"
   ]
  },
  {
   "cell_type": "code",
   "execution_count": 228,
   "id": "f594bc85-5862-40a7-96cf-ca3b0846089a",
   "metadata": {},
   "outputs": [
    {
     "data": {
      "text/plain": [
       "array([[1, 1],\n",
       "       [1, 1],\n",
       "       [1, 1],\n",
       "       [1, 1],\n",
       "       [1, 1]], dtype=int64)"
      ]
     },
     "execution_count": 228,
     "metadata": {},
     "output_type": "execute_result"
    }
   ],
   "source": [
    "x.argmax(axis=0)"
   ]
  },
  {
   "cell_type": "code",
   "execution_count": 231,
   "id": "32e088ba-45a1-4ad3-9535-ff241105b279",
   "metadata": {},
   "outputs": [
    {
     "data": {
      "text/plain": [
       "array([[4, 4],\n",
       "       [4, 4]], dtype=int64)"
      ]
     },
     "execution_count": 231,
     "metadata": {},
     "output_type": "execute_result"
    }
   ],
   "source": [
    "np.argmax(x,axis=1)"
   ]
  },
  {
   "cell_type": "code",
   "execution_count": 233,
   "id": "c09196ab-70a5-400e-b29d-e405d05efdd1",
   "metadata": {},
   "outputs": [
    {
     "data": {
      "text/plain": [
       "array([[1, 1, 1, 1, 1],\n",
       "       [1, 1, 1, 1, 1]], dtype=int64)"
      ]
     },
     "execution_count": 233,
     "metadata": {},
     "output_type": "execute_result"
    }
   ],
   "source": [
    "x.argmax(axis=2)"
   ]
  },
  {
   "cell_type": "code",
   "execution_count": 234,
   "id": "02806fbf-b2c5-4483-bf76-615bd77ffd9d",
   "metadata": {},
   "outputs": [
    {
     "data": {
      "text/plain": [
       "1.75"
      ]
     },
     "execution_count": 234,
     "metadata": {},
     "output_type": "execute_result"
    }
   ],
   "source": [
    "x=np.array([1,2,3,1])\n",
    "x.mean()"
   ]
  },
  {
   "cell_type": "code",
   "execution_count": 235,
   "id": "5063982a-72c7-4661-b9d7-e1742446d0c6",
   "metadata": {},
   "outputs": [
    {
     "data": {
      "text/plain": [
       "1.5"
      ]
     },
     "execution_count": 235,
     "metadata": {},
     "output_type": "execute_result"
    }
   ],
   "source": [
    "np.median(x)"
   ]
  },
  {
   "cell_type": "code",
   "execution_count": 236,
   "id": "2024fc85-cb04-44a2-b0be-4b2632b36ada",
   "metadata": {},
   "outputs": [
    {
     "data": {
      "text/plain": [
       "False"
      ]
     },
     "execution_count": 236,
     "metadata": {},
     "output_type": "execute_result"
    }
   ],
   "source": [
    "np.all([True,True,False])"
   ]
  },
  {
   "cell_type": "code",
   "execution_count": 243,
   "id": "384a1c91-e3d8-4c6a-be43-796210546244",
   "metadata": {},
   "outputs": [
    {
     "data": {
      "text/plain": [
       "True"
      ]
     },
     "execution_count": 243,
     "metadata": {},
     "output_type": "execute_result"
    }
   ],
   "source": [
    "np.any([True,True,False])"
   ]
  },
  {
   "cell_type": "code",
   "execution_count": null,
   "id": "5fa6d445-719c-4ac8-93fc-a702b40245c5",
   "metadata": {},
   "outputs": [],
   "source": []
  },
  {
   "cell_type": "code",
   "execution_count": 238,
   "id": "e6a59ac2-0d0a-42b3-b465-06239f9b1229",
   "metadata": {},
   "outputs": [],
   "source": [
    "practice = np.array([[1.1, 7.1, 8.0, 2.1, 6.5, 7.2],\n",
    "                                [2.7, 5.2, 3.3, 9.0, 7.7, 2.8],\n",
    "                                [0.7, 8.8, 4.2, 8.9, 4.3, 7.4],\n",
    "                                [8.2, 1.1, 5.4, 2.9, 6.9, 0.2],\n",
    "                                [7.4, 4.8, 2.7, 3.1, 2.8, 8.9]])"
   ]
  },
  {
   "cell_type": "code",
   "execution_count": 251,
   "id": "3aa29fee-3afb-4ebc-b206-d8ab1721ffec",
   "metadata": {},
   "outputs": [
    {
     "name": "stdout",
     "output_type": "stream",
     "text": [
      "9.0\n",
      "[20.1 27.  23.6 26.  28.2 26.5]\n",
      "[8.2 8.8 8.  9.  7.7 8.9]\n",
      "[5.33333333 5.11666667 5.71666667 4.11666667 4.95      ]\n",
      "[1.1 2.7 0.7 0.2 2.7]\n"
     ]
    }
   ],
   "source": [
    "#1\n",
    "print(practice.max())\n",
    "#2\n",
    "print(practice.sum(axis=0))\n",
    "#3\n",
    "print(practice.max(axis=0))\n",
    "#4\n",
    "print(practice.mean(axis=1))\n",
    "#5\n",
    "print(practice.min(axis=1))"
   ]
  },
  {
   "cell_type": "code",
   "execution_count": 252,
   "id": "c42fbedf-d4b7-44db-a9de-ecdabf10bdd6",
   "metadata": {},
   "outputs": [
    {
     "data": {
      "text/plain": [
       "array([2, 3, 1, 0], dtype=int64)"
      ]
     },
     "execution_count": 252,
     "metadata": {},
     "output_type": "execute_result"
    }
   ],
   "source": [
    "a = np.array([42,38,12,25])\n",
    "j = np.argsort(a)\n",
    "j"
   ]
  },
  {
   "cell_type": "code",
   "execution_count": 253,
   "id": "a2681620-911b-45c1-8403-38123faa7524",
   "metadata": {},
   "outputs": [
    {
     "data": {
      "text/plain": [
       "array([12, 25, 38, 42])"
      ]
     },
     "execution_count": 253,
     "metadata": {},
     "output_type": "execute_result"
    }
   ],
   "source": [
    "a[j]"
   ]
  },
  {
   "cell_type": "code",
   "execution_count": 255,
   "id": "af862e8e-d5ff-4d79-9343-c80bb7b8fb42",
   "metadata": {},
   "outputs": [
    {
     "name": "stdout",
     "output_type": "stream",
     "text": [
      "[1 4 5]\n"
     ]
    }
   ],
   "source": [
    "a = np.array([[1,2],[3,4],[5,6]])\n",
    "print(a[[0,1,2],[0,1,0]])"
   ]
  },
  {
   "cell_type": "code",
   "execution_count": 264,
   "id": "a8659907-6da6-490d-bd59-0d2a7c285deb",
   "metadata": {},
   "outputs": [
    {
     "name": "stdout",
     "output_type": "stream",
     "text": [
      "[[1 2 1]\n",
      " [3 4 3]\n",
      " [5 6 5]]\n"
     ]
    }
   ],
   "source": [
    "print(a[:,[0,1,0]])"
   ]
  },
  {
   "cell_type": "code",
   "execution_count": null,
   "id": "b598cbc9-0957-4277-a2bd-02ee2bbb9340",
   "metadata": {},
   "outputs": [],
   "source": [
    "scores = np.array([[1,2,3,4],\n",
    "                   [46,99,100,71],\n",
    "                   [81,59,90,100]])\n"
   ]
  },
  {
   "cell_type": "code",
   "execution_count": 273,
   "id": "1e0b6f8a-44c6-497b-9610-45fde92a5500",
   "metadata": {},
   "outputs": [
    {
     "name": "stdout",
     "output_type": "stream",
     "text": [
      "[[  1   4   2   3]\n",
      " [ 46  71  99 100]\n",
      " [ 81 100  59  90]]\n"
     ]
    }
   ],
   "source": [
    "j = np.argsort(scores[1,:])\n",
    "print(scores[:,j])\n"
   ]
  },
  {
   "cell_type": "code",
   "execution_count": 285,
   "id": "434f2936-b845-48e3-9160-f4bf75fe339e",
   "metadata": {},
   "outputs": [],
   "source": [
    "np.random.seed(0)"
   ]
  },
  {
   "cell_type": "code",
   "execution_count": 286,
   "id": "0e8cb444-f88f-417f-9d6a-acb41c1ae50d",
   "metadata": {},
   "outputs": [
    {
     "data": {
      "text/plain": [
       "array([0.5488135 , 0.71518937, 0.60276338, 0.54488318, 0.4236548 ])"
      ]
     },
     "execution_count": 286,
     "metadata": {},
     "output_type": "execute_result"
    }
   ],
   "source": [
    "np.random.rand(5)"
   ]
  },
  {
   "cell_type": "code",
   "execution_count": 287,
   "id": "77c1ea42-bb39-494b-bfeb-2d252511f0d0",
   "metadata": {},
   "outputs": [
    {
     "data": {
      "text/plain": [
       "array([0.64589411, 0.43758721, 0.891773  , 0.96366276, 0.38344152,\n",
       "       0.79172504, 0.52889492, 0.56804456, 0.92559664, 0.07103606])"
      ]
     },
     "execution_count": 287,
     "metadata": {},
     "output_type": "execute_result"
    }
   ],
   "source": [
    "np.random.rand(10)"
   ]
  },
  {
   "cell_type": "code",
   "execution_count": 288,
   "id": "01298c1b-8464-4374-af6d-1dd28206c7e2",
   "metadata": {},
   "outputs": [
    {
     "data": {
      "text/plain": [
       "array([0.0871293 , 0.0202184 , 0.83261985, 0.77815675, 0.87001215,\n",
       "       0.97861834, 0.79915856, 0.46147936, 0.78052918, 0.11827443])"
      ]
     },
     "execution_count": 288,
     "metadata": {},
     "output_type": "execute_result"
    }
   ],
   "source": [
    "np.random.rand(10)"
   ]
  },
  {
   "cell_type": "code",
   "execution_count": 289,
   "id": "99ad4852-dde7-4b97-9a79-6e1345940fd4",
   "metadata": {},
   "outputs": [],
   "source": [
    "x = np.arange(10)"
   ]
  },
  {
   "cell_type": "code",
   "execution_count": 290,
   "id": "1d8460a3-295c-4d8f-bd0f-fcce2530a646",
   "metadata": {},
   "outputs": [
    {
     "data": {
      "text/plain": [
       "array([3, 6, 4, 5, 2, 9, 7, 8, 1, 0])"
      ]
     },
     "execution_count": 290,
     "metadata": {},
     "output_type": "execute_result"
    }
   ],
   "source": [
    "np.random.shuffle(x)\n",
    "x"
   ]
  },
  {
   "cell_type": "code",
   "execution_count": 311,
   "id": "2a45a4ba-3e2c-4fa6-8348-406c63dfb937",
   "metadata": {},
   "outputs": [
    {
     "name": "stdout",
     "output_type": "stream",
     "text": [
      "0.56\n"
     ]
    }
   ],
   "source": [
    "np.random.seed(0)\n",
    "a = np.random.randint(0,2,size=100)\n",
    "count=0\n",
    "for i in a:\n",
    "    if i == 1:\n",
    "        count += 1\n",
    "print(count/100)"
   ]
  },
  {
   "cell_type": "code",
   "execution_count": 313,
   "id": "c8e78a2d-bd27-42f9-8b4d-5bfb3fe36037",
   "metadata": {},
   "outputs": [
    {
     "data": {
      "text/plain": [
       "3.42"
      ]
     },
     "execution_count": 313,
     "metadata": {},
     "output_type": "execute_result"
    }
   ],
   "source": [
    "np.random.seed(0)\n",
    "b = np.random.randint(1,7,size=100)\n",
    "#print(b.sum()/100)\n",
    "b.mean()"
   ]
  },
  {
   "cell_type": "code",
   "execution_count": 314,
   "id": "67667544-7f8f-4153-9f86-21f80688fb22",
   "metadata": {},
   "outputs": [
    {
     "data": {
      "text/plain": [
       "array([ 2, 11, 34])"
      ]
     },
     "execution_count": 314,
     "metadata": {},
     "output_type": "execute_result"
    }
   ],
   "source": [
    "np.unique([11,11,2,2,34,34])"
   ]
  },
  {
   "cell_type": "code",
   "execution_count": 315,
   "id": "945a027d-90d9-4cfa-8829-049d2262c72f",
   "metadata": {},
   "outputs": [],
   "source": [
    "a = np.array(['a','b','b','c','a'])\n",
    "index, count = np.unique(a,return_counts=True)"
   ]
  },
  {
   "cell_type": "code",
   "execution_count": 316,
   "id": "b9226fd5-f101-46bf-85eb-b62ca2160544",
   "metadata": {},
   "outputs": [
    {
     "data": {
      "text/plain": [
       "array(['a', 'b', 'c'], dtype='<U1')"
      ]
     },
     "execution_count": 316,
     "metadata": {},
     "output_type": "execute_result"
    }
   ],
   "source": [
    "index"
   ]
  },
  {
   "cell_type": "code",
   "execution_count": 317,
   "id": "f51a3a85-8b86-41f5-944f-722ecd69d26f",
   "metadata": {},
   "outputs": [
    {
     "data": {
      "text/plain": [
       "array([2, 2, 1], dtype=int64)"
      ]
     },
     "execution_count": 317,
     "metadata": {},
     "output_type": "execute_result"
    }
   ],
   "source": [
    "count"
   ]
  },
  {
   "cell_type": "code",
   "execution_count": 319,
   "id": "e454467c-c36f-401c-8d79-10d1418b8869",
   "metadata": {},
   "outputs": [
    {
     "data": {
      "text/plain": [
       "array([0, 2, 3, 1, 0, 0], dtype=int64)"
      ]
     },
     "execution_count": 319,
     "metadata": {},
     "output_type": "execute_result"
    }
   ],
   "source": [
    "np.bincount(([1,1,2,2,2,3]), minlength=6)"
   ]
  },
  {
   "cell_type": "code",
   "execution_count": null,
   "id": "21d6ae69-7037-4dab-9201-c209496a114a",
   "metadata": {},
   "outputs": [],
   "source": []
  },
  {
   "cell_type": "code",
   "execution_count": null,
   "id": "13a41396-a4e5-4bb3-ad80-39d5a9423c6d",
   "metadata": {},
   "outputs": [],
   "source": []
  },
  {
   "cell_type": "code",
   "execution_count": null,
   "id": "d3d23a57-f763-4f66-92d0-e21220baba31",
   "metadata": {},
   "outputs": [],
   "source": []
  },
  {
   "cell_type": "code",
   "execution_count": null,
   "id": "3ddc8be3-54d4-4a3b-b2c7-3e55c7585f90",
   "metadata": {},
   "outputs": [],
   "source": []
  },
  {
   "cell_type": "code",
   "execution_count": null,
   "id": "79c1de51-7574-411b-8327-6fbdd80303b2",
   "metadata": {},
   "outputs": [],
   "source": []
  },
  {
   "cell_type": "code",
   "execution_count": null,
   "id": "3a999ed8-85fa-4ebc-8b79-94e324d580a9",
   "metadata": {},
   "outputs": [],
   "source": []
  },
  {
   "cell_type": "code",
   "execution_count": null,
   "id": "a40302fb-51db-456f-959a-bea5c506654a",
   "metadata": {},
   "outputs": [],
   "source": []
  },
  {
   "cell_type": "code",
   "execution_count": null,
   "id": "1df6a385-1076-42c3-828a-aa1636d577e3",
   "metadata": {},
   "outputs": [],
   "source": []
  },
  {
   "cell_type": "code",
   "execution_count": null,
   "id": "9ad5d6c5-7ca1-4648-8647-62496695dab5",
   "metadata": {},
   "outputs": [],
   "source": []
  },
  {
   "cell_type": "code",
   "execution_count": null,
   "id": "63c2600e-ba7b-4c1e-acfe-8da898692673",
   "metadata": {},
   "outputs": [],
   "source": []
  },
  {
   "cell_type": "code",
   "execution_count": null,
   "id": "a3c2ca50-09a5-4ab4-a228-b7f6a84b46f3",
   "metadata": {},
   "outputs": [],
   "source": []
  },
  {
   "cell_type": "code",
   "execution_count": null,
   "id": "010a89d9-2caa-44cd-bd07-79850ce581da",
   "metadata": {},
   "outputs": [],
   "source": []
  },
  {
   "cell_type": "code",
   "execution_count": null,
   "id": "3cf1034d-a3e5-41de-b495-581643a8d374",
   "metadata": {},
   "outputs": [],
   "source": []
  },
  {
   "cell_type": "code",
   "execution_count": null,
   "id": "3ddf8fe0-0362-4741-88b5-b710836e1080",
   "metadata": {},
   "outputs": [],
   "source": []
  },
  {
   "cell_type": "code",
   "execution_count": null,
   "id": "24f3d09a-9e9a-416e-b528-2123a2406cd5",
   "metadata": {},
   "outputs": [],
   "source": []
  },
  {
   "cell_type": "code",
   "execution_count": null,
   "id": "62b6ae74-5a31-4755-a2d7-b675fb85dba0",
   "metadata": {},
   "outputs": [],
   "source": []
  },
  {
   "cell_type": "code",
   "execution_count": null,
   "id": "fe9680ad-ea20-4ec5-81b7-2de9989974be",
   "metadata": {},
   "outputs": [],
   "source": []
  },
  {
   "cell_type": "code",
   "execution_count": null,
   "id": "56827421-8afd-4723-9c01-72d0ca0d13d4",
   "metadata": {},
   "outputs": [],
   "source": []
  },
  {
   "cell_type": "code",
   "execution_count": null,
   "id": "d72710bf-3cb1-4de9-a1ba-7a4efccfe967",
   "metadata": {},
   "outputs": [],
   "source": []
  },
  {
   "cell_type": "code",
   "execution_count": null,
   "id": "d4c3e318-7997-4643-b839-991738ae8e28",
   "metadata": {},
   "outputs": [],
   "source": []
  },
  {
   "cell_type": "code",
   "execution_count": null,
   "id": "3cf962de-4992-47dd-962d-b9709e00ce57",
   "metadata": {},
   "outputs": [],
   "source": []
  },
  {
   "cell_type": "code",
   "execution_count": null,
   "id": "1b6194e3-e1e6-4c58-a9a9-2ea0d5195227",
   "metadata": {},
   "outputs": [],
   "source": []
  },
  {
   "cell_type": "code",
   "execution_count": null,
   "id": "bb46a049-11da-43c2-9735-563a66549293",
   "metadata": {},
   "outputs": [],
   "source": []
  },
  {
   "cell_type": "code",
   "execution_count": null,
   "id": "5c21609b-a487-4bde-b5e1-e30c563f5c1f",
   "metadata": {},
   "outputs": [],
   "source": []
  },
  {
   "cell_type": "code",
   "execution_count": null,
   "id": "93c3c1e8-0eea-4076-a99b-7e7be05f10ae",
   "metadata": {},
   "outputs": [],
   "source": []
  },
  {
   "cell_type": "code",
   "execution_count": null,
   "id": "3397e22b-6a28-425e-afe9-e478ed28f37b",
   "metadata": {},
   "outputs": [],
   "source": []
  },
  {
   "cell_type": "code",
   "execution_count": null,
   "id": "74551397-5d59-433b-92e4-6b6eed2b0d3f",
   "metadata": {},
   "outputs": [],
   "source": []
  },
  {
   "cell_type": "code",
   "execution_count": null,
   "id": "be013680-114d-43a9-920e-6a6f037cc81f",
   "metadata": {},
   "outputs": [],
   "source": []
  },
  {
   "cell_type": "code",
   "execution_count": null,
   "id": "ed58f753-c08e-4292-a255-17a0b3671cd2",
   "metadata": {},
   "outputs": [],
   "source": []
  },
  {
   "cell_type": "code",
   "execution_count": null,
   "id": "57b09eeb-bc5b-433b-93e9-fd8cb3055bdd",
   "metadata": {},
   "outputs": [],
   "source": []
  },
  {
   "cell_type": "code",
   "execution_count": null,
   "id": "d5f7b349-0f8b-4fc2-9624-9df45f41f982",
   "metadata": {},
   "outputs": [],
   "source": []
  },
  {
   "cell_type": "code",
   "execution_count": null,
   "id": "f7d6564d-e024-448c-bdb8-aad620c3baa8",
   "metadata": {},
   "outputs": [],
   "source": []
  },
  {
   "cell_type": "code",
   "execution_count": null,
   "id": "2058b2ed-9550-4a44-ae47-cc8be729a1dd",
   "metadata": {},
   "outputs": [],
   "source": []
  },
  {
   "cell_type": "code",
   "execution_count": null,
   "id": "d58cba6b-84e6-413f-80a6-a21c0c2dbefe",
   "metadata": {},
   "outputs": [],
   "source": []
  },
  {
   "cell_type": "code",
   "execution_count": null,
   "id": "e39fd63a-c23c-4a07-8b11-df354ccda1b4",
   "metadata": {},
   "outputs": [],
   "source": []
  },
  {
   "cell_type": "code",
   "execution_count": null,
   "id": "64c0e81f-52fb-4d26-85bd-a84fb4ca70bb",
   "metadata": {},
   "outputs": [],
   "source": []
  },
  {
   "cell_type": "code",
   "execution_count": null,
   "id": "3da84bf8-ce86-4479-9740-373aea46de1c",
   "metadata": {},
   "outputs": [],
   "source": []
  },
  {
   "cell_type": "code",
   "execution_count": null,
   "id": "259bc666-fe4e-40fc-8140-40619c4659d5",
   "metadata": {},
   "outputs": [],
   "source": []
  },
  {
   "cell_type": "code",
   "execution_count": null,
   "id": "323026c6-fdfc-41fa-a509-0630fe394059",
   "metadata": {},
   "outputs": [],
   "source": []
  },
  {
   "cell_type": "code",
   "execution_count": null,
   "id": "6e545f82-928d-462b-831a-71ddd6e7b249",
   "metadata": {},
   "outputs": [],
   "source": []
  },
  {
   "cell_type": "code",
   "execution_count": null,
   "id": "12d1c4a0-1b7e-49b5-b9e0-fda64c6b84fc",
   "metadata": {},
   "outputs": [],
   "source": []
  },
  {
   "cell_type": "code",
   "execution_count": null,
   "id": "33c96448-5a3b-45f5-9f4f-d072401dcc78",
   "metadata": {},
   "outputs": [],
   "source": []
  },
  {
   "cell_type": "code",
   "execution_count": null,
   "id": "5f629739-b60e-4ad4-87d8-67153d874d61",
   "metadata": {},
   "outputs": [],
   "source": []
  },
  {
   "cell_type": "code",
   "execution_count": null,
   "id": "6efcc0a2-afbf-4b27-9ba8-18bac0308405",
   "metadata": {},
   "outputs": [],
   "source": []
  },
  {
   "cell_type": "code",
   "execution_count": null,
   "id": "9c921528-4931-4e9f-ab54-a7f95e1a8a0e",
   "metadata": {},
   "outputs": [],
   "source": []
  },
  {
   "cell_type": "code",
   "execution_count": null,
   "id": "1838e5f2-ac77-4786-882b-a2a43be98fc5",
   "metadata": {},
   "outputs": [],
   "source": []
  },
  {
   "cell_type": "code",
   "execution_count": null,
   "id": "38d9382c-bf7b-4754-9e0b-7259fd501fb1",
   "metadata": {},
   "outputs": [],
   "source": []
  },
  {
   "cell_type": "code",
   "execution_count": null,
   "id": "9607788e-7cd8-4aec-b470-a558070db8d8",
   "metadata": {},
   "outputs": [],
   "source": []
  },
  {
   "cell_type": "code",
   "execution_count": null,
   "id": "02c530d3-ccde-4338-a106-01efabd64191",
   "metadata": {},
   "outputs": [],
   "source": []
  },
  {
   "cell_type": "code",
   "execution_count": null,
   "id": "ac3c127f-b2f4-4edc-9452-55bfd4f2cd03",
   "metadata": {},
   "outputs": [],
   "source": []
  },
  {
   "cell_type": "code",
   "execution_count": null,
   "id": "1d0b2d74-561b-4993-b896-48f408215214",
   "metadata": {},
   "outputs": [],
   "source": []
  },
  {
   "cell_type": "code",
   "execution_count": null,
   "id": "f82eec6e-d90c-4766-a4db-6e1a96ec016c",
   "metadata": {},
   "outputs": [],
   "source": []
  },
  {
   "cell_type": "code",
   "execution_count": null,
   "id": "e828d9f8-45b2-4ded-bc1c-7efe61b21a6d",
   "metadata": {},
   "outputs": [],
   "source": []
  },
  {
   "cell_type": "code",
   "execution_count": null,
   "id": "7c392b6e-56e5-4864-9c6b-3b060315941a",
   "metadata": {},
   "outputs": [],
   "source": []
  },
  {
   "cell_type": "code",
   "execution_count": null,
   "id": "41002e1c-2a08-44ea-b8da-edb8092af661",
   "metadata": {},
   "outputs": [],
   "source": []
  },
  {
   "cell_type": "code",
   "execution_count": null,
   "id": "23a4ecb0-da69-4d26-b540-b9230a94d5ad",
   "metadata": {},
   "outputs": [],
   "source": []
  },
  {
   "cell_type": "code",
   "execution_count": null,
   "id": "58557f85-ab0b-4c2d-9a9b-82c61a7ee253",
   "metadata": {},
   "outputs": [],
   "source": []
  },
  {
   "cell_type": "code",
   "execution_count": null,
   "id": "309eb1af-fcc3-443a-817d-fc077f86502d",
   "metadata": {},
   "outputs": [],
   "source": []
  },
  {
   "cell_type": "code",
   "execution_count": null,
   "id": "e2de8f69-81bd-4e21-95aa-c5d5b19b97c6",
   "metadata": {},
   "outputs": [],
   "source": []
  },
  {
   "cell_type": "code",
   "execution_count": null,
   "id": "a358a99e-dbf8-4fe1-8f7c-65067bfbb1bf",
   "metadata": {},
   "outputs": [],
   "source": []
  },
  {
   "cell_type": "code",
   "execution_count": null,
   "id": "ca3a536f-fdcb-4271-b0bb-e2cd49991f4a",
   "metadata": {},
   "outputs": [],
   "source": []
  },
  {
   "cell_type": "code",
   "execution_count": null,
   "id": "9065dd99-3804-424f-a58f-95cd8814cdb0",
   "metadata": {},
   "outputs": [],
   "source": []
  },
  {
   "cell_type": "code",
   "execution_count": null,
   "id": "5417bdda-27e9-4f69-a278-3c65495b5b33",
   "metadata": {},
   "outputs": [],
   "source": []
  },
  {
   "cell_type": "code",
   "execution_count": null,
   "id": "3330c5bf-8929-445e-acb3-2f9ed5cb64fa",
   "metadata": {},
   "outputs": [],
   "source": []
  },
  {
   "cell_type": "code",
   "execution_count": null,
   "id": "bb487c5a-85a3-492f-b224-b40470ced50f",
   "metadata": {},
   "outputs": [],
   "source": []
  },
  {
   "cell_type": "code",
   "execution_count": null,
   "id": "e91e4712-9099-4d59-94f7-0bc198eec4f3",
   "metadata": {},
   "outputs": [],
   "source": []
  },
  {
   "cell_type": "code",
   "execution_count": null,
   "id": "26fc9c8a-f42b-4305-acf2-6e980a76d888",
   "metadata": {},
   "outputs": [],
   "source": []
  },
  {
   "cell_type": "code",
   "execution_count": null,
   "id": "67c84621-ebdc-486b-8eb3-02153ee1547c",
   "metadata": {},
   "outputs": [],
   "source": []
  },
  {
   "cell_type": "code",
   "execution_count": null,
   "id": "051fb86f-6913-411e-8c2b-dba079eb7588",
   "metadata": {},
   "outputs": [],
   "source": []
  },
  {
   "cell_type": "code",
   "execution_count": null,
   "id": "41350ccf-d7a3-4da7-b58a-199d41a3914b",
   "metadata": {},
   "outputs": [],
   "source": []
  },
  {
   "cell_type": "code",
   "execution_count": null,
   "id": "1e223635-982d-4c8b-a47a-3b9a1148cc2e",
   "metadata": {},
   "outputs": [],
   "source": []
  },
  {
   "cell_type": "code",
   "execution_count": null,
   "id": "4ed3a612-98a8-4668-947e-9345390bd954",
   "metadata": {},
   "outputs": [],
   "source": []
  },
  {
   "cell_type": "code",
   "execution_count": null,
   "id": "e8533817-b56c-4e9a-8ab5-26d06d2d3a91",
   "metadata": {},
   "outputs": [],
   "source": []
  },
  {
   "cell_type": "code",
   "execution_count": null,
   "id": "49a0b40a-50cf-4e09-81ca-3814bd0a899a",
   "metadata": {},
   "outputs": [],
   "source": []
  },
  {
   "cell_type": "code",
   "execution_count": null,
   "id": "ee5fcb89-4ed2-4137-9309-b4aa265591ff",
   "metadata": {},
   "outputs": [],
   "source": []
  },
  {
   "cell_type": "code",
   "execution_count": null,
   "id": "5af0b37f-86e6-41b5-bca1-92b03627faeb",
   "metadata": {},
   "outputs": [],
   "source": []
  },
  {
   "cell_type": "code",
   "execution_count": null,
   "id": "452e3417-b88e-4fc9-b001-fc80660b245d",
   "metadata": {},
   "outputs": [],
   "source": []
  },
  {
   "cell_type": "code",
   "execution_count": null,
   "id": "b8e4c327-bc66-4353-b732-6878406467ac",
   "metadata": {},
   "outputs": [],
   "source": []
  },
  {
   "cell_type": "code",
   "execution_count": null,
   "id": "f056a8d3-87d3-45d6-91e7-b0d0ba5a59c6",
   "metadata": {},
   "outputs": [],
   "source": []
  },
  {
   "cell_type": "code",
   "execution_count": null,
   "id": "3b8014cd-7f6f-488b-8665-4e8485ad7be2",
   "metadata": {},
   "outputs": [],
   "source": []
  },
  {
   "cell_type": "code",
   "execution_count": null,
   "id": "a58beb33-7214-4cae-938e-06f0cdae2911",
   "metadata": {},
   "outputs": [],
   "source": []
  },
  {
   "cell_type": "code",
   "execution_count": null,
   "id": "8cc02c45-758c-43d1-83f4-71b3b50c9fc9",
   "metadata": {},
   "outputs": [],
   "source": []
  },
  {
   "cell_type": "code",
   "execution_count": null,
   "id": "f8ba661e-e78b-4e91-8a6f-1370703d0249",
   "metadata": {},
   "outputs": [],
   "source": []
  },
  {
   "cell_type": "code",
   "execution_count": null,
   "id": "857528d7-c298-43c3-89f3-7f68296257bb",
   "metadata": {},
   "outputs": [],
   "source": []
  }
 ],
 "metadata": {
  "kernelspec": {
   "display_name": "Python 3 (ipykernel)",
   "language": "python",
   "name": "python3"
  },
  "language_info": {
   "codemirror_mode": {
    "name": "ipython",
    "version": 3
   },
   "file_extension": ".py",
   "mimetype": "text/x-python",
   "name": "python",
   "nbconvert_exporter": "python",
   "pygments_lexer": "ipython3",
   "version": "3.9.13"
  }
 },
 "nbformat": 4,
 "nbformat_minor": 5
}
