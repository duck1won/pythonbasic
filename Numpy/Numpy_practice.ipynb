{
 "cells": [
  {
   "cell_type": "markdown",
   "id": "e9781274-283c-4849-9c89-78e92bc9aedf",
   "metadata": {},
   "source": [
    "# 연습문제"
   ]
  },
  {
   "cell_type": "markdown",
   "id": "8ba05a3f-7f20-4170-9060-ccf627113f28",
   "metadata": {},
   "source": [
    "### #1번"
   ]
  },
  {
   "cell_type": "code",
   "execution_count": 9,
   "id": "00e8d402-fa1d-4e22-a7ba-bad1ce3e9e52",
   "metadata": {},
   "outputs": [
    {
     "name": "stdout",
     "output_type": "stream",
     "text": [
      "3.42\n"
     ]
    }
   ],
   "source": [
    "import numpy as np\n",
    "np.random.seed(0)\n",
    "a = np.random.randint(1,7,100)\n",
    "print(a.sum()/len(a))"
   ]
  },
  {
   "cell_type": "markdown",
   "id": "af843562-4842-4ce4-ba20-ad111acdbad2",
   "metadata": {},
   "source": [
    "### #2번"
   ]
  },
  {
   "cell_type": "code",
   "execution_count": 10,
   "id": "407977af-7123-4e2f-a13f-e71077ff01d5",
   "metadata": {},
   "outputs": [
    {
     "name": "stdout",
     "output_type": "stream",
     "text": [
      "[[ 8 10 12]\n",
      " [14 16 18]]\n"
     ]
    }
   ],
   "source": [
    "a = np.array([[1,2,3],[4,5,6]])\n",
    "b = np.array([[7,8,9],[10,11,12]])\n",
    "print(a+b)"
   ]
  },
  {
   "cell_type": "markdown",
   "id": "38b92246-99af-4ebb-88c8-3d4ccb8bb957",
   "metadata": {},
   "source": [
    "### #3번"
   ]
  },
  {
   "cell_type": "code",
   "execution_count": 12,
   "id": "5e9dbc57-5cae-48a5-8f75-ade305017f40",
   "metadata": {},
   "outputs": [
    {
     "data": {
      "text/plain": [
       "array([ 3,  6,  9, 12, 15, 18, 21, 24, 27])"
      ]
     },
     "execution_count": 12,
     "metadata": {},
     "output_type": "execute_result"
    }
   ],
   "source": [
    "a = np.arange(1,10)\n",
    "a*3"
   ]
  },
  {
   "cell_type": "markdown",
   "id": "799a86e6-1c46-4020-9a69-84e62dc40beb",
   "metadata": {},
   "source": [
    "### #4번"
   ]
  },
  {
   "cell_type": "code",
   "execution_count": 14,
   "id": "fea2bad8-42a3-4543-a4c5-0c43a8a42006",
   "metadata": {},
   "outputs": [
    {
     "data": {
      "text/plain": [
       "array([0., 0., 0., 0., 1., 0., 0., 0., 0., 0.])"
      ]
     },
     "execution_count": 14,
     "metadata": {},
     "output_type": "execute_result"
    }
   ],
   "source": [
    "a = np.zeros(10)\n",
    "a[4] = 1\n",
    "a"
   ]
  },
  {
   "cell_type": "markdown",
   "id": "26aa4afa-e977-497f-bc0a-d1e37aecc82a",
   "metadata": {},
   "source": [
    "### #5번"
   ]
  },
  {
   "cell_type": "code",
   "execution_count": 23,
   "id": "a10e6b09-ce18-4288-bd77-7c48887019cd",
   "metadata": {},
   "outputs": [
    {
     "name": "stdout",
     "output_type": "stream",
     "text": [
      "[49 48 47 46 45 44 43 42 41 40 39 38 37 36 35 34 33 32 31 30 29 28 27 26\n",
      " 25 24 23 22 21 20 19 18 17 16 15 14 13 12 11 10  9  8  7  6  5  4  3  2\n",
      "  1  0]\n",
      "[49 48 47 46 45 44 43 42 41 40 39 38 37 36 35 34 33 32 31 30 29 28 27 26\n",
      " 25 24 23 22 21 20 19 18 17 16 15 14 13 12 11 10  9  8  7  6  5  4  3  2\n",
      "  1  0]\n"
     ]
    }
   ],
   "source": [
    "a = np.arange(49,-1,-1)\n",
    "print(a)\n",
    "b = np.arange(0,50)\n",
    "print(b[::-1])"
   ]
  },
  {
   "cell_type": "markdown",
   "id": "5ac5ee83-e65c-4b88-96c7-a3d9383f7b73",
   "metadata": {},
   "source": [
    "### #6번"
   ]
  },
  {
   "cell_type": "code",
   "execution_count": 52,
   "id": "c39aaa00-2180-41d1-85f9-e583c99b819f",
   "metadata": {},
   "outputs": [
    {
     "data": {
      "text/plain": [
       "array([[['', '', ''],\n",
       "        ['', '', ''],\n",
       "        ['', '', '']],\n",
       "\n",
       "       [['', '', ''],\n",
       "        ['', '', ''],\n",
       "        ['', '', '']],\n",
       "\n",
       "       [['', '', ''],\n",
       "        ['', '', ''],\n",
       "        ['', '', '']]], dtype='<U10')"
      ]
     },
     "execution_count": 52,
     "metadata": {},
     "output_type": "execute_result"
    }
   ],
   "source": [
    "np.full((3,3,3),'',dtype='U10')\n",
    "#np.zeros([3,3,3],dtype='U10')"
   ]
  },
  {
   "cell_type": "markdown",
   "id": "263eb55e-62c8-4729-a82e-b3382d5819e7",
   "metadata": {},
   "source": [
    "### #7번"
   ]
  },
  {
   "cell_type": "code",
   "execution_count": 53,
   "id": "8c2cca1c-6fa6-4d96-a577-608bf2a392a6",
   "metadata": {},
   "outputs": [
    {
     "data": {
      "text/plain": [
       "array([[['playdata', 'playdata', 'playdata'],\n",
       "        ['playdata', 'playdata', 'playdata'],\n",
       "        ['playdata', 'playdata', 'playdata']],\n",
       "\n",
       "       [['playdata', 'playdata', 'playdata'],\n",
       "        ['playdata', 'playdata', 'playdata'],\n",
       "        ['playdata', 'playdata', 'playdata']],\n",
       "\n",
       "       [['playdata', 'playdata', 'playdata'],\n",
       "        ['playdata', 'playdata', 'playdata'],\n",
       "        ['playdata', 'playdata', 'playdata']]], dtype='<U8')"
      ]
     },
     "execution_count": 53,
     "metadata": {},
     "output_type": "execute_result"
    }
   ],
   "source": [
    "np.full((3,3,3),'playdata',dtype='U8')"
   ]
  },
  {
   "cell_type": "markdown",
   "id": "81db7f5c-ce42-4d45-80a5-a23f3cd1400a",
   "metadata": {},
   "source": [
    "### #8번"
   ]
  },
  {
   "cell_type": "code",
   "execution_count": 73,
   "id": "f39ba519-4337-4c43-ad74-c5d359c7bd12",
   "metadata": {},
   "outputs": [
    {
     "data": {
      "text/plain": [
       "array([[[ 2,  4,  6,  8, 10],\n",
       "        [12, 14, 16, 18, 20]],\n",
       "\n",
       "       [[22, 24, 26, 28, 30],\n",
       "        [32, 34, 36, 38, 40]]])"
      ]
     },
     "execution_count": 73,
     "metadata": {},
     "output_type": "execute_result"
    }
   ],
   "source": [
    "a = np.arange(2,41,2)\n",
    "a = a.reshape(2,2,5)\n",
    "a"
   ]
  },
  {
   "cell_type": "markdown",
   "id": "71d9b650-5e2b-41ed-b30d-a54751f8e81f",
   "metadata": {},
   "source": [
    "### #9번"
   ]
  },
  {
   "cell_type": "code",
   "execution_count": 75,
   "id": "cd0f24ff-3d56-46f1-911e-d42274405a99",
   "metadata": {},
   "outputs": [
    {
     "data": {
      "text/plain": [
       "array([[1., 0., 0., 0.],\n",
       "       [0., 1., 0., 0.],\n",
       "       [0., 0., 1., 0.],\n",
       "       [0., 0., 0., 1.]])"
      ]
     },
     "execution_count": 75,
     "metadata": {},
     "output_type": "execute_result"
    }
   ],
   "source": [
    "np.eye(4)"
   ]
  },
  {
   "cell_type": "markdown",
   "id": "07abac52-01f5-4051-879a-23ef9c4f5457",
   "metadata": {},
   "source": [
    "### #10번"
   ]
  },
  {
   "cell_type": "code",
   "execution_count": 82,
   "id": "dcae7a32-a2c5-458e-9e8f-c888a875666e",
   "metadata": {},
   "outputs": [
    {
     "data": {
      "text/plain": [
       "array([[False,  True,  True],\n",
       "       [False,  True,  True],\n",
       "       [ True,  True,  True]])"
      ]
     },
     "execution_count": 82,
     "metadata": {},
     "output_type": "execute_result"
    }
   ],
   "source": [
    "np.random.seed(0)\n",
    "a = np.random.randint(0,2,9)\n",
    "a.astype(\"?\").reshape(3,3)"
   ]
  },
  {
   "cell_type": "code",
   "execution_count": 103,
   "id": "97e363d6-3403-41f4-b226-595711a773e4",
   "metadata": {},
   "outputs": [
    {
     "data": {
      "text/plain": [
       "array([5, 7, 6, 5, 4, 6, 4, 8, 9, 3], dtype=int32)"
      ]
     },
     "execution_count": 103,
     "metadata": {},
     "output_type": "execute_result"
    }
   ],
   "source": [
    "np.random.seed(0)\n",
    "a = np.random.rand(10)*10\n",
    "a.astype('i')"
   ]
  },
  {
   "cell_type": "code",
   "execution_count": 161,
   "id": "cbfcd896-989a-4bdb-91f3-a9ac2cc6d977",
   "metadata": {},
   "outputs": [
    {
     "name": "stdout",
     "output_type": "stream",
     "text": [
      "[[1. 1. 1. 1. 1. 1. 1. 1. 1. 1.]\n",
      " [1. 0. 0. 0. 0. 0. 0. 0. 0. 1.]\n",
      " [1. 0. 0. 0. 0. 0. 0. 0. 0. 1.]\n",
      " [1. 0. 0. 0. 0. 0. 0. 0. 0. 1.]\n",
      " [1. 0. 0. 0. 0. 0. 0. 0. 0. 1.]\n",
      " [1. 0. 0. 0. 0. 0. 0. 0. 0. 1.]\n",
      " [1. 0. 0. 0. 0. 0. 0. 0. 0. 1.]\n",
      " [1. 0. 0. 0. 0. 0. 0. 0. 0. 1.]\n",
      " [1. 0. 0. 0. 0. 0. 0. 0. 0. 1.]\n",
      " [1. 1. 1. 1. 1. 1. 1. 1. 1. 1.]]\n"
     ]
    }
   ],
   "source": [
    "a = np.ones((10,10))\n",
    "a[1:-1,1:-1] = 0\n",
    "print(a)"
   ]
  },
  {
   "cell_type": "markdown",
   "id": "ca329968-375f-4f6f-8794-6eb99d14d700",
   "metadata": {},
   "source": [
    "### #11번"
   ]
  },
  {
   "cell_type": "code",
   "execution_count": 207,
   "id": "f2dc7e22-7e7c-473f-9244-43802b89308f",
   "metadata": {},
   "outputs": [
    {
     "name": "stdout",
     "output_type": "stream",
     "text": [
      "[[0. 0. 0. 0. 0. 0. 0. 0. 0. 0.]\n",
      " [0. 1. 1. 1. 1. 1. 1. 1. 1. 0.]\n",
      " [0. 1. 1. 1. 1. 1. 1. 1. 1. 0.]\n",
      " [0. 1. 1. 1. 1. 1. 1. 1. 1. 0.]\n",
      " [0. 1. 1. 1. 1. 1. 1. 1. 1. 0.]\n",
      " [0. 1. 1. 1. 1. 1. 1. 1. 1. 0.]\n",
      " [0. 1. 1. 1. 1. 1. 1. 1. 1. 0.]\n",
      " [0. 1. 1. 1. 1. 1. 1. 1. 1. 0.]\n",
      " [0. 1. 1. 1. 1. 1. 1. 1. 1. 0.]\n",
      " [0. 0. 0. 0. 0. 0. 0. 0. 0. 0.]]\n"
     ]
    }
   ],
   "source": [
    "a = np.ones((10,10))\n",
    "#a[0] = 0\n",
    "#a[len(a)-1] = 0\n",
    "#a[::,0::len(a)-1]=0\n",
    "a[:,[0,-1]]=0\n",
    "a[[0,-1],:]=0\n",
    "print(a)"
   ]
  },
  {
   "cell_type": "markdown",
   "id": "940c3676-fa2f-43c4-9d86-2cf6ce602989",
   "metadata": {},
   "source": [
    "### #12번"
   ]
  },
  {
   "cell_type": "code",
   "execution_count": 273,
   "id": "181242e8-a771-41bb-a7ee-db1c2e312c45",
   "metadata": {},
   "outputs": [
    {
     "name": "stdout",
     "output_type": "stream",
     "text": [
      "[[1. 0. 1. 0. 1. 0. 1. 0.]\n",
      " [0. 1. 0. 1. 0. 1. 0. 1.]\n",
      " [1. 0. 1. 0. 1. 0. 1. 0.]\n",
      " [0. 1. 0. 1. 0. 1. 0. 1.]\n",
      " [1. 0. 1. 0. 1. 0. 1. 0.]\n",
      " [0. 1. 0. 1. 0. 1. 0. 1.]\n",
      " [1. 0. 1. 0. 1. 0. 1. 0.]\n",
      " [0. 1. 0. 1. 0. 1. 0. 1.]]\n"
     ]
    }
   ],
   "source": [
    "a = np.ones((8,8))\n",
    "\n",
    "a[1::2,::2]=0\n",
    "a[::2,1::2]=0\n",
    "print(a)"
   ]
  },
  {
   "cell_type": "markdown",
   "id": "6936a311-e944-40bf-a25b-f4f2f60e41ae",
   "metadata": {},
   "source": [
    "### #13번"
   ]
  },
  {
   "cell_type": "code",
   "execution_count": 289,
   "id": "481560df-d8f4-498b-b2f0-93c6396afb12",
   "metadata": {},
   "outputs": [
    {
     "data": {
      "text/plain": [
       "array([[1, 0, 1, 0, 1, 0, 1, 0],\n",
       "       [0, 1, 0, 1, 0, 1, 0, 1],\n",
       "       [1, 0, 1, 0, 1, 0, 1, 0],\n",
       "       [0, 1, 0, 1, 0, 1, 0, 1],\n",
       "       [1, 0, 1, 0, 1, 0, 1, 0],\n",
       "       [0, 1, 0, 1, 0, 1, 0, 1],\n",
       "       [1, 0, 1, 0, 1, 0, 1, 0],\n",
       "       [0, 1, 0, 1, 0, 1, 0, 1]])"
      ]
     },
     "execution_count": 289,
     "metadata": {},
     "output_type": "execute_result"
    }
   ],
   "source": [
    "a = np.array([[1,0],[0,1]])\n",
    "a = np.tile(a,(4,4))\n",
    "a\n",
    "# np.tile(np.array([[1,0],[0,1]]),(4,4))\n",
    "# np.tile(np.eye(2),(4,4))"
   ]
  },
  {
   "cell_type": "code",
   "execution_count": null,
   "id": "c3614ff7-fc79-41ea-8d84-3308825a3c05",
   "metadata": {},
   "outputs": [],
   "source": []
  },
  {
   "cell_type": "code",
   "execution_count": 292,
   "id": "d46b4401-3d7d-4a71-a6ab-8a70fb141732",
   "metadata": {},
   "outputs": [
    {
     "name": "stdout",
     "output_type": "stream",
     "text": [
      "[1 2 3 4]\n",
      "[False  True False  True]\n"
     ]
    }
   ],
   "source": [
    "a = np.arange(1,5)\n",
    "print(a)\n",
    "even = np.array([True if i%2 == 0 else False for i in range(1,5)])\n",
    "print(even)"
   ]
  },
  {
   "cell_type": "markdown",
   "id": "555892f3-94f3-4dcc-8e72-71671b7847c2",
   "metadata": {},
   "source": [
    "### #14번"
   ]
  },
  {
   "cell_type": "code",
   "execution_count": 315,
   "id": "d1937593-dbfa-44e5-b3cb-38aa3ebadd8d",
   "metadata": {},
   "outputs": [
    {
     "name": "stdout",
     "output_type": "stream",
     "text": [
      "[ 0  1  2  3 -4 -5 -6  7  8  9 10]\n"
     ]
    }
   ],
   "source": [
    "a = np.arange(0,11)\n",
    "for i in range(10):\n",
    "    if a[i]>3 and a[i]<7:\n",
    "        a[i] = a[i]*-1\n",
    "print(a)"
   ]
  },
  {
   "cell_type": "code",
   "execution_count": 331,
   "id": "03491933-c938-4b24-8409-c2505840b5b8",
   "metadata": {},
   "outputs": [
    {
     "name": "stdout",
     "output_type": "stream",
     "text": [
      "[ 0  1  2  3 -4 -5 -6  7  8  9 10]\n"
     ]
    }
   ],
   "source": [
    "a = np.arange(11)\n",
    "even = np.array([a[i]*-1 if a[i]>3 & 3<a[i]<7 else a[i] for i in range(11)])\n",
    "print(even)"
   ]
  },
  {
   "cell_type": "markdown",
   "id": "c354c4db-aa93-48b2-9559-af35dae1e458",
   "metadata": {},
   "source": [
    "### #15번"
   ]
  },
  {
   "cell_type": "code",
   "execution_count": 338,
   "id": "7828b1d0-7757-4118-87f2-0727de51f91b",
   "metadata": {},
   "outputs": [
    {
     "name": "stdout",
     "output_type": "stream",
     "text": [
      "1683\n"
     ]
    }
   ],
   "source": [
    "sum_num = 0\n",
    "a = np.arange(1,101)\n",
    "for i in range(len(a)):\n",
    "    if a[i]%3 == 0:\n",
    "        sum_num += a[i]\n",
    "print(sum_num)\n",
    "\n",
    "#np.arange(3,101,3).sum()"
   ]
  },
  {
   "cell_type": "markdown",
   "id": "65013416-9f39-4854-997a-f9eb8f726be6",
   "metadata": {},
   "source": [
    "### #16번"
   ]
  },
  {
   "cell_type": "code",
   "execution_count": 346,
   "id": "68f40ed0-c461-4817-a8ff-e370087046e9",
   "metadata": {},
   "outputs": [
    {
     "data": {
      "text/plain": [
       "array([0.1, 0.2, 0.3, 0.4, 0.5, 0.6, 0.7, 0.8, 0.9])"
      ]
     },
     "execution_count": 346,
     "metadata": {},
     "output_type": "execute_result"
    }
   ],
   "source": [
    "a = np.linspace(0.1,0.9,9)\n",
    "a"
   ]
  },
  {
   "cell_type": "markdown",
   "id": "2fb771be-d97c-46a6-9110-b93c20c33ec2",
   "metadata": {},
   "source": [
    "### #17번"
   ]
  },
  {
   "cell_type": "code",
   "execution_count": 9,
   "id": "a3bce43d-dd8d-43bc-aebf-c015c12699c5",
   "metadata": {},
   "outputs": [
    {
     "name": "stdin",
     "output_type": "stream",
     "text": [
      "숫자를 입력하세요 :  3\n"
     ]
    },
    {
     "name": "stdout",
     "output_type": "stream",
     "text": [
      "3\n",
      "[[ 4  5 14 28 36 43]]\n",
      "[[ 8 29 32 35 37 38]]\n",
      "[[ 0  5  8 18 21 26]]\n"
     ]
    }
   ],
   "source": [
    "import numpy as np\n",
    "while True:\n",
    "    try:\n",
    "        a = int(input(\"숫자를 입력하세요 : \"))\n",
    "        print(a)\n",
    "        for _ in range(a):\n",
    "            c = np.array([np.random.choice(45,6,replace=False)])\n",
    "            c.sort()\n",
    "            print(c)\n",
    "        break;\n",
    "    except:\n",
    "        print(\"자연수만 입력해주세요.\")"
   ]
  },
  {
   "cell_type": "markdown",
   "id": "b04f8699-5994-484d-b52d-780c65c374e2",
   "metadata": {},
   "source": [
    "### #18번"
   ]
  },
  {
   "cell_type": "code",
   "execution_count": 24,
   "id": "88d124ac-bed6-433e-876b-4845926eb397",
   "metadata": {},
   "outputs": [
    {
     "name": "stdout",
     "output_type": "stream",
     "text": [
      "8\n"
     ]
    }
   ],
   "source": [
    "cunt = 0\n",
    "resp_time = np. array([158,  85, 205,  24,  42, 175, 188, 149, 153, 171, 137,  55, 108,\n",
    "                       199, 177, 209, 218,  76, 103, 189, 110, 192, 136, 119,   4, 102,\n",
    "                       177, 212, 110,  37, 163,  32,  77,  22, 125, 184,  46, 139,  72,\n",
    "                       168, 133, 209, 148,  47, 102,  65, 160,  56,  11,  96, 169, 118,\n",
    "                        55, 135, 217,  49, 100,  85, 179,  15, 139, 199, 124, 142,  15,\n",
    "                        49, 168, 171, 168, 177, 147,  23, 199,  26,  51,  42,  90, 128,\n",
    "                       186, 169, 129,  70, 198, 111,  81, 150,  17, 177, 201,  10,  75,\n",
    "                       199,  55, 151, 183, 152, 119, 193, 110, 204])\n",
    "for i in range(len(resp_time)):\n",
    "    if resp_time[i]>200 :\n",
    "        cunt += 1\n",
    "print(cunt)\n",
    "\n",
    "#(resp_time>200).sum()\n",
    "#len(resp_time[resp_time>200])"
   ]
  },
  {
   "cell_type": "code",
   "execution_count": 36,
   "id": "212ddc2f-5f6c-48bd-a714-e4765764042e",
   "metadata": {},
   "outputs": [
    {
     "name": "stdout",
     "output_type": "stream",
     "text": [
      "71.5\n",
      "131.0\n",
      "175.5\n",
      "218.0\n",
      "[4, 10, 11, 15, 15, 17, 22, 23, 24, 26, 32, 37, 42, 42, 46, 47, 49, 49, 51, 55, 55, 55, 56, 65, 70, 72, 75, 76, 77, 81, 85, 85, 90, 96, 100, 102, 102, 103, 108, 110, 110, 110, 111, 118, 119, 119, 124, 125, 128, 129, 133, 135, 136, 137, 139, 139, 142, 147, 148, 149, 150, 151, 152, 153, 158, 160, 163, 168, 168, 168, 169, 169, 171, 171, 175, 177, 177, 177, 177, 179, 183, 184, 186, 188, 189, 192, 193, 198, 199, 199, 199, 199, 201, 204, 205, 209, 209, 212, 217, 218]\n"
     ]
    }
   ],
   "source": [
    "a = np.percentile(resp_time,25)\n",
    "print(a)\n",
    "b = np.percentile(resp_time,50)\n",
    "print(b)\n",
    "c = np.percentile(resp_time,75)\n",
    "print(c)\n",
    "d = np.percentile(resp_time,100)\n",
    "print(d)\n",
    "\n",
    "e = sorted(resp_time)\n",
    "print(e)"
   ]
  },
  {
   "cell_type": "markdown",
   "id": "149dad60-3b5e-46de-a244-140528b362ed",
   "metadata": {},
   "source": [
    "### #19번"
   ]
  },
  {
   "cell_type": "code",
   "execution_count": 93,
   "id": "3f100a3b-40dc-46c3-959e-2779e93fcb49",
   "metadata": {},
   "outputs": [
    {
     "name": "stdout",
     "output_type": "stream",
     "text": [
      "[81 53 66]\n",
      "뽀로로가 81 표로 학생회장으로 선출되었습니다.\n"
     ]
    }
   ],
   "source": [
    "p = [\"뽀로로\", \"루피\", \"크롱\"]\n",
    "result = np.array([2, 1, 2, 2, 2, 2, 0, 2, 1, 1, 0, 0, 2, 0, 0, 1, 1, 2, 2, 2, 1, 1,\n",
    "                   1, 2, 0, 2, 2, 0, 1, 1, 0, 2, 1, 0, 1, 2, 0, 0, 1, 0, 1, 1, 1, 2,\n",
    "                   1, 1, 1, 0, 0, 0, 0, 1, 0, 0, 2, 0, 2, 2, 0, 0, 1, 1, 1, 0, 0, 2,\n",
    "                   2, 1, 0, 1, 2, 0, 2, 0, 0, 0, 2, 0, 0, 0, 0, 0, 1, 2, 1, 1, 2, 0,\n",
    "                   2, 0, 0, 0, 0, 2, 1, 2, 0, 2, 0, 0, 1, 0, 1, 2, 1, 2, 0, 2, 2, 1,\n",
    "                   2, 0, 0, 1, 1, 0, 1, 2, 1, 2, 0, 2, 2, 2, 2, 0, 2, 2, 0, 2, 0, 2,\n",
    "                   1, 1, 2, 1, 1, 0, 0, 1, 0, 0, 0, 2, 2, 0, 2, 0, 0, 0, 2, 0, 0, 0,\n",
    "                   2, 0, 1, 2, 1, 0, 2, 0, 0, 1, 2, 1, 1, 2, 2, 0, 0, 0, 0, 2, 2, 1,\n",
    "                   0, 1, 1, 2, 2, 1, 0, 0, 2, 0, 0, 0, 2, 0, 2, 2, 0, 2, 1, 0, 0, 2,\n",
    "                   0, 1])\n",
    "a = np.bincount(result)\n",
    "ki = ''\n",
    "dic = dict(zip(p, a)) \n",
    "\n",
    "for key,value in dic.items():\n",
    "    if value == max(dic.values()):\n",
    "        ki = key\n",
    "        \n",
    "print(f\"{ki}가 {max(dic.values())} 표로 학생회장으로 선출되었습니다.\")\n",
    "\n",
    "#count = np.bincount(result,minlength=3)\n",
    "#winner_index = count.argmax()\n",
    "#print(f\"{p[winner_index]}가 {count[winner_index]} 표로 학생회장으로 선출되었습니다.\")"
   ]
  },
  {
   "cell_type": "code",
   "execution_count": null,
   "id": "02925182-0082-4a8f-a206-6ef698744ec0",
   "metadata": {},
   "outputs": [],
   "source": []
  },
  {
   "cell_type": "markdown",
   "id": "dbdcce8b-69d6-4525-a453-6533d4f60663",
   "metadata": {},
   "source": [
    "### #20번"
   ]
  },
  {
   "cell_type": "code",
   "execution_count": null,
   "id": "6c8e3803-9673-41f3-9d62-ae2570a9e18f",
   "metadata": {},
   "outputs": [],
   "source": []
  },
  {
   "cell_type": "markdown",
   "id": "5c1176a8-6219-4290-bd94-a085c1234edc",
   "metadata": {},
   "source": [
    "### #21번"
   ]
  },
  {
   "cell_type": "code",
   "execution_count": null,
   "id": "b34b8e9a-d6a1-432d-a21a-620d717894c8",
   "metadata": {},
   "outputs": [],
   "source": []
  },
  {
   "cell_type": "markdown",
   "id": "cc5bbc9a-5498-466e-a059-a54f5f893437",
   "metadata": {},
   "source": [
    "### #22번"
   ]
  },
  {
   "cell_type": "code",
   "execution_count": null,
   "id": "3f615402-3872-4413-99da-c47803f8a95f",
   "metadata": {},
   "outputs": [],
   "source": []
  },
  {
   "cell_type": "markdown",
   "id": "23b9e4f6-3411-4f60-b036-f42197178cbb",
   "metadata": {},
   "source": [
    "### #23번"
   ]
  },
  {
   "cell_type": "code",
   "execution_count": null,
   "id": "170866a5-2893-4a3f-ae1c-aa750611d52a",
   "metadata": {},
   "outputs": [],
   "source": []
  },
  {
   "cell_type": "markdown",
   "id": "33c9ed93-ee74-42ff-8805-d37c4ac8dbcd",
   "metadata": {},
   "source": [
    "### #24번"
   ]
  },
  {
   "cell_type": "code",
   "execution_count": null,
   "id": "06a825e6-dcf2-44c0-8108-06e0ab451c13",
   "metadata": {},
   "outputs": [],
   "source": []
  },
  {
   "cell_type": "markdown",
   "id": "c53c85f5-ae51-4c32-a292-23403a982cdf",
   "metadata": {},
   "source": [
    "### #25번"
   ]
  },
  {
   "cell_type": "code",
   "execution_count": null,
   "id": "8d27d9aa-508f-4557-9825-d637cab3db58",
   "metadata": {},
   "outputs": [],
   "source": []
  }
 ],
 "metadata": {
  "kernelspec": {
   "display_name": "Python 3 (ipykernel)",
   "language": "python",
   "name": "python3"
  },
  "language_info": {
   "codemirror_mode": {
    "name": "ipython",
    "version": 3
   },
   "file_extension": ".py",
   "mimetype": "text/x-python",
   "name": "python",
   "nbconvert_exporter": "python",
   "pygments_lexer": "ipython3",
   "version": "3.9.13"
  }
 },
 "nbformat": 4,
 "nbformat_minor": 5
}
