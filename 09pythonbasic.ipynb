{
 "cells": [
  {
   "cell_type": "code",
   "execution_count": 2,
   "id": "fecd2bc9-c75f-4c19-b9fa-21fae9a9cb16",
   "metadata": {},
   "outputs": [],
   "source": [
    "class Student:\n",
    "    pass"
   ]
  },
  {
   "cell_type": "code",
   "execution_count": 14,
   "id": "b91e8721-a06d-40cb-bd49-4f2ff3e6f68e",
   "metadata": {},
   "outputs": [
    {
     "name": "stdout",
     "output_type": "stream",
     "text": [
      "rkrk\n",
      "rdd\n"
     ]
    }
   ],
   "source": [
    "s1 = Student()\n",
    "type(s1)\n",
    "s1.name = \"rkrk\"\n",
    "print(s1.name)\n",
    "s1.name = \"rdd\"\n",
    "print(s1.name)"
   ]
  },
  {
   "cell_type": "code",
   "execution_count": 11,
   "id": "f8719352-b6db-48c4-8fcb-d552c6963e4f",
   "metadata": {},
   "outputs": [],
   "source": [
    "class Student:\n",
    "        #생성자 : 객체가 최초생성될때 단한번실행되는 메서드\n",
    "    def __init__(self):\n",
    "        #self라는 것은 내 자신의 인스턴스\n",
    "        self.name = \"홍길동\""
   ]
  },
  {
   "cell_type": "code",
   "execution_count": 13,
   "id": "d28702f3-30ce-4c8a-8dc0-0f3c9f93f7e6",
   "metadata": {},
   "outputs": [
    {
     "name": "stdout",
     "output_type": "stream",
     "text": [
      "<class '__main__.Student'>\n",
      "홍길동\n",
      "rkrkrk\n"
     ]
    }
   ],
   "source": [
    "s1 = Student()\n",
    "print(type(s1))\n",
    "print(s1.name)\n",
    "s1.name = \"rkrkrk\"\n",
    "print(s1.name)"
   ]
  },
  {
   "cell_type": "code",
   "execution_count": 73,
   "id": "0088d83b-839f-442d-8700-f5d5de9fdf32",
   "metadata": {},
   "outputs": [
    {
     "name": "stdout",
     "output_type": "stream",
     "text": [
      "홍길동\n",
      "22\n"
     ]
    }
   ],
   "source": [
    "class Person:\n",
    "    def __init__(self,name,age):\n",
    "        self.name = name\n",
    "        self.age = age\n",
    "        \n",
    "p1 = Person(\"홍길동\",22)\n",
    "print(p1.name)\n",
    "print(p1.age)"
   ]
  },
  {
   "cell_type": "code",
   "execution_count": 74,
   "id": "db69609a-f2eb-4ff1-8428-778452c681e4",
   "metadata": {},
   "outputs": [
    {
     "name": "stdout",
     "output_type": "stream",
     "text": [
      "성춘향\n"
     ]
    }
   ],
   "source": [
    "p2 = Person(name=\"성춘향\",age=18)\n",
    "print(p2.name)"
   ]
  },
  {
   "cell_type": "markdown",
   "id": "1c9c37ee-862d-4bc6-b9d1-c44b759cbcc2",
   "metadata": {},
   "source": [
    "### (연습문제) 이름 나이 주소를 받아서 출력하는 문제"
   ]
  },
  {
   "cell_type": "code",
   "execution_count": 75,
   "id": "fa2383c6-b77a-4a78-a97f-33f4f2cb862b",
   "metadata": {},
   "outputs": [
    {
     "name": "stdout",
     "output_type": "stream",
     "text": [
      "안녕하세요 제이름은마리아입니다\n",
      "이름 :  마리아\n",
      "이름 :  20\n",
      "이름 :  서울시 서초구 반포동\n"
     ]
    }
   ],
   "source": [
    "class Person:\n",
    "    def __init__(self,name,age,address):\n",
    "        self.hello = \"안녕하세요\"\n",
    "        self.name = name\n",
    "        self.age = age\n",
    "        self.address = address\n",
    "        \n",
    "    def greeting(self):\n",
    "        print(f\"{self.hello} 제이름은{self.name}입니다\")\n",
    "\n",
    "        \n",
    "maria = Person(\"마리아\",20,\"서울시 서초구 반포동\")\n",
    "maria.greeting()\n",
    "print(\"이름 : \",maria.name)\n",
    "print(\"이름 : \",maria.age)\n",
    "print(\"이름 : \",maria.address)"
   ]
  },
  {
   "cell_type": "markdown",
   "id": "ea4f94eb-da87-494f-acce-b45c89ee1dba",
   "metadata": {},
   "source": [
    "### (연습문제) 이름 나이 주소를 두번 받아서 출력하는 문제"
   ]
  },
  {
   "cell_type": "code",
   "execution_count": 55,
   "id": "a131121a-3514-4bc0-bb35-5662939b4b50",
   "metadata": {},
   "outputs": [
    {
     "name": "stdin",
     "output_type": "stream",
     "text": [
      "이름은 무엇인가요? 마리아\n",
      "나이는 무엇인가요? 23\n",
      "주소는 무엇인가요? 서울\n",
      "이름은 무엇인가요? 제임스\n",
      "나이는 무엇인가요? 24\n",
      "주소는 무엇인가요? 수원\n"
     ]
    },
    {
     "name": "stdout",
     "output_type": "stream",
     "text": [
      "첫번째이름:마리아\n",
      "첫번째나이:23\n",
      "첫번째주소:서울\n",
      "두번째이름:제임스\n",
      "두번째나이:24\n",
      "두번째주소:수원\n"
     ]
    }
   ],
   "source": [
    "class Person:\n",
    "    \n",
    "    def __init__(self,name,age,address):\n",
    "        self.name = name\n",
    "        self.age = age\n",
    "        self.address = address\n",
    "        \n",
    "    def greeting(self):\n",
    "        print(f\"첫번째이름:{self.name}\")\n",
    "        print(f\"첫번째나이:{self.age}\")\n",
    "        print(f\"첫번째주소:{self.address}\")\n",
    "    def greeting2(self):\n",
    "        print(f\"두번째이름:{self.name}\")\n",
    "        print(f\"두번째나이:{self.age}\")\n",
    "        print(f\"두번째주소:{self.address}\")\n",
    "        \n",
    "maria = Person(input(\"이름은 무엇인가요?\"),\n",
    "               input(\"나이는 무엇인가요?\"),\n",
    "               input(\"주소는 무엇인가요?\"))\n",
    "james = Person(input(\"이름은 무엇인가요?\"),\n",
    "               input(\"나이는 무엇인가요?\"),\n",
    "               input(\"주소는 무엇인가요?\"))\n",
    "\n",
    "maria.greeting()\n",
    "james.greeting2()"
   ]
  },
  {
   "cell_type": "markdown",
   "id": "29704162-9beb-4b69-b059-4391baaebec6",
   "metadata": {},
   "source": [
    "### -비공개 속성 사용하기\n",
    "### -메서드를 정의해서 사용할수 있게 만듬\n"
   ]
  },
  {
   "cell_type": "code",
   "execution_count": 70,
   "id": "9d86e640-b339-47cf-9e98-9cbda70abbbf",
   "metadata": {},
   "outputs": [
    {
     "ename": "AttributeError",
     "evalue": "'Person' object has no attribute '__wallet'",
     "output_type": "error",
     "traceback": [
      "\u001b[1;31m---------------------------------------------------------------------------\u001b[0m",
      "\u001b[1;31mAttributeError\u001b[0m                            Traceback (most recent call last)",
      "\u001b[1;32m~\\AppData\\Local\\Temp\\ipykernel_4460\\3451228164.py\u001b[0m in \u001b[0;36m<module>\u001b[1;34m\u001b[0m\n\u001b[0;32m      7\u001b[0m \u001b[1;33m\u001b[0m\u001b[0m\n\u001b[0;32m      8\u001b[0m \u001b[0mmaria\u001b[0m \u001b[1;33m=\u001b[0m \u001b[0mPerson\u001b[0m\u001b[1;33m(\u001b[0m\u001b[1;34m\"마리아\"\u001b[0m\u001b[1;33m,\u001b[0m\u001b[1;36m20\u001b[0m\u001b[1;33m,\u001b[0m\u001b[1;34m\"서울시 서초구 반포동\"\u001b[0m\u001b[1;33m,\u001b[0m\u001b[1;36m10000\u001b[0m\u001b[1;33m)\u001b[0m\u001b[1;33m\u001b[0m\u001b[1;33m\u001b[0m\u001b[0m\n\u001b[1;32m----> 9\u001b[1;33m \u001b[0mmaria\u001b[0m\u001b[1;33m.\u001b[0m\u001b[0m__wallet\u001b[0m \u001b[1;33m-=\u001b[0m \u001b[1;36m10000\u001b[0m\u001b[1;33m\u001b[0m\u001b[1;33m\u001b[0m\u001b[0m\n\u001b[0m",
      "\u001b[1;31mAttributeError\u001b[0m: 'Person' object has no attribute '__wallet'"
     ]
    }
   ],
   "source": [
    "class Person:\n",
    "    def __init__(self, name, age, address, wallet):\n",
    "        self.name = name\n",
    "        self.age = age\n",
    "        self.adddress = address\n",
    "        self.__wallet = wallet #변수앞에 __를 붙여서 비공개 속성으로 만듦\n",
    "        \n",
    "maria = Person(\"마리아\",20,\"서울시 서초구 반포동\",10000)\n",
    "maria.__wallet -= 10000\n"
   ]
  },
  {
   "cell_type": "code",
   "execution_count": null,
   "id": "3cc95597-7a37-4aec-a998-2dda32b31eb0",
   "metadata": {},
   "outputs": [],
   "source": [
    "class Person:\n",
    "    def __init__(self, name, age, address, wallet):\n",
    "        self.name = name\n",
    "        self.age = age\n",
    "        self.adddress = address\n",
    "        self.__wallet = wallet #변수앞에 __를 붙여서 비공개 속성으로 만듦\n",
    "    def pay(self.amount):\n",
    "        if self.__wallet<amount:\n",
    "            print(\"돈이 모자랍니다.\")\n",
    "            return\n",
    "        self.__wallet -= amount #비공개 속성은 클래스 안의 메서드에서만 접근할 수 있음\n",
    "        print(\"이제 {0}원 남았네요.\".format(self.__wallet))\n",
    "        \n",
    "maria = Person(\"마리아\",20,\"서울시 서초구 반포동\",10000)\n",
    "maria.__wallet -= 10000\n"
   ]
  },
  {
   "cell_type": "markdown",
   "id": "0f48b31d-038c-4d75-a3b5-2442e574da5d",
   "metadata": {},
   "source": [
    "### (연습문제) 사용자로부터 체력,마나,ap를 입력받아와서 애니(annie)클래스를 작성하고 티버(tibbers)스킬의 피해량이 출력되게 만들어라"
   ]
  },
  {
   "cell_type": "code",
   "execution_count": 91,
   "id": "7a9f5a76-e69f-4176-b9aa-928774626667",
   "metadata": {},
   "outputs": [
    {
     "name": "stdin",
     "output_type": "stream",
     "text": [
      "체력, 마나, AP를 입력하세요. 511.68 334.0 298\n"
     ]
    },
    {
     "name": "stdout",
     "output_type": "stream",
     "text": [
      "[511.68, 334.0, 298.0]\n",
      "티버의 피해량은 593.7입니다\n"
     ]
    }
   ],
   "source": [
    "#피해량 = ap*0.65+400\n",
    "class annie:\n",
    "    def __init__(self,che,ma,ap):\n",
    "        self.che = che\n",
    "        self.ma = ma\n",
    "        self.ap = ap\n",
    "    def pi_he(self):\n",
    "        print(f\"티버의 피해량은 {(self.ap * 0.65) + 400}입니다\")\n",
    "    \n",
    "a = list(map(float,input(\"체력, 마나, AP를 입력하세요.\").split(\" \")))\n",
    "tibbers = annie(a[0],a[1],a[2])\n",
    "# hp, mp, ap = map(float.input(\"체력, 마나, AP를 입력하세요.\").split(\" \"))\n",
    "#a2 = annie(hp, mp, ap)\n",
    "\n",
    "tibbers.pi_he()"
   ]
  },
  {
   "cell_type": "code",
   "execution_count": null,
   "id": "2d9be39e-9f94-47af-a0b2-beb1b4f18928",
   "metadata": {},
   "outputs": [],
   "source": []
  },
  {
   "cell_type": "code",
   "execution_count": null,
   "id": "3addd4bb-1c24-4c77-ba3a-bed7396aaaf6",
   "metadata": {},
   "outputs": [],
   "source": []
  }
 ],
 "metadata": {
  "kernelspec": {
   "display_name": "Python 3 (ipykernel)",
   "language": "python",
   "name": "python3"
  },
  "language_info": {
   "codemirror_mode": {
    "name": "ipython",
    "version": 3
   },
   "file_extension": ".py",
   "mimetype": "text/x-python",
   "name": "python",
   "nbconvert_exporter": "python",
   "pygments_lexer": "ipython3",
   "version": "3.9.13"
  }
 },
 "nbformat": 4,
 "nbformat_minor": 5
}
