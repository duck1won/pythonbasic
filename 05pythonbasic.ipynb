{
 "cells": [
  {
   "cell_type": "code",
   "execution_count": 2,
   "id": "f4b7cd44-7f96-4ce3-9ee2-6801ce17c3a8",
   "metadata": {},
   "outputs": [
    {
     "name": "stdout",
     "output_type": "stream",
     "text": [
      "[2, 4, 6, 8, 10, 12, 14, 16, 18, 20, 22, 24, 26, 28, 30, 32, 34, 36, 38, 40, 42, 44, 46, 48, 50, 52, 54, 56, 58, 60, 62, 64, 66, 68, 70, 72, 74, 76, 78, 80, 82, 84, 86, 88, 90, 92, 94, 96, 98]\n"
     ]
    }
   ],
   "source": [
    "even_numbers = list(range(2,100,2))\n",
    "print(even_numbers)"
   ]
  },
  {
   "cell_type": "code",
   "execution_count": 3,
   "id": "a5f8a186-10bb-4540-9ecc-8b690c9be9ec",
   "metadata": {},
   "outputs": [
    {
     "data": {
      "text/plain": [
       "[0, 1, 2, 3, 4, 5, 6, 7]"
      ]
     },
     "execution_count": 3,
     "metadata": {},
     "output_type": "execute_result"
    }
   ],
   "source": [
    "list(range(8))"
   ]
  },
  {
   "cell_type": "code",
   "execution_count": 5,
   "id": "515a47c1-73fc-4fe4-a5cb-ca9cf013b691",
   "metadata": {},
   "outputs": [
    {
     "data": {
      "text/plain": [
       "list"
      ]
     },
     "execution_count": 5,
     "metadata": {},
     "output_type": "execute_result"
    }
   ],
   "source": [
    "type(even_numbers)"
   ]
  },
  {
   "cell_type": "code",
   "execution_count": 8,
   "id": "bce1cddb-d2a5-49ba-a37e-d8172e77e921",
   "metadata": {},
   "outputs": [
    {
     "name": "stdout",
     "output_type": "stream",
     "text": [
      "Hello word1\n",
      "Hello word2\n",
      "Hello word3\n",
      "Hello word4\n",
      "Hello word5\n",
      "Hello word6\n",
      "Hello word7\n",
      "Hello word8\n",
      "Hello word9\n",
      "Hello word10\n",
      "Hello word11\n",
      "Hello word12\n",
      "Hello word13\n",
      "Hello word14\n",
      "Hello word15\n",
      "Hello word16\n",
      "Hello word17\n",
      "Hello word18\n",
      "Hello word19\n",
      "Hello word20\n",
      "Hello word21\n",
      "Hello word22\n",
      "Hello word23\n",
      "Hello word24\n",
      "Hello word25\n",
      "Hello word26\n",
      "Hello word27\n",
      "Hello word28\n",
      "Hello word29\n",
      "Hello word30\n",
      "Hello word31\n",
      "Hello word32\n",
      "Hello word33\n",
      "Hello word34\n",
      "Hello word35\n",
      "Hello word36\n",
      "Hello word37\n",
      "Hello word38\n",
      "Hello word39\n",
      "Hello word40\n",
      "Hello word41\n",
      "Hello word42\n",
      "Hello word43\n",
      "Hello word44\n",
      "Hello word45\n",
      "Hello word46\n",
      "Hello word47\n",
      "Hello word48\n",
      "Hello word49\n",
      "Hello word50\n",
      "Hello word51\n",
      "Hello word52\n",
      "Hello word53\n",
      "Hello word54\n",
      "Hello word55\n",
      "Hello word56\n",
      "Hello word57\n",
      "Hello word58\n",
      "Hello word59\n",
      "Hello word60\n",
      "Hello word61\n",
      "Hello word62\n",
      "Hello word63\n",
      "Hello word64\n",
      "Hello word65\n",
      "Hello word66\n",
      "Hello word67\n",
      "Hello word68\n",
      "Hello word69\n",
      "Hello word70\n",
      "Hello word71\n",
      "Hello word72\n",
      "Hello word73\n",
      "Hello word74\n",
      "Hello word75\n",
      "Hello word76\n",
      "Hello word77\n",
      "Hello word78\n",
      "Hello word79\n",
      "Hello word80\n",
      "Hello word81\n",
      "Hello word82\n",
      "Hello word83\n",
      "Hello word84\n",
      "Hello word85\n",
      "Hello word86\n",
      "Hello word87\n",
      "Hello word88\n",
      "Hello word89\n",
      "Hello word90\n",
      "Hello word91\n",
      "Hello word92\n",
      "Hello word93\n",
      "Hello word94\n",
      "Hello word95\n",
      "Hello word96\n",
      "Hello word97\n",
      "Hello word98\n",
      "Hello word99\n",
      "Hello word100\n"
     ]
    }
   ],
   "source": [
    "for i in range(1,101):\n",
    "    print(f\"Hello word{i}\")"
   ]
  },
  {
   "cell_type": "code",
   "execution_count": 9,
   "id": "e3f31cc2-249c-4e0b-81c2-1984c963cf4c",
   "metadata": {},
   "outputs": [
    {
     "name": "stdin",
     "output_type": "stream",
     "text": [
      "인사 몇번해드릴까요? 3\n"
     ]
    },
    {
     "name": "stdout",
     "output_type": "stream",
     "text": [
      "hello word\n",
      "hello word\n",
      "hello word\n"
     ]
    }
   ],
   "source": [
    "a =int(input(\"인사 몇번해드릴까요?\"))\n",
    "for i in range(a):\n",
    "    print(\"hello word\")"
   ]
  },
  {
   "cell_type": "code",
   "execution_count": 15,
   "id": "9a43a83e-2c60-4e7a-9911-ac9f5cef8172",
   "metadata": {},
   "outputs": [
    {
     "data": {
      "text/plain": [
       "[5, 6, 7, 8, 9]"
      ]
     },
     "execution_count": 15,
     "metadata": {},
     "output_type": "execute_result"
    }
   ],
   "source": [
    "list(range(5,10))"
   ]
  },
  {
   "cell_type": "code",
   "execution_count": 18,
   "id": "7bc343fd-4ad8-4695-b046-4fa177c9c556",
   "metadata": {},
   "outputs": [
    {
     "data": {
      "text/plain": [
       "[0, 3, 6, 9]"
      ]
     },
     "execution_count": 18,
     "metadata": {},
     "output_type": "execute_result"
    }
   ],
   "source": [
    "list(range(0,10,3))"
   ]
  },
  {
   "cell_type": "code",
   "execution_count": 19,
   "id": "b9148d5c-b7d9-411d-a976-95bd44af0ebe",
   "metadata": {},
   "outputs": [
    {
     "data": {
      "text/plain": [
       "[-10, -40, -70]"
      ]
     },
     "execution_count": 19,
     "metadata": {},
     "output_type": "execute_result"
    }
   ],
   "source": [
    "list(range(-10,-80,-30))"
   ]
  },
  {
   "cell_type": "code",
   "execution_count": 50,
   "id": "8be565d8-4c04-4a9a-86af-3ad996af4960",
   "metadata": {},
   "outputs": [
    {
     "name": "stdin",
     "output_type": "stream",
     "text": [
      "자연수 하나 입력해주세요. 6\n"
     ]
    },
    {
     "name": "stdout",
     "output_type": "stream",
     "text": [
      "6\t6\t6\t6\t6\t6\t\n",
      "5\t5\t5\t5\t5\t\n",
      "4\t4\t4\t4\t\n",
      "3\t3\t3\t\n",
      "2\t2\t\n",
      "1\t\n"
     ]
    }
   ],
   "source": [
    "a = int(input(\"자연수 하나 입력해주세요.\"))\n",
    "for i in range(a,0,-1):\n",
    "    for _ in range(i):\n",
    "        print(i,end='\\t')\n",
    "    print()"
   ]
  },
  {
   "cell_type": "code",
   "execution_count": 57,
   "id": "2817e77d-fe68-4b46-bcea-58bae1df27d6",
   "metadata": {},
   "outputs": [
    {
     "name": "stdin",
     "output_type": "stream",
     "text": [
      "자연수 하나 입력해주세요. 6\n"
     ]
    },
    {
     "name": "stdout",
     "output_type": "stream",
     "text": [
      "\n",
      "1\t\n",
      "2\t2\t\n",
      "3\t3\t3\t\n",
      "4\t4\t4\t4\t\n",
      "5\t5\t5\t5\t5\t\n",
      "6\t6\t6\t6\t6\t6\t\n"
     ]
    }
   ],
   "source": [
    "a = int(input(\"자연수 하나 입력해주세요.\"))\n",
    "for i in range(a+1):\n",
    "    for _ in range(i):\n",
    "        print(i,end='\\t')\n",
    "    print()"
   ]
  },
  {
   "cell_type": "code",
   "execution_count": 97,
   "id": "b5246c84-f6b5-47f9-8454-d7c368af44b2",
   "metadata": {},
   "outputs": [
    {
     "name": "stdout",
     "output_type": "stream",
     "text": [
      "* * * * * * * * * *\n",
      "*                 *         \n",
      "*                 *         \n",
      "*                 *         \n",
      "*                 *         \n",
      "*                 *         \n",
      "*                 *         \n",
      "*                 *         \n",
      "*                 *         \n",
      "* * * * * * * * * *\n"
     ]
    }
   ],
   "source": [
    "a = \"* * * * * * * * * *\"\n",
    "b = \"*                 *\"\n",
    "\n",
    "for i in range(10):\n",
    "    if i == 0 or i == 9:\n",
    "        print(a)\n",
    "    else:\n",
    "        print(b,'''\\\n",
    "        ''')"
   ]
  },
  {
   "cell_type": "code",
   "execution_count": 96,
   "id": "cab528a5-bd0b-4a47-b030-983eb03d57dc",
   "metadata": {},
   "outputs": [
    {
     "name": "stdout",
     "output_type": "stream",
     "text": [
      "* * * * * * * * * * \n",
      "*                 *                 \n",
      "*                 *                 \n",
      "*                 *                 \n",
      "*                 *                 \n",
      "*                 *                 \n",
      "*                 *                 \n",
      "*                 *                 \n",
      "*                 *                 \n",
      "* * * * * * * * * * \n"
     ]
    }
   ],
   "source": [
    "for i in range(10):\n",
    "    if i == 0 or i == 9:\n",
    "        for j in range(10):\n",
    "            print(\"*\",end=\" \")\n",
    "    else:\n",
    "        for j in range(10):\n",
    "            if j ==0 or j==9:\n",
    "                print(\"*\",end=\"                 \")\n",
    "    print()"
   ]
  },
  {
   "cell_type": "code",
   "execution_count": null,
   "id": "9df42635-ecc7-47c5-924d-258361fd6752",
   "metadata": {},
   "outputs": [
    {
     "name": "stdin",
     "output_type": "stream",
     "text": [
      "1부터 입력한 자연수까지의 모든 홀수의 합을 구합니다. 102\n"
     ]
    },
    {
     "name": "stdout",
     "output_type": "stream",
     "text": [
      "1 + 3 + 5 + 7 + 9 + 11 + 13 + 15 + 17 + 19 + 21 + 23 + 25 + 27 + 29 + 31 + 33 + 35 + 37 + 39 + 41 + 43 + 45 + 47 + 49 + 51 + 53 + 55 + 57 + 59 + 61 + 63 + 65 + 67 + 69 + 71 + 73 + 75 + 77 + 79 + 81 + 83 + 85 + 87 + 89 + 91 + 93 + 95 + 97 + 99 + 101 = 2601\n"
     ]
    }
   ],
   "source": [
    "a = int(input(\"1부터 입력한 자연수까지의 모든 홀수의 합을 구합니다.\"))\n",
    "sum = 0\n",
    "for i in range(1,a+1):\n",
    "    if i%2 != 0:\n",
    "        sum += i\n",
    "        print(f\"{i} \",end='')\n",
    "        if i != a-1 and i != a:\n",
    "            print(\"+ \",end='')\n",
    "print(f\"= {sum}\")"
   ]
  },
  {
   "cell_type": "code",
   "execution_count": 131,
   "id": "efc4c2d3-83e5-4445-8c41-53384c599f0a",
   "metadata": {},
   "outputs": [
    {
     "name": "stdout",
     "output_type": "stream",
     "text": [
      "0\n",
      "1\n",
      "2\n",
      "3\n",
      "4\n",
      "5\n",
      "6\n",
      "7\n",
      "8\n",
      "9\n",
      "<class 'int'>\n",
      "9\n"
     ]
    }
   ],
   "source": [
    "for i in range(10):\n",
    "    print(i)\n",
    "print(type(i))\n",
    "print(i)"
   ]
  },
  {
   "cell_type": "code",
   "execution_count": 135,
   "id": "3799da80-ab3c-4077-91cf-189b5e33f50f",
   "metadata": {},
   "outputs": [
    {
     "name": "stdin",
     "output_type": "stream",
     "text": [
      "계승을 구할 숫자를 입력하세요. 7\n"
     ]
    },
    {
     "name": "stdout",
     "output_type": "stream",
     "text": [
      "5040\n"
     ]
    }
   ],
   "source": [
    "a = int(input(\"계승을 구할 숫자를 입력하세요.\"))\n",
    "gob = 1\n",
    "for i in range(1,a+1):\n",
    "    gob *=i\n",
    "print(gob)    "
   ]
  },
  {
   "cell_type": "code",
   "execution_count": 138,
   "id": "c5893800-3224-4472-85f4-0319ec381afc",
   "metadata": {},
   "outputs": [
    {
     "name": "stdout",
     "output_type": "stream",
     "text": [
      "시 레 라 솔 파 "
     ]
    }
   ],
   "source": [
    "for _ in [\"시\",\"레\",\"라\",\"솔\",\"파\"]:\n",
    "    print(_,end=' ')"
   ]
  },
  {
   "cell_type": "code",
   "execution_count": 156,
   "id": "db16fa93-3347-43f5-ac18-632702d5241e",
   "metadata": {},
   "outputs": [
    {
     "name": "stdout",
     "output_type": "stream",
     "text": [
      "십구팔칠육오사삼이일\n",
      "<class 'reversed'>\n"
     ]
    }
   ],
   "source": [
    "a = reversed(\"일이삼사오육칠팔구십\")\n",
    "print(''.join(a))\n",
    "print(type(a))"
   ]
  },
  {
   "cell_type": "code",
   "execution_count": 162,
   "id": "b78d140e-7f76-4d0d-b2ce-60f957b6ec4b",
   "metadata": {},
   "outputs": [
    {
     "name": "stdout",
     "output_type": "stream",
     "text": [
      "100 -420 250 1030 210 770 240 "
     ]
    }
   ],
   "source": [
    "x = [10,-42,25,103,21,77,24]\n",
    "for i in x:\n",
    "    print(i*10,end=' ')"
   ]
  },
  {
   "cell_type": "code",
   "execution_count": 163,
   "id": "9523fa8e-5531-4e5a-a017-4281d47ef098",
   "metadata": {},
   "outputs": [
    {
     "name": "stdin",
     "output_type": "stream",
     "text": [
      "구구단을 알려드립니다. 숫자를 입력하세요. 9\n"
     ]
    },
    {
     "name": "stdout",
     "output_type": "stream",
     "text": [
      "9 * 1 = 9\n",
      "9 * 2 = 18\n",
      "9 * 3 = 27\n",
      "9 * 4 = 36\n",
      "9 * 5 = 45\n",
      "9 * 6 = 54\n",
      "9 * 7 = 63\n",
      "9 * 8 = 72\n",
      "9 * 9 = 81\n"
     ]
    }
   ],
   "source": [
    "a = int(input(\"구구단을 알려드립니다. 숫자를 입력하세요.\"))\n",
    "for i in range(1,10):\n",
    "    print(f\"{a} * {i} = {a*i}\")"
   ]
  },
  {
   "cell_type": "code",
   "execution_count": 165,
   "id": "10a1afd6-31c8-4222-a027-3d8fc5f5e85e",
   "metadata": {},
   "outputs": [
    {
     "name": "stdin",
     "output_type": "stream",
     "text": [
      "자연수를 입력해주세요. 100\n"
     ]
    },
    {
     "name": "stdout",
     "output_type": "stream",
     "text": [
      "5050\n"
     ]
    }
   ],
   "source": [
    "a = int(input(\"자연수를 입력해주세요.\"))\n",
    "sum =0\n",
    "for i in range(1,a+1):\n",
    "    sum +=i\n",
    "print(sum)"
   ]
  },
  {
   "cell_type": "code",
   "execution_count": null,
   "id": "4261a662-6567-400f-8c34-6dccad37e82d",
   "metadata": {},
   "outputs": [],
   "source": [
    "for i in range(5):\n",
    "    for j in range(5):\n",
    "        print(\"*\",end='')\n",
    "    print()"
   ]
  },
  {
   "cell_type": "code",
   "execution_count": 170,
   "id": "1af315c8-dc80-4512-ae92-7e01ebd00fd0",
   "metadata": {},
   "outputs": [
    {
     "name": "stdin",
     "output_type": "stream",
     "text": [
      "반복할 횟수를입력하세요: 3\n"
     ]
    },
    {
     "name": "stdout",
     "output_type": "stream",
     "text": [
      "hello world 3\n",
      "hello world 2\n",
      "hello world 1\n"
     ]
    }
   ],
   "source": [
    "count = int(input(\"반복할 횟수를입력하세요:\"))\n",
    "while count > 0:\n",
    "    print(\"hello world\", count)\n",
    "    count -=1"
   ]
  },
  {
   "cell_type": "code",
   "execution_count": 172,
   "id": "611a6c71-f9f5-4b60-a1ba-6b23292a095d",
   "metadata": {},
   "outputs": [
    {
     "name": "stdout",
     "output_type": "stream",
     "text": [
      "2\t4\t6\t8\t10\t12\t14\t16\t18\t20\t22\t24\t26\t28\t30\t32\t34\t36\t38\t40\t42\t44\t46\t48\t50\t52\t54\t56\t58\t60\t62\t64\t66\t68\t70\t72\t74\t76\t78\t80\t82\t84\t86\t88\t90\t92\t94\t96\t98\t100\t"
     ]
    }
   ],
   "source": [
    "cnt = 1\n",
    "while cnt <= 100:\n",
    "    if cnt%2 == 0:\n",
    "        print(cnt,end=\"\\t\")\n",
    "    cnt += 1    "
   ]
  },
  {
   "cell_type": "code",
   "execution_count": 173,
   "id": "64eb9a79-22e1-4682-8fab-112a1c46d9c6",
   "metadata": {},
   "outputs": [
    {
     "name": "stdin",
     "output_type": "stream",
     "text": [
      "구구단을 알려드립니다. 숫자를 입력하세요. 9\n"
     ]
    },
    {
     "name": "stdout",
     "output_type": "stream",
     "text": [
      "9*1 = 9\n",
      "9*2 = 18\n",
      "9*3 = 27\n",
      "9*4 = 36\n",
      "9*5 = 45\n",
      "9*6 = 54\n",
      "9*7 = 63\n",
      "9*8 = 72\n",
      "9*9 = 81\n"
     ]
    }
   ],
   "source": [
    "cnt = 1\n",
    "a = int(input(\"구구단을 알려드립니다. 숫자를 입력하세요.\"))\n",
    "while cnt<10:\n",
    "    print(f\"{a}*{cnt} = {a*cnt}\")\n",
    "    cnt+=1\n",
    "    "
   ]
  },
  {
   "cell_type": "code",
   "execution_count": null,
   "id": "25b2e198-4f58-4d27-81a1-86e2276beb12",
   "metadata": {},
   "outputs": [],
   "source": []
  },
  {
   "cell_type": "code",
   "execution_count": null,
   "id": "9b3b77f7-6ea8-4026-9cf3-39fff6fcc361",
   "metadata": {},
   "outputs": [],
   "source": []
  },
  {
   "cell_type": "code",
   "execution_count": null,
   "id": "0d154a43-caf4-4ba2-94d7-a67335bd305b",
   "metadata": {},
   "outputs": [],
   "source": []
  },
  {
   "cell_type": "code",
   "execution_count": null,
   "id": "87a4c38f-e3fa-4b2b-a487-6ee135cebbc1",
   "metadata": {},
   "outputs": [],
   "source": []
  },
  {
   "cell_type": "code",
   "execution_count": null,
   "id": "b8994533-1d06-4ffa-97ed-a672f7ffebc2",
   "metadata": {},
   "outputs": [],
   "source": []
  },
  {
   "cell_type": "code",
   "execution_count": null,
   "id": "0b323e15-7c5e-4dcf-8879-4892799f8520",
   "metadata": {},
   "outputs": [],
   "source": []
  },
  {
   "cell_type": "code",
   "execution_count": null,
   "id": "f035b732-522c-4d0e-8f72-47908d4c277f",
   "metadata": {},
   "outputs": [],
   "source": []
  },
  {
   "cell_type": "code",
   "execution_count": null,
   "id": "3e4b8886-2c33-468e-aa5c-4d36583f77f4",
   "metadata": {},
   "outputs": [],
   "source": []
  },
  {
   "cell_type": "code",
   "execution_count": null,
   "id": "a16af573-288c-469d-a10a-a4ee8d3cc874",
   "metadata": {},
   "outputs": [],
   "source": []
  },
  {
   "cell_type": "code",
   "execution_count": null,
   "id": "56a95fed-ed37-4005-b6eb-dd8191059c07",
   "metadata": {},
   "outputs": [],
   "source": []
  },
  {
   "cell_type": "code",
   "execution_count": null,
   "id": "0edd246a-c084-4f29-b9cd-18c743a18a71",
   "metadata": {},
   "outputs": [],
   "source": []
  },
  {
   "cell_type": "code",
   "execution_count": null,
   "id": "1758d8df-a26b-4101-b79f-873f32a63c4b",
   "metadata": {},
   "outputs": [],
   "source": []
  },
  {
   "cell_type": "code",
   "execution_count": null,
   "id": "dccf90cd-a3b1-4b10-920e-72cfd42449ee",
   "metadata": {},
   "outputs": [],
   "source": []
  },
  {
   "cell_type": "code",
   "execution_count": null,
   "id": "61ecb0bf-65aa-4d09-b844-5eeecb8e7719",
   "metadata": {},
   "outputs": [],
   "source": []
  },
  {
   "cell_type": "code",
   "execution_count": null,
   "id": "75229a61-b269-40c6-8a2a-846d1fb7fc21",
   "metadata": {},
   "outputs": [],
   "source": []
  },
  {
   "cell_type": "code",
   "execution_count": null,
   "id": "c9f26f65-6c85-4128-8c81-9046bfce1d4f",
   "metadata": {},
   "outputs": [],
   "source": []
  },
  {
   "cell_type": "code",
   "execution_count": null,
   "id": "8e52f7f1-4c5a-48d1-bff5-f68ab186ff4e",
   "metadata": {},
   "outputs": [],
   "source": []
  },
  {
   "cell_type": "code",
   "execution_count": null,
   "id": "7f72cf22-2438-4273-abde-152b2baae393",
   "metadata": {},
   "outputs": [],
   "source": []
  },
  {
   "cell_type": "code",
   "execution_count": null,
   "id": "755bec46-2811-4761-9bee-fa719cd3e277",
   "metadata": {},
   "outputs": [],
   "source": []
  },
  {
   "cell_type": "code",
   "execution_count": null,
   "id": "c332142b-0594-44e0-834c-6a7222beaf3b",
   "metadata": {},
   "outputs": [],
   "source": []
  },
  {
   "cell_type": "code",
   "execution_count": null,
   "id": "2aa5f121-26f7-4722-8223-7006eb6577b7",
   "metadata": {},
   "outputs": [],
   "source": []
  },
  {
   "cell_type": "code",
   "execution_count": null,
   "id": "334d35fd-61f1-4144-9cc8-b6af1b094a16",
   "metadata": {},
   "outputs": [],
   "source": []
  },
  {
   "cell_type": "code",
   "execution_count": null,
   "id": "1b7fa201-0eae-4298-87f8-3e25bb7e0794",
   "metadata": {},
   "outputs": [],
   "source": []
  },
  {
   "cell_type": "code",
   "execution_count": null,
   "id": "54aab45a-cc46-4234-a6e8-bddc9d72b7e7",
   "metadata": {},
   "outputs": [],
   "source": []
  },
  {
   "cell_type": "code",
   "execution_count": null,
   "id": "fa26bbc8-a362-4af9-b7d6-c89bd2b3b370",
   "metadata": {},
   "outputs": [],
   "source": []
  },
  {
   "cell_type": "code",
   "execution_count": null,
   "id": "7abdc8f5-47a6-4425-b11d-35727ba08036",
   "metadata": {},
   "outputs": [],
   "source": []
  },
  {
   "cell_type": "code",
   "execution_count": null,
   "id": "de56b7b5-e661-4080-aa2d-e9ce4bd79944",
   "metadata": {},
   "outputs": [],
   "source": []
  },
  {
   "cell_type": "code",
   "execution_count": null,
   "id": "ed369592-d63f-4263-af6d-23311f09b5d9",
   "metadata": {},
   "outputs": [],
   "source": []
  },
  {
   "cell_type": "code",
   "execution_count": null,
   "id": "0b784380-3839-4a46-971a-ee418cc00a9a",
   "metadata": {},
   "outputs": [],
   "source": []
  },
  {
   "cell_type": "code",
   "execution_count": null,
   "id": "9e8272a2-3c71-4b5d-8ef4-79bce7942387",
   "metadata": {},
   "outputs": [],
   "source": []
  },
  {
   "cell_type": "code",
   "execution_count": null,
   "id": "be08c331-3015-4e2b-b8a9-f01ef2b548d8",
   "metadata": {},
   "outputs": [],
   "source": []
  },
  {
   "cell_type": "code",
   "execution_count": null,
   "id": "0cb4f1c2-c9aa-4c9b-8ded-f550b625446b",
   "metadata": {},
   "outputs": [],
   "source": []
  },
  {
   "cell_type": "code",
   "execution_count": null,
   "id": "2ef93d38-2c47-4c47-a74f-3f4617c59368",
   "metadata": {},
   "outputs": [],
   "source": []
  },
  {
   "cell_type": "code",
   "execution_count": null,
   "id": "94c697d0-5eb7-4061-a4bb-f4a2391b74ae",
   "metadata": {},
   "outputs": [],
   "source": []
  },
  {
   "cell_type": "code",
   "execution_count": null,
   "id": "d0d658b9-1313-4346-844d-6109fcdf1af8",
   "metadata": {},
   "outputs": [],
   "source": []
  },
  {
   "cell_type": "code",
   "execution_count": null,
   "id": "33047858-ad5d-4723-acc5-6d94ad0292d7",
   "metadata": {},
   "outputs": [],
   "source": []
  }
 ],
 "metadata": {
  "kernelspec": {
   "display_name": "Python 3 (ipykernel)",
   "language": "python",
   "name": "python3"
  },
  "language_info": {
   "codemirror_mode": {
    "name": "ipython",
    "version": 3
   },
   "file_extension": ".py",
   "mimetype": "text/x-python",
   "name": "python",
   "nbconvert_exporter": "python",
   "pygments_lexer": "ipython3",
   "version": "3.9.13"
  }
 },
 "nbformat": 4,
 "nbformat_minor": 5
}
