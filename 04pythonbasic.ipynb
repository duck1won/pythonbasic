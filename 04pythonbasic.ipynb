{
 "cells": [
  {
   "cell_type": "code",
   "execution_count": 1,
   "id": "39fad2d1-1f15-4e6e-b3c2-54a42bfa46c9",
   "metadata": {},
   "outputs": [
    {
     "name": "stdout",
     "output_type": "stream",
     "text": [
      "1 ,2 ,[1, 2, 3]\n"
     ]
    }
   ],
   "source": [
    "print(1,2,[1,2,3],sep=' ,')"
   ]
  },
  {
   "cell_type": "code",
   "execution_count": 3,
   "id": "48291bce-6749-4ef3-b1ec-aeea57f09344",
   "metadata": {},
   "outputs": [
    {
     "name": "stdout",
     "output_type": "stream",
     "text": [
      "줄이 바뀌지 않습니다.그 이유는 end=\"\\n\"과 같이 기본 설정된 값을 빈 스트링으로 변경했기 때문입니다.\n",
      "sep, end는 맨뒤에 써야하며 둘간 순서는 상관없습니다.어떻게 사용하는지\n",
      "이해가 되사나요?"
     ]
    }
   ],
   "source": [
    "print(\"줄이 바뀌지 않습니다.\",end='')\n",
    "print(\"그 이유는 end=\\\"\\\\n\\\"과 같이 기본 설정된 값을 빈 스트링으로 변경했기 때문입니다.\")\n",
    "print(\"sep\",\"end는 맨뒤에 써야하며 둘간 순서는 상관없습니다.\",sep=\", \",end=\"\")\n",
    "print(\"어떻게 사용하는지\",\"이해가 되사나요\", sep=\"\\n\",end=\"?\")"
   ]
  },
  {
   "cell_type": "code",
   "execution_count": 5,
   "id": "571a2fe2-85b8-45ef-9468-1280d2392529",
   "metadata": {},
   "outputs": [
    {
     "name": "stdout",
     "output_type": "stream",
     "text": [
      "2021/02/03 18:33:23\n"
     ]
    }
   ],
   "source": [
    "year='2021'\n",
    "month='02'\n",
    "day='03'\n",
    "hour='18'\n",
    "minute='33'\n",
    "second='23'\n",
    "print(year,month,day,sep=\"/\",end=\" \")\n",
    "print(hour,minute,second,sep=\":\")"
   ]
  },
  {
   "cell_type": "code",
   "execution_count": 7,
   "id": "452686e6-9a0b-4c0b-b20b-d7b5ef9af0fa",
   "metadata": {},
   "outputs": [
    {
     "name": "stdin",
     "output_type": "stream",
     "text": [
      "사과와 귤을 몇개 드릴까요? 10,20\n"
     ]
    },
    {
     "name": "stdout",
     "output_type": "stream",
     "text": [
      "총 가격은 14000원입니다.\n"
     ]
    }
   ],
   "source": [
    "apple =1000\n",
    "mandarin = 200\n",
    "a,b = map(int,input(\"사과와 귤을 몇개 드릴까요?\").split(','))\n",
    "print(\"총 가격은 {0}원입니다.\".format(((a*apple)+(mandarin*b))))"
   ]
  },
  {
   "cell_type": "code",
   "execution_count": 13,
   "id": "74406aea-7f93-4c7e-add5-4e11602fc83a",
   "metadata": {},
   "outputs": [
    {
     "name": "stdout",
     "output_type": "stream",
     "text": [
      "오늘의 날짜를 알려드립니다.\n",
      "2023년 2월 15일입니다.\n"
     ]
    }
   ],
   "source": [
    "import time\n",
    "today=\"\"\"오늘의 날짜를 알려드립니다.\n",
    "{}년 {}월 {}일입니다.\\\n",
    "\"\"\".format(time.localtime().tm_year,\n",
    "          time.localtime().tm_mon,\n",
    "          time.localtime().tm_mday,)\n",
    "\n",
    "print(today)"
   ]
  },
  {
   "cell_type": "code",
   "execution_count": 14,
   "id": "3619abb1-b8ee-4062-bf98-07f6a85b84c1",
   "metadata": {},
   "outputs": [
    {
     "name": "stdout",
     "output_type": "stream",
     "text": [
      "중괄호는 2개이고, 여기 인수는\n"
     ]
    }
   ],
   "source": [
    "some_str = \"중괄호는 2개이고, {} {}\".format(\"여기\",\"인수는\",\"3개 입니다.\")\n",
    "print(some_str)"
   ]
  },
  {
   "cell_type": "code",
   "execution_count": 15,
   "id": "3ca951c5-be68-46cd-8b13-3e26db104e7f",
   "metadata": {},
   "outputs": [
    {
     "name": "stdout",
     "output_type": "stream",
     "text": [
      "소괄호에 넣을수 있음 3\n"
     ]
    }
   ],
   "source": [
    "a= 3\n",
    "print(f\"소괄호에 넣을수 있음 {a}\")"
   ]
  },
  {
   "cell_type": "code",
   "execution_count": 20,
   "id": "83fc6808-3f3d-4418-a5eb-bd7222a7bf3d",
   "metadata": {},
   "outputs": [
    {
     "name": "stdout",
     "output_type": "stream",
     "text": [
      "오늘의 날짜를 알려드립니다!\n",
      "2023년2월15일입니다.\n"
     ]
    }
   ],
   "source": [
    "import time\n",
    "today = f'''오늘의 날짜를 알려드립니다!\n",
    "{time.localtime().tm_year}년{time.localtime().tm_mon}월{time.localtime().tm_mday}일입니다.\\\n",
    "'''\n",
    "print(today)"
   ]
  },
  {
   "cell_type": "code",
   "execution_count": 29,
   "id": "b2c95a0f-bacc-4e28-b376-c5d523d7bf45",
   "metadata": {},
   "outputs": [
    {
     "name": "stdout",
     "output_type": "stream",
     "text": [
      "정수임\n"
     ]
    }
   ],
   "source": [
    "input_value4 = 3\n",
    "if(type(input_value4) is int):\n",
    "    print(\"정수임\")"
   ]
  },
  {
   "cell_type": "code",
   "execution_count": 35,
   "id": "5003df89-38f3-4102-8cdf-a03b554b86c2",
   "metadata": {},
   "outputs": [
    {
     "name": "stdout",
     "output_type": "stream",
     "text": [
      "a\n"
     ]
    }
   ],
   "source": [
    "if True:\n",
    "    print(\"a\")"
   ]
  },
  {
   "cell_type": "code",
   "execution_count": 37,
   "id": "3ff6efc1-4bf9-49c0-bd6b-61af403cb642",
   "metadata": {},
   "outputs": [
    {
     "name": "stdout",
     "output_type": "stream",
     "text": [
      "문자열\n"
     ]
    }
   ],
   "source": [
    "a = \"100\"\n",
    "if type(a) is int:\n",
    "    print(\"정수\")\n",
    "elif type(a) is str:\n",
    "    print(\"문자열\")"
   ]
  },
  {
   "cell_type": "code",
   "execution_count": 44,
   "id": "794c5cb3-46fe-4674-be62-92ef5c469269",
   "metadata": {},
   "outputs": [
    {
     "name": "stdout",
     "output_type": "stream",
     "text": [
      "시작\n",
      "수\n",
      "끝\n"
     ]
    }
   ],
   "source": [
    "c = 100\n",
    "print(\"시작\")\n",
    "\n",
    "if c >= 90:\n",
    "    print(\"수\")\n",
    "elif 90 > c and c>=80:\n",
    "    print(\"우\")\n",
    "elif 80>c and c>=70:\n",
    "    print(\"미\")\n",
    "print(\"끝\")"
   ]
  },
  {
   "cell_type": "code",
   "execution_count": 53,
   "id": "72d9ab74-3027-4ae4-b90b-1629d562ee34",
   "metadata": {},
   "outputs": [
    {
     "name": "stdin",
     "output_type": "stream",
     "text": [
      "아이드를 입력하세요 : d\n",
      "회원 등급을 입력해주세요 : 3\n"
     ]
    },
    {
     "name": "stdout",
     "output_type": "stream",
     "text": [
      "제한적인 권한을 갖습니다.\n"
     ]
    }
   ],
   "source": [
    "id = input(\"아이디를 입력하세요 :\")\n",
    "if id == 'admin':\n",
    "    print(\"최고 관리자, 모든 권한을 갖습니다.\")\n",
    "elif id != 'admin':\n",
    "    degree = int(input(\"회원 등급을 입력해주세요 :\"))\n",
    "    if 1<=degree<=3:\n",
    "        print(\"제한적인 권한을 갖습니다.\")\n",
    "    else:\n",
    "        print(\"권한이 없습니다.\")\n"
   ]
  },
  {
   "cell_type": "code",
   "execution_count": 67,
   "id": "145039b4-bc2d-4ae2-9bac-b762fe531d6b",
   "metadata": {},
   "outputs": [
    {
     "name": "stdin",
     "output_type": "stream",
     "text": [
      "자연수 하나 입력해주세요: 70\n"
     ]
    },
    {
     "name": "stdout",
     "output_type": "stream",
     "text": [
      "20\n"
     ]
    }
   ],
   "source": [
    "num = int(input(\"자연수 하나 입력해주세요:\"))\n",
    "if (num-50)>=0:\n",
    "    print(num-50)\n",
    "else :\n",
    "    print(\"0\")\n",
    "\n"
   ]
  },
  {
   "cell_type": "code",
   "execution_count": 69,
   "id": "14a2b80c-82cc-4f65-b8e0-9fa314a11cd9",
   "metadata": {},
   "outputs": [
    {
     "name": "stdin",
     "output_type": "stream",
     "text": [
      "자연수 하나 입력해주세요: 11\n"
     ]
    },
    {
     "name": "stdout",
     "output_type": "stream",
     "text": [
      "홀수입니다\n"
     ]
    }
   ],
   "source": [
    "num = int(input(\"자연수 하나 입력해주세요:\"))\n",
    "if num%2==0:\n",
    "    print(\"짝수입니다\")\n",
    "else :\n",
    "    print(\"홀수입니다\")\n",
    "\n"
   ]
  },
  {
   "cell_type": "code",
   "execution_count": 78,
   "id": "560ede4d-4cde-4909-b01c-0dd508783725",
   "metadata": {},
   "outputs": [
    {
     "name": "stdin",
     "output_type": "stream",
     "text": [
      "소프트웨어 설계 점수를 입력하세요. -1\n",
      "소프트웨어 개발 점수를 입력하세요. 60\n",
      "데이터베이스 구축 점수를입력하세요. 60\n",
      "프로그래밍 언어 활용 점수를 입력하세요. 60\n",
      "정보시스템 구축관리 점수를 입력하세요. 60\n"
     ]
    },
    {
     "ename": "SyntaxError",
     "evalue": "'break' outside loop (3688698819.py, line 8)",
     "output_type": "error",
     "traceback": [
      "\u001b[1;36m  File \u001b[1;32m\"C:\\Users\\user\\AppData\\Local\\Temp\\ipykernel_14772\\3688698819.py\"\u001b[1;36m, line \u001b[1;32m8\u001b[0m\n\u001b[1;33m    break;\u001b[0m\n\u001b[1;37m    ^\u001b[0m\n\u001b[1;31mSyntaxError\u001b[0m\u001b[1;31m:\u001b[0m 'break' outside loop\n"
     ]
    }
   ],
   "source": [
    "a = int(input(\"소프트웨어 설계 점수를 입력하세요.\"))\n",
    "b = int(input(\"소프트웨어 개발 점수를 입력하세요.\"))\n",
    "c = int(input(\"데이터베이스 구축 점수를입력하세요.\"))\n",
    "d = int(input(\"프로그래밍 언어 활용 점수를 입력하세요.\"))\n",
    "e = int(input(\"정보시스템 구축관리 점수를 입력하세요.\"))\n",
    "result = (a+b+c+d+e)/5\n",
    "if (a<0 and 100<a) or (b<0 and 100<b) or (c<0 and 100<c) or (d<0 and 100<d) or (e<0 and 100<e):\n",
    "    print(\"잘못된 점수입니다\");\n",
    "elif result >= 60:\n",
    "    print(\"합격\")\n",
    "elif result < 60 :\n",
    "    print(\"불합격\")"
   ]
  },
  {
   "cell_type": "code",
   "execution_count": 95,
   "id": "10655e32-2177-490e-a659-bd9010f164e8",
   "metadata": {},
   "outputs": [
    {
     "name": "stdin",
     "output_type": "stream",
     "text": [
      "현재 물의 온도를 입력해주세요. 0.12\n"
     ]
    },
    {
     "name": "stdout",
     "output_type": "stream",
     "text": [
      "액체로 예상됩니다.\n"
     ]
    }
   ],
   "source": [
    "ondo = float(input(\"현재 물의 온도를 입력해주세요.\"))\n",
    "if ondo >100:\n",
    "    print(\"기체로 예상됩니다\")\n",
    "elif 0<=ondo<=100:\n",
    "    print(\"액체로 예상됩니다.\")\n",
    "else:\n",
    "    print(\"고체로 예상됩니다.\")"
   ]
  },
  {
   "cell_type": "code",
   "execution_count": 100,
   "id": "6fb058bc-7cca-4aa1-a4e1-277935ff6d65",
   "metadata": {},
   "outputs": [
    {
     "name": "stdin",
     "output_type": "stream",
     "text": [
      "자신의 나이를 입력하세요 : 1\n"
     ]
    },
    {
     "name": "stdout",
     "output_type": "stream",
     "text": [
      "무임승차 입니다.\n"
     ]
    }
   ],
   "source": [
    "age = int(input(\"자신의 나이를 입력하세요 :\"))\n",
    "if age>=19:\n",
    "    print(\"1500원\")\n",
    "elif 12<=age<=18:\n",
    "    print(\"1100원\")\n",
    "elif 6<=age<=11:\n",
    "    print(\"800원\")\n",
    "else:\n",
    "    print(\"무임승차 입니다.\")"
   ]
  },
  {
   "cell_type": "code",
   "execution_count": 111,
   "id": "7cad5449-bbbf-4956-b005-ca5ff8957c4c",
   "metadata": {},
   "outputs": [
    {
     "name": "stdin",
     "output_type": "stream",
     "text": [
      "발주 수량을 입력하세요: 2001\n"
     ]
    },
    {
     "name": "stdout",
     "output_type": "stream",
     "text": [
      "2001개를 주문하셨습니다.\n",
      "적용 할인율은 20%입니다.\n",
      "총 발주 금액은 $16008입니다.\n"
     ]
    }
   ],
   "source": [
    "price = 10\n",
    "total_price = 0\n",
    "a = int(input(\"발주 수량을 입력하세요:\"))\n",
    "print(f\"{a}개를 주문하셨습니다.\")\n",
    "if a<1000:\n",
    "    pass\n",
    "elif 1000<=a<=1500:\n",
    "    rate =5\n",
    "elif 1500<=a<=2000:\n",
    "    rate =10\n",
    "elif 2000<a:\n",
    "    rate =20\n",
    "print(f\"적용 할인율은 {rate}%입니다.\")\n",
    "total_price= int(a*price*((100-rate)/100))          \n",
    "print(f\"총 발주 금액은 ${total_price}입니다.\")"
   ]
  },
  {
   "cell_type": "code",
   "execution_count": 154,
   "id": "a113e9f0-38c6-4cd1-a590-05b9606b5ddd",
   "metadata": {},
   "outputs": [
    {
     "name": "stdin",
     "output_type": "stream",
     "text": [
      "주민번호 뒷자리를 입력하세요: 4567890\n"
     ]
    },
    {
     "name": "stdout",
     "output_type": "stream",
     "text": [
      "[4, 5, 6, 7, 8, 9, 0]\n",
      "여자\n"
     ]
    }
   ],
   "source": [
    "jumin = list(map(int,input(\"주민번호 뒷자리를 입력하세요:\")))\n",
    "print(jumin)\n",
    "if len(jumin) != 7:\n",
    "    print(\"자리수를 잘못 입력했습니다.\")\n",
    "elif jumin[0] != 1 and jumin[0] != 2 and jumin[0] != 3 and jumin[0] != 4:\n",
    "    print(\"잘못된 입력입니다.\")\n",
    "elif jumin[0] == 1 or jumin[0] == 3:\n",
    "    print(\"남자\")\n",
    "elif jumin[0] == 2 or jumin[0] == 4:\n",
    "    print(\"여자\")"
   ]
  },
  {
   "cell_type": "code",
   "execution_count": 175,
   "id": "d44eb8c6-f654-4a4e-9a90-626059a06937",
   "metadata": {},
   "outputs": [
    {
     "name": "stdin",
     "output_type": "stream",
     "text": [
      "확인할 연도를 입력하세요 : 1900\n"
     ]
    },
    {
     "name": "stdout",
     "output_type": "stream",
     "text": [
      "평년입니다.\n"
     ]
    }
   ],
   "source": [
    "year = int(input(\"확인할 연도를 입력하세요 :\"))\n",
    "if  (year%100==0 and year%400!=0) or year%4!=0:\n",
    "    print(\"평년입니다.\")\n",
    "else:\n",
    "    print(\"윤년입니다.\")"
   ]
  },
  {
   "cell_type": "code",
   "execution_count": 177,
   "id": "83457927-135e-4102-b17f-efcb8d61dc93",
   "metadata": {},
   "outputs": [
    {
     "name": "stdout",
     "output_type": "stream",
     "text": [
      "hello word\n",
      "hello word\n",
      "hello word\n"
     ]
    }
   ],
   "source": [
    "for i in range(3):\n",
    "    print(\"hello word\")"
   ]
  },
  {
   "cell_type": "code",
   "execution_count": 179,
   "id": "e273a851-6e7e-4fc2-a544-ee03325ccc30",
   "metadata": {},
   "outputs": [
    {
     "data": {
      "text/plain": [
       "[0, 1, 2, 3, 4, 5, 6, 7]"
      ]
     },
     "execution_count": 179,
     "metadata": {},
     "output_type": "execute_result"
    }
   ],
   "source": [
    "list(range(8))"
   ]
  },
  {
   "cell_type": "code",
   "execution_count": 182,
   "id": "aa72c9c4-18f0-455c-b411-acce8538b851",
   "metadata": {},
   "outputs": [
    {
     "data": {
      "text/plain": [
       "[0, 2, 4, 6]"
      ]
     },
     "execution_count": 182,
     "metadata": {},
     "output_type": "execute_result"
    }
   ],
   "source": [
    "list(range(0,8,2))"
   ]
  },
  {
   "cell_type": "code",
   "execution_count": null,
   "id": "6dc96f58-a088-438c-ac92-797f36c44e3d",
   "metadata": {},
   "outputs": [],
   "source": []
  },
  {
   "cell_type": "code",
   "execution_count": null,
   "id": "33b6bf3f-55fc-4b7d-9c18-066fbd11fda4",
   "metadata": {},
   "outputs": [],
   "source": []
  },
  {
   "cell_type": "code",
   "execution_count": null,
   "id": "6427f968-d7ab-43f5-9a05-15f6e9bf12dc",
   "metadata": {},
   "outputs": [],
   "source": []
  },
  {
   "cell_type": "code",
   "execution_count": null,
   "id": "02ff5773-ff92-4652-ae9c-d7873fcce9c3",
   "metadata": {},
   "outputs": [],
   "source": []
  },
  {
   "cell_type": "code",
   "execution_count": null,
   "id": "efc07e5d-7b79-4142-9a2b-e05829d04707",
   "metadata": {},
   "outputs": [],
   "source": []
  },
  {
   "cell_type": "code",
   "execution_count": null,
   "id": "53a1ee55-9ef5-4a86-ba1a-1a328e5f1ec1",
   "metadata": {},
   "outputs": [],
   "source": []
  },
  {
   "cell_type": "code",
   "execution_count": null,
   "id": "36c42b85-ee85-4328-a83b-b0522a7ae6fb",
   "metadata": {},
   "outputs": [],
   "source": []
  },
  {
   "cell_type": "code",
   "execution_count": null,
   "id": "79aa8080-e50a-4d61-9e29-d64d07767352",
   "metadata": {},
   "outputs": [],
   "source": []
  },
  {
   "cell_type": "code",
   "execution_count": null,
   "id": "503c6977-950f-49f9-afd1-021ff1b8ea05",
   "metadata": {},
   "outputs": [],
   "source": []
  },
  {
   "cell_type": "code",
   "execution_count": null,
   "id": "17f108a3-6453-4995-a346-c21e7b60060c",
   "metadata": {},
   "outputs": [],
   "source": []
  },
  {
   "cell_type": "code",
   "execution_count": null,
   "id": "ffd01548-cbd0-4b5a-977e-59928995e9ae",
   "metadata": {},
   "outputs": [],
   "source": []
  },
  {
   "cell_type": "code",
   "execution_count": null,
   "id": "f208d054-993b-4ec3-a956-6987db48088e",
   "metadata": {},
   "outputs": [],
   "source": []
  },
  {
   "cell_type": "code",
   "execution_count": null,
   "id": "d7722042-2333-4484-94e9-530d53466107",
   "metadata": {},
   "outputs": [],
   "source": []
  },
  {
   "cell_type": "code",
   "execution_count": null,
   "id": "e7f9f5fa-6098-4b0c-ae83-7ecce53603c6",
   "metadata": {},
   "outputs": [],
   "source": []
  },
  {
   "cell_type": "code",
   "execution_count": null,
   "id": "7e52ac5e-50fe-47cc-81e4-3cc8933c48aa",
   "metadata": {},
   "outputs": [],
   "source": []
  },
  {
   "cell_type": "code",
   "execution_count": null,
   "id": "dfb10ec7-b6ba-4146-846d-22320f213700",
   "metadata": {},
   "outputs": [],
   "source": []
  },
  {
   "cell_type": "code",
   "execution_count": null,
   "id": "f0c12a58-a999-4e7e-80a3-0d2b226d7e6d",
   "metadata": {},
   "outputs": [],
   "source": []
  },
  {
   "cell_type": "code",
   "execution_count": null,
   "id": "81337018-441d-4cb1-a91b-f50bd7309ec0",
   "metadata": {},
   "outputs": [],
   "source": []
  },
  {
   "cell_type": "code",
   "execution_count": null,
   "id": "da1c0c3a-f51e-4977-ac29-678b11b45e0a",
   "metadata": {},
   "outputs": [],
   "source": []
  },
  {
   "cell_type": "code",
   "execution_count": null,
   "id": "cd189b4c-a146-41b5-a95e-a8fcab124af2",
   "metadata": {},
   "outputs": [],
   "source": []
  },
  {
   "cell_type": "code",
   "execution_count": 73,
   "id": "f528e798-fe31-401b-a8bb-818622a90051",
   "metadata": {},
   "outputs": [
    {
     "name": "stdout",
     "output_type": "stream",
     "text": [
      "2x1 = 2\n",
      "2x2 = 4\n",
      "2x3 = 6\n",
      "2x4 = 8\n",
      "2x5 = 10\n",
      "2x6 = 12\n",
      "2x7 = 14\n",
      "2x8 = 16\n",
      "2x9 = 18\n",
      "\n",
      "\n",
      "3x1 = 3\n",
      "3x2 = 6\n",
      "3x3 = 9\n",
      "3x4 = 12\n",
      "3x5 = 15\n",
      "3x6 = 18\n",
      "3x7 = 21\n",
      "3x8 = 24\n",
      "3x9 = 27\n",
      "\n",
      "\n",
      "4x1 = 4\n",
      "4x2 = 8\n",
      "4x3 = 12\n",
      "4x4 = 16\n",
      "4x5 = 20\n",
      "4x6 = 24\n",
      "4x7 = 28\n",
      "4x8 = 32\n",
      "4x9 = 36\n",
      "\n",
      "\n",
      "5x1 = 5\n",
      "5x2 = 10\n",
      "5x3 = 15\n",
      "5x4 = 20\n",
      "5x5 = 25\n",
      "5x6 = 30\n",
      "5x7 = 35\n",
      "5x8 = 40\n",
      "5x9 = 45\n",
      "\n",
      "\n",
      "6x1 = 6\n",
      "6x2 = 12\n",
      "6x3 = 18\n",
      "6x4 = 24\n",
      "6x5 = 30\n",
      "6x6 = 36\n",
      "6x7 = 42\n",
      "6x8 = 48\n",
      "6x9 = 54\n",
      "\n",
      "\n",
      "7x1 = 7\n",
      "7x2 = 14\n",
      "7x3 = 21\n",
      "7x4 = 28\n",
      "7x5 = 35\n",
      "7x6 = 42\n",
      "7x7 = 49\n",
      "7x8 = 56\n",
      "7x9 = 63\n",
      "\n",
      "\n",
      "8x1 = 8\n",
      "8x2 = 16\n",
      "8x3 = 24\n",
      "8x4 = 32\n",
      "8x5 = 40\n",
      "8x6 = 48\n",
      "8x7 = 56\n",
      "8x8 = 64\n",
      "8x9 = 72\n",
      "\n",
      "\n",
      "9x1 = 9\n",
      "9x2 = 18\n",
      "9x3 = 27\n",
      "9x4 = 36\n",
      "9x5 = 45\n",
      "9x6 = 54\n",
      "9x7 = 63\n",
      "9x8 = 72\n",
      "9x9 = 81\n",
      "\n",
      "\n"
     ]
    }
   ],
   "source": [
    "for i in range(2,10):\n",
    "    for j in range(1,10):\n",
    "        print(f\"{i}x{j} = {i*j}\")\n",
    "    print(\"\\n\")"
   ]
  },
  {
   "cell_type": "code",
   "execution_count": null,
   "id": "7c67e1c6-7379-413a-be3a-90f014f70704",
   "metadata": {},
   "outputs": [],
   "source": []
  },
  {
   "cell_type": "code",
   "execution_count": null,
   "id": "e48592dc-8aa9-41a5-8c39-a1405daab57d",
   "metadata": {},
   "outputs": [],
   "source": []
  },
  {
   "cell_type": "code",
   "execution_count": null,
   "id": "0870ac1c-6ae9-45cf-8295-1fc71a5695be",
   "metadata": {},
   "outputs": [],
   "source": []
  },
  {
   "cell_type": "code",
   "execution_count": null,
   "id": "6e90c6c3-76c9-447a-a538-e807d1841538",
   "metadata": {},
   "outputs": [],
   "source": []
  },
  {
   "cell_type": "code",
   "execution_count": null,
   "id": "f246d40b-357c-44ed-add0-a4f041563889",
   "metadata": {},
   "outputs": [],
   "source": []
  },
  {
   "cell_type": "code",
   "execution_count": null,
   "id": "9050706f-7ee4-4373-9a21-d934ab9c745c",
   "metadata": {},
   "outputs": [],
   "source": []
  },
  {
   "cell_type": "code",
   "execution_count": null,
   "id": "a36f98ed-c518-4141-a006-db8fc16e7a7a",
   "metadata": {},
   "outputs": [],
   "source": []
  },
  {
   "cell_type": "code",
   "execution_count": null,
   "id": "f31a6a5e-900e-4b0e-a674-18b1436d040b",
   "metadata": {},
   "outputs": [],
   "source": []
  },
  {
   "cell_type": "code",
   "execution_count": null,
   "id": "ef8aacce-df0b-4ad6-9d62-8c77f685d68b",
   "metadata": {},
   "outputs": [],
   "source": []
  },
  {
   "cell_type": "code",
   "execution_count": null,
   "id": "ee8561fe-a304-4b52-84fb-00f2a903526f",
   "metadata": {},
   "outputs": [],
   "source": []
  },
  {
   "cell_type": "code",
   "execution_count": null,
   "id": "f4ee4a9e-a0d2-4632-98b6-00a4e410ef8e",
   "metadata": {},
   "outputs": [],
   "source": []
  },
  {
   "cell_type": "code",
   "execution_count": null,
   "id": "99b0c3ed-bcd6-4725-a008-6e4cc5d299f9",
   "metadata": {},
   "outputs": [],
   "source": []
  },
  {
   "cell_type": "code",
   "execution_count": null,
   "id": "c17f0899-df86-4d66-a9ae-ac89680faa4d",
   "metadata": {},
   "outputs": [],
   "source": []
  },
  {
   "cell_type": "code",
   "execution_count": null,
   "id": "4e2c937e-b52b-4d8e-8b32-e3a0ae12347b",
   "metadata": {},
   "outputs": [],
   "source": []
  },
  {
   "cell_type": "code",
   "execution_count": null,
   "id": "70a0aff2-27bb-49d3-8fde-6f167a8a788c",
   "metadata": {},
   "outputs": [],
   "source": []
  },
  {
   "cell_type": "code",
   "execution_count": null,
   "id": "ff9eadc0-8c44-464e-9256-8eadb4eae0dd",
   "metadata": {},
   "outputs": [],
   "source": []
  },
  {
   "cell_type": "code",
   "execution_count": null,
   "id": "dac68818-2008-4bfb-9de9-f749aaf1cbfa",
   "metadata": {},
   "outputs": [],
   "source": []
  },
  {
   "cell_type": "code",
   "execution_count": null,
   "id": "1e95cb90-dc60-430d-a360-34fc131252fa",
   "metadata": {},
   "outputs": [],
   "source": []
  },
  {
   "cell_type": "code",
   "execution_count": null,
   "id": "f2d08e5e-b2ab-4051-9311-ca141f0e2218",
   "metadata": {},
   "outputs": [],
   "source": []
  },
  {
   "cell_type": "code",
   "execution_count": null,
   "id": "38b7fd26-f4f5-4a31-958f-ea97aa28f4a4",
   "metadata": {},
   "outputs": [],
   "source": []
  },
  {
   "cell_type": "code",
   "execution_count": null,
   "id": "c91f9626-d1fb-42e8-b744-df505f9a8832",
   "metadata": {},
   "outputs": [],
   "source": []
  },
  {
   "cell_type": "code",
   "execution_count": null,
   "id": "3f11243e-fc1b-44dd-a2c2-46c8751c431e",
   "metadata": {},
   "outputs": [],
   "source": []
  },
  {
   "cell_type": "code",
   "execution_count": null,
   "id": "de16a9f3-a8d0-4143-82b8-34fd3ce7f86b",
   "metadata": {},
   "outputs": [],
   "source": []
  },
  {
   "cell_type": "code",
   "execution_count": null,
   "id": "055202f8-0a39-4c8b-a0f3-05e64eba3ef4",
   "metadata": {},
   "outputs": [],
   "source": []
  },
  {
   "cell_type": "code",
   "execution_count": null,
   "id": "325dc345-7957-4d99-ac83-a2a437825b12",
   "metadata": {},
   "outputs": [],
   "source": []
  },
  {
   "cell_type": "code",
   "execution_count": null,
   "id": "070dd058-b263-48f4-aca5-e28438252a76",
   "metadata": {},
   "outputs": [],
   "source": []
  },
  {
   "cell_type": "code",
   "execution_count": null,
   "id": "61727139-fa17-4f29-8d5b-e13933e5d201",
   "metadata": {},
   "outputs": [],
   "source": []
  },
  {
   "cell_type": "code",
   "execution_count": null,
   "id": "fdda959a-4b90-48f9-bbec-108d2f3dbaf0",
   "metadata": {},
   "outputs": [],
   "source": []
  },
  {
   "cell_type": "code",
   "execution_count": null,
   "id": "c03fdd52-8ccc-48d8-a4b5-7b0fe2926d53",
   "metadata": {},
   "outputs": [],
   "source": []
  },
  {
   "cell_type": "code",
   "execution_count": null,
   "id": "8e42a574-6040-44cb-bf44-72c709204391",
   "metadata": {},
   "outputs": [],
   "source": []
  },
  {
   "cell_type": "code",
   "execution_count": null,
   "id": "43c9ac57-9511-4bbd-b311-0e52cd7b7685",
   "metadata": {},
   "outputs": [],
   "source": []
  }
 ],
 "metadata": {
  "kernelspec": {
   "display_name": "Python 3 (ipykernel)",
   "language": "python",
   "name": "python3"
  },
  "language_info": {
   "codemirror_mode": {
    "name": "ipython",
    "version": 3
   },
   "file_extension": ".py",
   "mimetype": "text/x-python",
   "name": "python",
   "nbconvert_exporter": "python",
   "pygments_lexer": "ipython3",
   "version": "3.9.13"
  }
 },
 "nbformat": 4,
 "nbformat_minor": 5
}
