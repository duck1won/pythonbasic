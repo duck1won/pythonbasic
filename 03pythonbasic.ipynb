{
 "cells": [
  {
   "cell_type": "code",
   "execution_count": 1,
   "id": "3780488f-a310-4b27-b278-1057a22e3136",
   "metadata": {},
   "outputs": [
    {
     "name": "stdout",
     "output_type": "stream",
     "text": [
      "너무 너무 너무 너무 너무 너무 너무 파이썬 공부가 즐겁습니다.\n"
     ]
    }
   ],
   "source": [
    "x = '너무'\n",
    "print(x,x,x,x,x,x,x,\"파이썬 공부가 즐겁습니다.\")"
   ]
  },
  {
   "cell_type": "code",
   "execution_count": 2,
   "id": "82e61ab4-3b4a-4bca-a3cf-1509099252f0",
   "metadata": {},
   "outputs": [
    {
     "name": "stdout",
     "output_type": "stream",
     "text": [
      "꺾\n"
     ]
    }
   ],
   "source": [
    "sentence = '중요한 것은 꺾이지 않는 마음'\n",
    "idx = sentence.find('꺾')\n",
    "print(sentence[idx])\n"
   ]
  },
  {
   "cell_type": "code",
   "execution_count": 3,
   "id": "d91b4aef-32eb-4663-b33d-8924c18efd0a",
   "metadata": {},
   "outputs": [
    {
     "name": "stdout",
     "output_type": "stream",
     "text": [
      "꺾이지 않는 마음\n"
     ]
    }
   ],
   "source": [
    "sentence = '중요한 것은 꺾이지 않는 마음'\n",
    "idx = sentence.find('꺾')\n",
    "print(sentence[idx:])\n"
   ]
  },
  {
   "cell_type": "code",
   "execution_count": 4,
   "id": "9c90295c-3243-4bd4-9f83-2104b7834a6e",
   "metadata": {},
   "outputs": [
    {
     "name": "stdout",
     "output_type": "stream",
     "text": [
      "한요중\n"
     ]
    }
   ],
   "source": [
    "sentence = '중요한 것은 꺾이지 않는 마음'\n",
    "print(sentence[2::-1])\n"
   ]
  },
  {
   "cell_type": "code",
   "execution_count": 5,
   "id": "284d0e69-398c-4da3-8a1e-c6f9390be1ea",
   "metadata": {},
   "outputs": [
    {
     "name": "stdout",
     "output_type": "stream",
     "text": [
      "[1, 8, 27, 64, 125]\n"
     ]
    }
   ],
   "source": [
    "cubes = [1,8,27,65,125]\n",
    "cubes[3] = 4**3\n",
    "print(cubes)"
   ]
  },
  {
   "cell_type": "code",
   "execution_count": 6,
   "id": "8b561738-514e-4cbe-a962-eebfc7a2e663",
   "metadata": {},
   "outputs": [
    {
     "name": "stdout",
     "output_type": "stream",
     "text": [
      "['a', 'b', 'C', 'D', 'E']\n"
     ]
    }
   ],
   "source": [
    "letters = ['a','b','c','d','e']\n",
    "letters[2:5] = [\"C\",\"D\",\"E\"]\n",
    "print(letters)"
   ]
  },
  {
   "cell_type": "code",
   "execution_count": 11,
   "id": "1e7d62a0-0407-4c8b-bd79-f4a59c600791",
   "metadata": {},
   "outputs": [
    {
     "name": "stdout",
     "output_type": "stream",
     "text": [
      "False\n"
     ]
    }
   ],
   "source": [
    "scores = [88,73,89,59,77]\n",
    "for i in range(len(scores)):\n",
    "    if 60<scores[i]:\n",
    "        pass\n",
    "    else:\n",
    "        print(False)"
   ]
  },
  {
   "cell_type": "code",
   "execution_count": 26,
   "id": "00953a58-b914-4412-9373-5985e0d8c757",
   "metadata": {},
   "outputs": [
    {
     "name": "stdout",
     "output_type": "stream",
     "text": [
      "[1, 2, 3, 4, 5, 6, 1, 3, 6, 7]\n",
      "[1, 2, 3, 5, 4, 5, 6, 1, 3, 6, 7]\n"
     ]
    }
   ],
   "source": [
    "numbers = [1,2,3,4,4,5,6]\n",
    "numbers.append(1)\n",
    "numbers.remove(4)\n",
    "numbers.extend([3,6,7])\n",
    "print(numbers)\n",
    "numbers.insert(3,5)\n",
    "print(numbers)"
   ]
  },
  {
   "cell_type": "code",
   "execution_count": 34,
   "id": "08593564-31b4-4cd4-8210-13c132719a18",
   "metadata": {},
   "outputs": [
    {
     "name": "stdout",
     "output_type": "stream",
     "text": [
      "5\n",
      "[1, 2, 3, 5, 4, 5]\n",
      "5\n"
     ]
    }
   ],
   "source": [
    "print(numbers.pop())\n",
    "print(numbers)\n",
    "a = numbers.pop()\n",
    "print(a)"
   ]
  },
  {
   "cell_type": "code",
   "execution_count": 37,
   "id": "2e5c3f28-7fd1-4ae1-aa25-51b457826adc",
   "metadata": {},
   "outputs": [
    {
     "name": "stdout",
     "output_type": "stream",
     "text": [
      "[1, 2, 3, 5, 4, 5, 5, 5]\n"
     ]
    }
   ],
   "source": [
    "numbers.append(a)\n",
    "print(numbers)"
   ]
  },
  {
   "cell_type": "code",
   "execution_count": 38,
   "id": "3ff879b0-6c40-4068-9b89-6c867cfd527d",
   "metadata": {},
   "outputs": [
    {
     "data": {
      "text/plain": [
       "4"
      ]
     },
     "execution_count": 38,
     "metadata": {},
     "output_type": "execute_result"
    }
   ],
   "source": [
    "numbers.index(4)"
   ]
  },
  {
   "cell_type": "code",
   "execution_count": 39,
   "id": "bc1ed643-d230-49e7-8239-e6e3933ad844",
   "metadata": {},
   "outputs": [
    {
     "data": {
      "text/plain": [
       "1"
      ]
     },
     "execution_count": 39,
     "metadata": {},
     "output_type": "execute_result"
    }
   ],
   "source": [
    "numbers.index(2)"
   ]
  },
  {
   "cell_type": "code",
   "execution_count": 40,
   "id": "c0994658-ebd9-4999-8de1-d65317f7eac9",
   "metadata": {},
   "outputs": [
    {
     "data": {
      "text/plain": [
       "3"
      ]
     },
     "execution_count": 40,
     "metadata": {},
     "output_type": "execute_result"
    }
   ],
   "source": [
    "numbers.index(5)"
   ]
  },
  {
   "cell_type": "code",
   "execution_count": 41,
   "id": "34a042aa-46a9-4c8c-b0e1-96f7a677382d",
   "metadata": {},
   "outputs": [],
   "source": [
    "numbers.sort()"
   ]
  },
  {
   "cell_type": "code",
   "execution_count": 42,
   "id": "57879dbf-e49e-4e17-b68d-dec1f08372d5",
   "metadata": {},
   "outputs": [
    {
     "name": "stdout",
     "output_type": "stream",
     "text": [
      "[1, 2, 3, 4, 5, 5, 5, 5]\n"
     ]
    }
   ],
   "source": [
    "print(numbers)"
   ]
  },
  {
   "cell_type": "code",
   "execution_count": 43,
   "id": "73a2ecb7-747e-402e-92df-fb2268049da7",
   "metadata": {},
   "outputs": [],
   "source": [
    "numbers.reverse()"
   ]
  },
  {
   "cell_type": "code",
   "execution_count": 44,
   "id": "0b17afa2-a290-4ef2-97c2-ad48d2d9a7f4",
   "metadata": {},
   "outputs": [
    {
     "name": "stdout",
     "output_type": "stream",
     "text": [
      "[5, 5, 5, 5, 4, 3, 2, 1]\n"
     ]
    }
   ],
   "source": [
    "print(numbers)"
   ]
  },
  {
   "cell_type": "code",
   "execution_count": 47,
   "id": "114b4ad1-b290-453f-b05a-08a9c3c3eb7b",
   "metadata": {},
   "outputs": [],
   "source": [
    "a = sorted(numbers)"
   ]
  },
  {
   "cell_type": "code",
   "execution_count": 48,
   "id": "20fe6e5b-03de-4055-ba2f-3e1f0214c7cf",
   "metadata": {},
   "outputs": [
    {
     "name": "stdout",
     "output_type": "stream",
     "text": [
      "[1, 2, 3, 4, 5, 5, 5, 5]\n"
     ]
    }
   ],
   "source": [
    "print(a)"
   ]
  },
  {
   "cell_type": "code",
   "execution_count": 49,
   "id": "236226ef-aa55-4ccc-822d-5c74f149872a",
   "metadata": {},
   "outputs": [
    {
     "data": {
      "text/plain": [
       "1"
      ]
     },
     "execution_count": 49,
     "metadata": {},
     "output_type": "execute_result"
    }
   ],
   "source": [
    "numbers.count(4)"
   ]
  },
  {
   "cell_type": "code",
   "execution_count": 50,
   "id": "e66ef88e-a8cc-4939-b0db-9fb249401ea9",
   "metadata": {},
   "outputs": [
    {
     "data": {
      "text/plain": [
       "4"
      ]
     },
     "execution_count": 50,
     "metadata": {},
     "output_type": "execute_result"
    }
   ],
   "source": [
    "numbers.count(5)"
   ]
  },
  {
   "cell_type": "code",
   "execution_count": 51,
   "id": "ff0a9e00-64f2-4e8d-be84-afc3c73cb092",
   "metadata": {},
   "outputs": [
    {
     "name": "stdout",
     "output_type": "stream",
     "text": [
      "[3, 4, 5, 6, 7]\n",
      "7\n",
      "[3, 4, 5, 6]\n",
      "6\n",
      "5\n",
      "[3, 4]\n"
     ]
    }
   ],
   "source": [
    "stack = [3,4,5]\n",
    "stack.append(6)\n",
    "stack.append(7)\n",
    "print(stack)\n",
    "\n",
    "print(stack.pop())\n",
    "print(stack)\n",
    "print(stack.pop())\n",
    "print(stack.pop())\n",
    "print(stack)"
   ]
  },
  {
   "cell_type": "code",
   "execution_count": 52,
   "id": "f070d7cc-83db-44ca-8296-a2aef6903728",
   "metadata": {},
   "outputs": [
    {
     "name": "stdout",
     "output_type": "stream",
     "text": [
      "[]\n"
     ]
    }
   ],
   "source": [
    "stack.clear()\n",
    "print(stack)"
   ]
  },
  {
   "cell_type": "code",
   "execution_count": 53,
   "id": "28482050-968f-4db0-86fa-958c1321a77c",
   "metadata": {},
   "outputs": [],
   "source": [
    "numbers.clear()"
   ]
  },
  {
   "cell_type": "code",
   "execution_count": 54,
   "id": "48e7f69c-aefb-4067-9182-735c2236184e",
   "metadata": {},
   "outputs": [
    {
     "name": "stdout",
     "output_type": "stream",
     "text": [
      "[]\n"
     ]
    }
   ],
   "source": [
    "print(numbers)"
   ]
  },
  {
   "cell_type": "code",
   "execution_count": 55,
   "id": "2244d743-aaf4-4e75-a75b-8e5df1a79509",
   "metadata": {},
   "outputs": [],
   "source": [
    "tuple_variable = (1,2,3,4,5)"
   ]
  },
  {
   "cell_type": "code",
   "execution_count": 56,
   "id": "61688c27-a8a8-471a-924f-385f4a1ab2be",
   "metadata": {},
   "outputs": [
    {
     "ename": "SyntaxError",
     "evalue": "invalid syntax (1528672740.py, line 1)",
     "output_type": "error",
     "traceback": [
      "\u001b[1;36m  File \u001b[1;32m\"C:\\Users\\user\\AppData\\Local\\Temp\\ipykernel_15800\\1528672740.py\"\u001b[1;36m, line \u001b[1;32m1\u001b[0m\n\u001b[1;33m    tuple_verialbe = [1:3]\u001b[0m\n\u001b[1;37m                       ^\u001b[0m\n\u001b[1;31mSyntaxError\u001b[0m\u001b[1;31m:\u001b[0m invalid syntax\n"
     ]
    }
   ],
   "source": [
    "tuple_verialbe = [1:3]"
   ]
  },
  {
   "cell_type": "code",
   "execution_count": 59,
   "id": "09d4c824-8b1c-4748-9579-a1ef8e42d611",
   "metadata": {},
   "outputs": [
    {
     "ename": "TypeError",
     "evalue": "'tuple' object doesn't support item deletion",
     "output_type": "error",
     "traceback": [
      "\u001b[1;31m---------------------------------------------------------------------------\u001b[0m",
      "\u001b[1;31mTypeError\u001b[0m                                 Traceback (most recent call last)",
      "\u001b[1;32m~\\AppData\\Local\\Temp\\ipykernel_15800\\593226123.py\u001b[0m in \u001b[0;36m<module>\u001b[1;34m\u001b[0m\n\u001b[1;32m----> 1\u001b[1;33m \u001b[1;32mdel\u001b[0m \u001b[0mtuple_variable\u001b[0m\u001b[1;33m[\u001b[0m\u001b[1;36m1\u001b[0m\u001b[1;33m]\u001b[0m\u001b[1;33m\u001b[0m\u001b[1;33m\u001b[0m\u001b[0m\n\u001b[0m",
      "\u001b[1;31mTypeError\u001b[0m: 'tuple' object doesn't support item deletion"
     ]
    }
   ],
   "source": [
    "del tuple_variable[1]"
   ]
  },
  {
   "cell_type": "code",
   "execution_count": 60,
   "id": "e7d48714-8c2b-4f34-a1ee-f51f59c30575",
   "metadata": {},
   "outputs": [
    {
     "name": "stdout",
     "output_type": "stream",
     "text": [
      "<class 'tuple'>\n",
      "('음', '오', '아', '예')\n"
     ]
    }
   ],
   "source": [
    "#이렇게 명시하는 방법을 추천하진 않음\n",
    "\n",
    "t_v2 = \"음\",\"오\",\"아\",\"예\"\n",
    "print(type(t_v2))\n",
    "print(t_v2)"
   ]
  },
  {
   "cell_type": "code",
   "execution_count": 65,
   "id": "0819c8ab-46e8-4929-9266-1bba53b17e38",
   "metadata": {},
   "outputs": [
    {
     "name": "stdout",
     "output_type": "stream",
     "text": [
      "0.6613330841064453\n"
     ]
    }
   ],
   "source": [
    "import time\n",
    "\n",
    "start_time = time.time()\n",
    "test = []\n",
    "for i in range(1_000_000):\n",
    "    tp = [i, i]\n",
    "    test.append(tp)\n",
    "    \n",
    "print(time.time() - start_time)"
   ]
  },
  {
   "cell_type": "code",
   "execution_count": 64,
   "id": "f8ad4153-4443-4974-a39b-7fda82bab8bd",
   "metadata": {},
   "outputs": [
    {
     "name": "stdout",
     "output_type": "stream",
     "text": [
      "0.2272357940673828\n"
     ]
    }
   ],
   "source": [
    "import time\n",
    "\n",
    "start_time = time.time() #시작하는시간\n",
    "test = []\n",
    "for i in range(1_000_000):\n",
    "    tp = (i, i)\n",
    "    test.append(tp)\n",
    "    \n",
    "print(time.time() - start_time) #현재시간에서 시작하는시간 뻄"
   ]
  },
  {
   "cell_type": "code",
   "execution_count": 69,
   "id": "a3e484d8-f27e-4591-a75f-00f039e7fbae",
   "metadata": {},
   "outputs": [
    {
     "name": "stdout",
     "output_type": "stream",
     "text": [
      "<class 'tuple'>\n",
      "text2\n"
     ]
    }
   ],
   "source": [
    "s1,s2 = \"text1\",\"text2\"\n",
    "print(type(s1))\n",
    "print(s2)"
   ]
  },
  {
   "cell_type": "code",
   "execution_count": 77,
   "id": "be6b76c1-a50b-4f7b-be18-dd28e077a5ec",
   "metadata": {},
   "outputs": [
    {
     "name": "stdout",
     "output_type": "stream",
     "text": [
      "이렇게 리스트도 가능합니다\n",
      "문 자 열 도\n"
     ]
    }
   ],
   "source": [
    "s3,s4,s5 = [\"이렇게\",\"리스트도\",\"가능합니다\"]\n",
    "s6,s7,s8,s9 = \"문자열도\"\n",
    "print(s3,s4,s5)\n",
    "print(s6,s7,s8,s9)"
   ]
  },
  {
   "cell_type": "code",
   "execution_count": 78,
   "id": "f0b60156-0628-4b3b-9866-540b06d59c9c",
   "metadata": {},
   "outputs": [
    {
     "name": "stdin",
     "output_type": "stream",
     "text": [
      "Message 1111\n"
     ]
    }
   ],
   "source": [
    "input_value = input(\"Message\")\n"
   ]
  },
  {
   "cell_type": "code",
   "execution_count": 79,
   "id": "bee3ab2c-c76f-4ca8-8c64-4ee6df7bd0cc",
   "metadata": {},
   "outputs": [
    {
     "name": "stdout",
     "output_type": "stream",
     "text": [
      "input_value: 1111 \n",
      "type: <class 'str'>\n"
     ]
    }
   ],
   "source": [
    "print(\"input_value:\",input_value, \"\\ntype:\",type(input_value))"
   ]
  },
  {
   "cell_type": "code",
   "execution_count": 80,
   "id": "18c4833a-5658-4568-b1c8-0679033c36a9",
   "metadata": {},
   "outputs": [
    {
     "name": "stdin",
     "output_type": "stream",
     "text": [
      "Message 1\n"
     ]
    }
   ],
   "source": [
    "input_value = input(\"Message\")"
   ]
  },
  {
   "cell_type": "code",
   "execution_count": 81,
   "id": "bbae6340-1b5f-4cb0-a07d-d1bef0ad8227",
   "metadata": {},
   "outputs": [
    {
     "name": "stdout",
     "output_type": "stream",
     "text": [
      "input_value: 1 \n",
      "type: <class 'str'>\n"
     ]
    }
   ],
   "source": [
    "print(\"input_value:\",input_value, \"\\ntype:\",type(input_value))"
   ]
  },
  {
   "cell_type": "code",
   "execution_count": 82,
   "id": "311afd7c-2c08-485a-8ab2-2f5a58f1f8f6",
   "metadata": {},
   "outputs": [
    {
     "name": "stdout",
     "output_type": "stream",
     "text": [
      "1\n"
     ]
    }
   ],
   "source": [
    "print(int(input_value))"
   ]
  },
  {
   "cell_type": "code",
   "execution_count": 83,
   "id": "6e9dc844-8434-4931-a61e-5b1039768acf",
   "metadata": {},
   "outputs": [
    {
     "name": "stdout",
     "output_type": "stream",
     "text": [
      "input_value: 1 \n",
      "type: <class 'str'>\n"
     ]
    }
   ],
   "source": [
    "print(\"input_value:\",input_value, \"\\ntype:\",type(input_value))"
   ]
  },
  {
   "cell_type": "code",
   "execution_count": 84,
   "id": "e16dde5c-515c-40fa-ab23-30266d9d3360",
   "metadata": {},
   "outputs": [],
   "source": [
    "input_value = int(input_value)"
   ]
  },
  {
   "cell_type": "code",
   "execution_count": 85,
   "id": "43a9bbab-3ecb-456e-92ea-b5fd1428a58b",
   "metadata": {},
   "outputs": [
    {
     "name": "stdout",
     "output_type": "stream",
     "text": [
      "input_value: 1 \n",
      "type: <class 'int'>\n"
     ]
    }
   ],
   "source": [
    "print(\"input_value:\",input_value, \"\\ntype:\",type(input_value))"
   ]
  },
  {
   "cell_type": "code",
   "execution_count": 86,
   "id": "93fb2a26-3bdb-4238-9a8b-9bff364413fb",
   "metadata": {},
   "outputs": [
    {
     "name": "stdin",
     "output_type": "stream",
     "text": [
      "정수외에다른값을 입력해보세요. 1.1\n"
     ]
    }
   ],
   "source": [
    "input_value2 = input(\"정수외에다른값을 입력해보세요.\")"
   ]
  },
  {
   "cell_type": "code",
   "execution_count": 87,
   "id": "669a5479-8d8e-46e5-b7a7-9a127ccdf077",
   "metadata": {},
   "outputs": [
    {
     "ename": "ValueError",
     "evalue": "invalid literal for int() with base 10: '1.1'",
     "output_type": "error",
     "traceback": [
      "\u001b[1;31m---------------------------------------------------------------------------\u001b[0m",
      "\u001b[1;31mValueError\u001b[0m                                Traceback (most recent call last)",
      "\u001b[1;32m~\\AppData\\Local\\Temp\\ipykernel_15800\\1061107786.py\u001b[0m in \u001b[0;36m<module>\u001b[1;34m\u001b[0m\n\u001b[1;32m----> 1\u001b[1;33m \u001b[0minput_value2\u001b[0m \u001b[1;33m=\u001b[0m \u001b[0mint\u001b[0m\u001b[1;33m(\u001b[0m\u001b[0minput_value2\u001b[0m\u001b[1;33m)\u001b[0m\u001b[1;33m\u001b[0m\u001b[1;33m\u001b[0m\u001b[0m\n\u001b[0m",
      "\u001b[1;31mValueError\u001b[0m: invalid literal for int() with base 10: '1.1'"
     ]
    }
   ],
   "source": [
    "input_value2 = int(input_value2)"
   ]
  },
  {
   "cell_type": "code",
   "execution_count": 88,
   "id": "fb34118a-ec93-4326-9fdf-2e1787af7c4d",
   "metadata": {},
   "outputs": [],
   "source": [
    "input_value2 = float(input_value2)"
   ]
  },
  {
   "cell_type": "code",
   "execution_count": 89,
   "id": "b99feef3-93ca-4261-9a16-98ab724ecadf",
   "metadata": {},
   "outputs": [],
   "source": [
    "input_value2 = int(input_value2)"
   ]
  },
  {
   "cell_type": "code",
   "execution_count": 91,
   "id": "aca45721-16b3-4101-a8f1-ad198b512aaf",
   "metadata": {},
   "outputs": [
    {
     "name": "stdout",
     "output_type": "stream",
     "text": [
      "1\n"
     ]
    }
   ],
   "source": [
    "print(input_value2)"
   ]
  },
  {
   "cell_type": "code",
   "execution_count": 92,
   "id": "39475493-8957-4dda-a92e-62a3a2269c94",
   "metadata": {},
   "outputs": [
    {
     "name": "stdout",
     "output_type": "stream",
     "text": [
      "<class 'int'>\n"
     ]
    }
   ],
   "source": [
    "print(type(input_value2))"
   ]
  },
  {
   "cell_type": "code",
   "execution_count": 93,
   "id": "18373d8f-8f91-4376-9394-2b087e0beebe",
   "metadata": {},
   "outputs": [
    {
     "name": "stdin",
     "output_type": "stream",
     "text": [
      "정수를 입력해주세요 :  4\n"
     ]
    },
    {
     "name": "stdout",
     "output_type": "stream",
     "text": [
      "4\n"
     ]
    }
   ],
   "source": [
    "input_value4 = int(input(\"정수를 입력해주세요 : \"))\n",
    "print(input_value4)"
   ]
  },
  {
   "cell_type": "code",
   "execution_count": 94,
   "id": "9dac0aa3-5b1b-4383-ac2c-36492f5f6325",
   "metadata": {},
   "outputs": [
    {
     "name": "stdout",
     "output_type": "stream",
     "text": [
      "1111\n",
      "<class 'int'>\n"
     ]
    }
   ],
   "source": [
    "x = ['1111','222']\n",
    "a = int(x[0])\n",
    "print(a)\n",
    "print(type(a))"
   ]
  },
  {
   "cell_type": "code",
   "execution_count": 101,
   "id": "be0792c5-be23-4306-be1e-42b8c7560506",
   "metadata": {},
   "outputs": [
    {
     "name": "stdin",
     "output_type": "stream",
     "text": [
      "이름을 입력하시오 :  엔코아\n"
     ]
    },
    {
     "name": "stdout",
     "output_type": "stream",
     "text": [
      "엔코아 씨, 안녕하세요?\n",
      "파이썬에 오신 것을 환영합니다.\n"
     ]
    },
    {
     "name": "stdin",
     "output_type": "stream",
     "text": [
      "첫 번째 정수를 입력하세요 : 300\n",
      "두 번째 정수를 입력하세요 : 400\n"
     ]
    },
    {
     "name": "stdout",
     "output_type": "stream",
     "text": [
      "300 과400 의 합은 700 입니다.\n"
     ]
    }
   ],
   "source": [
    "a = input(\"이름을 입력하시오 : \")\n",
    "print(a,\"씨, 안녕하세요?\")\n",
    "print(\"파이썬에 오신 것을 환영합니다.\")\n",
    "b=input(\"첫 번째 정수를 입력하세요 :\")\n",
    "c=input(\"두 번째 정수를 입력하세요 :\")\n",
    "b,c = int(b),int(c)\n",
    "print(\"{0} 과{1} 의 합은 {2} 입니다.\".format(b,c,b+c))"
   ]
  },
  {
   "cell_type": "code",
   "execution_count": 104,
   "id": "e5800f03-43a6-426f-a6c0-0725e3d67a42",
   "metadata": {},
   "outputs": [
    {
     "name": "stdin",
     "output_type": "stream",
     "text": [
      "경기장은 어디입니까? 고척\n",
      "이긴 팀은 어디입니까? kt\n",
      "진팀은 어디입니까? lg\n",
      "우수 선수는 누구입니까? 강백호\n",
      "스코어는 몇대몇 입니까? 10:9\n"
     ]
    },
    {
     "name": "stdout",
     "output_type": "stream",
     "text": [
      "[속보]kt 가 10:9로 승리...\n",
      "오늘 고척 경기장에서 야구경기가 있었습니다.\n",
      "kt 와 lg 는 치열한 공방전을 펼쳤습니다.\n",
      "이 경기에서 강백호 가 맹활약을 했습니다.\n",
      "그 끝내 kt 가 lg 를 10:9로 승리하였습니다.\n",
      "\n"
     ]
    }
   ],
   "source": [
    "a=input(\"경기장은 어디입니까?\")\n",
    "b=input(\"이긴 팀은 어디입니까?\")\n",
    "c=input(\"진팀은 어디입니까?\")\n",
    "d=input(\"우수 선수는 누구입니까?\")\n",
    "e=input(\"스코어는 몇대몇 입니까?\")\n",
    "print('''[속보]{0} 가 {1}로 승리...\n",
    "오늘 {2} 경기장에서 야구경기가 있었습니다.\n",
    "{3} 와 {4} 는 치열한 공방전을 펼쳤습니다.\n",
    "이 경기에서 {5} 가 맹활약을 했습니다.\n",
    "그 끝내 {6} 가 {7} 를 {8}로 승리하였습니다.\n",
    "'''.format(b,e,a,b,c,d,b,c,e))"
   ]
  },
  {
   "cell_type": "code",
   "execution_count": 105,
   "id": "ad802ee6-de2b-40eb-8751-15f3b08cbdce",
   "metadata": {},
   "outputs": [
    {
     "name": "stdin",
     "output_type": "stream",
     "text": [
      "숫자를 입력하시요 :  1\n",
      "숫자를 입력하시요 :  2\n",
      "숫자를 입력하시요 :  3\n",
      "숫자를 입력하시요 :  4\n",
      "숫자를 입력하시요 :  5\n"
     ]
    },
    {
     "name": "stdout",
     "output_type": "stream",
     "text": [
      "5\n"
     ]
    }
   ],
   "source": [
    "for i in range(5):\n",
    "    a = input(\"숫자를 입력하시요 : \")\n",
    "print(a)"
   ]
  },
  {
   "cell_type": "code",
   "execution_count": 108,
   "id": "1b636b5f-9a37-4242-ba7c-dfc950e37314",
   "metadata": {},
   "outputs": [
    {
     "name": "stdout",
     "output_type": "stream",
     "text": [
      "<class 'list'>\n",
      "['1', '2', '3']\n"
     ]
    }
   ],
   "source": [
    "result = '1,2,3'.split(',')\n",
    "print(type(result))\n",
    "print(result)"
   ]
  },
  {
   "cell_type": "code",
   "execution_count": 115,
   "id": "5a54489d-2e4b-4263-9fc6-50ea1e64b802",
   "metadata": {},
   "outputs": [
    {
     "name": "stdin",
     "output_type": "stream",
     "text": [
      "hh:mm:ss = 12:33:23\n"
     ]
    },
    {
     "name": "stdout",
     "output_type": "stream",
     "text": [
      "시 : 12\n",
      "분 : 33\n",
      "초 : 23\n"
     ]
    }
   ],
   "source": [
    "result = input(\"hh:mm:ss =\")\n",
    "result = result.split(':')\n",
    "print('''시 : {0}\n",
    "분 : {1}\n",
    "초 : {2}'''.format(result[0],result[1],result[2]))"
   ]
  },
  {
   "cell_type": "code",
   "execution_count": 117,
   "id": "238654ea-799a-443a-93db-175514a35e9a",
   "metadata": {},
   "outputs": [
    {
     "name": "stdin",
     "output_type": "stream",
     "text": [
      "hh:mm:ss =  12:33:23\n"
     ]
    },
    {
     "name": "stdout",
     "output_type": "stream",
     "text": [
      "시 : 12\n",
      "분 : 33\n",
      "초 : 23\n"
     ]
    }
   ],
   "source": [
    "h,m,s = input(\"hh:mm:ss = \").split(':')\n",
    "print('''시 : {0}\n",
    "분 : {1}\n",
    "초 : {2}'''.format(h,m,s))"
   ]
  },
  {
   "cell_type": "code",
   "execution_count": 118,
   "id": "7de62e69-dfc6-4c24-b790-eec5884cf7b3",
   "metadata": {},
   "outputs": [
    {
     "name": "stdout",
     "output_type": "stream",
     "text": [
      "[1, 2, 3]\n"
     ]
    }
   ],
   "source": [
    "a = [1.1, 2.2, 3.3]\n",
    "b = list(map(int,a))\n",
    "print(b)"
   ]
  },
  {
   "cell_type": "code",
   "execution_count": 124,
   "id": "77c7e43d-5892-4570-9ee4-c079b817d772",
   "metadata": {},
   "outputs": [
    {
     "name": "stdin",
     "output_type": "stream",
     "text": [
      "국어,영어,수학,과학 점수를 입력해주세요. : 98,100,96,100\n"
     ]
    },
    {
     "name": "stdout",
     "output_type": "stream",
     "text": [
      "98.5\n"
     ]
    }
   ],
   "source": [
    "kor,eng,mat,sci = list(map(int,input(\"국어,영어,수학,과학 점수를 입력해주세요. :\").split(',')))\n",
    "a = kor+eng+mat+sci\n",
    "print(a/4)"
   ]
  },
  {
   "cell_type": "code",
   "execution_count": 131,
   "id": "0a480917-863a-4f81-80f2-c9b0a8cd3a10",
   "metadata": {},
   "outputs": [
    {
     "name": "stdout",
     "output_type": "stream",
     "text": [
      "[0, 1, 2, 3, 4, 5, 6]\n",
      "None\n"
     ]
    }
   ],
   "source": [
    "a = [1,2,4,4,5,6,6,0,0,1,2,3,4]\n",
    "result=[]\n",
    "for b in a:\n",
    "    if b not in result:\n",
    "        result.append(b)"
   ]
  },
  {
   "cell_type": "code",
   "execution_count": 133,
   "id": "a2a36592-d0ec-4073-9892-44e1de2dec87",
   "metadata": {},
   "outputs": [
    {
     "name": "stdout",
     "output_type": "stream",
     "text": [
      "{0, 1, 2, 3, 4, 5, 6}\n"
     ]
    }
   ],
   "source": [
    "a = [1,2,4,4,5,6,6,0,0,1,2,3,4]\n",
    "b = set(a)\n",
    "print(b)"
   ]
  },
  {
   "cell_type": "code",
   "execution_count": 134,
   "id": "355249bd-499a-408e-ba30-5607e7562cd1",
   "metadata": {},
   "outputs": [
    {
     "name": "stdout",
     "output_type": "stream",
     "text": [
      "<class 'set'>\n"
     ]
    }
   ],
   "source": [
    "print(type(b))"
   ]
  },
  {
   "cell_type": "code",
   "execution_count": 135,
   "id": "0cbf5c0a-32df-4892-a55c-b2e10c186209",
   "metadata": {},
   "outputs": [],
   "source": [
    "b = list(b)"
   ]
  },
  {
   "cell_type": "code",
   "execution_count": 137,
   "id": "42a03a43-9aea-42f6-ad81-52a21d763b5c",
   "metadata": {},
   "outputs": [
    {
     "name": "stdout",
     "output_type": "stream",
     "text": [
      "<class 'list'>\n",
      "[0, 1, 2, 3, 4, 5, 6]\n"
     ]
    }
   ],
   "source": [
    "print(type(b))\n",
    "print(b)"
   ]
  },
  {
   "cell_type": "code",
   "execution_count": null,
   "id": "a541e8b1-6d8b-4707-949c-c7ccd09b0ce5",
   "metadata": {},
   "outputs": [],
   "source": []
  },
  {
   "cell_type": "code",
   "execution_count": null,
   "id": "397f2dcb-a102-4880-8d8d-777a8dee167a",
   "metadata": {},
   "outputs": [],
   "source": []
  },
  {
   "cell_type": "code",
   "execution_count": null,
   "id": "c3cd85c1-bb60-4f50-bf95-98bf6fcc66a2",
   "metadata": {},
   "outputs": [],
   "source": []
  },
  {
   "cell_type": "code",
   "execution_count": null,
   "id": "05bb745e-5e54-4232-88ab-08164fd5d791",
   "metadata": {},
   "outputs": [],
   "source": []
  },
  {
   "cell_type": "code",
   "execution_count": null,
   "id": "61f47826-859e-417b-95de-f605f7b3b3d6",
   "metadata": {},
   "outputs": [],
   "source": []
  },
  {
   "cell_type": "code",
   "execution_count": null,
   "id": "e6c0596b-3a57-431c-9e77-22e09486e025",
   "metadata": {},
   "outputs": [],
   "source": []
  },
  {
   "cell_type": "code",
   "execution_count": null,
   "id": "2334e32f-4d8c-4ec6-ba75-f9ea88259174",
   "metadata": {},
   "outputs": [],
   "source": []
  },
  {
   "cell_type": "code",
   "execution_count": null,
   "id": "ac4a4cff-f48e-4230-b69b-23d12b7ce63b",
   "metadata": {},
   "outputs": [],
   "source": []
  },
  {
   "cell_type": "code",
   "execution_count": null,
   "id": "6983eb76-f30e-4e3e-8625-11f95c4ef8e2",
   "metadata": {},
   "outputs": [],
   "source": []
  },
  {
   "cell_type": "code",
   "execution_count": null,
   "id": "df5c8655-7f71-4b3f-970f-6a34173aebe8",
   "metadata": {},
   "outputs": [],
   "source": []
  },
  {
   "cell_type": "code",
   "execution_count": null,
   "id": "1a0beb16-6802-4670-a21f-517082e6f44b",
   "metadata": {},
   "outputs": [],
   "source": []
  },
  {
   "cell_type": "code",
   "execution_count": null,
   "id": "c0bb3c90-3777-467d-aef6-abc4a9b4be01",
   "metadata": {},
   "outputs": [],
   "source": []
  },
  {
   "cell_type": "code",
   "execution_count": null,
   "id": "0d8a6949-5c15-4522-95f7-33a2d41650a1",
   "metadata": {},
   "outputs": [],
   "source": []
  },
  {
   "cell_type": "code",
   "execution_count": null,
   "id": "47cead89-2f78-4104-9045-3f793f28537a",
   "metadata": {},
   "outputs": [],
   "source": []
  },
  {
   "cell_type": "code",
   "execution_count": null,
   "id": "195ecf19-9636-4e37-b1a4-c7d34d35af52",
   "metadata": {},
   "outputs": [],
   "source": []
  },
  {
   "cell_type": "code",
   "execution_count": null,
   "id": "82e6fe86-7781-46e0-836b-675df6dc6dc5",
   "metadata": {},
   "outputs": [],
   "source": []
  },
  {
   "cell_type": "code",
   "execution_count": null,
   "id": "b7c7bebe-0778-418d-a4fd-908aafeac37a",
   "metadata": {},
   "outputs": [],
   "source": []
  },
  {
   "cell_type": "code",
   "execution_count": null,
   "id": "cbd0a0aa-3b10-44ee-9e20-cce90865ffc2",
   "metadata": {},
   "outputs": [],
   "source": []
  },
  {
   "cell_type": "code",
   "execution_count": null,
   "id": "ea4432bc-d508-4ac4-a164-66d06ba383e3",
   "metadata": {},
   "outputs": [],
   "source": []
  },
  {
   "cell_type": "code",
   "execution_count": null,
   "id": "e5edbe77-3774-48ea-bb5c-963f0c25776c",
   "metadata": {},
   "outputs": [],
   "source": []
  },
  {
   "cell_type": "code",
   "execution_count": null,
   "id": "8f1ee4b2-2035-4e93-b9f2-d7190cc7155a",
   "metadata": {},
   "outputs": [],
   "source": []
  },
  {
   "cell_type": "code",
   "execution_count": null,
   "id": "f26f9bc5-248c-458f-b9f0-775151b0d13f",
   "metadata": {},
   "outputs": [],
   "source": []
  },
  {
   "cell_type": "code",
   "execution_count": null,
   "id": "b1ddb004-008e-4a83-ab25-fa5136599bfe",
   "metadata": {},
   "outputs": [],
   "source": []
  },
  {
   "cell_type": "code",
   "execution_count": null,
   "id": "bc039585-15f8-42af-823e-ad3a30a4152c",
   "metadata": {},
   "outputs": [],
   "source": []
  },
  {
   "cell_type": "code",
   "execution_count": null,
   "id": "41ef18ab-68f6-45eb-bc6c-17091a8c4222",
   "metadata": {},
   "outputs": [],
   "source": []
  },
  {
   "cell_type": "code",
   "execution_count": null,
   "id": "d155b5a6-712a-4965-adbd-c09f911f3860",
   "metadata": {},
   "outputs": [],
   "source": []
  },
  {
   "cell_type": "code",
   "execution_count": null,
   "id": "4ddaa68c-fc6a-4819-8209-f52c147ebcae",
   "metadata": {},
   "outputs": [],
   "source": []
  },
  {
   "cell_type": "code",
   "execution_count": null,
   "id": "a490af21-297b-420f-a999-55bbfe22aff3",
   "metadata": {},
   "outputs": [],
   "source": []
  },
  {
   "cell_type": "code",
   "execution_count": null,
   "id": "459e84a2-1917-43eb-af48-940c7b6a61f8",
   "metadata": {},
   "outputs": [],
   "source": []
  },
  {
   "cell_type": "code",
   "execution_count": null,
   "id": "d3bbc20d-b3be-4392-90b9-3f737346fdf1",
   "metadata": {},
   "outputs": [],
   "source": []
  },
  {
   "cell_type": "code",
   "execution_count": null,
   "id": "e6ac8616-25d6-4279-984a-c3384cfb6f24",
   "metadata": {},
   "outputs": [],
   "source": []
  },
  {
   "cell_type": "code",
   "execution_count": null,
   "id": "517c4cd6-f7cf-4bea-905b-7d9ffa54daa7",
   "metadata": {},
   "outputs": [],
   "source": []
  },
  {
   "cell_type": "code",
   "execution_count": null,
   "id": "dd536816-af59-42d5-8f88-df610004f23f",
   "metadata": {},
   "outputs": [],
   "source": []
  },
  {
   "cell_type": "code",
   "execution_count": null,
   "id": "359710de-3272-4ad8-ae3d-df354553ef8b",
   "metadata": {},
   "outputs": [],
   "source": []
  }
 ],
 "metadata": {
  "kernelspec": {
   "display_name": "Python 3 (ipykernel)",
   "language": "python",
   "name": "python3"
  },
  "language_info": {
   "codemirror_mode": {
    "name": "ipython",
    "version": 3
   },
   "file_extension": ".py",
   "mimetype": "text/x-python",
   "name": "python",
   "nbconvert_exporter": "python",
   "pygments_lexer": "ipython3",
   "version": "3.9.13"
  }
 },
 "nbformat": 4,
 "nbformat_minor": 5
}
