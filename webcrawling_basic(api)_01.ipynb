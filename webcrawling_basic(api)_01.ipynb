{
 "cells": [
  {
   "cell_type": "code",
   "execution_count": 75,
   "id": "627cb8e7-a0d8-4e3c-b355-282c0980b34e",
   "metadata": {},
   "outputs": [
    {
     "name": "stdout",
     "output_type": "stream",
     "text": [
      "403\n"
     ]
    }
   ],
   "source": [
    "import requests\n",
    "\n",
    "response = requests.get('https://api.github.com/repositories',\n",
    "                        headers = {'Accept': 'application/vnd.github+json'})\n",
    "print(response.status_code)"
   ]
  },
  {
   "cell_type": "code",
   "execution_count": 76,
   "id": "24b5402a-98a5-43a0-96b6-bc4fd40fcd33",
   "metadata": {},
   "outputs": [
    {
     "name": "stdout",
     "output_type": "stream",
     "text": [
      "인코딩 : utf-8\n",
      "콘텐츠 타임 : application/json; charset=utf-8\n",
      "서버 : Varnish\n"
     ]
    }
   ],
   "source": [
    "#response에 대한 요소 확인\n",
    "print(f\"인코딩 : {response.encoding}\")\n",
    "print(f\"콘텐츠 타임 : {response.headers['Content-Type']}\")\n",
    "print(f\"서버 : {response.headers['server']}\")\n"
   ]
  },
  {
   "cell_type": "code",
   "execution_count": 77,
   "id": "53068433-2eb3-4b80-af03-f7b8921f795d",
   "metadata": {},
   "outputs": [
    {
     "ename": "KeyError",
     "evalue": "0",
     "output_type": "error",
     "traceback": [
      "\u001b[1;31m---------------------------------------------------------------------------\u001b[0m",
      "\u001b[1;31mKeyError\u001b[0m                                  Traceback (most recent call last)",
      "\u001b[1;32m~\\AppData\\Local\\Temp\\ipykernel_19364\\1373268955.py\u001b[0m in \u001b[0;36m<module>\u001b[1;34m\u001b[0m\n\u001b[0;32m      1\u001b[0m \u001b[1;32mimport\u001b[0m \u001b[0mjson\u001b[0m\u001b[1;33m\u001b[0m\u001b[1;33m\u001b[0m\u001b[0m\n\u001b[1;32m----> 2\u001b[1;33m \u001b[0mprint\u001b[0m\u001b[1;33m(\u001b[0m\u001b[0mjson\u001b[0m\u001b[1;33m.\u001b[0m\u001b[0mdumps\u001b[0m\u001b[1;33m(\u001b[0m\u001b[0mresponse\u001b[0m\u001b[1;33m.\u001b[0m\u001b[0mjson\u001b[0m\u001b[1;33m(\u001b[0m\u001b[1;33m)\u001b[0m\u001b[1;33m[\u001b[0m\u001b[1;36m0\u001b[0m\u001b[1;33m]\u001b[0m\u001b[1;33m,\u001b[0m \u001b[0mindent\u001b[0m\u001b[1;33m=\u001b[0m\u001b[1;36m2\u001b[0m\u001b[1;33m)\u001b[0m\u001b[1;33m[\u001b[0m\u001b[1;33m:\u001b[0m\u001b[1;36m200\u001b[0m\u001b[1;33m]\u001b[0m\u001b[1;33m)\u001b[0m\u001b[1;33m\u001b[0m\u001b[1;33m\u001b[0m\u001b[0m\n\u001b[0m",
      "\u001b[1;31mKeyError\u001b[0m: 0"
     ]
    }
   ],
   "source": [
    "import json\n",
    "print(json.dumps(response.json()[0], indent=2)[:200])"
   ]
  },
  {
   "cell_type": "code",
   "execution_count": 6,
   "id": "8cf184e6-eedc-4fbd-b169-8d96900f4ace",
   "metadata": {},
   "outputs": [
    {
     "data": {
      "text/plain": [
       "{'Date': 'Mon, 27 Feb 2023 06:59:39 GMT', 'Server': 'Varnish', 'Strict-Transport-Security': 'max-age=31536000; includeSubdomains; preload', 'X-Content-Type-Options': 'nosniff', 'X-Frame-Options': 'deny', 'X-XSS-Protection': '1; mode=block', 'Content-Security-Policy': \"default-src 'none'; style-src 'unsafe-inline'\", 'Access-Control-Allow-Origin': '*', 'Access-Control-Expose-Headers': 'ETag, Link, Location, Retry-After, X-GitHub-OTP, X-RateLimit-Limit, X-RateLimit-Remaining, X-RateLimit-Reset, X-RateLimit-Used, X-RateLimit-Resource, X-OAuth-Scopes, X-Accepted-OAuth-Scopes, X-Poll-Interval, X-GitHub-Media-Type, Deprecation, Sunset', 'Content-Type': 'application/json; charset=utf-8', 'Referrer-Policy': 'origin-when-cross-origin, strict-origin-when-cross-origin', 'X-GitHub-Media-Type': 'github.v3; format=json', 'X-RateLimit-Limit': '60', 'X-RateLimit-Remaining': '0', 'X-RateLimit-Reset': '1677481638', 'X-RateLimit-Resource': 'core', 'X-RateLimit-Used': '60', 'Content-Length': '280', 'X-GitHub-Request-Id': 'D4F9:57AE:285485:3FA0DD:63FC54DB'}"
      ]
     },
     "execution_count": 6,
     "metadata": {},
     "output_type": "execute_result"
    }
   ],
   "source": [
    "response.headers"
   ]
  },
  {
   "cell_type": "code",
   "execution_count": 27,
   "id": "8a842f75-589a-424b-b029-277e8733741c",
   "metadata": {},
   "outputs": [
    {
     "name": "stdout",
     "output_type": "stream",
     "text": [
      "200\n"
     ]
    }
   ],
   "source": [
    "response = requests.get('https://api.github.com/search/repositories',\n",
    "                        params={'q':'data_science+language:python'},\n",
    "                        headers = {'Accept': 'application/vnd.github+json'})\n",
    "print(response.status_code)"
   ]
  },
  {
   "cell_type": "code",
   "execution_count": 28,
   "id": "e403700b-6e3a-46c4-ab29-3d5c20443ae8",
   "metadata": {},
   "outputs": [
    {
     "name": "stdout",
     "output_type": "stream",
     "text": [
      "200\n"
     ]
    }
   ],
   "source": [
    "response = requests.get('https://api.github.com/search/repositories',\n",
    "                        params={'q':'data_science+language:python'},\n",
    "                        headers = {'Accept': 'application/vnd.github.text-match+json'})\n",
    "print(response.status_code)"
   ]
  },
  {
   "cell_type": "code",
   "execution_count": 29,
   "id": "6a26cb23-ebcd-4382-a0dc-c8640b26436d",
   "metadata": {},
   "outputs": [],
   "source": [
    "#json파일 딕셔너리형으로 변경하기\n",
    "import json\n",
    "a =response.json()"
   ]
  },
  {
   "cell_type": "code",
   "execution_count": null,
   "id": "b170cf58-1194-4b58-9816-df00e8ac1ce8",
   "metadata": {},
   "outputs": [],
   "source": []
  },
  {
   "cell_type": "code",
   "execution_count": 30,
   "id": "03574525-b953-47a1-bc34-db3311dd949d",
   "metadata": {},
   "outputs": [
    {
     "data": {
      "text/plain": [
       "dict_keys(['total_count', 'incomplete_results', 'items'])"
      ]
     },
     "execution_count": 30,
     "metadata": {},
     "output_type": "execute_result"
    }
   ],
   "source": [
    "response.json().keys()"
   ]
  },
  {
   "cell_type": "code",
   "execution_count": 31,
   "id": "26527dbe-ede3-4e2f-b2eb-ccb9a6f9a56c",
   "metadata": {},
   "outputs": [
    {
     "data": {
      "text/plain": [
       "[{'object_url': 'https://api.github.com/repositories/26382146',\n",
       "  'object_type': 'Repository',\n",
       "  'property': 'description',\n",
       "  'fragment': 'code for Data Science From Scratch book',\n",
       "  'matches': [{'text': 'Data Science', 'indices': [9, 21]}]},\n",
       " {'object_url': 'https://api.github.com/repositories/26382146',\n",
       "  'object_type': 'Repository',\n",
       "  'property': 'name',\n",
       "  'fragment': 'data-science-from-scratch',\n",
       "  'matches': [{'text': 'data', 'indices': [0, 4]}]}]"
      ]
     },
     "execution_count": 31,
     "metadata": {},
     "output_type": "execute_result"
    }
   ],
   "source": [
    "response.json()['items'][0]['text_matches']"
   ]
  },
  {
   "cell_type": "code",
   "execution_count": 32,
   "id": "cd32e2a7-c7c1-455a-92ad-62fc78888c78",
   "metadata": {},
   "outputs": [
    {
     "data": {
      "text/plain": [
       "dict_keys(['total_count', 'incomplete_results', 'items'])"
      ]
     },
     "execution_count": 32,
     "metadata": {},
     "output_type": "execute_result"
    }
   ],
   "source": [
    "response.json().keys()"
   ]
  },
  {
   "cell_type": "code",
   "execution_count": 34,
   "id": "2acf5ed7-a6b6-41ab-841b-068c41de8d83",
   "metadata": {},
   "outputs": [
    {
     "data": {
      "text/plain": [
       "30"
      ]
     },
     "execution_count": 34,
     "metadata": {},
     "output_type": "execute_result"
    }
   ],
   "source": [
    "len(response.json()['items'])"
   ]
  },
  {
   "cell_type": "code",
   "execution_count": 56,
   "id": "b8d3b0c2-6fea-4f38-90c0-dd498db5cb83",
   "metadata": {},
   "outputs": [
    {
     "name": "stdout",
     "output_type": "stream",
     "text": [
      "data-science-from-scratch : repository   description-\"code for Data Science From Scratch book\" matched with   Data Science\n",
      "PySyft : repository   description-\"data science on data without acquiring a copy\" matched with   data science\n",
      "data-science-blogs : repository   description-\"A curated list of data science blogs\" matched with   data science\n",
      "galaxy : repository   description-\"Data intensive science for everyone.\" matched with   Data\n",
      "DataCamp : repository   description-\"DataCamp data-science courses\" matched with   data\n",
      "data-scientist-roadmap : repository   description-\"Toturials coming with the \"data science roadmap\" picture.\" matched with   data science\n",
      "dsp : repository   description-\"data science preparation\" matched with   data science\n",
      "cookiecutter-data-science : repository   description-\"A logical, reasonably standardized, but flexible project structure for doing and sharing data science work.\" matched with   data science\n",
      "Kaggler : repository   description-\"Code for Kaggle Data Science Competitions\" matched with   Data Science\n",
      "kedro : repository   description-\"A Python framework for creating reproducible, maintainable and modular data science code.\" matched with   data science\n",
      "book_sample : repository   description-\"another book on data science\" matched with   data science\n",
      "PDA_Book : repository   description-\"Code Examples Data Science using Python\" matched with   Data Science\n",
      "metaflow : repository   description-\":rocket: Build and manage real-life data science projects with ease!\" matched with   data science\n",
      "data-science-template : repository   description-\"Template for a data science project\" matched with   data science\n",
      "intro_ds : repository   description-\"Code to accompany Mastering Data Science from PT press\" matched with   Data Science\n",
      "lale : repository   description-\"Library for Semi-Automated Data Science\" matched with   Data Science\n",
      "heamy : repository   description-\"A set of useful tools for competitive data science.\" matched with   data science\n",
      "datajoint-python : repository   description-\"Relational data pipelines for the science lab \" matched with   data\n",
      "python-data-science-workshop : repository   description-\"Workshop: Python for Data Science\" matched with   Data Science\n",
      "d6tflow : repository   description-\"Python library for building highly effective data science workflows\" matched with   data science\n",
      "nebari : repository   description-\"🪴 Nebari - your open source data science platform\" matched with   data science\n",
      "data-science-ipython-notebooks : repository   description-\"Data science Python notebooks: Deep learning (TensorFlow, Theano, Caffe, Keras), scikit-learn, Kaggle, big data (Spark, Hadoop MapReduce, HDFS), matplotlib, pandas, NumPy, SciPy, Python essentials, AWS, and various command lines.\" matched with   Data science\n",
      "Building-Data-Science-Applications-with-FastAPI : repository   description-\"Building Data Science Applications with FastAPI, Published by Packt\" matched with   Data Science\n",
      "Uber-DS-Challenge : repository   description-\"Uber provided Data Science take home\" matched with   Data Science\n",
      "the_data_science_handbook : repository   description-\"Source code for The Data Science Handbook\" matched with   Data Science\n",
      "dsb-2017 : repository   description-\"Data Science Bowl 2017\" matched with   Data Science\n",
      "DSB2018 : repository   description-\"Data Science Bowl 2018\" matched with   Data Science\n",
      "ufora : repository   description-\"Compiled, automatically parallel Python for data science\" matched with   data science\n",
      "xam : repository   description-\":dart: Personal data science and machine learning toolbox\" matched with   data science\n",
      "exercises : repository   description-\"Trustbit (Softwarepark) exercises and dojos for DDD and Data Science 💖\" matched with   Data Science\n"
     ]
    }
   ],
   "source": [
    "for item in response.json()['items']:\n",
    "    print(item['name']+' : repository   '+ \n",
    "          item['text_matches'][0]['property']+'-\\\"'+\n",
    "          item['text_matches'][0]['fragment']+'\\\" matched with   '+\n",
    "          item['text_matches'][0]['matches'][0]['text']\n",
    "         )"
   ]
  },
  {
   "cell_type": "code",
   "execution_count": null,
   "id": "90330bb4-791b-40fb-b9e1-43db9b8fe57f",
   "metadata": {},
   "outputs": [],
   "source": []
  },
  {
   "cell_type": "code",
   "execution_count": 59,
   "id": "4aef1be1-1c07-498c-8c4f-f88465f832b9",
   "metadata": {},
   "outputs": [
    {
     "name": "stdout",
     "output_type": "stream",
     "text": [
      "Response Code 200\n",
      "Number of comments 30\n"
     ]
    }
   ],
   "source": [
    "\n",
    "response = requests.get('https://api.github.com/repos/pytorch/pytorch/issues',\n",
    "                       headers={'Accept': 'application/vnd.github.text-match+json'})\n",
    "print('Response Code', response.status_code)\n",
    "print('Number of comments', len(response.json()))"
   ]
  },
  {
   "cell_type": "code",
   "execution_count": 60,
   "id": "2bf1fe31-dee3-415b-bb05-bcb31cabded6",
   "metadata": {},
   "outputs": [
    {
     "data": {
      "text/plain": [
       "{'next': {'url': 'https://api.github.com/repositories/65600975/issues?page=2',\n",
       "  'rel': 'next'},\n",
       " 'last': {'url': 'https://api.github.com/repositories/65600975/issues?page=371',\n",
       "  'rel': 'last'}}"
      ]
     },
     "execution_count": 60,
     "metadata": {},
     "output_type": "execute_result"
    }
   ],
   "source": [
    "response.links"
   ]
  },
  {
   "cell_type": "code",
   "execution_count": 61,
   "id": "8b5b1ce8-dbef-439d-9475-288701f37778",
   "metadata": {},
   "outputs": [],
   "source": [
    "def get_all_pages(url,params=None, headers=None):\n",
    "    output_json=[]\n",
    "    response = requests.get(url, params=params, headers=headers)\n",
    "    if response.status_code == 200:\n",
    "        output_json = response.json()\n",
    "        if 'next' in response.links:\n",
    "            next_url = response.links['next']['url']\n",
    "            if next_url is not None:\n",
    "                output_json += get_all_pages(next_url,params,headers)\n",
    "    return output_json"
   ]
  },
  {
   "cell_type": "code",
   "execution_count": null,
   "id": "1971db5a-bc63-4ba2-804c-c38e5f076e25",
   "metadata": {},
   "outputs": [],
   "source": []
  },
  {
   "cell_type": "code",
   "execution_count": 63,
   "id": "2ef47a92-8449-479e-b961-6c73d2c2c03c",
   "metadata": {},
   "outputs": [
    {
     "name": "stdout",
     "output_type": "stream",
     "text": [
      "1740\n"
     ]
    },
    {
     "data": {
      "text/html": [
       "<div>\n",
       "<style scoped>\n",
       "    .dataframe tbody tr th:only-of-type {\n",
       "        vertical-align: middle;\n",
       "    }\n",
       "\n",
       "    .dataframe tbody tr th {\n",
       "        vertical-align: top;\n",
       "    }\n",
       "\n",
       "    .dataframe thead th {\n",
       "        text-align: right;\n",
       "    }\n",
       "</style>\n",
       "<table border=\"1\" class=\"dataframe\">\n",
       "  <thead>\n",
       "    <tr style=\"text-align: right;\">\n",
       "      <th></th>\n",
       "      <th>id</th>\n",
       "      <th>created_at</th>\n",
       "      <th>body</th>\n",
       "    </tr>\n",
       "  </thead>\n",
       "  <tbody>\n",
       "    <tr>\n",
       "      <th>1141</th>\n",
       "      <td>1441222871</td>\n",
       "      <td>2023-02-23T05:04:02Z</td>\n",
       "      <td>@pytorchbot merge</td>\n",
       "    </tr>\n",
       "  </tbody>\n",
       "</table>\n",
       "</div>"
      ],
      "text/plain": [
       "              id            created_at               body\n",
       "1141  1441222871  2023-02-23T05:04:02Z  @pytorchbot merge"
      ]
     },
     "execution_count": 63,
     "metadata": {},
     "output_type": "execute_result"
    }
   ],
   "source": [
    "import pandas as pd\n",
    "out = get_all_pages(\n",
    "    \"https://api.github.com/repos/pytorch/pytorch/issues/comments\",\n",
    "    params={\n",
    "        'since':'2023-01-01T10:00:012',\n",
    "        'sorted': 'created',\n",
    "        'direction':'desc'\n",
    "    },\n",
    "    headers={'Accept': 'application/vnd.github+json'}\n",
    ")\n",
    "df = pd.DataFrame(out)\n",
    "print(df['body'].count())\n",
    "df[['id','created_at','body']].sample(1)"
   ]
  },
  {
   "cell_type": "code",
   "execution_count": 67,
   "id": "fadef4e6-9d3d-4bd6-9f33-61319e319272",
   "metadata": {
    "tags": []
   },
   "outputs": [
    {
     "name": "stdout",
     "output_type": "stream",
     "text": [
      "X-Ratelimit-Limit :  60\n",
      "X-Ratelimit-Remaining :  0\n",
      "Rate Limit reset at :  Mon Feb 27 18:18:39 2023\n"
     ]
    }
   ],
   "source": [
    "response = requests.head('https://api.github.com/repos/pytorch/pytorch/issues/comments')\n",
    "print('X-Ratelimit-Limit : ', response.headers['X-Ratelimit-Limit'])\n",
    "print('X-Ratelimit-Remaining : ',response.headers['X-Ratelimit-Remaining'])\n",
    "\n",
    "import datetime\n",
    "print('Rate Limit reset at : ', datetime.datetime.fromtimestamp(int(response.headers['X-RateLimit-Reset'])).strftime('%c'))"
   ]
  },
  {
   "cell_type": "code",
   "execution_count": 70,
   "id": "82ea4f59-792d-4066-b4ac-9a9fcc3ed0a3",
   "metadata": {},
   "outputs": [],
   "source": [
    "from datetime import datetime\n",
    "import time\n",
    "\n",
    "def handle_rate_limits(response):\n",
    "    now=datetime.now()\n",
    "    reset_time = datetime.fromtimestamp(int(response.headers['X-RateLimit-Reset']))\n",
    "    remaining_requests = response.headers['X-RateLimit-Remaining']\n",
    "    remaining_time = (reset_time - now).total_seconds()\n",
    "    intervals = remaining_time / (1.0 + int(remaining_requests))\n",
    "    \n",
    "    print('sleeping for', intervals)\n",
    "    time.sleep(intervals)\n",
    "    return True\n"
   ]
  },
  {
   "cell_type": "code",
   "execution_count": 73,
   "id": "b0288e8e-a989-455c-a67d-4c21f716c077",
   "metadata": {},
   "outputs": [
    {
     "name": "stdout",
     "output_type": "stream",
     "text": [
      "data-science-from-scratch\n",
      "PySyft\n",
      "data-science-blogs\n",
      "galaxy\n",
      "DataCamp\n"
     ]
    }
   ],
   "source": [
    "from requests.adapters import HTTPAdapter\n",
    "from requests.packages.urllib3.util.retry import Retry\n",
    "\n",
    "retry_strategy = Retry(\n",
    "    total = 5,\n",
    "    status_forcelist=[500,503,504],\n",
    "    backoff_factor=1\n",
    ")\n",
    "\n",
    "retry_adapter = HTTPAdapter(max_retries=retry_strategy)\n",
    "\n",
    "http = requests.Session()\n",
    "http.mount(\"https://\", retry_adapter)\n",
    "\n",
    "response = http.get('https://api.github.com/search/repositories',\n",
    "                   params = {'q':'data_science+language:python'})\n",
    "\n",
    "for item in response.json()['items'][:5]:\n",
    "    print(item['name'])"
   ]
  },
  {
   "cell_type": "code",
   "execution_count": null,
   "id": "aa385041-9391-4016-934e-117f125ecebc",
   "metadata": {},
   "outputs": [],
   "source": []
  },
  {
   "cell_type": "code",
   "execution_count": null,
   "id": "5fe146b7-0fad-4026-aab8-f28d9a83bc6d",
   "metadata": {},
   "outputs": [],
   "source": []
  }
 ],
 "metadata": {
  "kernelspec": {
   "display_name": "Python 3 (ipykernel)",
   "language": "python",
   "name": "python3"
  },
  "language_info": {
   "codemirror_mode": {
    "name": "ipython",
    "version": 3
   },
   "file_extension": ".py",
   "mimetype": "text/x-python",
   "name": "python",
   "nbconvert_exporter": "python",
   "pygments_lexer": "ipython3",
   "version": "3.9.13"
  }
 },
 "nbformat": 4,
 "nbformat_minor": 5
}
